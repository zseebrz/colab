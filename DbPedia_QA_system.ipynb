{
  "nbformat": 4,
  "nbformat_minor": 0,
  "metadata": {
    "colab": {
      "name": "DbPedia QA system.ipynb",
      "provenance": [],
      "collapsed_sections": [],
      "include_colab_link": true
    },
    "kernelspec": {
      "name": "python3",
      "display_name": "Python 3"
    },
    "accelerator": "GPU"
  },
  "cells": [
    {
      "cell_type": "markdown",
      "metadata": {
        "id": "view-in-github",
        "colab_type": "text"
      },
      "source": [
        "<a href=\"https://colab.research.google.com/github/zseebrz/colab/blob/main/DbPedia_QA_system.ipynb\" target=\"_parent\"><img src=\"https://colab.research.google.com/assets/colab-badge.svg\" alt=\"Open In Colab\"/></a>"
      ]
    },
    {
      "cell_type": "markdown",
      "metadata": {
        "id": "T7tAgLIbMzO-"
      },
      "source": [
        "**DBPedia Question Answering System**\n",
        "Copyright 2021 Mark Watson. All rights reserved. License: Apache 2\n",
        "https://markwatson.com"
      ]
    },
    {
      "cell_type": "code",
      "metadata": {
        "id": "Tm6cvHXfC-ja"
      },
      "source": [
        "!pip install transformers\n",
        "!pip install SPARQLWrapper\n",
        "!pip freeze\n",
        "\n",
        "from transformers import pipeline\n",
        "\n",
        "qa = pipeline(\n",
        "    \"question-answering\",\n",
        "    #model=\"NeuML/bert-small-cord19qa\",\n",
        "    model=\"NeuML/bert-small-cord19-squad2\",\n",
        "    tokenizer=\"NeuML/bert-small-cord19qa\"\n",
        ")"
      ],
      "execution_count": null,
      "outputs": []
    },
    {
      "cell_type": "code",
      "metadata": {
        "id": "t1yHV7b2KUVX"
      },
      "source": [
        "!pip install import spacy\n",
        "!python -m spacy download en_core_web_sm\n",
        "\n",
        "import spacy\n",
        "\n",
        "nlp_model = spacy.load('en_core_web_sm')\n"
      ],
      "execution_count": null,
      "outputs": []
    },
    {
      "cell_type": "code",
      "metadata": {
        "id": "QxmzTFjoDrYX"
      },
      "source": [
        "from SPARQLWrapper import SPARQLWrapper, JSON\n",
        "\n",
        "sparql = SPARQLWrapper(\"http://dbpedia.org/sparql\")\n",
        "\n",
        "def query(query):\n",
        "  sparql.setQuery(query)\n",
        "  sparql.setReturnFormat(JSON)\n",
        "  return sparql.query().convert()['results']['bindings']\n"
      ],
      "execution_count": null,
      "outputs": []
    },
    {
      "cell_type": "code",
      "metadata": {
        "id": "lR4BwwvHKKhE"
      },
      "source": [
        "def entities_in_text(s):\n",
        "    doc = nlp_model(s)\n",
        "    ret = {}\n",
        "    for [ename, etype] in [[entity.text, entity.label_] for entity in doc.ents]:\n",
        "        if etype in ret:\n",
        "            ret[etype] = ret[etype] + [ename]\n",
        "        else:\n",
        "            ret[etype] = [ename]\n",
        "    return ret\n",
        "\n",
        "def dbpedia_get_entities_by_name(name, dbpedia_type):\n",
        "  sparql = \"select distinct ?s ?comment where {{ ?s <http://www.w3.org/2000/01/rdf-schema#label>  \\\"{}\\\"@en . ?s <http://www.w3.org/2000/01/rdf-schema#comment>  ?comment  . FILTER  (lang(?comment) = 'en') . ?s <http://www.w3.org/1999/02/22-rdf-syntax-ns#type> {} . }} limit 15\".format(name, dbpedia_type)\n",
        "  #print(sparql)\n",
        "  results = query(sparql)\n",
        "  return(results)\n",
        "\n",
        "entity_type_to_type_uri = {'PERSON': '<http://dbpedia.org/ontology/Person>',\n",
        "    'GPE': '<http://dbpedia.org/ontology/Place>', 'ORG':\n",
        "    '<http://dbpedia.org/ontology/Organisation>'}\n"
      ],
      "execution_count": null,
      "outputs": []
    },
    {
      "cell_type": "code",
      "metadata": {
        "id": "2CJFOzERLEpJ"
      },
      "source": [
        "def QA(query_text):\n",
        "  entities = entities_in_text(query_text)\n",
        "\n",
        "  def helper(entity_type):\n",
        "    ret = \"\"\n",
        "    if entity_type in entities:\n",
        "      for hname in entities[entity_type]:\n",
        "        results = dbpedia_get_entities_by_name(hname, entity_type_to_type_uri[entity_type])\n",
        "        for result in results:\n",
        "          ret += ret + result['comment']['value'] + \" . \"\n",
        "    return ret\n",
        "\n",
        "  context_text = helper('PERSON') + helper('ORG') + helper('GPE')\n",
        "  print(\"\\ncontext text:\\n\", context_text, \"\\n\")\n",
        "\n",
        "  print(\"Answer from transformer model:\")\n",
        "  print(\"Original query: \", query_text)\n",
        "  print(\"Answer:\")\n",
        "\n",
        "  answer = qa({\n",
        "                \"question\": query_text,\n",
        "                \"context\": context_text\n",
        "               })\n",
        "  print(answer)\n"
      ],
      "execution_count": null,
      "outputs": []
    },
    {
      "cell_type": "code",
      "metadata": {
        "colab": {
          "base_uri": "https://localhost:8080/"
        },
        "id": "ykpp0uWyfRtm",
        "outputId": "dbd641a6-6b71-49a6-eb32-12f12db29a58"
      },
      "source": [
        "\n",
        "QA(\"where does Bill Gates work?\")\n",
        "QA(\"where is IBM is headquartered?\")\n",
        "QA(\"who is Bill Clinton married to?\")\n",
        "QA(\"what is the population of Paris?\")\n"
      ],
      "execution_count": null,
      "outputs": [
        {
          "output_type": "stream",
          "name": "stdout",
          "text": [
            "\n",
            "context text:\n",
            " William Henry Gates III (born October 28, 1955) is an American business magnate, software developer, investor, author, and philanthropist. He is a co-founder of Microsoft Corporation, along with his late childhood friend Paul Allen. During his career at Microsoft, Gates held the positions of chairman, chief executive officer (CEO), president and chief software architect, while also being the largest individual shareholder until May 2014. He is considered one of the best known entrepreneurs of the microcomputer revolution of the 1970s and 1980s. .  \n",
            "\n",
            "Answer from transformer model:\n",
            "Original query:  where does Bill Gates work?\n",
            "Answer:\n",
            "{'score': 0.23351848125457764, 'start': 254, 'end': 263, 'answer': 'Microsoft'}\n",
            "\n",
            "context text:\n",
            " International Business Machines Corporation (IBM) is an American multinational technology company headquartered in Armonk, New York, with operations in over 170 countries. The company began in 1911, founded in Endicott, New York, as the Computing-Tabulating-Recording Company (CTR) and was renamed \"International Business Machines\" in 1924. IBM is incorporated in New York. .  \n",
            "\n",
            "Answer from transformer model:\n",
            "Original query:  where is IBM is headquartered?\n",
            "Answer:\n",
            "{'score': 0.8704459071159363, 'start': 115, 'end': 131, 'answer': 'Armonk, New York'}\n",
            "\n",
            "context text:\n",
            " William Jefferson Clinton (né Blythe III; born August 19, 1946) is an American politician and attorney who served as the 42nd president of the United States from 1993 to 2001. Prior to his presidency, he served as governor of Arkansas from 1979 to 1981 and 1983 to 1992 and as attorney general of Arkansas from 1977 to 1979. A member of the Democratic Party, Clinton was known as a New Democrat, and many of his policies reflected a centrist \"Third Way\" political philosophy. He is the husband of Hillary Clinton, who was the Secretary of State (2009–2013) and ran for president in 2008 and 2016. .  \n",
            "\n",
            "Answer from transformer model:\n",
            "Original query:  who is Bill Clinton married to?\n",
            "Answer:\n",
            "{'score': 0.024247994646430016, 'start': 497, 'end': 512, 'answer': 'Hillary Clinton'}\n",
            "\n",
            "context text:\n",
            " Paris (French pronunciation: ​[paʁi] ) is the capital and most populous city of France, with an estimated population of 2,175,601 residents as of 2018, in an area of more than 105 square kilometres (41 square miles). Since the 17th century, Paris has been one of Europe's major centres of finance, diplomacy, commerce, fashion, gastronomy, science and arts. The City of Paris is the centre and seat of government of the region and province of Île-de-France, or Paris Region, which has an estimated population of 12,174,880, or about 18 percent of the population of France as of 2017. The Paris Region had a GDP of €709 billion ($808 billion) in 2017. According to the Economist Intelligence Unit Worldwide Cost of Living Survey in 2018, Paris was the second most expensive city in the world, after  .  \n",
            "\n",
            "Answer from transformer model:\n",
            "Original query:  what is the population of Paris?\n",
            "Answer:\n",
            "{'score': 0.856488049030304, 'start': 120, 'end': 129, 'answer': '2,175,601'}\n"
          ]
        }
      ]
    }
  ]
}