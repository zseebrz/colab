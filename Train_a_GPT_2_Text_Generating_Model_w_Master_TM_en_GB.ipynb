{
  "nbformat": 4,
  "nbformat_minor": 0,
  "metadata": {
    "colab": {
      "name": "Train a GPT-2 Text-Generating Model w Master TM:en-GB",
      "provenance": [],
      "collapsed_sections": [],
      "include_colab_link": true
    },
    "kernelspec": {
      "name": "python3",
      "display_name": "Python 3"
    },
    "accelerator": "GPU"
  },
  "cells": [
    {
      "cell_type": "markdown",
      "metadata": {
        "id": "view-in-github",
        "colab_type": "text"
      },
      "source": [
        "<a href=\"https://colab.research.google.com/github/zseebrz/colab/blob/main/Train_a_GPT_2_Text_Generating_Model_w_Master_TM_en_GB.ipynb\" target=\"_parent\"><img src=\"https://colab.research.google.com/assets/colab-badge.svg\" alt=\"Open In Colab\"/></a>"
      ]
    },
    {
      "cell_type": "markdown",
      "metadata": {
        "id": "H7LoMj4GA4n_"
      },
      "source": [
        "#  Train a GPT-2 Text-Generating Model w/ GPU For Free \n",
        "\n",
        "by [Max Woolf](http://minimaxir.com)\n",
        "\n",
        "*Last updated: November 10th, 2019*\n",
        "\n",
        "Retrain an advanced text generating neural network on any text dataset **for free on a GPU using Collaboratory** using `gpt-2-simple`!\n",
        "\n",
        "For more about `gpt-2-simple`, you can visit [this GitHub repository](https://github.com/minimaxir/gpt-2-simple). You can also read my [blog post](https://minimaxir.com/2019/09/howto-gpt2/) for more information how to use this notebook!\n",
        "\n",
        "\n",
        "To get started:\n",
        "\n",
        "1. Copy this notebook to your Google Drive to keep it and save your changes. (File -> Save a Copy in Drive)\n",
        "2. Make sure you're running the notebook in Google Chrome.\n",
        "3. Run the cells below:\n"
      ]
    },
    {
      "cell_type": "code",
      "metadata": {
        "id": "KBkpRgBCBS2_",
        "colab": {
          "base_uri": "https://localhost:8080/",
          "height": 191
        },
        "outputId": "48e83472-bf9d-4039-a9f1-527c1fa5babc"
      },
      "source": [
        "%tensorflow_version 1.x\n",
        "!pip install -q gpt-2-simple\n",
        "import gpt_2_simple as gpt2\n",
        "from datetime import datetime\n",
        "from google.colab import files"
      ],
      "execution_count": null,
      "outputs": [
        {
          "output_type": "stream",
          "text": [
            "TensorFlow 1.x selected.\n",
            "  Building wheel for gpt-2-simple (setup.py) ... \u001b[?25l\u001b[?25hdone\n",
            "WARNING:tensorflow:\n",
            "The TensorFlow contrib module will not be included in TensorFlow 2.0.\n",
            "For more information, please see:\n",
            "  * https://github.com/tensorflow/community/blob/master/rfcs/20180907-contrib-sunset.md\n",
            "  * https://github.com/tensorflow/addons\n",
            "  * https://github.com/tensorflow/io (for I/O related ops)\n",
            "If you depend on functionality not listed there, please file an issue.\n",
            "\n"
          ],
          "name": "stdout"
        }
      ]
    },
    {
      "cell_type": "markdown",
      "metadata": {
        "id": "Bj2IJLHP3KwE"
      },
      "source": [
        "## GPU\n",
        "\n",
        "Colaboratory uses either a Nvidia T4 GPU or an Nvidia K80 GPU. The T4 is slightly faster than the old K80 for training GPT-2, and has more memory allowing you to train the larger GPT-2 models and generate more text.\n",
        "\n",
        "You can verify which GPU is active by running the cell below."
      ]
    },
    {
      "cell_type": "code",
      "metadata": {
        "id": "sUmTooTW3osf",
        "colab": {
          "base_uri": "https://localhost:8080/",
          "height": 312
        },
        "outputId": "97d932b0-5854-431a-c4f0-2de2e87a3fc5"
      },
      "source": [
        "!nvidia-smi"
      ],
      "execution_count": null,
      "outputs": [
        {
          "output_type": "stream",
          "text": [
            "Thu Jun  4 18:47:28 2020       \n",
            "+-----------------------------------------------------------------------------+\n",
            "| NVIDIA-SMI 440.82       Driver Version: 418.67       CUDA Version: 10.1     |\n",
            "|-------------------------------+----------------------+----------------------+\n",
            "| GPU  Name        Persistence-M| Bus-Id        Disp.A | Volatile Uncorr. ECC |\n",
            "| Fan  Temp  Perf  Pwr:Usage/Cap|         Memory-Usage | GPU-Util  Compute M. |\n",
            "|===============================+======================+======================|\n",
            "|   0  Tesla P100-PCIE...  Off  | 00000000:00:04.0 Off |                    0 |\n",
            "| N/A   37C    P0    26W / 250W |      0MiB / 16280MiB |      0%      Default |\n",
            "+-------------------------------+----------------------+----------------------+\n",
            "                                                                               \n",
            "+-----------------------------------------------------------------------------+\n",
            "| Processes:                                                       GPU Memory |\n",
            "|  GPU       PID   Type   Process name                             Usage      |\n",
            "|=============================================================================|\n",
            "|  No running processes found                                                 |\n",
            "+-----------------------------------------------------------------------------+\n"
          ],
          "name": "stdout"
        }
      ]
    },
    {
      "cell_type": "markdown",
      "metadata": {
        "id": "0wXB05bPDYxS"
      },
      "source": [
        "## Downloading GPT-2\n",
        "\n",
        "If you're retraining a model on new text, you need to download the GPT-2 model first. \n",
        "\n",
        "There are three released sizes of GPT-2:\n",
        "\n",
        "* `124M` (default): the \"small\" model, 500MB on disk.\n",
        "* `355M`: the \"medium\" model, 1.5GB on disk.\n",
        "* `774M`: the \"large\" model, cannot currently be finetuned with Colaboratory but can be used to generate text from the pretrained model (see later in Notebook)\n",
        "* `1558M`: the \"extra large\", true model. Will not work if a K80 GPU is attached to the notebook. (like `774M`, it cannot be finetuned).\n",
        "\n",
        "Larger models have more knowledge, but take longer to finetune and longer to generate text. You can specify which base model to use by changing `model_name` in the cells below.\n",
        "\n",
        "The next cell downloads it from Google Cloud Storage and saves it in the Colaboratory VM at `/models/<model_name>`.\n",
        "\n",
        "This model isn't permanently saved in the Colaboratory VM; you'll have to redownload it if you want to retrain it at a later time."
      ]
    },
    {
      "cell_type": "code",
      "metadata": {
        "id": "P8wSlgXoDPCR",
        "colab": {
          "base_uri": "https://localhost:8080/",
          "height": 139
        },
        "outputId": "b70b776f-bc9e-4695-a8a7-2b8db9521489"
      },
      "source": [
        "gpt2.download_gpt2(model_name=\"355M\")"
      ],
      "execution_count": null,
      "outputs": [
        {
          "output_type": "stream",
          "text": [
            "Fetching checkpoint: 1.05Mit [00:00, 348Mit/s]                                                      \n",
            "Fetching encoder.json: 1.05Mit [00:00, 104Mit/s]                                                    \n",
            "Fetching hparams.json: 1.05Mit [00:00, 943Mit/s]                                                    \n",
            "Fetching model.ckpt.data-00000-of-00001: 1.42Git [00:12, 116Mit/s]                                  \n",
            "Fetching model.ckpt.index: 1.05Mit [00:00, 245Mit/s]                                                \n",
            "Fetching model.ckpt.meta: 1.05Mit [00:00, 106Mit/s]                                                 \n",
            "Fetching vocab.bpe: 1.05Mit [00:00, 123Mit/s]                                                       \n"
          ],
          "name": "stderr"
        }
      ]
    },
    {
      "cell_type": "markdown",
      "metadata": {
        "id": "N8KXuKWzQSsN"
      },
      "source": [
        "## Mounting Google Drive\n",
        "\n",
        "The best way to get input text to-be-trained into the Colaboratory VM, and to get the trained model *out* of Colaboratory, is to route it through Google Drive *first*.\n",
        "\n",
        "Running this cell (which will only work in Colaboratory) will mount your personal Google Drive in the VM, which later cells can use to get data in/out. (it will ask for an auth code; that auth is not saved anywhere)"
      ]
    },
    {
      "cell_type": "code",
      "metadata": {
        "id": "puq4iC6vUAHc",
        "colab": {
          "base_uri": "https://localhost:8080/",
          "height": 124
        },
        "outputId": "4a8f7707-4b11-4262-cf0d-06771ce12c81"
      },
      "source": [
        "gpt2.mount_gdrive()"
      ],
      "execution_count": null,
      "outputs": [
        {
          "output_type": "stream",
          "text": [
            "Go to this URL in a browser: https://accounts.google.com/o/oauth2/auth?client_id=947318989803-6bn6qk8qdgf4n4g3pfee6491hc0brc4i.apps.googleusercontent.com&redirect_uri=urn%3aietf%3awg%3aoauth%3a2.0%3aoob&response_type=code&scope=email%20https%3a%2f%2fwww.googleapis.com%2fauth%2fdocs.test%20https%3a%2f%2fwww.googleapis.com%2fauth%2fdrive%20https%3a%2f%2fwww.googleapis.com%2fauth%2fdrive.photos.readonly%20https%3a%2f%2fwww.googleapis.com%2fauth%2fpeopleapi.readonly\n",
            "\n",
            "Enter your authorization code:\n",
            "··········\n",
            "Mounted at /content/drive\n"
          ],
          "name": "stdout"
        }
      ]
    },
    {
      "cell_type": "markdown",
      "metadata": {
        "id": "BT__brhBCvJu"
      },
      "source": [
        "## Uploading a Text File to be Trained to Colaboratory\n",
        "\n",
        "In the Colaboratory Notebook sidebar on the left of the screen, select *Files*. From there you can upload files:\n",
        "\n",
        "![alt text](https://i.imgur.com/TGcZT4h.png)\n",
        "\n",
        "Upload **any smaller text file**  (<10 MB) and update the file name in the cell below, then run the cell."
      ]
    },
    {
      "cell_type": "code",
      "metadata": {
        "id": "6OFnPCLADfll"
      },
      "source": [
        "file_name = \"/raw_text_from_TM.txt\""
      ],
      "execution_count": null,
      "outputs": []
    },
    {
      "cell_type": "markdown",
      "metadata": {
        "id": "HeeSKtNWUedE"
      },
      "source": [
        "If your text file is larger than 10MB, it is recommended to upload that file to Google Drive first, then copy that file from Google Drive to the Colaboratory VM."
      ]
    },
    {
      "cell_type": "code",
      "metadata": {
        "id": "-Z6okFD8VKtS",
        "colab": {
          "base_uri": "https://localhost:8080/",
          "height": 322
        },
        "outputId": "9abfc050-567b-430e-d665-8e99dda3abde"
      },
      "source": [
        "gpt2.copy_file_from_gdrive(file_name)"
      ],
      "execution_count": null,
      "outputs": [
        {
          "output_type": "error",
          "ename": "FileNotFoundError",
          "evalue": "ignored",
          "traceback": [
            "\u001b[0;31m---------------------------------------------------------------------------\u001b[0m",
            "\u001b[0;31mFileNotFoundError\u001b[0m                         Traceback (most recent call last)",
            "\u001b[0;32m<ipython-input-6-0103766e8617>\u001b[0m in \u001b[0;36m<module>\u001b[0;34m()\u001b[0m\n\u001b[0;32m----> 1\u001b[0;31m \u001b[0mgpt2\u001b[0m\u001b[0;34m.\u001b[0m\u001b[0mcopy_file_from_gdrive\u001b[0m\u001b[0;34m(\u001b[0m\u001b[0mfile_name\u001b[0m\u001b[0;34m)\u001b[0m\u001b[0;34m\u001b[0m\u001b[0;34m\u001b[0m\u001b[0m\n\u001b[0m",
            "\u001b[0;32m/usr/local/lib/python3.6/dist-packages/gpt_2_simple/gpt_2.py\u001b[0m in \u001b[0;36mcopy_file_from_gdrive\u001b[0;34m(file_path)\u001b[0m\n\u001b[1;32m    611\u001b[0m     \u001b[0mis_mounted\u001b[0m\u001b[0;34m(\u001b[0m\u001b[0;34m)\u001b[0m\u001b[0;34m\u001b[0m\u001b[0;34m\u001b[0m\u001b[0m\n\u001b[1;32m    612\u001b[0m \u001b[0;34m\u001b[0m\u001b[0m\n\u001b[0;32m--> 613\u001b[0;31m     \u001b[0mshutil\u001b[0m\u001b[0;34m.\u001b[0m\u001b[0mcopyfile\u001b[0m\u001b[0;34m(\u001b[0m\u001b[0;34m\"/content/drive/My Drive/\"\u001b[0m \u001b[0;34m+\u001b[0m \u001b[0mfile_path\u001b[0m\u001b[0;34m,\u001b[0m \u001b[0mfile_path\u001b[0m\u001b[0;34m)\u001b[0m\u001b[0;34m\u001b[0m\u001b[0;34m\u001b[0m\u001b[0m\n\u001b[0m\u001b[1;32m    614\u001b[0m \u001b[0;34m\u001b[0m\u001b[0m\n\u001b[1;32m    615\u001b[0m \u001b[0;34m\u001b[0m\u001b[0m\n",
            "\u001b[0;32m/usr/lib/python3.6/shutil.py\u001b[0m in \u001b[0;36mcopyfile\u001b[0;34m(src, dst, follow_symlinks)\u001b[0m\n\u001b[1;32m    118\u001b[0m         \u001b[0mos\u001b[0m\u001b[0;34m.\u001b[0m\u001b[0msymlink\u001b[0m\u001b[0;34m(\u001b[0m\u001b[0mos\u001b[0m\u001b[0;34m.\u001b[0m\u001b[0mreadlink\u001b[0m\u001b[0;34m(\u001b[0m\u001b[0msrc\u001b[0m\u001b[0;34m)\u001b[0m\u001b[0;34m,\u001b[0m \u001b[0mdst\u001b[0m\u001b[0;34m)\u001b[0m\u001b[0;34m\u001b[0m\u001b[0;34m\u001b[0m\u001b[0m\n\u001b[1;32m    119\u001b[0m     \u001b[0;32melse\u001b[0m\u001b[0;34m:\u001b[0m\u001b[0;34m\u001b[0m\u001b[0;34m\u001b[0m\u001b[0m\n\u001b[0;32m--> 120\u001b[0;31m         \u001b[0;32mwith\u001b[0m \u001b[0mopen\u001b[0m\u001b[0;34m(\u001b[0m\u001b[0msrc\u001b[0m\u001b[0;34m,\u001b[0m \u001b[0;34m'rb'\u001b[0m\u001b[0;34m)\u001b[0m \u001b[0;32mas\u001b[0m \u001b[0mfsrc\u001b[0m\u001b[0;34m:\u001b[0m\u001b[0;34m\u001b[0m\u001b[0;34m\u001b[0m\u001b[0m\n\u001b[0m\u001b[1;32m    121\u001b[0m             \u001b[0;32mwith\u001b[0m \u001b[0mopen\u001b[0m\u001b[0;34m(\u001b[0m\u001b[0mdst\u001b[0m\u001b[0;34m,\u001b[0m \u001b[0;34m'wb'\u001b[0m\u001b[0;34m)\u001b[0m \u001b[0;32mas\u001b[0m \u001b[0mfdst\u001b[0m\u001b[0;34m:\u001b[0m\u001b[0;34m\u001b[0m\u001b[0;34m\u001b[0m\u001b[0m\n\u001b[1;32m    122\u001b[0m                 \u001b[0mcopyfileobj\u001b[0m\u001b[0;34m(\u001b[0m\u001b[0mfsrc\u001b[0m\u001b[0;34m,\u001b[0m \u001b[0mfdst\u001b[0m\u001b[0;34m)\u001b[0m\u001b[0;34m\u001b[0m\u001b[0;34m\u001b[0m\u001b[0m\n",
            "\u001b[0;31mFileNotFoundError\u001b[0m: [Errno 2] No such file or directory: '/content/drive/My Drive/fulltext_small.txt'"
          ]
        }
      ]
    },
    {
      "cell_type": "code",
      "metadata": {
        "id": "LjVqcooM9WXB",
        "colab": {
          "base_uri": "https://localhost:8080/",
          "height": 124
        },
        "outputId": "90a9907d-37c0-4dd8-9419-101133b0d3c8"
      },
      "source": [
        "from google.colab import drive\n",
        "drive.mount('/content/drive')"
      ],
      "execution_count": null,
      "outputs": [
        {
          "output_type": "stream",
          "text": [
            "Go to this URL in a browser: https://accounts.google.com/o/oauth2/auth?client_id=947318989803-6bn6qk8qdgf4n4g3pfee6491hc0brc4i.apps.googleusercontent.com&redirect_uri=urn%3aietf%3awg%3aoauth%3a2.0%3aoob&response_type=code&scope=email%20https%3a%2f%2fwww.googleapis.com%2fauth%2fdocs.test%20https%3a%2f%2fwww.googleapis.com%2fauth%2fdrive%20https%3a%2f%2fwww.googleapis.com%2fauth%2fdrive.photos.readonly%20https%3a%2f%2fwww.googleapis.com%2fauth%2fpeopleapi.readonly\n",
            "\n",
            "Enter your authorization code:\n",
            "··········\n",
            "Mounted at /content/drive\n"
          ],
          "name": "stdout"
        }
      ]
    },
    {
      "cell_type": "markdown",
      "metadata": {
        "id": "LdpZQXknFNY3"
      },
      "source": [
        "## Finetune GPT-2\n",
        "\n",
        "The next cell will start the actual finetuning of GPT-2. It creates a persistent TensorFlow session which stores the training config, then runs the training for the specified number of `steps`. (to have the finetuning run indefinitely, set `steps = -1`)\n",
        "\n",
        "The model checkpoints will be saved in `/checkpoint/run1` by default. The checkpoints are saved every 500 steps (can be changed) and when the cell is stopped.\n",
        "\n",
        "The training might time out after 4ish hours; make sure you end training and save the results so you don't lose them!\n",
        "\n",
        "**IMPORTANT NOTE:** If you want to rerun this cell, **restart the VM first** (Runtime -> Restart Runtime). You will need to rerun imports but not recopy files.\n",
        "\n",
        "Other optional-but-helpful parameters for `gpt2.finetune`:\n",
        "\n",
        "\n",
        "*  **`restore_from`**: Set to `fresh` to start training from the base GPT-2, or set to `latest` to restart training from an existing checkpoint.\n",
        "* **`sample_every`**: Number of steps to print example output\n",
        "* **`print_every`**: Number of steps to print training progress.\n",
        "* **`learning_rate`**:  Learning rate for the training. (default `1e-4`, can lower to `1e-5` if you have <1MB input data)\n",
        "*  **`run_name`**: subfolder within `checkpoint` to save the model. This is useful if you want to work with multiple models (will also need to specify  `run_name` when loading the model)\n",
        "* **`overwrite`**: Set to `True` if you want to continue finetuning an existing model (w/ `restore_from='latest'`) without creating duplicate copies. "
      ]
    },
    {
      "cell_type": "code",
      "metadata": {
        "id": "m6GB5Qpk3KsA"
      },
      "source": [
        "import tensorflow as tf\n",
        "tf.reset_default_graph()\n",
        "#sess = gpt2.start_tf_sess()"
      ],
      "execution_count": null,
      "outputs": []
    },
    {
      "cell_type": "code",
      "metadata": {
        "id": "aeXshJM-Cuaf",
        "colab": {
          "base_uri": "https://localhost:8080/",
          "height": 1000
        },
        "outputId": "4383767f-8823-4a0c-af52-2ccf4bf82d5c"
      },
      "source": [
        "sess = gpt2.start_tf_sess()\n",
        "\n",
        "gpt2.finetune(sess,\n",
        "              dataset=file_name,\n",
        "              model_name='355M',\n",
        "              steps=1500,\n",
        "              restore_from='fresh',\n",
        "              run_name='run1',\n",
        "              print_every=10,\n",
        "              sample_every=400,\n",
        "              save_every=400,\n",
        "              #learning_rate =0.00005\n",
        "              )"
      ],
      "execution_count": null,
      "outputs": [
        {
          "output_type": "stream",
          "text": [
            "Loading checkpoint checkpoint/run1/model-1500\n",
            "INFO:tensorflow:Restoring parameters from checkpoint/run1/model-1500\n"
          ],
          "name": "stdout"
        },
        {
          "output_type": "stream",
          "text": [
            "\r  0%|          | 0/1 [00:00<?, ?it/s]"
          ],
          "name": "stderr"
        },
        {
          "output_type": "stream",
          "text": [
            "Loading dataset...\n"
          ],
          "name": "stdout"
        },
        {
          "output_type": "stream",
          "text": [
            "100%|██████████| 1/1 [00:08<00:00,  8.12s/it]\n"
          ],
          "name": "stderr"
        },
        {
          "output_type": "stream",
          "text": [
            "dataset has 1717820 tokens\n",
            "Training...\n",
            "[1510 | 16.58] loss=2.28 avg=2.28\n",
            "[1520 | 25.46] loss=2.18 avg=2.23\n",
            "[1530 | 34.29] loss=1.80 avg=2.09\n",
            "[1540 | 43.12] loss=2.91 avg=2.29\n",
            "[1550 | 51.97] loss=2.47 avg=2.33\n",
            "[1560 | 60.80] loss=2.06 avg=2.28\n",
            "[1570 | 69.63] loss=2.23 avg=2.28\n",
            "[1580 | 78.47] loss=2.53 avg=2.31\n",
            "[1590 | 87.30] loss=1.60 avg=2.23\n",
            "[1600 | 96.13] loss=2.40 avg=2.25\n",
            "Saving checkpoint/run1/model-1600\n",
            "======== SAMPLE 1 ========\n",
            " education-based support, but the EAFRD could not be relied upon in those Member States.\n",
            "The EAFRD has a role to play in facilitating the transfer of knowledge and of skills in the Member States, through facilitating the flow of knowledge and in sharing lessons learnt\n",
            "Since 1999, the EAFRD has played an important role in assisting Member States, and the Commission has also helped to ensure that Member States received the information they needed.\n",
            "This should include a link to the Member States’ national service.\n",
            "Although there were no formal guidelines in place, the EAFRD was very active in the Member State delegations and in assisting Member States in meeting their skills needs while also facilitating communication.\n",
            "The EAFRD has also played an important role in strengthening the delegations’ expertise in the matters to which the delegation responded.\n",
            "The EAFRD has always been very conscious of the fact that it is very much in the hands of the Member States and its main role has been to ensure that they receive the information and make the necessary decisions required.\n",
            "This also applies to the Commission: although the EDF support is mostly paid by the EU budget, the Commission has considerable influence over budgetary measures implemented through the EAFRD and on the basis of its own audit (see \n",
            "Box 4 – Example of an inappropriate EAFRD payment\n",
            "In Spain, the EAFRD decided to cover a relatively low-value public procurement procedure for purchasing building supplies under an indicative price scale.\n",
            "The procurement officer decided not to accept an offer of €7 150 on the basis that the total contract value reported was €8 150.\n",
            "However, because of an inappropriate payment of €3.50 for each euro below the contract value, the Spanish public procurement procedure will not be viable.\n",
            "The Member States will also be responsible for checking that the total contract value reported for the relevant offer is corrected to reflect the correct amount of the €10 000 payment.\n",
            "We found a similar example in the United Kingdom: although a contract notice stated that it represented an offer of €15 000 on the basis that the contract was €12 000.\n",
            "The notice was corrected immediately after the notice was published and the contracts were awarded without having entered into contract.\n",
            "Commission response to Board of ECA’s communication \n",
            "On 5 October 2017, the Commission issued a formal response to the Board of ECA’s communication.\n",
            "The Commission stated in its response that the Court’s investigation into public procurement errors identified at Member States’ level can lead to financial corrections in a number of Member States, as highlighted in the cases of Italy and Germany, but also at EU level (see \n",
            "The Court’s analysis of the errors identified and the EU-funding and contributions made to corrective actions was not published until the first review after the Member State’s 2016 federal elections\n",
            "This was in contrast with the Commission, in which the final report was published within three months of the initial audit (see \n",
            "This illustrates the lack of transparency in the Commission’s financial management, both in the reporting of errors and in that of management at national level, regarding the EU's contribution for corrective actions taken by Member States.\n",
            "The Court also found that the Commission’s corrective actions are not accompanied by an EU contribution, which would facilitate an overall perception of a harmonised approach to prevent future issues;\n",
            "While the Commission did not consider that the Member States’ corrective actions, even the smallest amount of EU funding, were consistent with the Commission’s assessment of EU contributions, the Commission did not calculate a separate contribution to the Member States’ corrective actions under the EAFRD.\n",
            "All examined Member States were required to provide annual accounts for Member State debt, and this accounts for nearly half of the total amount of EU support.\n",
            "The Court observed that the Commission and the Member States had not collected these accounts and their Commission had not verified that Member States had applied them.\n",
            "Box 5 – Examples of insufficient information on remedial measures\n",
            "We examined the performance of the Commission in identifying and checking deficiencies both when the Member States were first identified and during the second review.\n",
            "This allowed the Commission to identify and correct the weaknesses in Member State accounts.\n",
            "This information, however, did not enable the Commission to reliably identify and update the monitoring and reporting on remedial measures, although it did improve the identification of non-compliant Member States.\n",
            "Furthermore, Member States’ reporting did not provide a full view and description of remedial measures.\n",
            "Member States did not provide any information for this purpose in their annual accounts, which were not checked by the Commission (see \n",
            "In order to check whether the Member States were actually updating the accounts, the amended 2016 annual accounts of the United Kingdom, Italy and Germany were sent to the Commission.\n",
            "They also produced two sets of documents, one for the Commission for the first year, the other for the second year, to check the account balances\n",
            "\n",
            "[1610 | 131.58] loss=1.50 avg=2.17\n",
            "[1620 | 140.40] loss=2.11 avg=2.17\n",
            "[1630 | 149.23] loss=2.56 avg=2.20\n",
            "[1640 | 158.06] loss=2.68 avg=2.24\n",
            "[1650 | 166.90] loss=2.68 avg=2.27\n",
            "[1660 | 175.74] loss=1.91 avg=2.25\n",
            "[1670 | 184.58] loss=2.68 avg=2.27\n",
            "[1680 | 193.41] loss=2.23 avg=2.27\n",
            "[1690 | 202.25] loss=1.51 avg=2.23\n",
            "[1700 | 211.07] loss=2.43 avg=2.24\n",
            "[1710 | 219.91] loss=2.43 avg=2.25\n",
            "[1720 | 228.74] loss=2.38 avg=2.25\n",
            "[1730 | 237.57] loss=2.41 avg=2.26\n",
            "[1740 | 246.41] loss=1.85 avg=2.24\n",
            "[1750 | 255.24] loss=1.66 avg=2.22\n",
            "[1760 | 264.07] loss=2.11 avg=2.21\n",
            "[1770 | 272.90] loss=1.81 avg=2.20\n",
            "[1780 | 281.73] loss=1.77 avg=2.18\n",
            "[1790 | 290.56] loss=1.72 avg=2.16\n",
            "[1800 | 299.40] loss=2.01 avg=2.15\n",
            "[1810 | 308.23] loss=2.65 avg=2.17\n",
            "[1820 | 317.06] loss=1.52 avg=2.15\n",
            "[1830 | 325.90] loss=2.10 avg=2.15\n",
            "[1840 | 334.76] loss=2.79 avg=2.17\n",
            "[1850 | 343.60] loss=2.77 avg=2.19\n",
            "[1860 | 352.42] loss=1.72 avg=2.17\n",
            "[1870 | 361.25] loss=1.86 avg=2.16\n",
            "[1880 | 370.08] loss=1.87 avg=2.15\n",
            "[1890 | 378.91] loss=1.71 avg=2.14\n",
            "[1900 | 387.73] loss=2.33 avg=2.15\n",
            "[1910 | 396.56] loss=1.40 avg=2.12\n",
            "[1920 | 405.39] loss=1.54 avg=2.11\n",
            "[1930 | 414.23] loss=1.75 avg=2.10\n",
            "[1940 | 423.06] loss=1.77 avg=2.09\n",
            "[1950 | 431.88] loss=2.49 avg=2.10\n",
            "[1960 | 440.71] loss=2.23 avg=2.10\n",
            "[1970 | 449.53] loss=1.78 avg=2.09\n",
            "[1980 | 458.37] loss=2.27 avg=2.10\n",
            "[1990 | 467.20] loss=1.88 avg=2.09\n",
            "[2000 | 476.03] loss=1.73 avg=2.08\n",
            "Saving checkpoint/run1/model-2000\n",
            "======== SAMPLE 1 ========\n",
            "FRENZ: Yes, I did; it wasn't clear to me whether the commission should have taken corrective action.\n",
            "It appeared that action might have resulted from a previous finding that the assessment criteria had been insufficient.\n",
            "It would have been better if the commission had asked the auditor general to provide assurance about the reliability of the assessments the audit authorities had carried out with respect to the sustainability of results.\n",
            "C(2016) 437 final paragraph 4:\n",
            "“If the Commission considers that the sustainability of the impact of audit results cannot be guaranteed, then the Commission may use a range of investigative and prosecutorial tools to pursue its interests in compliance with the provisions of the ECA.”.\n",
            "See, paragraph 34, paragraph 38, paragraph 40 (OJ C 350, 12.11.2017).\n",
            "See, paragraph 34, paragraph 41 (OJ C 350, 12.11.2017).\n",
            "The ECA’s annual assurance report issued to the Commission for the years 2015 and 2016 on the basis of the 2015 annual assurance report on the sustainable uses of funds in the 2014-2020 period.\n",
            "See ECA Special Report 1/2018, paragraph 39, which contains a number of recommendations relating to the implementation of the ECA’s audit recommendations.\n",
            "Council Regulation (EU) No 1152/2012 of 17 July 2012 establishing the Community body to which the funding rules shall apply for the next programme period 2014-2020 (OJ L 270, 17.7.2012, p. 5).\n",
            "Commission Directorate - Financial Analysis, 11 Mar 2017.\n",
            "Appendices 11-12 , 11-13, 11-14, 11-15, 11-15a and 11-15b.\n",
            "Council Regulation (EU) No 1211/2012 of 17 July 2012 establishing Community body to which the financing rules shall apply for the next programme period 2014-2020 (OJ L 270, 17.7.2012, p. 6) and Regulation (EU) No 1303/2013 of 19 March 2013 laying down common provisions on the European Regional Development Fund, the European Social Fund, the Cohesion Fund, the European Agricultural Fund for Rural Development and the Cohesion Fund and of the European Maritime and Fisheries Fund and of the European Maritime and Fisheries Fund and repealing Regulation (EC) No 1828/2003 (OJ L 347, 31.2.2013, p. 19) are applicable to the EU budget for 2014-2020.\n",
            "See ECA Special Report No 10/2018 “EU spending in the period 2014-2020: first year”, paragraphs 5-19 (http://www.eca.europa.eu) and Commission Directorate - Comptroller General\n",
            "COM(2015) 12 873 (http://eca.europa.eu).\n",
            "COM(2016) 13 834 (http://eca.europa.eu).\n",
            "The audit findings and conclusions differ when it comes to the effectiveness of prevention, intervention and correction, as opposed to prevention and correction, as the Commission views those two as its main priority.\n",
            "It makes recommendations to the Member States, the Commission and the EDF, which comprise the European Union.\n",
            "Recommendation 15 – Strengthen the Commission through the introduction of preventive measures, while continuing to use financial corrections to promote effective preventive and corrective actions\n",
            "The Commission should strengthen the mandate of the Commission, particularly through the establishment of a new, independent Comptroller or Auditor General with an enhanced mandate for the performance of the internal funds supervision (i.e. financial correction).\n",
            "COM(2016) 13 824 (http://eca.europa.eu).\n",
            "(See also ECA Special Report No 10/2018 “EU spending in the period 2014-2020: first year”, paragraph 5 (http://www.eca.europa.eu) and Commission Directorate-General - Financial Analysis, 11 Mar 2017.\n",
            "The auditors examined the effectiveness of preventive efforts to address fraud risks, and the Commission has not sufficiently addressed fraud risks.\n",
            "They recommend that the Commission strengthen the mandate of the Commission and apply financial corrections during and after the financial correction.\n",
            "(2016) 834 of 7 April 2017 (paragraphs 23 and 38).\n",
            "Member States do not sufficiently adequately address fraud risks in EU funding, audit authorities say\n",
            "The European Commission and Member States have an important role to play in combating fraud in the EU’s finances, but the Commission has not adequately addressed fraud risks, according to a new report from the European Court of Auditors.\n",
            "They are the main beneficiaries of EU funding, but they still do not have adequate systems in place to prevent fraud and corruption, according to the report from the European Court of Auditors\n",
            "The European Court of Auditors assessed the effectiveness of the Commission’s preventive measures and interventions for fraud prevention and recovery.\n",
            "These preventive measures and interventions were introduced in 2014\n",
            "\n",
            "[2010 | 508.43] loss=2.61 avg=2.10\n",
            "[2020 | 517.27] loss=1.84 avg=2.09\n",
            "[2030 | 526.10] loss=1.72 avg=2.08\n",
            "[2040 | 534.92] loss=1.78 avg=2.07\n",
            "[2050 | 543.74] loss=2.72 avg=2.09\n",
            "[2060 | 552.57] loss=1.99 avg=2.09\n",
            "[2070 | 561.40] loss=1.85 avg=2.08\n",
            "[2080 | 570.23] loss=1.97 avg=2.08\n",
            "[2090 | 579.07] loss=1.36 avg=2.06\n",
            "[2100 | 587.89] loss=1.73 avg=2.06\n",
            "[2110 | 596.72] loss=2.05 avg=2.06\n",
            "[2120 | 605.56] loss=1.99 avg=2.05\n",
            "[2130 | 614.39] loss=1.95 avg=2.05\n",
            "[2140 | 623.24] loss=2.17 avg=2.05\n",
            "[2150 | 632.07] loss=2.60 avg=2.07\n",
            "[2160 | 640.92] loss=1.29 avg=2.05\n",
            "[2170 | 649.78] loss=1.75 avg=2.04\n",
            "[2180 | 658.62] loss=1.65 avg=2.04\n",
            "[2190 | 667.45] loss=2.46 avg=2.04\n",
            "[2200 | 676.29] loss=2.06 avg=2.04\n",
            "[2210 | 685.12] loss=2.27 avg=2.05\n",
            "[2220 | 693.94] loss=2.09 avg=2.05\n",
            "[2230 | 702.78] loss=2.16 avg=2.05\n",
            "[2240 | 711.61] loss=2.53 avg=2.06\n",
            "[2250 | 720.44] loss=1.30 avg=2.05\n",
            "[2260 | 729.28] loss=1.08 avg=2.03\n",
            "[2270 | 738.11] loss=1.91 avg=2.03\n",
            "[2280 | 746.95] loss=1.09 avg=2.01\n",
            "[2290 | 755.77] loss=2.25 avg=2.01\n",
            "[2300 | 764.60] loss=1.19 avg=2.00\n",
            "[2310 | 773.43] loss=1.91 avg=2.00\n",
            "[2320 | 782.26] loss=1.63 avg=1.99\n",
            "[2330 | 791.09] loss=2.52 avg=2.00\n",
            "[2340 | 799.92] loss=2.04 avg=2.00\n",
            "[2350 | 808.76] loss=1.92 avg=2.00\n",
            "[2360 | 817.59] loss=2.34 avg=2.01\n",
            "[2370 | 826.42] loss=2.16 avg=2.01\n",
            "[2380 | 835.24] loss=2.48 avg=2.02\n",
            "[2390 | 844.08] loss=1.92 avg=2.01\n",
            "[2400 | 852.90] loss=1.88 avg=2.01\n",
            "Saving checkpoint/run1/model-2400\n",
            "======== SAMPLE 1 ========\n",
            " reflect-level indicator (‘indicators’).\n",
            "The Commission calculated the indicators for the 2014-2020 period using a formula, presented in \n",
            "The indicator for the EAFRD expenditure made from the ERDF and the CF funds established in the 2014-2020 period is calculated as the ratio of OPs in 2014 FP7 programmes supported by the ERDF and the CF to total programmes.\n",
            "The formula takes into account the number of OPs to be funded from the OPs identified in the previous programme period (from top down, rather than as a ratio of total funding received by the Commission).\n",
            "According to the Commission, in the 2015 OPs the indicator \"RAN - ERDF - CF investment in education\" achieved a small reduction in error.\n",
            "Based on our audits, we conclude that the indicators ‘RAN - ERDF - CF investment in education’ are appropriate, but that the Commission could better justify their use.\n",
            "The Commission does not demonstrate, in the documentation produced and adopted by DG Education and Training (see paragraph \n",
            "To improve the performance measurement of projects funded under the OPs we reviewed, we asked DG Education and Training whether the number of projects was significant enough for it to display the indicators.\n",
            "the Commission can provide guidance on the selection of indicators and on their use;\n",
            "although, in practice, no guidance is available on this point (see \n",
            "The indicators used by the Commission are the result of an evaluation by DG Education and training on the performance and results of the European Structural and Investment Funds for the 2014-2020 programming period.\n",
            "Thus, it can give useful feedback on the OPs and inform the Member States on problems in the OPs, since it already knows what could be improved.\n",
            "However, this guide does not provide any suggestions specifically on the allocation of funding from the OPs for the performance monitoring of the 2014-2020 period (the ‘RAN - ERDF’ indicator).\n",
            "The Commission should update and improve its current guidance to facilitate this type of monitoring.\n",
            "Our audits also showed instances where indicators were not based on the best available information (see \n",
            "In its guidance, as well as providing examples, the Commission has highlighted that indicators should allow for wide discretionary interpretation and should not in any way be interpreted as a reflection of the performance of the OP beneficiaries.\n",
            "Nevertheless, in practice, Member States have continued to apply the following two approaches, with different analytical methods:\n",
            "for the total ERDF and CF funds (not including financial engineering funds), the Commission has produced standardised criteria which are considered by the Member States to be equivalent to most of the indicators presented in SESAR database.\n",
            "All Member States have developed their own strategy on how to use these indicators;\n",
            "for ERDF and CF programmes established after 2014, these criteria have proven to be adequate for the production of reliable indicators.\n",
            "Since the 2007-2013 programming period, the Commission has issued guidance for the selection of indicators.\n",
            "For the 2014-2020 period, however, the Commission has not produced any guidance for the monitoring of the specific objectives of the OPs.\n",
            "We have been given no evidence that shows this Commission’s guidance to the Member States on how to use the indicators, both as regards application and interpretation.\n",
            "No specific indicators or targets have been set for the activities defined in implementing bodies’ working documents (see paragraphs 30 to 32), and no indicators for cumulative ERDF/CF expenditures for the periods 2006-2013 and 2014-2020 have been established.\n",
            "According to the overview provided by the Commission of the OPs approved by DG EAC during our audits, only 1.3 % of the projects examined had been used by the implementing bodies, so this figure is not relevant for the performance measurement of projects implemented by Member States under these programmes (see \n",
            "For ERDF and CF programmes established after 2014, we have seen that Member States applied a more stringent approach, where the required indicators are:\n",
            "(i) weighted average units.\n",
            "For ERDF and CF programmes established after 2014, we have seen that Member States applied a less stringent approach, where the indicators are:\n",
            "The Commission has yet to provide us with any evidence suggesting that the requirements of the benchmarking exercise are different for ERDF and CF (see \n",
            "Therefore, in general terms, the Commission can fully expect that Member States will continue to apply the following two systems for the measurement of the outputs and results of OPs.\n",
            "We have also seen that this will also hold for the financial instruments established by the Commission (see paragraphs 32 to 46).\n",
            "In DG Employment, Social Affairs and Inclusion, we have seen that Member States rely heavily on performance-monitoring indicators in the OPs for the evaluation of their measures.\n",
            "In particular, the Commission has provided guidance for the selection of indicator(s) for the audit of the effectiveness of the projects.\n",
            "However, the auditors noted in their 2010 annual report that they had identified an example of good practice where Member State\n",
            "\n",
            "[2410 | 886.95] loss=1.69 avg=2.01\n",
            "[2420 | 895.78] loss=1.81 avg=2.00\n",
            "[2430 | 904.62] loss=2.28 avg=2.01\n",
            "[2440 | 913.45] loss=2.47 avg=2.02\n",
            "[2450 | 922.28] loss=1.31 avg=2.00\n",
            "[2460 | 931.12] loss=2.24 avg=2.01\n",
            "[2470 | 939.95] loss=1.64 avg=2.00\n",
            "[2480 | 948.79] loss=2.30 avg=2.01\n",
            "[2490 | 957.65] loss=1.66 avg=2.00\n",
            "[2500 | 966.49] loss=1.74 avg=2.00\n",
            "[2510 | 975.33] loss=1.55 avg=1.99\n",
            "[2520 | 984.16] loss=1.50 avg=1.98\n",
            "[2530 | 993.00] loss=1.52 avg=1.98\n",
            "[2540 | 1001.82] loss=1.77 avg=1.97\n",
            "[2550 | 1010.65] loss=2.56 avg=1.98\n",
            "[2560 | 1019.48] loss=2.29 avg=1.99\n",
            "[2570 | 1028.30] loss=2.81 avg=2.00\n",
            "[2580 | 1037.14] loss=1.88 avg=2.00\n",
            "[2590 | 1045.98] loss=2.13 avg=2.00\n",
            "[2600 | 1054.80] loss=1.93 avg=2.00\n",
            "[2610 | 1063.65] loss=1.45 avg=1.99\n",
            "[2620 | 1072.48] loss=2.10 avg=1.99\n",
            "[2630 | 1081.31] loss=1.08 avg=1.98\n",
            "[2640 | 1090.15] loss=2.38 avg=1.98\n",
            "[2650 | 1098.98] loss=1.99 avg=1.98\n",
            "[2660 | 1107.81] loss=2.10 avg=1.99\n",
            "[2670 | 1116.65] loss=2.76 avg=2.00\n",
            "[2680 | 1125.47] loss=2.00 avg=2.00\n",
            "[2690 | 1134.31] loss=1.07 avg=1.98\n",
            "[2700 | 1143.14] loss=2.52 avg=1.99\n",
            "[2710 | 1151.96] loss=2.49 avg=2.00\n",
            "[2720 | 1160.79] loss=1.26 avg=1.99\n",
            "[2730 | 1169.62] loss=2.31 avg=1.99\n",
            "[2740 | 1178.45] loss=1.68 avg=1.99\n",
            "[2750 | 1187.29] loss=1.87 avg=1.99\n",
            "[2760 | 1196.12] loss=1.12 avg=1.97\n",
            "[2770 | 1204.95] loss=1.13 avg=1.96\n",
            "[2780 | 1213.78] loss=1.87 avg=1.96\n",
            "[2790 | 1222.62] loss=1.86 avg=1.96\n",
            "[2800 | 1231.46] loss=2.38 avg=1.97\n",
            "Saving checkpoint/run1/model-2800\n",
            "======== SAMPLE 1 ========\n",
            " and no one (other than the ECB) at the Council communicated to them the fact that they had already taken these measures to prevent or resolved the problems that they found.\n",
            "In addition, this was the case for the two other banks the Court examined.\n",
            "Nevertheless, given the nature of the banks, the Commission and the EBA could not provide the information requested for the Court to conduct a detailed analysis, but the Commission’s Directorates-General did provide an analytical function with the assistance of a full-scope map of their bank clusters and key data on banks’ key functions.\n",
            "Although the map was provided to the EBA (it is a separate entity from the EBA), the Commission did not obtain an inspection record or a physical inspection report.\n",
            "In addition, the map was not a part of the internal audit work product prepared by the Directorate-General for Banking Supervision (OJ C 373, 12.11.2009), which was part of the documentation the Commission received to carry out its audit of the stress-testing procedures for banks under its supervision.\n",
            "Based on our examination of documents produced by the Commission or requested by the Court, information was obtained regarding the methods used to check that bank data was correct.\n",
            "However, there was no information available for assessing whether the risk assessment methodology and the data underlying the calculations were accurate or reliable.\n",
            "For example, in the case of one bank, the map did not take into account all bank characteristics (such as the number of branches, types of business, etc.) and the bank’s capital needs and diversification strategies.\n",
            "In addition, in the case of one bank, we noticed that it used the same methodology as that used in the other banks.\n",
            "In any case, this is not consistent with the way in which the other institutions in the country are structured (see \n",
            "At a minimum, the Commission should provide the EBA with all of the information necessary to carry out its tasks, including the information requested in the audit sample.\n",
            "For this purpose, the Commission should assess the quality of the information provided by Member States, in particular to identify any areas in which their authorities need to work with the EBA to improve quality and align their activities with those of the Commission.\n",
            "Moreover, it should consider the results of the quality checks carried out by the EBA to verify that the methodology and data used in the assessments are valid.\n",
            "The Commission should provide the EBA with full access to all information on any supervised banks it has assessed as ‘systemically important’.\n",
            "This would also have to be fulfilled by the Commission, given that this entails potentially revealing information to the EBA, which is responsible for finalising its tasks in the areas listed above.\n",
            "The Commission should assess the need for the EBA to have access to a wider range of information from Member States, and consider modifying the arrangements to make this provision applicable also to other national authorities.\n",
            "If it is to have an independent presence in the banking sector at a reasonable distance to the detriment of national financial stability, it should ensure that the access granted to the EBA is in both areas.\n",
            "The Commission should take legal actions against any authority in the Member States that systematically withholds relevant banking information to the EBA.\n",
            "The Commission can take steps towards addressing these deficiencies when it has provided substantial support or guidance.\n",
            "Following the most recent changes to the legal framework, the Commission should take actions to strengthen the supervision of banks while preserving independence.\n",
            "It should propose actions to further enlarge the scope for the EBA in the context of the current stress tests.\n",
            "This Report was adopted by Chamber II, headed by EBI Members Iliana Ivanova and Karel Pinxten, Member of the Court of Auditors, in Luxembourg at its meeting of 7 December 2016.\n",
            "European Union (EU) Member States, for their part, are also a major lender to financial markets (see \n",
            "The current legal basis gives the EBA the right to request data on banks’ financial position and assets from a certain number of participating Member States.\n",
            "Actions by the European Commission under Article 13 of Regulation (EC) No 1305/2003 and Articles 7 and 8 of Regulation (EU) No 639/2011 require the corresponding authorities in Member States (or in the Commission) to transmit these data to the EBA.\n",
            "The European Commission also has the competence to take measures and undertake actions against financial institutions in its discretion.\n",
            "The European Central Bank (ECB) has also provided financial assistance to selected countries, and is the guarantor of all euro areas policy.\n",
            "The EBA is required by Regulation (EU) No 1106/2011 to provide advice and analysis to Member States of macroeconomic developments and economic policy developments and its macro-economic and economic policy areas.\n",
            "The ECB is the successor organisation to the European Central Bank (ECB).\n",
            "It thus has a greater role in monitoring economic developments in the Member States as a whole.\n",
            "As the European Commission does not delegate\n",
            "\n",
            "[2810 | 1263.66] loss=1.44 avg=1.96\n",
            "[2820 | 1272.50] loss=1.55 avg=1.95\n",
            "[2830 | 1281.34] loss=2.04 avg=1.95\n",
            "[2840 | 1290.17] loss=2.85 avg=1.97\n",
            "[2850 | 1299.01] loss=0.88 avg=1.95\n",
            "[2860 | 1307.84] loss=1.96 avg=1.95\n",
            "[2870 | 1316.66] loss=1.49 avg=1.95\n",
            "[2880 | 1325.50] loss=0.86 avg=1.93\n",
            "[2890 | 1334.33] loss=1.45 avg=1.92\n",
            "[2900 | 1343.16] loss=1.43 avg=1.92\n",
            "[2910 | 1351.99] loss=2.20 avg=1.92\n",
            "[2920 | 1360.82] loss=1.87 avg=1.92\n",
            "[2930 | 1369.64] loss=1.94 avg=1.92\n",
            "[2940 | 1378.49] loss=1.22 avg=1.91\n",
            "[2950 | 1387.32] loss=1.99 avg=1.91\n",
            "[2960 | 1396.15] loss=1.36 avg=1.91\n",
            "[2970 | 1404.97] loss=2.33 avg=1.91\n",
            "[2980 | 1413.80] loss=1.66 avg=1.91\n",
            "[2990 | 1422.62] loss=1.11 avg=1.90\n",
            "[3000 | 1431.46] loss=1.66 avg=1.89\n",
            "Saving checkpoint/run1/model-3000\n"
          ],
          "name": "stdout"
        }
      ]
    },
    {
      "cell_type": "markdown",
      "metadata": {
        "id": "IXSuTNERaw6K"
      },
      "source": [
        "After the model is trained, you can copy the checkpoint folder to your own Google Drive.\n",
        "\n",
        "If you want to download it to your personal computer, it's strongly recommended you copy it there first, then download from Google Drive. The checkpoint folder is copied as a `.rar` compressed file; you can download it and uncompress it locally."
      ]
    },
    {
      "cell_type": "code",
      "metadata": {
        "id": "VHdTL8NDbAh3"
      },
      "source": [
        "gpt2.copy_checkpoint_to_gdrive(run_name='run1')"
      ],
      "execution_count": null,
      "outputs": []
    },
    {
      "cell_type": "markdown",
      "metadata": {
        "id": "qQJgV_b4bmzd"
      },
      "source": [
        "You're done! Feel free to go to the **Generate Text From The Trained Model** section to generate text based on your retrained model."
      ]
    },
    {
      "cell_type": "markdown",
      "metadata": {
        "id": "pel-uBULXO2L"
      },
      "source": [
        "## Load a Trained Model Checkpoint\n",
        "\n",
        "Running the next cell will copy the `.rar` checkpoint file from your Google Drive into the Colaboratory VM."
      ]
    },
    {
      "cell_type": "code",
      "metadata": {
        "id": "DCcx5u7sbPTD"
      },
      "source": [
        "gpt2.copy_checkpoint_from_gdrive(run_name='run1')"
      ],
      "execution_count": null,
      "outputs": []
    },
    {
      "cell_type": "markdown",
      "metadata": {
        "id": "RTa6zf3e_9gV"
      },
      "source": [
        "The next cell will allow you to load the retrained model checkpoint + metadata necessary to generate text.\n",
        "\n",
        "**IMPORTANT NOTE:** If you want to rerun this cell, **restart the VM first** (Runtime -> Restart Runtime). You will need to rerun imports but not recopy files."
      ]
    },
    {
      "cell_type": "code",
      "metadata": {
        "id": "-fxL77nvAMAX"
      },
      "source": [
        "sess = gpt2.start_tf_sess()\n",
        "gpt2.load_gpt2(sess, run_name='run1')"
      ],
      "execution_count": null,
      "outputs": []
    },
    {
      "cell_type": "markdown",
      "metadata": {
        "id": "ClJwpF_ACONp"
      },
      "source": [
        "## Generate Text From The Trained Model\n",
        "\n",
        "After you've trained the model or loaded a retrained model from checkpoint, you can now generate text. `generate` generates a single text from the loaded model."
      ]
    },
    {
      "cell_type": "code",
      "metadata": {
        "id": "4RNY6RBI9LmL",
        "colab": {
          "base_uri": "https://localhost:8080/",
          "height": 627
        },
        "outputId": "755be403-f750-4179-96c9-e5de93ccbb5c"
      },
      "source": [
        "gpt2.generate(sess, run_name='run1')"
      ],
      "execution_count": null,
      "outputs": [
        {
          "output_type": "stream",
          "text": [
            "The European Court of Auditors hereby informs you that Special Report 13/2019 \n",
            "EU support for rural development needs more focus on performance and results, say Auditors\n",
            "The EU spending for the 2007-2013 period was largely ineffective in improving the governance and management of the Member States, according to a new report from the European Court of Auditors.\n",
            "The auditors assessed whether the Commission and Member States had addressed the main weaknesses identified in the 2007-2013 programming period: the lack of coherent and systematic EU rural development policy objectives, a fragmented governance structure and poor coordination with the Member States.\n",
            "In their work, the auditors examined whether the Commission and Member States had put in place the infrastructure necessary to implement the EU rural development policy effectively and efficiently, and whether they had put in place relevant and relevant monitoring and evaluation systems.\n",
            "The auditors concluded that there was no evidence that EU funding had contributed effectively to improving governance and management in the Member States and that the implementation of the policy was largely successful.\n",
            "They also concluded that the 2007-2013 programming period was largely ineffective in improving governance and management, as Member States did not have the necessary capacity and political will to implement the rural development policy and the Commission did not take sufficient action to facilitate its implementation.\n",
            "The auditors also found that the guidelines to be largely ineffective in setting priorities and setting the scope of work for the Member States.\n",
            "Most of the rural development policy is based on EU funds, say the auditors, and their allocation is affected by a variety of shortcomings.\n",
            "They found that the guidelines to be largely ineffective in setting priorities and setting the scope of work for the Member States, and that the guidelines were unclear about how to address the situation identified in the Member States.\n",
            "In most cases, the auditors were unable to link rural development policy objectives to specific payments.\n",
            "The auditors make a number of recommendations to the Commission and the Member States to improve the operational efficiency of the management of the funds, improve the governance structure and provide more coherent guidance.\n",
            "The auditors found that the Commission and Member States had started to implement rural development policy at the end of 2012, but that it was largely well advanced when they started funding it in 2007.\n",
            "As a result, the auditors make a number of recommendations to the Commission and the Member States to improve the operational efficiency of the management of the funds, improve the governance structure and provide more coherent guidance.\n",
            "The auditors acknowledge that the regulatory framework adopted for the 2007-2013 programming period lacked the necessary legal framework governing the formal arrangements for the formal coordination of rural development policy.\n",
            "They also found that the Member States’ political definitions of what constituted a rural development measure were insufficient.\n",
            "The auditors make a series of recommendations to the Commission and the Member States to improve the operational efficiency of the management of the funds, improve the governance structure and provide more coherent guidance.\n",
            "They include recommendations on how to improve the governance structure and the technical and administrative support that is needed to improve the governance structure.\n",
            "The auditors assessed whether the 2007-2013 programming period was well spent.\n",
            "The auditors examined whether the Commission and Member States have properly planned and implemented rural development policy objectives, whether the management of the funds was effective, and whether the Member States’ administrative arrangements were appropriate and sufficient.\n",
            "They carried out a survey on a representative sample of projects across the EU, including six projects implemented by the Commission.\n",
            "The auditors found that the rural development policy as a whole achieved most of its objectives.\n",
            "The auditors found that the Member States’ political definitions of what constituted a rural development measure were insufficient.\n",
            "There was no harmonisation across the EU of the content of rural development policy objectives and the Member States’ administrative arrangements were not sufficiently well managed.\n",
            "The auditors recommend that the Commission and the Member States address these shortcomings in the Member States’ management of rural development policy.\n",
            "The auditors also found that the resources devoted to rural development policy were justified, but that their focus on performance was insufficient.\n",
            "They make a number of recommendations to the Commission and the Member States to improve the operational efficiency of the management of the funds, improve the governance structure and provide more coherent guidance.\n",
            "The auditors examined whether the Commission and Member States had properly planned and implemented rural development policy objectives, whether the management of the funds was effective, and whether the Member States’ administrative arrangements were appropriate and sufficient.\n",
            "They carried out a survey on a representative sample of projects across the EU, including six projects implemented by the Commission.\n",
            "The auditors found that the rural development policy as a whole achieved most of its objectives.\n",
            "The auditors found that the Member States’ political definitions of what constituted a rural development measure were insufficient.\n",
            "They could not adequately assess the needs for rural development policy.\n",
            "The expenditure was not sufficiently coordinated with other EU policies and programmes.\n",
            "The Member States’ administrative arrangements did not meet the requirements set out in the guidelines and did not reflect the diversity of rural policy\n"
          ],
          "name": "stdout"
        }
      ]
    },
    {
      "cell_type": "markdown",
      "metadata": {
        "id": "oF4-PqF0Fl7R"
      },
      "source": [
        "If you're creating an API based on your model and need to pass the generated text elsewhere, you can do `text = gpt2.generate(sess, return_as_list=True)[0]`\n",
        "\n",
        "You can also pass in a `prefix` to the generate function to force the text to start with a given character sequence and generate text from there (good if you add an indicator when the text starts).\n",
        "\n",
        "You can also generate multiple texts at a time by specifing `nsamples`. Unique to GPT-2, you can pass a `batch_size` to generate multiple samples in parallel, giving a massive speedup (in Colaboratory, set a maximum of 20 for `batch_size`).\n",
        "\n",
        "Other optional-but-helpful parameters for `gpt2.generate` and friends:\n",
        "\n",
        "*  **`length`**: Number of tokens to generate (default 1023, the maximum)\n",
        "* **`temperature`**: The higher the temperature, the crazier the text (default 0.7, recommended to keep between 0.7 and 1.0)\n",
        "* **`top_k`**: Limits the generated guesses to the top *k* guesses (default 0 which disables the behavior; if the generated output is super crazy, you may want to set `top_k=40`)\n",
        "* **`top_p`**: Nucleus sampling: limits the generated guesses to a cumulative probability. (gets good results on a dataset with `top_p=0.9`)\n",
        "* **`truncate`**: Truncates the input text until a given sequence, excluding that sequence (e.g. if `truncate='<|endoftext|>'`, the returned text will include everything before the first `<|endoftext|>`). It may be useful to combine this with a smaller `length` if the input texts are short.\n",
        "*  **`include_prefix`**: If using `truncate` and `include_prefix=False`, the specified `prefix` will not be included in the returned text."
      ]
    },
    {
      "cell_type": "code",
      "metadata": {
        "id": "8DKMc0fiej4N",
        "colab": {
          "base_uri": "https://localhost:8080/",
          "height": 1000
        },
        "outputId": "c3eec180-de54-4671-ccb1-af0af97cfa15"
      },
      "source": [
        "gpt2.generate(sess,\n",
        "              length=450,\n",
        "              temperature=0.9,\n",
        "              prefix=\"This evaluation has provided a\",\n",
        "              nsamples=8,\n",
        "              batch_size=8,\n",
        "              top_p=0.8\n",
        "              )"
      ],
      "execution_count": null,
      "outputs": [
        {
          "output_type": "stream",
          "text": [
            "This evaluation has provided a summary of available evidence for the Commission, but it does not provide a comprehensive analysis of the approach adopted by the Commission and the regulatory framework adopted by the Council\n",
            "This Report was adopted by Chamber I, headed by Mrs Bettina JAKOBSEN, Member of the Court of Auditors, in Luxembourg at its meeting of 11 February 2018.\n",
            "EU support for restoration of fisheries integrity in the Indian Ocean\n",
            "This work was carried out under the auspices of the Commission Delegation for Development (D1-DEVCO), which is in charge of the Indian Ocean Monitoring and Verification Programme.\n",
            "The audit was led by ECA Member Henri Grethen, supported by Ioulia Papatheodorou, Head of Private Office and Angelika Lapavitskaya, Private Office Attaché; Josef Edelmann, Principal Manager; Angelika Lapavitskaya, Head of Task; Demetrius Papadakis, Cofidis; Maria Echanove, Principal Manager; Giorgos Tsikos, Head of Task; Antonella Cremonti, Frédéric Soblet, Aino Nyholm, Jana Ptakoulidis, Karel Meixner, Antonella Cassano, Karel Meixner, Piotr \n",
            "This work was carried out by a Contracting Authority (CA) under the auspices of the Commission Delegation for Development.\n",
            "The audit was led by ECA Member Henri Grethen, supported by Ioulia Papatheodorou, Head of Private Office and Angelika Lapavitskaya, Private Office Attaché; Josef Edelmann, Principal Manager; Angelika Lapavitskaya, Head of Task; Demetrius Papadakis, Cofidis; Maria Echanove, Principal Manager; Giorgos Tsikos, Head of Task; Antonella Cremonti, Frédéric Soblet, Aino Nyholm, Jana Ptakoulidis, Karel Meixner, Cofidis.\n",
            "This work was carried out by a Contracting Authority (CA) under the auspices of the Commission Delegation for Development.\n",
            "The audit was\n",
            "====================\n",
            "This evaluation has provided a useful summary of the EU ETS as a key input for the Commission and Member States\n",
            "The Commission did not conduct a comprehensive evaluation of the EU ETS before 2011.\n",
            "It has not yet produced an annual report on the EU ETS, although the Commission has carried out the necessary internal review procedures to ensure that the report is relevant and based on relevant data.\n",
            "The Commission did not develop any strategy for tracking emissions\n",
            "The Commission has no such document, although its own internal review has led to the development of a database\n",
            "It did not develop any operational document on the EU ETS, although the internal framework for the monitoring of emissions set up in March 2014\n",
            "The implementation of the EU ETS in practice\n",
            "EU ETS monitors a significant share of emissions in the Member States.\n",
            "The level of emissions reported by Member States is also the total number of emissions for the EU ETS.\n",
            "The data for 2009-2014 was not yet available in a consolidated form until the end of 2015.\n",
            "The data reported by Member States in 2014 did not yet represent an accurate representation of emissions in the EU ETS.\n",
            "The Commission used a spreadsheet to analyse emissions by Member State for the period 2009-2014, and then for the period 2010-2014.\n",
            "This allowed the Member States to report emissions by type of emission category, which was helpful for comparing emissions by Member State.\n",
            "The analysis allowed the production of two separate reports on emissions in the same Member State, and provided a summary of emissions by emission category.\n",
            "The following tables present the production of emissions by Member States in the EU ETS for 2009-2014, and the breakdown by emission category by sector of origin.\n",
            "Table 1 - Production of emissions by source sector and country of origin\n",
            "ECA’s analysis of EU ETS data, 2009-2014\n",
            "The production rate of emissions by electricity, heating and cooling, transport and other industries did not exceed the EU ETS limit set in the EU ETS Regulation.\n",
            "This is because these sectors have more capital than emission allowances.\n",
            "Table 2 - Production rate for each emission category and emission source\n",
            "ECA’s analysis of EU ETS data, 2009-2014\n",
            "The emissions of transport were based\n",
            "====================\n",
            "This evaluation has provided a useful overview of the issues related to the implementation of ERDF and ESF OPs and projects.\n",
            "The audit focused on the 2014-2020 programme period and was carried out by Audit Chamber III External actions/Security and justice.\n",
            "The audit team consisted of:\n",
            "Mr Giles Brodie, Head of the Task; Mr Emma Poulin, Principal Manager; Mr Nadia Fotual, Head of the Task; Mr Sebastian Plesas, Head of the Task; Mr Maxime Renaud, Head of the Task; Mr Jakub Žemail, Head of the Task; and Mr Owing, David Baumgartner, Vadym Prikhoda, and Vasileia Radecka, Auditors.\n",
            "Mr Baudilio TOMÉ XABUCCI, Mr Emma Poulin, Mr Maxime Renaud, Mr Jakub Žemail, Mr Sebastian Plesas, Mr Maxime Renaud, Mr Jakub Žemail, Mr Emma Poulin, Mr Sebastian Plesas, Mr Sebastian Radecka, Mr Maxime Renaud, Mr Sebastian Plesas, Mr Jakub Žemail, Mr Maxime Renaud, Mr Sebastian Plesas, Mr Maxime Renaud, Mr Jakub Žemail, Mr Sebastian Plesas, Mr Sebastian Radecka, Mr Maxime Renaud, Mr Jakub Žemail, Mr Maxime Renaud, Mr Sebastian Plesas, Mr Sebastian Radecka, Mr Sebastian Plesas, Mr Maxime Renaud, Mr Sebastian Plesas, Mr Maxime Renaud, Mr Jakub Žemail, Mr Sebastian Plesas, Mr Sebastian Radecka, Mr Maxime Renaud, Mr Sebastian Plesas\n",
            "====================\n",
            "This evaluation has provided a basis for the design of the 2014-2020 ESIF framework, but some recommendations have not been based on a comprehensive analysis of the Commission’s understanding of the challenges and opportunities posed by an ever-changing global environment.\n",
            "These measures, which are intended to better manage the expected changes, are designed to contribute to achieving the EU’s objective of reducing greenhouse gas emissions.\n",
            "They are presented in a manner that does not make it clear which ones are which and which are the most relevant ones.\n",
            "The recommendations are not presented in a way that makes it clear which recommendations are which.\n",
            "The assessment of the challenges to the sustainability of the EU ETS was comprehensive and based on relevant data.\n",
            "However, there is no assessment of the sustainability of the EU ETS at EU level, which would allow a better understanding of the challenges to sustainability and the consequent measures that the EU ETS is designed to address them.\n",
            "The quality of the data underlying the ETS recommendations is insufficient.\n",
            "There is insufficient evidence to show that the EU ETS has reduced greenhouse gas emissions in the target countries, and the Commission does not fully use the ETS as a vehicle to disseminate best practices and take stock of the cost-effectiveness of the ETS.\n",
            "The Commission has published a limited number of studies in this context, which do not provide an appropriate comparative analysis of the cost-effectiveness of the ETS, its benefits and its environmental sustainability.\n",
            "The Commission’s sustainability guidelines for Member States have improved, but the implementation of the recommendations is slow and subject to weaknesses.\n",
            "The Commission has made considerable efforts to increase transparency and consensus on the ETS, but implementation is subject to significant weaknesses.\n",
            "The Commission should improve the quality of the data underlying the recommendations, including a reference to a cost-benefit analysis.\n",
            "The ETS framework is not fully exploited by developing countries, and the recommendations are not sufficiently grounded in relevant and credible cost-benefit analyses.\n",
            "The Commission and the Member States have made progress in establishing the national implementation plans, but implementation challenges remain.\n",
            "The recommendations for the countries audited are based on concrete data, but lack an analysis of the country-specific challenges.\n",
            "The\n",
            "====================\n",
            "This evaluation has provided a valuable input for policy-making, and has helped to shape the EU’s global trade policy since 2000.\n",
            "It has been applied in the WTO and by the European Court of Justice.\n",
            "The European Commission relies on the ECA’s work in the field of customs to carry out its tasks.\n",
            "It is organised into groups which work on common issues.\n",
            "The ECA carried out its work at a very broad level covering the EU institutions and departments.\n",
            "This means that its monitoring activities are spread over a considerable number of entities.\n",
            "The ECA’s mandate is to support the work of the Commission as an independent entity.\n",
            "The ECA was established by the ECA in the wake of the resignation of its first president and the appointment of the first Independent Auditor General in the EU (IAG).\n",
            "Its mandate derives from Article 29 of the Financial Regulation, which requires an audit authority to “audit the operations of the Union, the Member States, the Commissioners, the members of the European Council and the President of the European Commission, and any other persons responsible for the Union’s policies”.\n",
            "This means that the ECA must be able to perform its tasks in accordance with the rules laid down by the EU.\n",
            "Its tasks include monitoring the functioning of the Union, the Member States, the Commission, the ECB, and the IAGs.\n",
            "It also entails certain duties relating to the performance of the functions conferred on the ECA.\n",
            "The ECA’s mandate is explained in Article 29(2)(d) of the Financial Regulation.\n",
            "Its tasks include providing independent, objective, independent advice on matters of material importance to the performance of the ECA.\n",
            "In its work the ECA may request evidence in accordance with Article 29(4) of the Financial Regulation.\n",
            "The ECA’s mandate derives from Article 29(4) of the Financial Regulation, which requires an audit authority to “perform the tasks conferred on it by the Union”.\n",
            "Its tasks include providing independent, objective, objective, and comprehensive audit advice in accordance with Article 29(6) of the Financial Regulation.\n",
            "The E\n",
            "====================\n",
            "This evaluation has provided a comprehensive overview of the legal and regulatory framework governing the European Union’s territorial justice policy.\n",
            "The evaluation assessed whether the legal and regulatory framework governing the European Union’s territorial justice policy was appropriately written, well implemented, and whether it was appropriately applied.\n",
            "It concluded that the legal and regulatory framework governing the European Union’s territorial justice policy is sound and well-established.\n",
            "The assessment of the legal and regulatory framework focused on the main features of the current framework, which have been around since 2007.\n",
            "It also assessed the existing mechanisms and the effectiveness of existing mechanisms.\n",
            "The framework had improved, but further steps are needed to address weaknesses identified.\n",
            "The Member States have generally complied with the legal requirements, but there are some weaknesses in the current system, and the Commission has not yet drawn up a comprehensive legislative proposal to update it.\n",
            "The Commission should improve the current framework by:\n",
            "setting out clear and precise requirements and objectives, and specifying how they are to be achieved;\n",
            "considering the possibility of excluding administrative costs in the new framework, and defining clear corrective measures for these costs.\n",
            "The auditors assessed whether the legal and regulatory framework governing the European Union’s territorial justice policy was appropriately written, well implemented, and whether it was appropriately applied.\n",
            "They concluded that the legal and regulatory framework governing the European Union’s territorial justice policy was sound and well-established.\n",
            "However, they found weaknesses in the current framework.\n",
            "There are some weaknesses in the current framework, and the Commission has not yet drawn up a comprehensive legislative proposal to update it.\n",
            "The Member States have generally complied with the legal requirements, but there are some weaknesses in the current system, and the Commission has not yet drawn up a comprehensive legislative proposal to update it.\n",
            "The auditors recommend that the Commission should improve the current framework by:\n",
            "setting out clear and precise requirements and objectives, and specifying how they are to be achieved;\n",
            "considering the possibility of excluding administrative costs in the new framework, and defining clear corrective measures for these costs.\n",
            "The auditors assessed whether the legal and regulatory framework governing the European Union’s territorial justice policy was appropriately written, well implemented, and whether it was\n",
            "====================\n",
            "This evaluation has provided a useful tool for assessing the achievement of outcomes and impacts, but was not comprehensive in scope and did not take into account the experience of managing authorities and certification bodies, the evaluation found.\n",
            "This makes it difficult to draw conclusions on the reliability of the CMEF and its implementation, the evaluation found.\n",
            "There are shortcomings in the CMEF and the evaluation found that there is no assessment of results and no quantitative and qualitative evaluations of the OPs.\n",
            "The evaluations were carried out in the absence of sufficient feedback from the managing authorities and certification bodies.\n",
            "The evaluation found that the CMEF and the OPs were not sufficiently aligned and the implementation of the OPs had been a lengthy process.\n",
            "The evaluations examined the design and the results of the OPs, but did not analyse their effectiveness.\n",
            "The evaluation found that the CMEF had been a lengthy project with many shortcomings, both within the scope of its design and in the implementation of its results-oriented approach.\n",
            "There was no assessment of the progress of the projects, and no long-term monitoring of the implementation of the OPs.\n",
            "There were shortcomings in the CMEF, and the evaluation found that there were various design weaknesses.\n",
            "There was insufficient input from the beneficiaries, and the evaluation found that the design and reporting of the OPs were not in line with the programme objectives.\n",
            "The design of the OPs was further hindered by the fact that, for the projects examined, there were no legal obligations.\n",
            "There was no clear explanation as to why the implementation of the OPs was such a lengthy process.\n",
            "There were shortcomings in the CMEF and the evaluation found that there was no coordination between the Commission and Member States.\n",
            "There were weaknesses in the design and reporting of the OPs, and the evaluation found that there was no coordination structure and a lack of input from managing authorities.\n",
            "There was inadequate cooperation between the Commission and the Member States in the design and implementation of the OPs.\n",
            "There were shortcomings in the CMEF, and the evaluation found that there was no coordination between the Commission and the Member States.\n",
            "There was a need for a new approach in this regard, which would be in line with the\n",
            "====================\n",
            "This evaluation has provided a useful basis for policy and decision-making in the Member States, but there is no detailed report on how the monitoring and evaluation work is carried out and the extent to which the outcomes have been measurable.\n",
            "The Commission’s policy framework is based on a model for policy evaluation, but it does not contain criteria that would allow the use of standard formulae to evaluate policy evaluation.\n",
            "A more detailed policy evaluation framework could be developed, but for the present time we are presenting the evaluation results as they were for the sample of five Member States visited.\n",
            "The Commission has developed several evaluation strategies over the years, which have not been tested in practice\n",
            "In the six years covered by the audit, the Commission developed four evaluation strategies\n",
            "These strategies were drawn up between 2000 and 2009, with the latest one being prepared for 2014.\n",
            "The strategy was drawn up between 2000 and 2008, and has been updated on four occasions\n",
            "The Commission has not assessed the effectiveness of these strategies, although a recent report by the ECA on evaluation and the policy system in five Member States concluded that “strengthening the evaluation process is one of the key actions for improving evaluation results”\n",
            "One of the objectives of the evaluation strategy for Romania\n",
            "The Commission used evaluation results to strengthen the implementation of the action plan for improving the administration of water and sanitation in Bucharest\n",
            "The objective of this strategy was to “provide Romania with a management system that is efficient, effective and environmentally friendly, with good access to public funding and effective results to promote quality and promote participation”.\n",
            "The strategy recommended that Romania should adopt an integrated approach to water and sanitation\n",
            "The Commission endorsed the strategy in 2005, but the report did not provide evidence of progress in the implementation of the project by the time of the audit.\n",
            "The Commission’s approach to evaluating the projects is similar to that of most other EU institutions.\n",
            "It bases its evaluation on a number of criteria, which it considers relevant for assessing success\n",
            "The Commission’s evaluation approach is based on the following three main sources of information:\n",
            "analysis of project documentation (audit reports, implementation reports, monitoring plans),\n",
            "evaluation of monitoring data (baseline and annual data for\n",
            "====================\n"
          ],
          "name": "stdout"
        }
      ]
    },
    {
      "cell_type": "markdown",
      "metadata": {
        "id": "zjjEN2Tafhl2"
      },
      "source": [
        "For bulk generation, you can generate a large amount of text to a file and sort out the samples locally on your computer. The next cell will generate a generated text file with a unique timestamp.\n",
        "\n",
        "You can rerun the cells as many times as you want for even more generated texts!"
      ]
    },
    {
      "cell_type": "code",
      "metadata": {
        "id": "Fa6p6arifSL0"
      },
      "source": [
        "gen_file = 'gpt2_gentext_{:%Y%m%d_%H%M%S}.txt'.format(datetime.utcnow())\n",
        "\n",
        "gpt2.generate_to_file(sess,\n",
        "                      destination_path=gen_file,\n",
        "                      length=850,\n",
        "                      temperature=0.8,\n",
        "                      prefix=\"This evaluation has provided a\",\n",
        "                      nsamples=100,\n",
        "                      batch_size=5\n",
        "                      )"
      ],
      "execution_count": null,
      "outputs": []
    },
    {
      "cell_type": "code",
      "metadata": {
        "id": "0-LRex8lfv1g"
      },
      "source": [
        "# may have to run twice to get file to download\n",
        "files.download(gen_file)"
      ],
      "execution_count": null,
      "outputs": []
    },
    {
      "cell_type": "markdown",
      "metadata": {
        "id": "QQAN3M6RT7Kj"
      },
      "source": [
        "## Generate Text From The Pretrained Model\n",
        "\n",
        "If you want to generate text from the pretrained model, not a finetuned model, pass `model_name` to `gpt2.load_gpt2()` and `gpt2.generate()`.\n",
        "\n",
        "This is currently the only way to generate text from the 774M or 1558M models with this notebook."
      ]
    },
    {
      "cell_type": "code",
      "metadata": {
        "id": "hsUd_jHgUZnD",
        "colab": {
          "base_uri": "https://localhost:8080/",
          "height": 158
        },
        "outputId": "4e0c8a3f-3527-41c4-e3fe-3357f3f8f6c2"
      },
      "source": [
        "model_name = \"774M\"\n",
        "\n",
        "gpt2.download_gpt2(model_name=model_name)"
      ],
      "execution_count": null,
      "outputs": [
        {
          "output_type": "stream",
          "text": [
            "Fetching checkpoint: 1.05Mit [00:00, 354Mit/s]                                                      \n",
            "Fetching encoder.json: 1.05Mit [00:00, 131Mit/s]                                                    \n",
            "Fetching hparams.json: 1.05Mit [00:00, 279Mit/s]                                                    \n",
            "Fetching model.ckpt.data-00000-of-00001: 3.10Git [00:23, 131Mit/s]                                  \n",
            "Fetching model.ckpt.index: 1.05Mit [00:00, 380Mit/s]                                                \n",
            "Fetching model.ckpt.meta: 2.10Mit [00:00, 226Mit/s]                                                 \n",
            "Fetching vocab.bpe: 1.05Mit [00:00, 199Mit/s]                                                       \n"
          ],
          "name": "stderr"
        }
      ]
    },
    {
      "cell_type": "code",
      "metadata": {
        "id": "BAe4NpKNUj2C",
        "colab": {
          "base_uri": "https://localhost:8080/",
          "height": 124
        },
        "outputId": "b09bfe1d-2ff8-4b8a-fffb-273d28d5d4ae"
      },
      "source": [
        "sess = gpt2.start_tf_sess()\n",
        "\n",
        "gpt2.load_gpt2(sess, model_name=model_name)"
      ],
      "execution_count": null,
      "outputs": [
        {
          "output_type": "stream",
          "text": [
            "WARNING: Logging before flag parsing goes to stderr.\n",
            "W0828 18:37:58.571830 139905369159552 deprecation.py:323] From /usr/local/lib/python3.6/dist-packages/tensorflow/python/training/saver.py:1276: checkpoint_exists (from tensorflow.python.training.checkpoint_management) is deprecated and will be removed in a future version.\n",
            "Instructions for updating:\n",
            "Use standard file APIs to check for files with this prefix.\n"
          ],
          "name": "stderr"
        },
        {
          "output_type": "stream",
          "text": [
            "Loading pretrained model models/774M/model.ckpt\n"
          ],
          "name": "stdout"
        }
      ]
    },
    {
      "cell_type": "code",
      "metadata": {
        "id": "-xInIZKaU104",
        "colab": {
          "base_uri": "https://localhost:8080/",
          "height": 797
        },
        "outputId": "56348e28-7d08-45e3-c859-f26c0efd066d"
      },
      "source": [
        "gpt2.generate(sess,\n",
        "              model_name=model_name,\n",
        "              prefix=\"The secret of life is\",\n",
        "              length=100,\n",
        "              temperature=0.7,\n",
        "              top_p=0.9,\n",
        "              nsamples=5,\n",
        "              batch_size=5\n",
        "              )"
      ],
      "execution_count": null,
      "outputs": [
        {
          "output_type": "stream",
          "text": [
            "The secret of life is that it's really easy to make it complicated,\" said Bill Nye, the host of the popular science show \"Bill Nye the Science Guy.\" \"And this is one of the reasons why we all need to be smarter about science, because we can't keep up with the amazing things that are going on all the time.\"\n",
            "\n",
            "While Nye is correct that \"everything that's going on all the time\" is making the world a better place, he misses the point. This is not\n",
            "====================\n",
            "The secret of life is in the rhythm of the universe. It's not a mystery. It's not a mystery to me. It's the nature of the universe. It's the beauty of the universe. It's the way the universe works. It's the way the universe is. It's the way the universe is going to work. It's the way the universe is. It's the way the universe is. It's the way the universe is. It's the way the universe is. It's the way\n",
            "====================\n",
            "The secret of life is in the universe.\n",
            "\n",
            "\n",
            "-\n",
            "\n",
            "The Red Devil\n",
            "\n",
            "It's the end of the world as we know it, and the only thing that can save us is a band of super-powered individuals known as the Red Devil.\n",
            "\n",
            "\n",
            "The Red Devil is a group of super-powered individuals who are seeking the secret of life and the only way they know how to do it is by taking on the roles of a variety of different super-powered individuals, each of which has their own\n",
            "====================\n",
            "The secret of life is in the mixing of the elements, and it is the mixing of the elements that makes life possible.\"\n",
            "\n",
            "But in the world of food science, the idea of a \"complex\" or \"complexity\" is almost entirely imaginary.\n",
            "\n",
            "As a scientist, I'm fascinated by the question of how life first began.\n",
            "\n",
            "It's the question that drives my work and the work of the scientists who work on it.\n",
            "\n",
            "My current research is exploring how microbes work in the first moments\n",
            "====================\n",
            "The secret of life is the journey of life, the search for the truth.\n",
            "\n",
            "4.4.2. The last thing you know\n",
            "\n",
            "There is nothing more important than the last thing you know.\n",
            "\n",
            "4.4.3. The little things that make all the difference\n",
            "\n",
            "The little things that make all the difference.\n",
            "\n",
            "4.4.4. The truth is the best teacher\n",
            "\n",
            "The truth is the best teacher.\n",
            "\n",
            "4.4.5. The truth is what\n",
            "====================\n"
          ],
          "name": "stdout"
        }
      ]
    },
    {
      "cell_type": "markdown",
      "metadata": {
        "id": "ig-KVgkCDCKD"
      },
      "source": [
        "# Etcetera\n",
        "\n",
        "If the notebook has errors (e.g. GPU Sync Fail), force-kill the Colaboratory virtual machine and restart it with the command below:"
      ]
    },
    {
      "cell_type": "code",
      "metadata": {
        "id": "rIHiVP53FnsX"
      },
      "source": [
        "!kill -9 -1"
      ],
      "execution_count": null,
      "outputs": []
    },
    {
      "cell_type": "markdown",
      "metadata": {
        "id": "wmTXWNUygS5E"
      },
      "source": [
        "# LICENSE\n",
        "\n",
        "MIT License\n",
        "\n",
        "Copyright (c) 2019 Max Woolf\n",
        "\n",
        "Permission is hereby granted, free of charge, to any person obtaining a copy\n",
        "of this software and associated documentation files (the \"Software\"), to deal\n",
        "in the Software without restriction, including without limitation the rights\n",
        "to use, copy, modify, merge, publish, distribute, sublicense, and/or sell\n",
        "copies of the Software, and to permit persons to whom the Software is\n",
        "furnished to do so, subject to the following conditions:\n",
        "\n",
        "The above copyright notice and this permission notice shall be included in all\n",
        "copies or substantial portions of the Software.\n",
        "\n",
        "THE SOFTWARE IS PROVIDED \"AS IS\", WITHOUT WARRANTY OF ANY KIND, EXPRESS OR\n",
        "IMPLIED, INCLUDING BUT NOT LIMITED TO THE WARRANTIES OF MERCHANTABILITY,\n",
        "FITNESS FOR A PARTICULAR PURPOSE AND NONINFRINGEMENT. IN NO EVENT SHALL THE\n",
        "AUTHORS OR COPYRIGHT HOLDERS BE LIABLE FOR ANY CLAIM, DAMAGES OR OTHER\n",
        "LIABILITY, WHETHER IN AN ACTION OF CONTRACT, TORT OR OTHERWISE, ARISING FROM,\n",
        "OUT OF OR IN CONNECTION WITH THE SOFTWARE OR THE USE OR OTHER DEALINGS IN THE\n",
        "SOFTWARE."
      ]
    }
  ]
}