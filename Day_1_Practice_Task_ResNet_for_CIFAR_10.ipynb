{
  "nbformat": 4,
  "nbformat_minor": 0,
  "metadata": {
    "accelerator": "GPU",
    "colab": {
      "name": "Day-1-Practice_Task_ResNet-for-CIFAR-10.ipynb",
      "provenance": [],
      "collapsed_sections": [],
      "toc_visible": true,
      "include_colab_link": true
    },
    "kernelspec": {
      "display_name": "Python 3",
      "name": "python3"
    },
    "widgets": {
      "application/vnd.jupyter.widget-state+json": {
        "fe11c8d4beee434ebace7b16e39d0f57": {
          "model_module": "@jupyter-widgets/controls",
          "model_name": "HBoxModel",
          "state": {
            "_view_name": "HBoxView",
            "_dom_classes": [],
            "_model_name": "HBoxModel",
            "_view_module": "@jupyter-widgets/controls",
            "_model_module_version": "1.5.0",
            "_view_count": null,
            "_view_module_version": "1.5.0",
            "box_style": "",
            "layout": "IPY_MODEL_41d117c2f59c401ebafdcdb29dfc5d8a",
            "_model_module": "@jupyter-widgets/controls",
            "children": [
              "IPY_MODEL_9b3e8b1dc2b0437cbdfdd29f0d7031da",
              "IPY_MODEL_e8fef339173345d6ac2d30a16ff14409"
            ]
          }
        },
        "41d117c2f59c401ebafdcdb29dfc5d8a": {
          "model_module": "@jupyter-widgets/base",
          "model_name": "LayoutModel",
          "state": {
            "_view_name": "LayoutView",
            "grid_template_rows": null,
            "right": null,
            "justify_content": null,
            "_view_module": "@jupyter-widgets/base",
            "overflow": null,
            "_model_module_version": "1.2.0",
            "_view_count": null,
            "flex_flow": null,
            "width": null,
            "min_width": null,
            "border": null,
            "align_items": null,
            "bottom": null,
            "_model_module": "@jupyter-widgets/base",
            "top": null,
            "grid_column": null,
            "overflow_y": null,
            "overflow_x": null,
            "grid_auto_flow": null,
            "grid_area": null,
            "grid_template_columns": null,
            "flex": null,
            "_model_name": "LayoutModel",
            "justify_items": null,
            "grid_row": null,
            "max_height": null,
            "align_content": null,
            "visibility": null,
            "align_self": null,
            "height": null,
            "min_height": null,
            "padding": null,
            "grid_auto_rows": null,
            "grid_gap": null,
            "max_width": null,
            "order": null,
            "_view_module_version": "1.2.0",
            "grid_template_areas": null,
            "object_position": null,
            "object_fit": null,
            "grid_auto_columns": null,
            "margin": null,
            "display": null,
            "left": null
          }
        },
        "9b3e8b1dc2b0437cbdfdd29f0d7031da": {
          "model_module": "@jupyter-widgets/controls",
          "model_name": "FloatProgressModel",
          "state": {
            "_view_name": "ProgressView",
            "style": "IPY_MODEL_0e0c39027cdc417db029e22dbcec9fad",
            "_dom_classes": [],
            "description": "Dl Completed...: 100%",
            "_model_name": "FloatProgressModel",
            "bar_style": "success",
            "max": 1,
            "_view_module": "@jupyter-widgets/controls",
            "_model_module_version": "1.5.0",
            "value": 1,
            "_view_count": null,
            "_view_module_version": "1.5.0",
            "orientation": "horizontal",
            "min": 0,
            "description_tooltip": null,
            "_model_module": "@jupyter-widgets/controls",
            "layout": "IPY_MODEL_a01894bf035a46ea888e35e94e3c60f5"
          }
        },
        "e8fef339173345d6ac2d30a16ff14409": {
          "model_module": "@jupyter-widgets/controls",
          "model_name": "HTMLModel",
          "state": {
            "_view_name": "HTMLView",
            "style": "IPY_MODEL_82a24a8f881346a89f18f9393cfe006e",
            "_dom_classes": [],
            "description": "",
            "_model_name": "HTMLModel",
            "placeholder": "​",
            "_view_module": "@jupyter-widgets/controls",
            "_model_module_version": "1.5.0",
            "value": " 1/1 [00:06&lt;00:00,  6.61s/ url]",
            "_view_count": null,
            "_view_module_version": "1.5.0",
            "description_tooltip": null,
            "_model_module": "@jupyter-widgets/controls",
            "layout": "IPY_MODEL_16a4cbedde564642aecfd5f1f59615eb"
          }
        },
        "0e0c39027cdc417db029e22dbcec9fad": {
          "model_module": "@jupyter-widgets/controls",
          "model_name": "ProgressStyleModel",
          "state": {
            "_view_name": "StyleView",
            "_model_name": "ProgressStyleModel",
            "description_width": "initial",
            "_view_module": "@jupyter-widgets/base",
            "_model_module_version": "1.5.0",
            "_view_count": null,
            "_view_module_version": "1.2.0",
            "bar_color": null,
            "_model_module": "@jupyter-widgets/controls"
          }
        },
        "a01894bf035a46ea888e35e94e3c60f5": {
          "model_module": "@jupyter-widgets/base",
          "model_name": "LayoutModel",
          "state": {
            "_view_name": "LayoutView",
            "grid_template_rows": null,
            "right": null,
            "justify_content": null,
            "_view_module": "@jupyter-widgets/base",
            "overflow": null,
            "_model_module_version": "1.2.0",
            "_view_count": null,
            "flex_flow": null,
            "width": null,
            "min_width": null,
            "border": null,
            "align_items": null,
            "bottom": null,
            "_model_module": "@jupyter-widgets/base",
            "top": null,
            "grid_column": null,
            "overflow_y": null,
            "overflow_x": null,
            "grid_auto_flow": null,
            "grid_area": null,
            "grid_template_columns": null,
            "flex": null,
            "_model_name": "LayoutModel",
            "justify_items": null,
            "grid_row": null,
            "max_height": null,
            "align_content": null,
            "visibility": null,
            "align_self": null,
            "height": null,
            "min_height": null,
            "padding": null,
            "grid_auto_rows": null,
            "grid_gap": null,
            "max_width": null,
            "order": null,
            "_view_module_version": "1.2.0",
            "grid_template_areas": null,
            "object_position": null,
            "object_fit": null,
            "grid_auto_columns": null,
            "margin": null,
            "display": null,
            "left": null
          }
        },
        "82a24a8f881346a89f18f9393cfe006e": {
          "model_module": "@jupyter-widgets/controls",
          "model_name": "DescriptionStyleModel",
          "state": {
            "_view_name": "StyleView",
            "_model_name": "DescriptionStyleModel",
            "description_width": "",
            "_view_module": "@jupyter-widgets/base",
            "_model_module_version": "1.5.0",
            "_view_count": null,
            "_view_module_version": "1.2.0",
            "_model_module": "@jupyter-widgets/controls"
          }
        },
        "16a4cbedde564642aecfd5f1f59615eb": {
          "model_module": "@jupyter-widgets/base",
          "model_name": "LayoutModel",
          "state": {
            "_view_name": "LayoutView",
            "grid_template_rows": null,
            "right": null,
            "justify_content": null,
            "_view_module": "@jupyter-widgets/base",
            "overflow": null,
            "_model_module_version": "1.2.0",
            "_view_count": null,
            "flex_flow": null,
            "width": null,
            "min_width": null,
            "border": null,
            "align_items": null,
            "bottom": null,
            "_model_module": "@jupyter-widgets/base",
            "top": null,
            "grid_column": null,
            "overflow_y": null,
            "overflow_x": null,
            "grid_auto_flow": null,
            "grid_area": null,
            "grid_template_columns": null,
            "flex": null,
            "_model_name": "LayoutModel",
            "justify_items": null,
            "grid_row": null,
            "max_height": null,
            "align_content": null,
            "visibility": null,
            "align_self": null,
            "height": null,
            "min_height": null,
            "padding": null,
            "grid_auto_rows": null,
            "grid_gap": null,
            "max_width": null,
            "order": null,
            "_view_module_version": "1.2.0",
            "grid_template_areas": null,
            "object_position": null,
            "object_fit": null,
            "grid_auto_columns": null,
            "margin": null,
            "display": null,
            "left": null
          }
        },
        "886f469c0fd642f283ff5383c9b2db94": {
          "model_module": "@jupyter-widgets/controls",
          "model_name": "HBoxModel",
          "state": {
            "_view_name": "HBoxView",
            "_dom_classes": [],
            "_model_name": "HBoxModel",
            "_view_module": "@jupyter-widgets/controls",
            "_model_module_version": "1.5.0",
            "_view_count": null,
            "_view_module_version": "1.5.0",
            "box_style": "",
            "layout": "IPY_MODEL_83b5540a37b74209bddb486f068a3236",
            "_model_module": "@jupyter-widgets/controls",
            "children": [
              "IPY_MODEL_cea2f782068c4352ad3c7dbff3bc4c02",
              "IPY_MODEL_c695694751b2486685fd1e2fb7db352d"
            ]
          }
        },
        "83b5540a37b74209bddb486f068a3236": {
          "model_module": "@jupyter-widgets/base",
          "model_name": "LayoutModel",
          "state": {
            "_view_name": "LayoutView",
            "grid_template_rows": null,
            "right": null,
            "justify_content": null,
            "_view_module": "@jupyter-widgets/base",
            "overflow": null,
            "_model_module_version": "1.2.0",
            "_view_count": null,
            "flex_flow": null,
            "width": null,
            "min_width": null,
            "border": null,
            "align_items": null,
            "bottom": null,
            "_model_module": "@jupyter-widgets/base",
            "top": null,
            "grid_column": null,
            "overflow_y": null,
            "overflow_x": null,
            "grid_auto_flow": null,
            "grid_area": null,
            "grid_template_columns": null,
            "flex": null,
            "_model_name": "LayoutModel",
            "justify_items": null,
            "grid_row": null,
            "max_height": null,
            "align_content": null,
            "visibility": null,
            "align_self": null,
            "height": null,
            "min_height": null,
            "padding": null,
            "grid_auto_rows": null,
            "grid_gap": null,
            "max_width": null,
            "order": null,
            "_view_module_version": "1.2.0",
            "grid_template_areas": null,
            "object_position": null,
            "object_fit": null,
            "grid_auto_columns": null,
            "margin": null,
            "display": null,
            "left": null
          }
        },
        "cea2f782068c4352ad3c7dbff3bc4c02": {
          "model_module": "@jupyter-widgets/controls",
          "model_name": "FloatProgressModel",
          "state": {
            "_view_name": "ProgressView",
            "style": "IPY_MODEL_d8d37b7d19204c62be617778f83737f8",
            "_dom_classes": [],
            "description": "Dl Size...: 100%",
            "_model_name": "FloatProgressModel",
            "bar_style": "success",
            "max": 1,
            "_view_module": "@jupyter-widgets/controls",
            "_model_module_version": "1.5.0",
            "value": 1,
            "_view_count": null,
            "_view_module_version": "1.5.0",
            "orientation": "horizontal",
            "min": 0,
            "description_tooltip": null,
            "_model_module": "@jupyter-widgets/controls",
            "layout": "IPY_MODEL_f1f9e21d4d324f07b5b7a95c002150bf"
          }
        },
        "c695694751b2486685fd1e2fb7db352d": {
          "model_module": "@jupyter-widgets/controls",
          "model_name": "HTMLModel",
          "state": {
            "_view_name": "HTMLView",
            "style": "IPY_MODEL_a988fb8d24084dd399f156ead0fb5661",
            "_dom_classes": [],
            "description": "",
            "_model_name": "HTMLModel",
            "placeholder": "​",
            "_view_module": "@jupyter-widgets/controls",
            "_model_module_version": "1.5.0",
            "value": " 162/162 [00:06&lt;00:00, 24.64 MiB/s]",
            "_view_count": null,
            "_view_module_version": "1.5.0",
            "description_tooltip": null,
            "_model_module": "@jupyter-widgets/controls",
            "layout": "IPY_MODEL_6c2050c393b54ddb9fa466b8e849a927"
          }
        },
        "d8d37b7d19204c62be617778f83737f8": {
          "model_module": "@jupyter-widgets/controls",
          "model_name": "ProgressStyleModel",
          "state": {
            "_view_name": "StyleView",
            "_model_name": "ProgressStyleModel",
            "description_width": "initial",
            "_view_module": "@jupyter-widgets/base",
            "_model_module_version": "1.5.0",
            "_view_count": null,
            "_view_module_version": "1.2.0",
            "bar_color": null,
            "_model_module": "@jupyter-widgets/controls"
          }
        },
        "f1f9e21d4d324f07b5b7a95c002150bf": {
          "model_module": "@jupyter-widgets/base",
          "model_name": "LayoutModel",
          "state": {
            "_view_name": "LayoutView",
            "grid_template_rows": null,
            "right": null,
            "justify_content": null,
            "_view_module": "@jupyter-widgets/base",
            "overflow": null,
            "_model_module_version": "1.2.0",
            "_view_count": null,
            "flex_flow": null,
            "width": null,
            "min_width": null,
            "border": null,
            "align_items": null,
            "bottom": null,
            "_model_module": "@jupyter-widgets/base",
            "top": null,
            "grid_column": null,
            "overflow_y": null,
            "overflow_x": null,
            "grid_auto_flow": null,
            "grid_area": null,
            "grid_template_columns": null,
            "flex": null,
            "_model_name": "LayoutModel",
            "justify_items": null,
            "grid_row": null,
            "max_height": null,
            "align_content": null,
            "visibility": null,
            "align_self": null,
            "height": null,
            "min_height": null,
            "padding": null,
            "grid_auto_rows": null,
            "grid_gap": null,
            "max_width": null,
            "order": null,
            "_view_module_version": "1.2.0",
            "grid_template_areas": null,
            "object_position": null,
            "object_fit": null,
            "grid_auto_columns": null,
            "margin": null,
            "display": null,
            "left": null
          }
        },
        "a988fb8d24084dd399f156ead0fb5661": {
          "model_module": "@jupyter-widgets/controls",
          "model_name": "DescriptionStyleModel",
          "state": {
            "_view_name": "StyleView",
            "_model_name": "DescriptionStyleModel",
            "description_width": "",
            "_view_module": "@jupyter-widgets/base",
            "_model_module_version": "1.5.0",
            "_view_count": null,
            "_view_module_version": "1.2.0",
            "_model_module": "@jupyter-widgets/controls"
          }
        },
        "6c2050c393b54ddb9fa466b8e849a927": {
          "model_module": "@jupyter-widgets/base",
          "model_name": "LayoutModel",
          "state": {
            "_view_name": "LayoutView",
            "grid_template_rows": null,
            "right": null,
            "justify_content": null,
            "_view_module": "@jupyter-widgets/base",
            "overflow": null,
            "_model_module_version": "1.2.0",
            "_view_count": null,
            "flex_flow": null,
            "width": null,
            "min_width": null,
            "border": null,
            "align_items": null,
            "bottom": null,
            "_model_module": "@jupyter-widgets/base",
            "top": null,
            "grid_column": null,
            "overflow_y": null,
            "overflow_x": null,
            "grid_auto_flow": null,
            "grid_area": null,
            "grid_template_columns": null,
            "flex": null,
            "_model_name": "LayoutModel",
            "justify_items": null,
            "grid_row": null,
            "max_height": null,
            "align_content": null,
            "visibility": null,
            "align_self": null,
            "height": null,
            "min_height": null,
            "padding": null,
            "grid_auto_rows": null,
            "grid_gap": null,
            "max_width": null,
            "order": null,
            "_view_module_version": "1.2.0",
            "grid_template_areas": null,
            "object_position": null,
            "object_fit": null,
            "grid_auto_columns": null,
            "margin": null,
            "display": null,
            "left": null
          }
        },
        "1fa2304086c349fd978b6c8f2efe09db": {
          "model_module": "@jupyter-widgets/controls",
          "model_name": "HBoxModel",
          "state": {
            "_view_name": "HBoxView",
            "_dom_classes": [],
            "_model_name": "HBoxModel",
            "_view_module": "@jupyter-widgets/controls",
            "_model_module_version": "1.5.0",
            "_view_count": null,
            "_view_module_version": "1.5.0",
            "box_style": "",
            "layout": "IPY_MODEL_94092525cb334133ab0139432f1b8fbf",
            "_model_module": "@jupyter-widgets/controls",
            "children": [
              "IPY_MODEL_73113eed138444f39266b8fef4efc0e2",
              "IPY_MODEL_5d602fc3c6714ce48cd22753cbfa65c4"
            ]
          }
        },
        "94092525cb334133ab0139432f1b8fbf": {
          "model_module": "@jupyter-widgets/base",
          "model_name": "LayoutModel",
          "state": {
            "_view_name": "LayoutView",
            "grid_template_rows": null,
            "right": null,
            "justify_content": null,
            "_view_module": "@jupyter-widgets/base",
            "overflow": null,
            "_model_module_version": "1.2.0",
            "_view_count": null,
            "flex_flow": null,
            "width": null,
            "min_width": null,
            "border": null,
            "align_items": null,
            "bottom": null,
            "_model_module": "@jupyter-widgets/base",
            "top": null,
            "grid_column": null,
            "overflow_y": null,
            "overflow_x": null,
            "grid_auto_flow": null,
            "grid_area": null,
            "grid_template_columns": null,
            "flex": null,
            "_model_name": "LayoutModel",
            "justify_items": null,
            "grid_row": null,
            "max_height": null,
            "align_content": null,
            "visibility": null,
            "align_self": null,
            "height": null,
            "min_height": null,
            "padding": null,
            "grid_auto_rows": null,
            "grid_gap": null,
            "max_width": null,
            "order": null,
            "_view_module_version": "1.2.0",
            "grid_template_areas": null,
            "object_position": null,
            "object_fit": null,
            "grid_auto_columns": null,
            "margin": null,
            "display": null,
            "left": null
          }
        },
        "73113eed138444f39266b8fef4efc0e2": {
          "model_module": "@jupyter-widgets/controls",
          "model_name": "FloatProgressModel",
          "state": {
            "_view_name": "ProgressView",
            "style": "IPY_MODEL_e4a0699e1a404b57ad94455d744e16ce",
            "_dom_classes": [],
            "description": "Extraction completed...: 100%",
            "_model_name": "FloatProgressModel",
            "bar_style": "success",
            "max": 1,
            "_view_module": "@jupyter-widgets/controls",
            "_model_module_version": "1.5.0",
            "value": 1,
            "_view_count": null,
            "_view_module_version": "1.5.0",
            "orientation": "horizontal",
            "min": 0,
            "description_tooltip": null,
            "_model_module": "@jupyter-widgets/controls",
            "layout": "IPY_MODEL_23992776f5014ef4ae0ca37ed56d8c8b"
          }
        },
        "5d602fc3c6714ce48cd22753cbfa65c4": {
          "model_module": "@jupyter-widgets/controls",
          "model_name": "HTMLModel",
          "state": {
            "_view_name": "HTMLView",
            "style": "IPY_MODEL_c869ddcb3d6748eb845200089dca01c7",
            "_dom_classes": [],
            "description": "",
            "_model_name": "HTMLModel",
            "placeholder": "​",
            "_view_module": "@jupyter-widgets/controls",
            "_model_module_version": "1.5.0",
            "value": " 1/1 [00:06&lt;00:00,  6.54s/ file]",
            "_view_count": null,
            "_view_module_version": "1.5.0",
            "description_tooltip": null,
            "_model_module": "@jupyter-widgets/controls",
            "layout": "IPY_MODEL_e6330d796aa44d7b9fd84353a329c2aa"
          }
        },
        "e4a0699e1a404b57ad94455d744e16ce": {
          "model_module": "@jupyter-widgets/controls",
          "model_name": "ProgressStyleModel",
          "state": {
            "_view_name": "StyleView",
            "_model_name": "ProgressStyleModel",
            "description_width": "initial",
            "_view_module": "@jupyter-widgets/base",
            "_model_module_version": "1.5.0",
            "_view_count": null,
            "_view_module_version": "1.2.0",
            "bar_color": null,
            "_model_module": "@jupyter-widgets/controls"
          }
        },
        "23992776f5014ef4ae0ca37ed56d8c8b": {
          "model_module": "@jupyter-widgets/base",
          "model_name": "LayoutModel",
          "state": {
            "_view_name": "LayoutView",
            "grid_template_rows": null,
            "right": null,
            "justify_content": null,
            "_view_module": "@jupyter-widgets/base",
            "overflow": null,
            "_model_module_version": "1.2.0",
            "_view_count": null,
            "flex_flow": null,
            "width": null,
            "min_width": null,
            "border": null,
            "align_items": null,
            "bottom": null,
            "_model_module": "@jupyter-widgets/base",
            "top": null,
            "grid_column": null,
            "overflow_y": null,
            "overflow_x": null,
            "grid_auto_flow": null,
            "grid_area": null,
            "grid_template_columns": null,
            "flex": null,
            "_model_name": "LayoutModel",
            "justify_items": null,
            "grid_row": null,
            "max_height": null,
            "align_content": null,
            "visibility": null,
            "align_self": null,
            "height": null,
            "min_height": null,
            "padding": null,
            "grid_auto_rows": null,
            "grid_gap": null,
            "max_width": null,
            "order": null,
            "_view_module_version": "1.2.0",
            "grid_template_areas": null,
            "object_position": null,
            "object_fit": null,
            "grid_auto_columns": null,
            "margin": null,
            "display": null,
            "left": null
          }
        },
        "c869ddcb3d6748eb845200089dca01c7": {
          "model_module": "@jupyter-widgets/controls",
          "model_name": "DescriptionStyleModel",
          "state": {
            "_view_name": "StyleView",
            "_model_name": "DescriptionStyleModel",
            "description_width": "",
            "_view_module": "@jupyter-widgets/base",
            "_model_module_version": "1.5.0",
            "_view_count": null,
            "_view_module_version": "1.2.0",
            "_model_module": "@jupyter-widgets/controls"
          }
        },
        "e6330d796aa44d7b9fd84353a329c2aa": {
          "model_module": "@jupyter-widgets/base",
          "model_name": "LayoutModel",
          "state": {
            "_view_name": "LayoutView",
            "grid_template_rows": null,
            "right": null,
            "justify_content": null,
            "_view_module": "@jupyter-widgets/base",
            "overflow": null,
            "_model_module_version": "1.2.0",
            "_view_count": null,
            "flex_flow": null,
            "width": null,
            "min_width": null,
            "border": null,
            "align_items": null,
            "bottom": null,
            "_model_module": "@jupyter-widgets/base",
            "top": null,
            "grid_column": null,
            "overflow_y": null,
            "overflow_x": null,
            "grid_auto_flow": null,
            "grid_area": null,
            "grid_template_columns": null,
            "flex": null,
            "_model_name": "LayoutModel",
            "justify_items": null,
            "grid_row": null,
            "max_height": null,
            "align_content": null,
            "visibility": null,
            "align_self": null,
            "height": null,
            "min_height": null,
            "padding": null,
            "grid_auto_rows": null,
            "grid_gap": null,
            "max_width": null,
            "order": null,
            "_view_module_version": "1.2.0",
            "grid_template_areas": null,
            "object_position": null,
            "object_fit": null,
            "grid_auto_columns": null,
            "margin": null,
            "display": null,
            "left": null
          }
        },
        "d50559b59e7b4c66a9de4b6118e26710": {
          "model_module": "@jupyter-widgets/controls",
          "model_name": "HBoxModel",
          "state": {
            "_view_name": "HBoxView",
            "_dom_classes": [],
            "_model_name": "HBoxModel",
            "_view_module": "@jupyter-widgets/controls",
            "_model_module_version": "1.5.0",
            "_view_count": null,
            "_view_module_version": "1.5.0",
            "box_style": "",
            "layout": "IPY_MODEL_9888f2587d954ba787bc2583a8089814",
            "_model_module": "@jupyter-widgets/controls",
            "children": [
              "IPY_MODEL_1668824cb6374c2398283d2a8008567e",
              "IPY_MODEL_01f4566a5b8f45109aad8f71edbb600d"
            ]
          }
        },
        "9888f2587d954ba787bc2583a8089814": {
          "model_module": "@jupyter-widgets/base",
          "model_name": "LayoutModel",
          "state": {
            "_view_name": "LayoutView",
            "grid_template_rows": null,
            "right": null,
            "justify_content": null,
            "_view_module": "@jupyter-widgets/base",
            "overflow": null,
            "_model_module_version": "1.2.0",
            "_view_count": null,
            "flex_flow": null,
            "width": null,
            "min_width": null,
            "border": null,
            "align_items": null,
            "bottom": null,
            "_model_module": "@jupyter-widgets/base",
            "top": null,
            "grid_column": null,
            "overflow_y": null,
            "overflow_x": null,
            "grid_auto_flow": null,
            "grid_area": null,
            "grid_template_columns": null,
            "flex": null,
            "_model_name": "LayoutModel",
            "justify_items": null,
            "grid_row": null,
            "max_height": null,
            "align_content": null,
            "visibility": null,
            "align_self": null,
            "height": null,
            "min_height": null,
            "padding": null,
            "grid_auto_rows": null,
            "grid_gap": null,
            "max_width": null,
            "order": null,
            "_view_module_version": "1.2.0",
            "grid_template_areas": null,
            "object_position": null,
            "object_fit": null,
            "grid_auto_columns": null,
            "margin": null,
            "display": null,
            "left": null
          }
        },
        "1668824cb6374c2398283d2a8008567e": {
          "model_module": "@jupyter-widgets/controls",
          "model_name": "FloatProgressModel",
          "state": {
            "_view_name": "ProgressView",
            "style": "IPY_MODEL_631132d7f0304a03a61ccbb099090b45",
            "_dom_classes": [],
            "description": "",
            "_model_name": "FloatProgressModel",
            "bar_style": "info",
            "max": 1,
            "_view_module": "@jupyter-widgets/controls",
            "_model_module_version": "1.5.0",
            "value": 1,
            "_view_count": null,
            "_view_module_version": "1.5.0",
            "orientation": "horizontal",
            "min": 0,
            "description_tooltip": null,
            "_model_module": "@jupyter-widgets/controls",
            "layout": "IPY_MODEL_0d7ec9a137f44854a062abe3b14ef799"
          }
        },
        "01f4566a5b8f45109aad8f71edbb600d": {
          "model_module": "@jupyter-widgets/controls",
          "model_name": "HTMLModel",
          "state": {
            "_view_name": "HTMLView",
            "style": "IPY_MODEL_0ef0dcd1f8d84c56b71769aa1b7d1f3d",
            "_dom_classes": [],
            "description": "",
            "_model_name": "HTMLModel",
            "placeholder": "​",
            "_view_module": "@jupyter-widgets/controls",
            "_model_module_version": "1.5.0",
            "value": " 50000/0 [00:34&lt;00:00, 1727.19 examples/s]",
            "_view_count": null,
            "_view_module_version": "1.5.0",
            "description_tooltip": null,
            "_model_module": "@jupyter-widgets/controls",
            "layout": "IPY_MODEL_2cc71bde04ba41be86d2679cd530a1a0"
          }
        },
        "631132d7f0304a03a61ccbb099090b45": {
          "model_module": "@jupyter-widgets/controls",
          "model_name": "ProgressStyleModel",
          "state": {
            "_view_name": "StyleView",
            "_model_name": "ProgressStyleModel",
            "description_width": "initial",
            "_view_module": "@jupyter-widgets/base",
            "_model_module_version": "1.5.0",
            "_view_count": null,
            "_view_module_version": "1.2.0",
            "bar_color": null,
            "_model_module": "@jupyter-widgets/controls"
          }
        },
        "0d7ec9a137f44854a062abe3b14ef799": {
          "model_module": "@jupyter-widgets/base",
          "model_name": "LayoutModel",
          "state": {
            "_view_name": "LayoutView",
            "grid_template_rows": null,
            "right": null,
            "justify_content": null,
            "_view_module": "@jupyter-widgets/base",
            "overflow": null,
            "_model_module_version": "1.2.0",
            "_view_count": null,
            "flex_flow": null,
            "width": null,
            "min_width": null,
            "border": null,
            "align_items": null,
            "bottom": null,
            "_model_module": "@jupyter-widgets/base",
            "top": null,
            "grid_column": null,
            "overflow_y": null,
            "overflow_x": null,
            "grid_auto_flow": null,
            "grid_area": null,
            "grid_template_columns": null,
            "flex": null,
            "_model_name": "LayoutModel",
            "justify_items": null,
            "grid_row": null,
            "max_height": null,
            "align_content": null,
            "visibility": null,
            "align_self": null,
            "height": null,
            "min_height": null,
            "padding": null,
            "grid_auto_rows": null,
            "grid_gap": null,
            "max_width": null,
            "order": null,
            "_view_module_version": "1.2.0",
            "grid_template_areas": null,
            "object_position": null,
            "object_fit": null,
            "grid_auto_columns": null,
            "margin": null,
            "display": null,
            "left": null
          }
        },
        "0ef0dcd1f8d84c56b71769aa1b7d1f3d": {
          "model_module": "@jupyter-widgets/controls",
          "model_name": "DescriptionStyleModel",
          "state": {
            "_view_name": "StyleView",
            "_model_name": "DescriptionStyleModel",
            "description_width": "",
            "_view_module": "@jupyter-widgets/base",
            "_model_module_version": "1.5.0",
            "_view_count": null,
            "_view_module_version": "1.2.0",
            "_model_module": "@jupyter-widgets/controls"
          }
        },
        "2cc71bde04ba41be86d2679cd530a1a0": {
          "model_module": "@jupyter-widgets/base",
          "model_name": "LayoutModel",
          "state": {
            "_view_name": "LayoutView",
            "grid_template_rows": null,
            "right": null,
            "justify_content": null,
            "_view_module": "@jupyter-widgets/base",
            "overflow": null,
            "_model_module_version": "1.2.0",
            "_view_count": null,
            "flex_flow": null,
            "width": null,
            "min_width": null,
            "border": null,
            "align_items": null,
            "bottom": null,
            "_model_module": "@jupyter-widgets/base",
            "top": null,
            "grid_column": null,
            "overflow_y": null,
            "overflow_x": null,
            "grid_auto_flow": null,
            "grid_area": null,
            "grid_template_columns": null,
            "flex": null,
            "_model_name": "LayoutModel",
            "justify_items": null,
            "grid_row": null,
            "max_height": null,
            "align_content": null,
            "visibility": null,
            "align_self": null,
            "height": null,
            "min_height": null,
            "padding": null,
            "grid_auto_rows": null,
            "grid_gap": null,
            "max_width": null,
            "order": null,
            "_view_module_version": "1.2.0",
            "grid_template_areas": null,
            "object_position": null,
            "object_fit": null,
            "grid_auto_columns": null,
            "margin": null,
            "display": null,
            "left": null
          }
        },
        "a06e2dcacaec4545a08af75e1fbef420": {
          "model_module": "@jupyter-widgets/controls",
          "model_name": "HBoxModel",
          "state": {
            "_view_name": "HBoxView",
            "_dom_classes": [],
            "_model_name": "HBoxModel",
            "_view_module": "@jupyter-widgets/controls",
            "_model_module_version": "1.5.0",
            "_view_count": null,
            "_view_module_version": "1.5.0",
            "box_style": "",
            "layout": "IPY_MODEL_659b7234c36d4c58981c9da12e419d7e",
            "_model_module": "@jupyter-widgets/controls",
            "children": [
              "IPY_MODEL_89cebb798c85457196bd9a50fced52dd",
              "IPY_MODEL_a4a93ae18e354e1eb1562888b101918d"
            ]
          }
        },
        "659b7234c36d4c58981c9da12e419d7e": {
          "model_module": "@jupyter-widgets/base",
          "model_name": "LayoutModel",
          "state": {
            "_view_name": "LayoutView",
            "grid_template_rows": null,
            "right": null,
            "justify_content": null,
            "_view_module": "@jupyter-widgets/base",
            "overflow": null,
            "_model_module_version": "1.2.0",
            "_view_count": null,
            "flex_flow": null,
            "width": null,
            "min_width": null,
            "border": null,
            "align_items": null,
            "bottom": null,
            "_model_module": "@jupyter-widgets/base",
            "top": null,
            "grid_column": null,
            "overflow_y": null,
            "overflow_x": null,
            "grid_auto_flow": null,
            "grid_area": null,
            "grid_template_columns": null,
            "flex": null,
            "_model_name": "LayoutModel",
            "justify_items": null,
            "grid_row": null,
            "max_height": null,
            "align_content": null,
            "visibility": null,
            "align_self": null,
            "height": null,
            "min_height": null,
            "padding": null,
            "grid_auto_rows": null,
            "grid_gap": null,
            "max_width": null,
            "order": null,
            "_view_module_version": "1.2.0",
            "grid_template_areas": null,
            "object_position": null,
            "object_fit": null,
            "grid_auto_columns": null,
            "margin": null,
            "display": null,
            "left": null
          }
        },
        "89cebb798c85457196bd9a50fced52dd": {
          "model_module": "@jupyter-widgets/controls",
          "model_name": "FloatProgressModel",
          "state": {
            "_view_name": "ProgressView",
            "style": "IPY_MODEL_ef616a0bbf534c3898f4a5d568783659",
            "_dom_classes": [],
            "description": " 87%",
            "_model_name": "FloatProgressModel",
            "bar_style": "danger",
            "max": 50000,
            "_view_module": "@jupyter-widgets/controls",
            "_model_module_version": "1.5.0",
            "value": 43354,
            "_view_count": null,
            "_view_module_version": "1.5.0",
            "orientation": "horizontal",
            "min": 0,
            "description_tooltip": null,
            "_model_module": "@jupyter-widgets/controls",
            "layout": "IPY_MODEL_e1c758ebe0c4451a91970e2ede28f155"
          }
        },
        "a4a93ae18e354e1eb1562888b101918d": {
          "model_module": "@jupyter-widgets/controls",
          "model_name": "HTMLModel",
          "state": {
            "_view_name": "HTMLView",
            "style": "IPY_MODEL_e4389b37face48e4b7728491eabbb809",
            "_dom_classes": [],
            "description": "",
            "_model_name": "HTMLModel",
            "placeholder": "​",
            "_view_module": "@jupyter-widgets/controls",
            "_model_module_version": "1.5.0",
            "value": " 43354/50000 [00:00&lt;00:00, 87352.54 examples/s]",
            "_view_count": null,
            "_view_module_version": "1.5.0",
            "description_tooltip": null,
            "_model_module": "@jupyter-widgets/controls",
            "layout": "IPY_MODEL_5fbdc53f758045ad91c55cb29368bbec"
          }
        },
        "ef616a0bbf534c3898f4a5d568783659": {
          "model_module": "@jupyter-widgets/controls",
          "model_name": "ProgressStyleModel",
          "state": {
            "_view_name": "StyleView",
            "_model_name": "ProgressStyleModel",
            "description_width": "initial",
            "_view_module": "@jupyter-widgets/base",
            "_model_module_version": "1.5.0",
            "_view_count": null,
            "_view_module_version": "1.2.0",
            "bar_color": null,
            "_model_module": "@jupyter-widgets/controls"
          }
        },
        "e1c758ebe0c4451a91970e2ede28f155": {
          "model_module": "@jupyter-widgets/base",
          "model_name": "LayoutModel",
          "state": {
            "_view_name": "LayoutView",
            "grid_template_rows": null,
            "right": null,
            "justify_content": null,
            "_view_module": "@jupyter-widgets/base",
            "overflow": null,
            "_model_module_version": "1.2.0",
            "_view_count": null,
            "flex_flow": null,
            "width": null,
            "min_width": null,
            "border": null,
            "align_items": null,
            "bottom": null,
            "_model_module": "@jupyter-widgets/base",
            "top": null,
            "grid_column": null,
            "overflow_y": null,
            "overflow_x": null,
            "grid_auto_flow": null,
            "grid_area": null,
            "grid_template_columns": null,
            "flex": null,
            "_model_name": "LayoutModel",
            "justify_items": null,
            "grid_row": null,
            "max_height": null,
            "align_content": null,
            "visibility": null,
            "align_self": null,
            "height": null,
            "min_height": null,
            "padding": null,
            "grid_auto_rows": null,
            "grid_gap": null,
            "max_width": null,
            "order": null,
            "_view_module_version": "1.2.0",
            "grid_template_areas": null,
            "object_position": null,
            "object_fit": null,
            "grid_auto_columns": null,
            "margin": null,
            "display": null,
            "left": null
          }
        },
        "e4389b37face48e4b7728491eabbb809": {
          "model_module": "@jupyter-widgets/controls",
          "model_name": "DescriptionStyleModel",
          "state": {
            "_view_name": "StyleView",
            "_model_name": "DescriptionStyleModel",
            "description_width": "",
            "_view_module": "@jupyter-widgets/base",
            "_model_module_version": "1.5.0",
            "_view_count": null,
            "_view_module_version": "1.2.0",
            "_model_module": "@jupyter-widgets/controls"
          }
        },
        "5fbdc53f758045ad91c55cb29368bbec": {
          "model_module": "@jupyter-widgets/base",
          "model_name": "LayoutModel",
          "state": {
            "_view_name": "LayoutView",
            "grid_template_rows": null,
            "right": null,
            "justify_content": null,
            "_view_module": "@jupyter-widgets/base",
            "overflow": null,
            "_model_module_version": "1.2.0",
            "_view_count": null,
            "flex_flow": null,
            "width": null,
            "min_width": null,
            "border": null,
            "align_items": null,
            "bottom": null,
            "_model_module": "@jupyter-widgets/base",
            "top": null,
            "grid_column": null,
            "overflow_y": null,
            "overflow_x": null,
            "grid_auto_flow": null,
            "grid_area": null,
            "grid_template_columns": null,
            "flex": null,
            "_model_name": "LayoutModel",
            "justify_items": null,
            "grid_row": null,
            "max_height": null,
            "align_content": null,
            "visibility": null,
            "align_self": null,
            "height": null,
            "min_height": null,
            "padding": null,
            "grid_auto_rows": null,
            "grid_gap": null,
            "max_width": null,
            "order": null,
            "_view_module_version": "1.2.0",
            "grid_template_areas": null,
            "object_position": null,
            "object_fit": null,
            "grid_auto_columns": null,
            "margin": null,
            "display": null,
            "left": null
          }
        },
        "2b68ae804a16468c8451542151efbd1e": {
          "model_module": "@jupyter-widgets/controls",
          "model_name": "HBoxModel",
          "state": {
            "_view_name": "HBoxView",
            "_dom_classes": [],
            "_model_name": "HBoxModel",
            "_view_module": "@jupyter-widgets/controls",
            "_model_module_version": "1.5.0",
            "_view_count": null,
            "_view_module_version": "1.5.0",
            "box_style": "",
            "layout": "IPY_MODEL_b83112a2ea2247d4aa83a125ab65621b",
            "_model_module": "@jupyter-widgets/controls",
            "children": [
              "IPY_MODEL_b2b31546b778401fa755ca6a03bb07ce",
              "IPY_MODEL_c254304cfd8742e1b3ec77887d327be5"
            ]
          }
        },
        "b83112a2ea2247d4aa83a125ab65621b": {
          "model_module": "@jupyter-widgets/base",
          "model_name": "LayoutModel",
          "state": {
            "_view_name": "LayoutView",
            "grid_template_rows": null,
            "right": null,
            "justify_content": null,
            "_view_module": "@jupyter-widgets/base",
            "overflow": null,
            "_model_module_version": "1.2.0",
            "_view_count": null,
            "flex_flow": null,
            "width": null,
            "min_width": null,
            "border": null,
            "align_items": null,
            "bottom": null,
            "_model_module": "@jupyter-widgets/base",
            "top": null,
            "grid_column": null,
            "overflow_y": null,
            "overflow_x": null,
            "grid_auto_flow": null,
            "grid_area": null,
            "grid_template_columns": null,
            "flex": null,
            "_model_name": "LayoutModel",
            "justify_items": null,
            "grid_row": null,
            "max_height": null,
            "align_content": null,
            "visibility": null,
            "align_self": null,
            "height": null,
            "min_height": null,
            "padding": null,
            "grid_auto_rows": null,
            "grid_gap": null,
            "max_width": null,
            "order": null,
            "_view_module_version": "1.2.0",
            "grid_template_areas": null,
            "object_position": null,
            "object_fit": null,
            "grid_auto_columns": null,
            "margin": null,
            "display": null,
            "left": null
          }
        },
        "b2b31546b778401fa755ca6a03bb07ce": {
          "model_module": "@jupyter-widgets/controls",
          "model_name": "FloatProgressModel",
          "state": {
            "_view_name": "ProgressView",
            "style": "IPY_MODEL_7fbf7770698d46c9ae63cdc396c51d4b",
            "_dom_classes": [],
            "description": "",
            "_model_name": "FloatProgressModel",
            "bar_style": "info",
            "max": 1,
            "_view_module": "@jupyter-widgets/controls",
            "_model_module_version": "1.5.0",
            "value": 1,
            "_view_count": null,
            "_view_module_version": "1.5.0",
            "orientation": "horizontal",
            "min": 0,
            "description_tooltip": null,
            "_model_module": "@jupyter-widgets/controls",
            "layout": "IPY_MODEL_bdf1b97223dd445fae97d0eebfa51861"
          }
        },
        "c254304cfd8742e1b3ec77887d327be5": {
          "model_module": "@jupyter-widgets/controls",
          "model_name": "HTMLModel",
          "state": {
            "_view_name": "HTMLView",
            "style": "IPY_MODEL_2902a4a0db4d457d9ed61f044940821c",
            "_dom_classes": [],
            "description": "",
            "_model_name": "HTMLModel",
            "placeholder": "​",
            "_view_module": "@jupyter-widgets/controls",
            "_model_module_version": "1.5.0",
            "value": " 10000/0 [00:05&lt;00:00, 1637.22 examples/s]",
            "_view_count": null,
            "_view_module_version": "1.5.0",
            "description_tooltip": null,
            "_model_module": "@jupyter-widgets/controls",
            "layout": "IPY_MODEL_3c0b0dc4f03e45b295f2b7843445bb70"
          }
        },
        "7fbf7770698d46c9ae63cdc396c51d4b": {
          "model_module": "@jupyter-widgets/controls",
          "model_name": "ProgressStyleModel",
          "state": {
            "_view_name": "StyleView",
            "_model_name": "ProgressStyleModel",
            "description_width": "initial",
            "_view_module": "@jupyter-widgets/base",
            "_model_module_version": "1.5.0",
            "_view_count": null,
            "_view_module_version": "1.2.0",
            "bar_color": null,
            "_model_module": "@jupyter-widgets/controls"
          }
        },
        "bdf1b97223dd445fae97d0eebfa51861": {
          "model_module": "@jupyter-widgets/base",
          "model_name": "LayoutModel",
          "state": {
            "_view_name": "LayoutView",
            "grid_template_rows": null,
            "right": null,
            "justify_content": null,
            "_view_module": "@jupyter-widgets/base",
            "overflow": null,
            "_model_module_version": "1.2.0",
            "_view_count": null,
            "flex_flow": null,
            "width": null,
            "min_width": null,
            "border": null,
            "align_items": null,
            "bottom": null,
            "_model_module": "@jupyter-widgets/base",
            "top": null,
            "grid_column": null,
            "overflow_y": null,
            "overflow_x": null,
            "grid_auto_flow": null,
            "grid_area": null,
            "grid_template_columns": null,
            "flex": null,
            "_model_name": "LayoutModel",
            "justify_items": null,
            "grid_row": null,
            "max_height": null,
            "align_content": null,
            "visibility": null,
            "align_self": null,
            "height": null,
            "min_height": null,
            "padding": null,
            "grid_auto_rows": null,
            "grid_gap": null,
            "max_width": null,
            "order": null,
            "_view_module_version": "1.2.0",
            "grid_template_areas": null,
            "object_position": null,
            "object_fit": null,
            "grid_auto_columns": null,
            "margin": null,
            "display": null,
            "left": null
          }
        },
        "2902a4a0db4d457d9ed61f044940821c": {
          "model_module": "@jupyter-widgets/controls",
          "model_name": "DescriptionStyleModel",
          "state": {
            "_view_name": "StyleView",
            "_model_name": "DescriptionStyleModel",
            "description_width": "",
            "_view_module": "@jupyter-widgets/base",
            "_model_module_version": "1.5.0",
            "_view_count": null,
            "_view_module_version": "1.2.0",
            "_model_module": "@jupyter-widgets/controls"
          }
        },
        "3c0b0dc4f03e45b295f2b7843445bb70": {
          "model_module": "@jupyter-widgets/base",
          "model_name": "LayoutModel",
          "state": {
            "_view_name": "LayoutView",
            "grid_template_rows": null,
            "right": null,
            "justify_content": null,
            "_view_module": "@jupyter-widgets/base",
            "overflow": null,
            "_model_module_version": "1.2.0",
            "_view_count": null,
            "flex_flow": null,
            "width": null,
            "min_width": null,
            "border": null,
            "align_items": null,
            "bottom": null,
            "_model_module": "@jupyter-widgets/base",
            "top": null,
            "grid_column": null,
            "overflow_y": null,
            "overflow_x": null,
            "grid_auto_flow": null,
            "grid_area": null,
            "grid_template_columns": null,
            "flex": null,
            "_model_name": "LayoutModel",
            "justify_items": null,
            "grid_row": null,
            "max_height": null,
            "align_content": null,
            "visibility": null,
            "align_self": null,
            "height": null,
            "min_height": null,
            "padding": null,
            "grid_auto_rows": null,
            "grid_gap": null,
            "max_width": null,
            "order": null,
            "_view_module_version": "1.2.0",
            "grid_template_areas": null,
            "object_position": null,
            "object_fit": null,
            "grid_auto_columns": null,
            "margin": null,
            "display": null,
            "left": null
          }
        },
        "cbd7c6dfd2ca4c32a262f24276956eca": {
          "model_module": "@jupyter-widgets/controls",
          "model_name": "HBoxModel",
          "state": {
            "_view_name": "HBoxView",
            "_dom_classes": [],
            "_model_name": "HBoxModel",
            "_view_module": "@jupyter-widgets/controls",
            "_model_module_version": "1.5.0",
            "_view_count": null,
            "_view_module_version": "1.5.0",
            "box_style": "",
            "layout": "IPY_MODEL_ad9a81d5212e401587b841706acb57e6",
            "_model_module": "@jupyter-widgets/controls",
            "children": [
              "IPY_MODEL_3d2d864495574afeb4410dd80f43f7f8",
              "IPY_MODEL_704a99a075ca438dbce9df2dcddc762f"
            ]
          }
        },
        "ad9a81d5212e401587b841706acb57e6": {
          "model_module": "@jupyter-widgets/base",
          "model_name": "LayoutModel",
          "state": {
            "_view_name": "LayoutView",
            "grid_template_rows": null,
            "right": null,
            "justify_content": null,
            "_view_module": "@jupyter-widgets/base",
            "overflow": null,
            "_model_module_version": "1.2.0",
            "_view_count": null,
            "flex_flow": null,
            "width": null,
            "min_width": null,
            "border": null,
            "align_items": null,
            "bottom": null,
            "_model_module": "@jupyter-widgets/base",
            "top": null,
            "grid_column": null,
            "overflow_y": null,
            "overflow_x": null,
            "grid_auto_flow": null,
            "grid_area": null,
            "grid_template_columns": null,
            "flex": null,
            "_model_name": "LayoutModel",
            "justify_items": null,
            "grid_row": null,
            "max_height": null,
            "align_content": null,
            "visibility": null,
            "align_self": null,
            "height": null,
            "min_height": null,
            "padding": null,
            "grid_auto_rows": null,
            "grid_gap": null,
            "max_width": null,
            "order": null,
            "_view_module_version": "1.2.0",
            "grid_template_areas": null,
            "object_position": null,
            "object_fit": null,
            "grid_auto_columns": null,
            "margin": null,
            "display": null,
            "left": null
          }
        },
        "3d2d864495574afeb4410dd80f43f7f8": {
          "model_module": "@jupyter-widgets/controls",
          "model_name": "FloatProgressModel",
          "state": {
            "_view_name": "ProgressView",
            "style": "IPY_MODEL_f0519caaf52f4b84851f7189a281f587",
            "_dom_classes": [],
            "description": "  0%",
            "_model_name": "FloatProgressModel",
            "bar_style": "danger",
            "max": 10000,
            "_view_module": "@jupyter-widgets/controls",
            "_model_module_version": "1.5.0",
            "value": 0,
            "_view_count": null,
            "_view_module_version": "1.5.0",
            "orientation": "horizontal",
            "min": 0,
            "description_tooltip": null,
            "_model_module": "@jupyter-widgets/controls",
            "layout": "IPY_MODEL_bf1a801237844f91a70264b445d6ffd9"
          }
        },
        "704a99a075ca438dbce9df2dcddc762f": {
          "model_module": "@jupyter-widgets/controls",
          "model_name": "HTMLModel",
          "state": {
            "_view_name": "HTMLView",
            "style": "IPY_MODEL_56bf327992c74b03875b9097b912fbc3",
            "_dom_classes": [],
            "description": "",
            "_model_name": "HTMLModel",
            "placeholder": "​",
            "_view_module": "@jupyter-widgets/controls",
            "_model_module_version": "1.5.0",
            "value": " 0/10000 [00:00&lt;?, ? examples/s]",
            "_view_count": null,
            "_view_module_version": "1.5.0",
            "description_tooltip": null,
            "_model_module": "@jupyter-widgets/controls",
            "layout": "IPY_MODEL_6a6dcd63761d4f9bb0b1ab7ac8f955cd"
          }
        },
        "f0519caaf52f4b84851f7189a281f587": {
          "model_module": "@jupyter-widgets/controls",
          "model_name": "ProgressStyleModel",
          "state": {
            "_view_name": "StyleView",
            "_model_name": "ProgressStyleModel",
            "description_width": "initial",
            "_view_module": "@jupyter-widgets/base",
            "_model_module_version": "1.5.0",
            "_view_count": null,
            "_view_module_version": "1.2.0",
            "bar_color": null,
            "_model_module": "@jupyter-widgets/controls"
          }
        },
        "bf1a801237844f91a70264b445d6ffd9": {
          "model_module": "@jupyter-widgets/base",
          "model_name": "LayoutModel",
          "state": {
            "_view_name": "LayoutView",
            "grid_template_rows": null,
            "right": null,
            "justify_content": null,
            "_view_module": "@jupyter-widgets/base",
            "overflow": null,
            "_model_module_version": "1.2.0",
            "_view_count": null,
            "flex_flow": null,
            "width": null,
            "min_width": null,
            "border": null,
            "align_items": null,
            "bottom": null,
            "_model_module": "@jupyter-widgets/base",
            "top": null,
            "grid_column": null,
            "overflow_y": null,
            "overflow_x": null,
            "grid_auto_flow": null,
            "grid_area": null,
            "grid_template_columns": null,
            "flex": null,
            "_model_name": "LayoutModel",
            "justify_items": null,
            "grid_row": null,
            "max_height": null,
            "align_content": null,
            "visibility": null,
            "align_self": null,
            "height": null,
            "min_height": null,
            "padding": null,
            "grid_auto_rows": null,
            "grid_gap": null,
            "max_width": null,
            "order": null,
            "_view_module_version": "1.2.0",
            "grid_template_areas": null,
            "object_position": null,
            "object_fit": null,
            "grid_auto_columns": null,
            "margin": null,
            "display": null,
            "left": null
          }
        },
        "56bf327992c74b03875b9097b912fbc3": {
          "model_module": "@jupyter-widgets/controls",
          "model_name": "DescriptionStyleModel",
          "state": {
            "_view_name": "StyleView",
            "_model_name": "DescriptionStyleModel",
            "description_width": "",
            "_view_module": "@jupyter-widgets/base",
            "_model_module_version": "1.5.0",
            "_view_count": null,
            "_view_module_version": "1.2.0",
            "_model_module": "@jupyter-widgets/controls"
          }
        },
        "6a6dcd63761d4f9bb0b1ab7ac8f955cd": {
          "model_module": "@jupyter-widgets/base",
          "model_name": "LayoutModel",
          "state": {
            "_view_name": "LayoutView",
            "grid_template_rows": null,
            "right": null,
            "justify_content": null,
            "_view_module": "@jupyter-widgets/base",
            "overflow": null,
            "_model_module_version": "1.2.0",
            "_view_count": null,
            "flex_flow": null,
            "width": null,
            "min_width": null,
            "border": null,
            "align_items": null,
            "bottom": null,
            "_model_module": "@jupyter-widgets/base",
            "top": null,
            "grid_column": null,
            "overflow_y": null,
            "overflow_x": null,
            "grid_auto_flow": null,
            "grid_area": null,
            "grid_template_columns": null,
            "flex": null,
            "_model_name": "LayoutModel",
            "justify_items": null,
            "grid_row": null,
            "max_height": null,
            "align_content": null,
            "visibility": null,
            "align_self": null,
            "height": null,
            "min_height": null,
            "padding": null,
            "grid_auto_rows": null,
            "grid_gap": null,
            "max_width": null,
            "order": null,
            "_view_module_version": "1.2.0",
            "grid_template_areas": null,
            "object_position": null,
            "object_fit": null,
            "grid_auto_columns": null,
            "margin": null,
            "display": null,
            "left": null
          }
        }
      }
    }
  },
  "cells": [
    {
      "cell_type": "markdown",
      "metadata": {
        "id": "view-in-github",
        "colab_type": "text"
      },
      "source": [
        "<a href=\"https://colab.research.google.com/github/zseebrz/colab/blob/main/Day_1_Practice_Task_ResNet_for_CIFAR_10.ipynb\" target=\"_parent\"><img src=\"https://colab.research.google.com/assets/colab-badge.svg\" alt=\"Open In Colab\"/></a>"
      ]
    },
    {
      "cell_type": "markdown",
      "metadata": {
        "id": "QJUa9T5Lu01V"
      },
      "source": [
        "# Small Data, Big Insights workshop\n",
        "\n",
        "## Cosine Loss Practice notebook\n",
        "LAB Day 1\n",
        "\n",
        "Created by Miklos Toth\n",
        "\n",
        "Co-Authors are: Levente Szabados and Gergo Szabo"
      ]
    },
    {
      "cell_type": "markdown",
      "metadata": {
        "id": "yw_8PaTTTsw6"
      },
      "source": [
        "Sources\n",
        "* [Deep Residual Learning for Image Recognition](https://arxiv.org/abs/1512.03385)\n",
        "* [practice on CIFAR10 with Keras](https://github.com/jerett/Keras-CIFAR10) (some code snippets copied from here)"
      ]
    },
    {
      "cell_type": "markdown",
      "metadata": {
        "id": "dbws5q5JvgM3"
      },
      "source": [
        "# 0. Preparation: Mount Google Drive, for saving our results\n"
      ]
    },
    {
      "cell_type": "code",
      "metadata": {
        "id": "0wwlex_-veO9",
        "colab": {
          "base_uri": "https://localhost:8080/"
        },
        "outputId": "7cc55934-7125-41ab-b264-864d05c3f035"
      },
      "source": [
        "import os\n",
        "from google.colab import drive\n",
        "\n",
        "drive.mount('/content/drive')\n",
        "data_tmp_dir='./drive/My Drive/_training_tmp1/'\n",
        "if not os.path.exists(data_tmp_dir):\n",
        "    os.mkdir(data_tmp_dir)\n",
        "    print(\"datadir created\")\n",
        "else:\n",
        "    print(\"datadir exists\")"
      ],
      "execution_count": 1,
      "outputs": [
        {
          "output_type": "stream",
          "text": [
            "Mounted at /content/drive\n",
            "datadir created\n"
          ],
          "name": "stdout"
        }
      ]
    },
    {
      "cell_type": "markdown",
      "metadata": {
        "id": "BXPvZJPLvqXj"
      },
      "source": [
        "#### Checking GPU Info"
      ]
    },
    {
      "cell_type": "code",
      "metadata": {
        "id": "2NgNH4zSi7rb",
        "colab": {
          "base_uri": "https://localhost:8080/"
        },
        "outputId": "cc6d644e-9d9a-4013-ae33-3dbc26f396d4"
      },
      "source": [
        "gpu_info = !nvidia-smi\n",
        "gpu_info = '\\n'.join(gpu_info)\n",
        "if gpu_info.find('failed') >= 0:\n",
        "  print('Select the Runtime > \"Change runtime type\" menu to enable a GPU accelerator, ')\n",
        "  print('and then re-execute this cell.')\n",
        "else:\n",
        "  print(gpu_info)"
      ],
      "execution_count": 2,
      "outputs": [
        {
          "output_type": "stream",
          "text": [
            "Mon Nov 23 15:10:37 2020       \n",
            "+-----------------------------------------------------------------------------+\n",
            "| NVIDIA-SMI 455.38       Driver Version: 418.67       CUDA Version: 10.1     |\n",
            "|-------------------------------+----------------------+----------------------+\n",
            "| GPU  Name        Persistence-M| Bus-Id        Disp.A | Volatile Uncorr. ECC |\n",
            "| Fan  Temp  Perf  Pwr:Usage/Cap|         Memory-Usage | GPU-Util  Compute M. |\n",
            "|                               |                      |               MIG M. |\n",
            "|===============================+======================+======================|\n",
            "|   0  Tesla T4            Off  | 00000000:00:04.0 Off |                    0 |\n",
            "| N/A   41C    P8     9W /  70W |      0MiB / 15079MiB |      0%      Default |\n",
            "|                               |                      |                 ERR! |\n",
            "+-------------------------------+----------------------+----------------------+\n",
            "                                                                               \n",
            "+-----------------------------------------------------------------------------+\n",
            "| Processes:                                                                  |\n",
            "|  GPU   GI   CI        PID   Type   Process name                  GPU Memory |\n",
            "|        ID   ID                                                   Usage      |\n",
            "|=============================================================================|\n",
            "|  No running processes found                                                 |\n",
            "+-----------------------------------------------------------------------------+\n"
          ],
          "name": "stdout"
        }
      ]
    },
    {
      "cell_type": "code",
      "metadata": {
        "id": "1Fp5QoX_ciGu",
        "colab": {
          "base_uri": "https://localhost:8080/"
        },
        "outputId": "17ba1042-cd34-41d0-e9b8-ef67b9a6d551"
      },
      "source": [
        "\n",
        "import tensorflow_datasets as tfds\n",
        "import tensorflow as tf\n",
        "import numpy as np\n",
        "import pandas as pd\n",
        "import matplotlib.pyplot as plt\n",
        "from tensorflow.keras.callbacks import Callback\n",
        "import time\n",
        "\n",
        "print(\"Tensorflow version:\",tf.__version__)\n",
        "SEED=100\n",
        "tf.random.set_seed(SEED)"
      ],
      "execution_count": 3,
      "outputs": [
        {
          "output_type": "stream",
          "text": [
            "Tensorflow version: 2.3.0\n"
          ],
          "name": "stdout"
        }
      ]
    },
    {
      "cell_type": "markdown",
      "metadata": {
        "id": "ZYHyNNGpsAY7"
      },
      "source": [
        "## 1. Prepare dataset\n",
        "\n",
        "We are going to use CIFAR10 and CIFAR100 datasets\n",
        "\n",
        "https://www.cs.toronto.edu/~kriz/cifar.html "
      ]
    },
    {
      "cell_type": "code",
      "metadata": {
        "id": "uQCnTxM4TIY8",
        "colab": {
          "base_uri": "https://localhost:8080/",
          "height": 359,
          "referenced_widgets": [
            "fe11c8d4beee434ebace7b16e39d0f57",
            "41d117c2f59c401ebafdcdb29dfc5d8a",
            "9b3e8b1dc2b0437cbdfdd29f0d7031da",
            "e8fef339173345d6ac2d30a16ff14409",
            "0e0c39027cdc417db029e22dbcec9fad",
            "a01894bf035a46ea888e35e94e3c60f5",
            "82a24a8f881346a89f18f9393cfe006e",
            "16a4cbedde564642aecfd5f1f59615eb",
            "886f469c0fd642f283ff5383c9b2db94",
            "83b5540a37b74209bddb486f068a3236",
            "cea2f782068c4352ad3c7dbff3bc4c02",
            "c695694751b2486685fd1e2fb7db352d",
            "d8d37b7d19204c62be617778f83737f8",
            "f1f9e21d4d324f07b5b7a95c002150bf",
            "a988fb8d24084dd399f156ead0fb5661",
            "6c2050c393b54ddb9fa466b8e849a927",
            "1fa2304086c349fd978b6c8f2efe09db",
            "94092525cb334133ab0139432f1b8fbf",
            "73113eed138444f39266b8fef4efc0e2",
            "5d602fc3c6714ce48cd22753cbfa65c4",
            "e4a0699e1a404b57ad94455d744e16ce",
            "23992776f5014ef4ae0ca37ed56d8c8b",
            "c869ddcb3d6748eb845200089dca01c7",
            "e6330d796aa44d7b9fd84353a329c2aa",
            "d50559b59e7b4c66a9de4b6118e26710",
            "9888f2587d954ba787bc2583a8089814",
            "1668824cb6374c2398283d2a8008567e",
            "01f4566a5b8f45109aad8f71edbb600d",
            "631132d7f0304a03a61ccbb099090b45",
            "0d7ec9a137f44854a062abe3b14ef799",
            "0ef0dcd1f8d84c56b71769aa1b7d1f3d",
            "2cc71bde04ba41be86d2679cd530a1a0",
            "a06e2dcacaec4545a08af75e1fbef420",
            "659b7234c36d4c58981c9da12e419d7e",
            "89cebb798c85457196bd9a50fced52dd",
            "a4a93ae18e354e1eb1562888b101918d",
            "ef616a0bbf534c3898f4a5d568783659",
            "e1c758ebe0c4451a91970e2ede28f155",
            "e4389b37face48e4b7728491eabbb809",
            "5fbdc53f758045ad91c55cb29368bbec",
            "2b68ae804a16468c8451542151efbd1e",
            "b83112a2ea2247d4aa83a125ab65621b",
            "b2b31546b778401fa755ca6a03bb07ce",
            "c254304cfd8742e1b3ec77887d327be5",
            "7fbf7770698d46c9ae63cdc396c51d4b",
            "bdf1b97223dd445fae97d0eebfa51861",
            "2902a4a0db4d457d9ed61f044940821c",
            "3c0b0dc4f03e45b295f2b7843445bb70",
            "cbd7c6dfd2ca4c32a262f24276956eca",
            "ad9a81d5212e401587b841706acb57e6",
            "3d2d864495574afeb4410dd80f43f7f8",
            "704a99a075ca438dbce9df2dcddc762f",
            "f0519caaf52f4b84851f7189a281f587",
            "bf1a801237844f91a70264b445d6ffd9",
            "56bf327992c74b03875b9097b912fbc3",
            "6a6dcd63761d4f9bb0b1ab7ac8f955cd"
          ]
        },
        "outputId": "e352c914-aea7-43a8-d2fd-2488ba9d32a5"
      },
      "source": [
        "\n",
        "\n",
        "dataset, info = tfds.load('cifar10', as_supervised = True, with_info = True, batch_size =-1)\n"
      ],
      "execution_count": 4,
      "outputs": [
        {
          "output_type": "stream",
          "text": [
            "\u001b[1mDownloading and preparing dataset cifar10/3.0.2 (download: 162.17 MiB, generated: 132.40 MiB, total: 294.58 MiB) to /root/tensorflow_datasets/cifar10/3.0.2...\u001b[0m\n"
          ],
          "name": "stdout"
        },
        {
          "output_type": "display_data",
          "data": {
            "application/vnd.jupyter.widget-view+json": {
              "model_id": "fe11c8d4beee434ebace7b16e39d0f57",
              "version_minor": 0,
              "version_major": 2
            },
            "text/plain": [
              "HBox(children=(FloatProgress(value=1.0, bar_style='info', description='Dl Completed...', max=1.0, style=Progre…"
            ]
          },
          "metadata": {
            "tags": []
          }
        },
        {
          "output_type": "display_data",
          "data": {
            "application/vnd.jupyter.widget-view+json": {
              "model_id": "886f469c0fd642f283ff5383c9b2db94",
              "version_minor": 0,
              "version_major": 2
            },
            "text/plain": [
              "HBox(children=(FloatProgress(value=1.0, bar_style='info', description='Dl Size...', max=1.0, style=ProgressSty…"
            ]
          },
          "metadata": {
            "tags": []
          }
        },
        {
          "output_type": "display_data",
          "data": {
            "application/vnd.jupyter.widget-view+json": {
              "model_id": "1fa2304086c349fd978b6c8f2efe09db",
              "version_minor": 0,
              "version_major": 2
            },
            "text/plain": [
              "HBox(children=(FloatProgress(value=1.0, bar_style='info', description='Extraction completed...', max=1.0, styl…"
            ]
          },
          "metadata": {
            "tags": []
          }
        },
        {
          "output_type": "stream",
          "text": [
            "\n",
            "\n",
            "\n",
            "\n",
            "\n",
            "\n"
          ],
          "name": "stdout"
        },
        {
          "output_type": "display_data",
          "data": {
            "application/vnd.jupyter.widget-view+json": {
              "model_id": "d50559b59e7b4c66a9de4b6118e26710",
              "version_minor": 0,
              "version_major": 2
            },
            "text/plain": [
              "HBox(children=(FloatProgress(value=1.0, bar_style='info', max=1.0), HTML(value='')))"
            ]
          },
          "metadata": {
            "tags": []
          }
        },
        {
          "output_type": "stream",
          "text": [
            "\rShuffling and writing examples to /root/tensorflow_datasets/cifar10/3.0.2.incompleteI9FJAH/cifar10-train.tfrecord\n"
          ],
          "name": "stdout"
        },
        {
          "output_type": "display_data",
          "data": {
            "application/vnd.jupyter.widget-view+json": {
              "model_id": "a06e2dcacaec4545a08af75e1fbef420",
              "version_minor": 0,
              "version_major": 2
            },
            "text/plain": [
              "HBox(children=(FloatProgress(value=0.0, max=50000.0), HTML(value='')))"
            ]
          },
          "metadata": {
            "tags": []
          }
        },
        {
          "output_type": "stream",
          "text": [
            "\r"
          ],
          "name": "stdout"
        },
        {
          "output_type": "display_data",
          "data": {
            "application/vnd.jupyter.widget-view+json": {
              "model_id": "2b68ae804a16468c8451542151efbd1e",
              "version_minor": 0,
              "version_major": 2
            },
            "text/plain": [
              "HBox(children=(FloatProgress(value=1.0, bar_style='info', max=1.0), HTML(value='')))"
            ]
          },
          "metadata": {
            "tags": []
          }
        },
        {
          "output_type": "stream",
          "text": [
            "\rShuffling and writing examples to /root/tensorflow_datasets/cifar10/3.0.2.incompleteI9FJAH/cifar10-test.tfrecord\n"
          ],
          "name": "stdout"
        },
        {
          "output_type": "display_data",
          "data": {
            "application/vnd.jupyter.widget-view+json": {
              "model_id": "cbd7c6dfd2ca4c32a262f24276956eca",
              "version_minor": 0,
              "version_major": 2
            },
            "text/plain": [
              "HBox(children=(FloatProgress(value=0.0, max=10000.0), HTML(value='')))"
            ]
          },
          "metadata": {
            "tags": []
          }
        },
        {
          "output_type": "stream",
          "text": [
            "\u001b[1mDataset cifar10 downloaded and prepared to /root/tensorflow_datasets/cifar10/3.0.2. Subsequent calls will reuse this data.\u001b[0m\n",
            "\r"
          ],
          "name": "stdout"
        }
      ]
    },
    {
      "cell_type": "code",
      "metadata": {
        "id": "DhdvgfPSe5M6",
        "colab": {
          "base_uri": "https://localhost:8080/"
        },
        "outputId": "2487c47a-faf6-4856-b589-9ba3751ec405"
      },
      "source": [
        "dataset_test, dataset_train = dataset['test'], dataset['train']\n",
        "print(info)"
      ],
      "execution_count": 5,
      "outputs": [
        {
          "output_type": "stream",
          "text": [
            "tfds.core.DatasetInfo(\n",
            "    name='cifar10',\n",
            "    version=3.0.2,\n",
            "    description='The CIFAR-10 dataset consists of 60000 32x32 colour images in 10 classes, with 6000 images per class. There are 50000 training images and 10000 test images.',\n",
            "    homepage='https://www.cs.toronto.edu/~kriz/cifar.html',\n",
            "    features=FeaturesDict({\n",
            "        'id': Text(shape=(), dtype=tf.string),\n",
            "        'image': Image(shape=(32, 32, 3), dtype=tf.uint8),\n",
            "        'label': ClassLabel(shape=(), dtype=tf.int64, num_classes=10),\n",
            "    }),\n",
            "    total_num_examples=60000,\n",
            "    splits={\n",
            "        'test': 10000,\n",
            "        'train': 50000,\n",
            "    },\n",
            "    supervised_keys=('image', 'label'),\n",
            "    citation=\"\"\"@TECHREPORT{Krizhevsky09learningmultiple,\n",
            "        author = {Alex Krizhevsky},\n",
            "        title = {Learning multiple layers of features from tiny images},\n",
            "        institution = {},\n",
            "        year = {2009}\n",
            "    }\"\"\",\n",
            "    redistribution_info=,\n",
            ")\n",
            "\n"
          ],
          "name": "stdout"
        }
      ]
    },
    {
      "cell_type": "markdown",
      "metadata": {
        "id": "FkIVF4A0xO0G"
      },
      "source": [
        "#### Let's Limit the number of samples\n",
        "We are in the small data era, lets simulate this by  taking only a subset of the samples. "
      ]
    },
    {
      "cell_type": "code",
      "metadata": {
        "id": "4_23EdR5bAOZ"
      },
      "source": [
        "N_CLASSES=10\n",
        "TRAIN_SAMPLE_LIMIT=N_CLASSES*100\n"
      ],
      "execution_count": 6,
      "outputs": []
    },
    {
      "cell_type": "code",
      "metadata": {
        "id": "WGZqjYGGMzWg",
        "colab": {
          "base_uri": "https://localhost:8080/"
        },
        "outputId": "a22b2079-eea1-4e5c-ca21-470999177b55"
      },
      "source": [
        "\n",
        "train_x = dataset_train[0][0:TRAIN_SAMPLE_LIMIT] / 255\n",
        "train_y = dataset_train[1][0:TRAIN_SAMPLE_LIMIT]\n",
        "\n",
        "\n",
        "test_x = dataset_test[0] / 255\n",
        "test_y = dataset_test[1]\n",
        "       \n",
        "\n",
        "print(train_x.shape)\n",
        "print(train_y.shape)\n",
        "print(test_x.shape)\n",
        "print(test_y.shape)\n"
      ],
      "execution_count": 7,
      "outputs": [
        {
          "output_type": "stream",
          "text": [
            "(1000, 32, 32, 3)\n",
            "(1000,)\n",
            "(10000, 32, 32, 3)\n",
            "(10000,)\n"
          ],
          "name": "stdout"
        }
      ]
    },
    {
      "cell_type": "code",
      "metadata": {
        "id": "u4UzjVECL3iL",
        "colab": {
          "base_uri": "https://localhost:8080/",
          "height": 335
        },
        "outputId": "61df66eb-efdb-4b20-a61d-22e2e27fc8b1"
      },
      "source": [
        "plt.title(\"distribution of samples\")\n",
        "plt.hist(train_y.numpy(),bins=N_CLASSES)"
      ],
      "execution_count": 8,
      "outputs": [
        {
          "output_type": "execute_result",
          "data": {
            "text/plain": [
              "(array([122.,  82.,  94., 102.,  92., 102.,  83., 112., 110., 101.]),\n",
              " array([0. , 0.9, 1.8, 2.7, 3.6, 4.5, 5.4, 6.3, 7.2, 8.1, 9. ]),\n",
              " <a list of 10 Patch objects>)"
            ]
          },
          "metadata": {
            "tags": []
          },
          "execution_count": 8
        },
        {
          "output_type": "display_data",
          "data": {
            "image/png": "[encoded data removed]",
            "text/plain": [
              "<Figure size 432x288 with 1 Axes>"
            ]
          },
          "metadata": {
            "tags": [],
            "needs_background": "light"
          }
        }
      ]
    },
    {
      "cell_type": "markdown",
      "metadata": {
        "id": "PqU9JzNxwRmF"
      },
      "source": [
        "## 2. Data Augmentation\n",
        "\n",
        "source of the data augmentation is: https://github.com/shoji9x9/CIFAR-10-By-small-ResNet/ "
      ]
    },
    {
      "cell_type": "code",
      "metadata": {
        "id": "fgxq02WjwZE9"
      },
      "source": [
        "import numpy as np\n",
        "from tensorflow.keras.preprocessing.image import ImageDataGenerator\n",
        "\n",
        "class CustomImageDataGenerator(ImageDataGenerator):\n",
        "    def __init__(self, cutout_mask_size = 0, *args, **kwargs):\n",
        "        super().__init__(*args, **kwargs)\n",
        "        self.cutout_mask_size = cutout_mask_size\n",
        "        self.seed_numbers=range(10000)\n",
        "        self.seed_counter=0\n",
        "        \n",
        "    def cutout(self, x, y):\n",
        "        return np.array(list(map(self._cutout, x))), y\n",
        "    \n",
        "    def _cutout(self, image_origin):\n",
        "        \n",
        "        image = np.copy(image_origin)\n",
        "        mask_value = image.mean()\n",
        "\n",
        "        h, w, _ = image.shape\n",
        "        if self.seed_counter>=10000-2:\n",
        "            self.seed_counter=0\n",
        "        np.random.seed(self.seed_counter)\n",
        "        self.seed_counter+=1\n",
        "        top = np.random.randint(0 - self.cutout_mask_size // 2, h - self.cutout_mask_size)\n",
        "        np.random.seed(self.seed_counter)\n",
        "        self.seed_counter+=1\n",
        "        left = np.random.randint(0 - self.cutout_mask_size // 2, w - self.cutout_mask_size)\n",
        "        bottom = top + self.cutout_mask_size\n",
        "        right = left + self.cutout_mask_size\n",
        "\n",
        "        \n",
        "        if top < 0:\n",
        "            top = 0\n",
        "        if left < 0:\n",
        "            left = 0\n",
        "\n",
        "        \n",
        "        image[top:bottom, left:right, :].fill(mask_value)\n",
        "        return image\n",
        "    \n",
        "    def flow(self, *args, **kwargs):\n",
        "        batches = super().flow(*args, **kwargs)\n",
        "        \n",
        "        \n",
        "        while True:\n",
        "            batch_x, batch_y = next(batches)\n",
        "            \n",
        "            if self.cutout_mask_size > 0:\n",
        "                result = self.cutout(batch_x, batch_y)\n",
        "                batch_x, batch_y = result                        \n",
        "                \n",
        "            yield (batch_x, batch_y)     \n",
        "\n",
        "datagen_parameters = {\"horizontal_flip\": True, \"width_shift_range\": 0.1, \"height_shift_range\": 0.1, \"cutout_mask_size\": 16}\n",
        "datagen = CustomImageDataGenerator(**datagen_parameters)\n",
        "datagen_for_test = ImageDataGenerator()\n"
      ],
      "execution_count": 9,
      "outputs": []
    },
    {
      "cell_type": "markdown",
      "metadata": {
        "id": "HjpM_PBXsCzt"
      },
      "source": [
        "## 3. Define model"
      ]
    },
    {
      "cell_type": "code",
      "metadata": {
        "id": "1BLRK_Kg71fa"
      },
      "source": [
        "from tensorflow.keras.layers import Conv2D, Dense, BatchNormalization, Activation, MaxPool2D, GlobalAveragePooling2D, Add, Input, Flatten\n",
        "from tensorflow.keras import Model\n",
        "from tensorflow.keras.regularizers import l2\n",
        "from tensorflow.keras.backend import l2_normalize"
      ],
      "execution_count": 10,
      "outputs": []
    },
    {
      "cell_type": "code",
      "metadata": {
        "id": "GPgSnpmp626g"
      },
      "source": [
        ""
      ],
      "execution_count": null,
      "outputs": []
    },
    {
      "cell_type": "markdown",
      "metadata": {
        "id": "p8Wn6eipMoYi"
      },
      "source": [
        "#### Using Resnet20 Architecture\n",
        "For resnet, see https://arxiv.org/pdf/1512.03385.pdf \n",
        "<br> You can also look at section 4.2, on the full dataset they reached 90%+ accuracy with different architectures. Please note in this notebook we will not reach anything close since we have radically changed the dataset to simulate small data environment.\n"
      ]
    },
    {
      "cell_type": "code",
      "metadata": {
        "id": "Z89YY-YE0rWM"
      },
      "source": [
        "\n",
        "\n",
        "def identity_block(inp, filters, kernel_size, block, layer):   \n",
        "    conv_name = 'id_conv_b' + block + '_l' + layer\n",
        "    batch_name = 'id_batch_b' + block + '_l' + layer\n",
        "    \n",
        "    x = Conv2D(filters=filters, kernel_size=kernel_size, padding='same', kernel_initializer='he_normal', name=conv_name + '_a')(inp)\n",
        "    x = BatchNormalization(name=batch_name + '_a')(x)\n",
        "    x = Activation('relu')(x)\n",
        "    \n",
        "    x = Conv2D(filters=filters, kernel_size=kernel_size, padding='same', kernel_initializer='he_normal', name=conv_name + '_b')(x)\n",
        "    x = BatchNormalization(name=batch_name + '_b')(x)\n",
        "    \n",
        "    add = Add()([inp, x])\n",
        "    x = Activation('relu')(add)\n",
        "    return x\n",
        "\n",
        "def convolutional_block(inp, filters, kernel_size, block, layer, strides=2):\n",
        "    conv_name = 'res_conv_b' + block + '_l' + layer\n",
        "    batch_name = 'res_batch_b' + block + '_l' + layer\n",
        "    \n",
        "    y = Conv2D(filters=filters, kernel_size=kernel_size, padding='same', strides=strides, kernel_initializer='he_normal', name=conv_name + '_a')(inp)\n",
        "    y = BatchNormalization(name=batch_name + '_a')(y)\n",
        "    y = Activation('relu')(y)\n",
        "    \n",
        "    y = Conv2D(filters=filters, kernel_size=kernel_size, padding='same', kernel_initializer='he_normal', name=conv_name + '_b')(y)\n",
        "    y = BatchNormalization(name=batch_name + '_b')(y)\n",
        "    \n",
        "    shortcut = Conv2D(filters=filters, kernel_size=1, strides=strides, kernel_initializer='he_normal', name=conv_name + '_shortcut')(inp)\n",
        "    shortcut = BatchNormalization(name=batch_name + '_shortcut')(shortcut)\n",
        "    \n",
        "    add = Add()([shortcut, y])\n",
        "    y = Activation('relu')(add)\n",
        "    \n",
        "    return y\n",
        "\n",
        "def resnet(last_layer):\n",
        "    inp = Input(shape=(32, 32, 3), name='input')\n",
        "\n",
        "    conv1 = Conv2D(16, 3, strides=1, padding='same', name='conv1')(inp)\n",
        "    #conv1 = BatchNormalization(name='batch2')(conv1)\n",
        "    conv1 = Activation('relu')(conv1)\n",
        "\n",
        "    conv2 = identity_block(conv1, 16, 3, '2', '2')\n",
        "    conv2 = identity_block(conv2, 16, 3, '2', '3')\n",
        "    conv2 = identity_block(conv2, 16, 3, '2', '4')\n",
        "\n",
        "    conv3 = convolutional_block(conv2, 32, 3, '3', '1')\n",
        "    conv3 = identity_block(conv3, 32, 3, '3', '2')\n",
        "    conv3 = identity_block(conv3, 32, 3, '3', '3')\n",
        "\n",
        "    conv4 = convolutional_block(conv3, 64, 3, '4', '1')\n",
        "    conv4 = identity_block(conv4, 64, 3, '4', '2')\n",
        "    conv4 = identity_block(conv4, 64, 3, '4', '3')\n",
        "\n",
        "    avg_pool = GlobalAveragePooling2D()(conv4)\n",
        "\n",
        "    out = last_layer(avg_pool)\n",
        "    model = Model(inp, out)\n",
        "    return model\n",
        "\n",
        "# This is just an example for using the function above, we wont use this model:\n",
        "model = resnet(last_layer=Dense(1))"
      ],
      "execution_count": 11,
      "outputs": []
    },
    {
      "cell_type": "code",
      "metadata": {
        "id": "je9qxLqHBORQ",
        "colab": {
          "base_uri": "https://localhost:8080/"
        },
        "outputId": "957e8a51-a7db-481a-a5ab-8893e96ca278"
      },
      "source": [
        "from io import StringIO\n",
        "import re\n",
        "def print_model(model):\n",
        "    with StringIO() as buf:\n",
        "        model.summary(print_fn=lambda x: buf.write(x + \"\\n\"))\n",
        "        summary = buf.getvalue()\n",
        "    print(summary)\n",
        "    re1 = re.match(r\"(.|\\s)*Total params: \", summary)\n",
        "    re2 = re.match(r\"(.|\\s)*Total params: [\\d|,]+\", summary)\n",
        "    total_params = summary[re1.end():re2.end()]\n",
        "print_model(model)"
      ],
      "execution_count": 12,
      "outputs": [
        {
          "output_type": "stream",
          "text": [
            "Model: \"functional_1\"\n",
            "__________________________________________________________________________________________________\n",
            "Layer (type)                    Output Shape         Param #     Connected to                     \n",
            "==================================================================================================\n",
            "input (InputLayer)              [(None, 32, 32, 3)]  0                                            \n",
            "__________________________________________________________________________________________________\n",
            "conv1 (Conv2D)                  (None, 32, 32, 16)   448         input[0][0]                      \n",
            "__________________________________________________________________________________________________\n",
            "activation (Activation)         (None, 32, 32, 16)   0           conv1[0][0]                      \n",
            "__________________________________________________________________________________________________\n",
            "id_conv_b2_l2_a (Conv2D)        (None, 32, 32, 16)   2320        activation[0][0]                 \n",
            "__________________________________________________________________________________________________\n",
            "id_batch_b2_l2_a (BatchNormaliz (None, 32, 32, 16)   64          id_conv_b2_l2_a[0][0]            \n",
            "__________________________________________________________________________________________________\n",
            "activation_1 (Activation)       (None, 32, 32, 16)   0           id_batch_b2_l2_a[0][0]           \n",
            "__________________________________________________________________________________________________\n",
            "id_conv_b2_l2_b (Conv2D)        (None, 32, 32, 16)   2320        activation_1[0][0]               \n",
            "__________________________________________________________________________________________________\n",
            "id_batch_b2_l2_b (BatchNormaliz (None, 32, 32, 16)   64          id_conv_b2_l2_b[0][0]            \n",
            "__________________________________________________________________________________________________\n",
            "add (Add)                       (None, 32, 32, 16)   0           activation[0][0]                 \n",
            "                                                                 id_batch_b2_l2_b[0][0]           \n",
            "__________________________________________________________________________________________________\n",
            "activation_2 (Activation)       (None, 32, 32, 16)   0           add[0][0]                        \n",
            "__________________________________________________________________________________________________\n",
            "id_conv_b2_l3_a (Conv2D)        (None, 32, 32, 16)   2320        activation_2[0][0]               \n",
            "__________________________________________________________________________________________________\n",
            "id_batch_b2_l3_a (BatchNormaliz (None, 32, 32, 16)   64          id_conv_b2_l3_a[0][0]            \n",
            "__________________________________________________________________________________________________\n",
            "activation_3 (Activation)       (None, 32, 32, 16)   0           id_batch_b2_l3_a[0][0]           \n",
            "__________________________________________________________________________________________________\n",
            "id_conv_b2_l3_b (Conv2D)        (None, 32, 32, 16)   2320        activation_3[0][0]               \n",
            "__________________________________________________________________________________________________\n",
            "id_batch_b2_l3_b (BatchNormaliz (None, 32, 32, 16)   64          id_conv_b2_l3_b[0][0]            \n",
            "__________________________________________________________________________________________________\n",
            "add_1 (Add)                     (None, 32, 32, 16)   0           activation_2[0][0]               \n",
            "                                                                 id_batch_b2_l3_b[0][0]           \n",
            "__________________________________________________________________________________________________\n",
            "activation_4 (Activation)       (None, 32, 32, 16)   0           add_1[0][0]                      \n",
            "__________________________________________________________________________________________________\n",
            "id_conv_b2_l4_a (Conv2D)        (None, 32, 32, 16)   2320        activation_4[0][0]               \n",
            "__________________________________________________________________________________________________\n",
            "id_batch_b2_l4_a (BatchNormaliz (None, 32, 32, 16)   64          id_conv_b2_l4_a[0][0]            \n",
            "__________________________________________________________________________________________________\n",
            "activation_5 (Activation)       (None, 32, 32, 16)   0           id_batch_b2_l4_a[0][0]           \n",
            "__________________________________________________________________________________________________\n",
            "id_conv_b2_l4_b (Conv2D)        (None, 32, 32, 16)   2320        activation_5[0][0]               \n",
            "__________________________________________________________________________________________________\n",
            "id_batch_b2_l4_b (BatchNormaliz (None, 32, 32, 16)   64          id_conv_b2_l4_b[0][0]            \n",
            "__________________________________________________________________________________________________\n",
            "add_2 (Add)                     (None, 32, 32, 16)   0           activation_4[0][0]               \n",
            "                                                                 id_batch_b2_l4_b[0][0]           \n",
            "__________________________________________________________________________________________________\n",
            "activation_6 (Activation)       (None, 32, 32, 16)   0           add_2[0][0]                      \n",
            "__________________________________________________________________________________________________\n",
            "res_conv_b3_l1_a (Conv2D)       (None, 16, 16, 32)   4640        activation_6[0][0]               \n",
            "__________________________________________________________________________________________________\n",
            "res_batch_b3_l1_a (BatchNormali (None, 16, 16, 32)   128         res_conv_b3_l1_a[0][0]           \n",
            "__________________________________________________________________________________________________\n",
            "activation_7 (Activation)       (None, 16, 16, 32)   0           res_batch_b3_l1_a[0][0]          \n",
            "__________________________________________________________________________________________________\n",
            "res_conv_b3_l1_shortcut (Conv2D (None, 16, 16, 32)   544         activation_6[0][0]               \n",
            "__________________________________________________________________________________________________\n",
            "res_conv_b3_l1_b (Conv2D)       (None, 16, 16, 32)   9248        activation_7[0][0]               \n",
            "__________________________________________________________________________________________________\n",
            "res_batch_b3_l1_shortcut (Batch (None, 16, 16, 32)   128         res_conv_b3_l1_shortcut[0][0]    \n",
            "__________________________________________________________________________________________________\n",
            "res_batch_b3_l1_b (BatchNormali (None, 16, 16, 32)   128         res_conv_b3_l1_b[0][0]           \n",
            "__________________________________________________________________________________________________\n",
            "add_3 (Add)                     (None, 16, 16, 32)   0           res_batch_b3_l1_shortcut[0][0]   \n",
            "                                                                 res_batch_b3_l1_b[0][0]          \n",
            "__________________________________________________________________________________________________\n",
            "activation_8 (Activation)       (None, 16, 16, 32)   0           add_3[0][0]                      \n",
            "__________________________________________________________________________________________________\n",
            "id_conv_b3_l2_a (Conv2D)        (None, 16, 16, 32)   9248        activation_8[0][0]               \n",
            "__________________________________________________________________________________________________\n",
            "id_batch_b3_l2_a (BatchNormaliz (None, 16, 16, 32)   128         id_conv_b3_l2_a[0][0]            \n",
            "__________________________________________________________________________________________________\n",
            "activation_9 (Activation)       (None, 16, 16, 32)   0           id_batch_b3_l2_a[0][0]           \n",
            "__________________________________________________________________________________________________\n",
            "id_conv_b3_l2_b (Conv2D)        (None, 16, 16, 32)   9248        activation_9[0][0]               \n",
            "__________________________________________________________________________________________________\n",
            "id_batch_b3_l2_b (BatchNormaliz (None, 16, 16, 32)   128         id_conv_b3_l2_b[0][0]            \n",
            "__________________________________________________________________________________________________\n",
            "add_4 (Add)                     (None, 16, 16, 32)   0           activation_8[0][0]               \n",
            "                                                                 id_batch_b3_l2_b[0][0]           \n",
            "__________________________________________________________________________________________________\n",
            "activation_10 (Activation)      (None, 16, 16, 32)   0           add_4[0][0]                      \n",
            "__________________________________________________________________________________________________\n",
            "id_conv_b3_l3_a (Conv2D)        (None, 16, 16, 32)   9248        activation_10[0][0]              \n",
            "__________________________________________________________________________________________________\n",
            "id_batch_b3_l3_a (BatchNormaliz (None, 16, 16, 32)   128         id_conv_b3_l3_a[0][0]            \n",
            "__________________________________________________________________________________________________\n",
            "activation_11 (Activation)      (None, 16, 16, 32)   0           id_batch_b3_l3_a[0][0]           \n",
            "__________________________________________________________________________________________________\n",
            "id_conv_b3_l3_b (Conv2D)        (None, 16, 16, 32)   9248        activation_11[0][0]              \n",
            "__________________________________________________________________________________________________\n",
            "id_batch_b3_l3_b (BatchNormaliz (None, 16, 16, 32)   128         id_conv_b3_l3_b[0][0]            \n",
            "__________________________________________________________________________________________________\n",
            "add_5 (Add)                     (None, 16, 16, 32)   0           activation_10[0][0]              \n",
            "                                                                 id_batch_b3_l3_b[0][0]           \n",
            "__________________________________________________________________________________________________\n",
            "activation_12 (Activation)      (None, 16, 16, 32)   0           add_5[0][0]                      \n",
            "__________________________________________________________________________________________________\n",
            "res_conv_b4_l1_a (Conv2D)       (None, 8, 8, 64)     18496       activation_12[0][0]              \n",
            "__________________________________________________________________________________________________\n",
            "res_batch_b4_l1_a (BatchNormali (None, 8, 8, 64)     256         res_conv_b4_l1_a[0][0]           \n",
            "__________________________________________________________________________________________________\n",
            "activation_13 (Activation)      (None, 8, 8, 64)     0           res_batch_b4_l1_a[0][0]          \n",
            "__________________________________________________________________________________________________\n",
            "res_conv_b4_l1_shortcut (Conv2D (None, 8, 8, 64)     2112        activation_12[0][0]              \n",
            "__________________________________________________________________________________________________\n",
            "res_conv_b4_l1_b (Conv2D)       (None, 8, 8, 64)     36928       activation_13[0][0]              \n",
            "__________________________________________________________________________________________________\n",
            "res_batch_b4_l1_shortcut (Batch (None, 8, 8, 64)     256         res_conv_b4_l1_shortcut[0][0]    \n",
            "__________________________________________________________________________________________________\n",
            "res_batch_b4_l1_b (BatchNormali (None, 8, 8, 64)     256         res_conv_b4_l1_b[0][0]           \n",
            "__________________________________________________________________________________________________\n",
            "add_6 (Add)                     (None, 8, 8, 64)     0           res_batch_b4_l1_shortcut[0][0]   \n",
            "                                                                 res_batch_b4_l1_b[0][0]          \n",
            "__________________________________________________________________________________________________\n",
            "activation_14 (Activation)      (None, 8, 8, 64)     0           add_6[0][0]                      \n",
            "__________________________________________________________________________________________________\n",
            "id_conv_b4_l2_a (Conv2D)        (None, 8, 8, 64)     36928       activation_14[0][0]              \n",
            "__________________________________________________________________________________________________\n",
            "id_batch_b4_l2_a (BatchNormaliz (None, 8, 8, 64)     256         id_conv_b4_l2_a[0][0]            \n",
            "__________________________________________________________________________________________________\n",
            "activation_15 (Activation)      (None, 8, 8, 64)     0           id_batch_b4_l2_a[0][0]           \n",
            "__________________________________________________________________________________________________\n",
            "id_conv_b4_l2_b (Conv2D)        (None, 8, 8, 64)     36928       activation_15[0][0]              \n",
            "__________________________________________________________________________________________________\n",
            "id_batch_b4_l2_b (BatchNormaliz (None, 8, 8, 64)     256         id_conv_b4_l2_b[0][0]            \n",
            "__________________________________________________________________________________________________\n",
            "add_7 (Add)                     (None, 8, 8, 64)     0           activation_14[0][0]              \n",
            "                                                                 id_batch_b4_l2_b[0][0]           \n",
            "__________________________________________________________________________________________________\n",
            "activation_16 (Activation)      (None, 8, 8, 64)     0           add_7[0][0]                      \n",
            "__________________________________________________________________________________________________\n",
            "id_conv_b4_l3_a (Conv2D)        (None, 8, 8, 64)     36928       activation_16[0][0]              \n",
            "__________________________________________________________________________________________________\n",
            "id_batch_b4_l3_a (BatchNormaliz (None, 8, 8, 64)     256         id_conv_b4_l3_a[0][0]            \n",
            "__________________________________________________________________________________________________\n",
            "activation_17 (Activation)      (None, 8, 8, 64)     0           id_batch_b4_l3_a[0][0]           \n",
            "__________________________________________________________________________________________________\n",
            "id_conv_b4_l3_b (Conv2D)        (None, 8, 8, 64)     36928       activation_17[0][0]              \n",
            "__________________________________________________________________________________________________\n",
            "id_batch_b4_l3_b (BatchNormaliz (None, 8, 8, 64)     256         id_conv_b4_l3_b[0][0]            \n",
            "__________________________________________________________________________________________________\n",
            "add_8 (Add)                     (None, 8, 8, 64)     0           activation_16[0][0]              \n",
            "                                                                 id_batch_b4_l3_b[0][0]           \n",
            "__________________________________________________________________________________________________\n",
            "activation_18 (Activation)      (None, 8, 8, 64)     0           add_8[0][0]                      \n",
            "__________________________________________________________________________________________________\n",
            "global_average_pooling2d (Globa (None, 64)           0           activation_18[0][0]              \n",
            "__________________________________________________________________________________________________\n",
            "dense (Dense)                   (None, 1)            65          global_average_pooling2d[0][0]   \n",
            "==================================================================================================\n",
            "Total params: 274,177\n",
            "Trainable params: 272,641\n",
            "Non-trainable params: 1,536\n",
            "__________________________________________________________________________________________________\n",
            "\n"
          ],
          "name": "stdout"
        }
      ]
    },
    {
      "cell_type": "markdown",
      "metadata": {
        "id": "lLyqOWLssNTr"
      },
      "source": [
        "## 4. Prepare and Train a Baseline model using softmax with crossentropy\n",
        "\n",
        "Lets use the simple Adam optimizer, with the same learning rate throughout the entire notebook. "
      ]
    },
    {
      "cell_type": "code",
      "metadata": {
        "id": "NzzYNOfRPafl"
      },
      "source": [
        "from tensorflow.keras.optimizers import Adam, SGD\n",
        "lr = 0.001\n",
        "optimizer = Adam(learning_rate=lr)\n"
      ],
      "execution_count": 13,
      "outputs": []
    },
    {
      "cell_type": "code",
      "metadata": {
        "id": "-zoelOsBCKRh"
      },
      "source": [
        "# TASK: Create the model and compile it. Use softmax with crossentropy\n",
        "# Be careful with the last layer's activation function.\n",
        "# What should be the activation function for the last layer in case of cross entropy? And what is the format of the labels?\n",
        "# How many neurons do you need at the last layer?\n",
        "\n",
        "my_last_layer= Dense(N_CLASSES, activation='softmax') ### PUT YOUR CODE HERE ###\n",
        "model = resnet(last_layer=my_last_layer)\n",
        "my_loss = 'sparse_categorical_crossentropy' ### PUT YOUR CODE HERE ### \n",
        "model.compile(optimizer=optimizer, loss= my_loss, metrics=[\"accuracy\"])\n"
      ],
      "execution_count": 22,
      "outputs": []
    },
    {
      "cell_type": "markdown",
      "metadata": {
        "id": "XbV3BADrsTcW"
      },
      "source": [
        "## 5. Train "
      ]
    },
    {
      "cell_type": "code",
      "metadata": {
        "id": "wXGJZeqzfOFV",
        "colab": {
          "base_uri": "https://localhost:8080/"
        },
        "outputId": "17f7a3b5-234a-4afc-c5bd-9cb3b88cba01"
      },
      "source": [
        "from tensorflow.keras.callbacks import ModelCheckpoint\n",
        "num_epoch = 100\n",
        "batch_size = 100\n",
        "\n",
        "number_train = TRAIN_SAMPLE_LIMIT # without limit it should be info.splits[\"train\"].num_examples\n",
        "number_test = info.splits[\"test\"].num_examples\n",
        "number_train"
      ],
      "execution_count": 23,
      "outputs": [
        {
          "output_type": "execute_result",
          "data": {
            "text/plain": [
              "1000"
            ]
          },
          "metadata": {
            "tags": []
          },
          "execution_count": 23
        }
      ]
    },
    {
      "cell_type": "code",
      "metadata": {
        "id": "Tcp-PhCuTEx4",
        "colab": {
          "base_uri": "https://localhost:8080/"
        },
        "outputId": "d4e656d3-7f3a-40ae-bbe7-9d4c75aa187c"
      },
      "source": [
        "checkpoint = ModelCheckpoint(filepath = data_tmp_dir+\"ResNet-for-CIFAR10-with-Keras-crossentropy.h5\",\n",
        "                             monitor=\"val_loss\", verbose=1, save_best_only=True)\n",
        "\n",
        "history = model.fit(datagen.flow(train_x, train_y, batch_size=batch_size,seed=SEED), \n",
        "                    epochs=num_epoch, \n",
        "                    steps_per_epoch=number_train//batch_size, \n",
        "                    validation_data=datagen_for_test.flow(test_x, test_y, batch_size=batch_size,seed=SEED), \n",
        "                    validation_steps=number_test//batch_size,\n",
        "                    verbose=2,\n",
        "                    callbacks=[checkpoint])\n",
        "\n"
      ],
      "execution_count": 24,
      "outputs": [
        {
          "output_type": "stream",
          "text": [
            "Epoch 1/100\n",
            "\n",
            "Epoch 00001: val_loss improved from inf to 4.36139, saving model to ./drive/My Drive/_training_tmp1/ResNet-for-CIFAR10-with-Keras-crossentropy.h5\n",
            "10/10 - 2s - loss: 2.4871 - accuracy: 0.1330 - val_loss: 4.3614 - val_accuracy: 0.0900\n",
            "Epoch 2/100\n",
            "\n",
            "Epoch 00002: val_loss improved from 4.36139 to 4.31859, saving model to ./drive/My Drive/_training_tmp1/ResNet-for-CIFAR10-with-Keras-crossentropy.h5\n",
            "10/10 - 1s - loss: 2.0636 - accuracy: 0.2340 - val_loss: 4.3186 - val_accuracy: 0.1000\n",
            "Epoch 3/100\n",
            "\n",
            "Epoch 00003: val_loss improved from 4.31859 to 3.18640, saving model to ./drive/My Drive/_training_tmp1/ResNet-for-CIFAR10-with-Keras-crossentropy.h5\n",
            "10/10 - 1s - loss: 1.9277 - accuracy: 0.2830 - val_loss: 3.1864 - val_accuracy: 0.0983\n",
            "Epoch 4/100\n",
            "\n",
            "Epoch 00004: val_loss did not improve from 3.18640\n",
            "10/10 - 1s - loss: 1.8424 - accuracy: 0.3310 - val_loss: 3.4514 - val_accuracy: 0.1017\n",
            "Epoch 5/100\n",
            "\n",
            "Epoch 00005: val_loss improved from 3.18640 to 3.15751, saving model to ./drive/My Drive/_training_tmp1/ResNet-for-CIFAR10-with-Keras-crossentropy.h5\n",
            "10/10 - 1s - loss: 1.7967 - accuracy: 0.3340 - val_loss: 3.1575 - val_accuracy: 0.1065\n",
            "Epoch 6/100\n",
            "\n",
            "Epoch 00006: val_loss improved from 3.15751 to 2.61782, saving model to ./drive/My Drive/_training_tmp1/ResNet-for-CIFAR10-with-Keras-crossentropy.h5\n",
            "10/10 - 1s - loss: 1.7331 - accuracy: 0.3760 - val_loss: 2.6178 - val_accuracy: 0.1523\n",
            "Epoch 7/100\n",
            "\n",
            "Epoch 00007: val_loss did not improve from 2.61782\n",
            "10/10 - 1s - loss: 1.7106 - accuracy: 0.3710 - val_loss: 2.7737 - val_accuracy: 0.1353\n",
            "Epoch 8/100\n",
            "\n",
            "Epoch 00008: val_loss improved from 2.61782 to 2.59530, saving model to ./drive/My Drive/_training_tmp1/ResNet-for-CIFAR10-with-Keras-crossentropy.h5\n",
            "10/10 - 1s - loss: 1.6682 - accuracy: 0.3850 - val_loss: 2.5953 - val_accuracy: 0.1761\n",
            "Epoch 9/100\n",
            "\n",
            "Epoch 00009: val_loss improved from 2.59530 to 2.41411, saving model to ./drive/My Drive/_training_tmp1/ResNet-for-CIFAR10-with-Keras-crossentropy.h5\n",
            "10/10 - 1s - loss: 1.6536 - accuracy: 0.4020 - val_loss: 2.4141 - val_accuracy: 0.1847\n",
            "Epoch 10/100\n",
            "\n",
            "Epoch 00010: val_loss did not improve from 2.41411\n",
            "10/10 - 1s - loss: 1.6214 - accuracy: 0.4000 - val_loss: 2.6863 - val_accuracy: 0.1872\n",
            "Epoch 11/100\n",
            "\n",
            "Epoch 00011: val_loss did not improve from 2.41411\n",
            "10/10 - 1s - loss: 1.5752 - accuracy: 0.4300 - val_loss: 2.4477 - val_accuracy: 0.2144\n",
            "Epoch 12/100\n",
            "\n",
            "Epoch 00012: val_loss did not improve from 2.41411\n",
            "10/10 - 1s - loss: 1.5502 - accuracy: 0.4330 - val_loss: 2.5142 - val_accuracy: 0.1985\n",
            "Epoch 13/100\n",
            "\n",
            "Epoch 00013: val_loss did not improve from 2.41411\n",
            "10/10 - 1s - loss: 1.4869 - accuracy: 0.4680 - val_loss: 2.5241 - val_accuracy: 0.2040\n",
            "Epoch 14/100\n",
            "\n",
            "Epoch 00014: val_loss did not improve from 2.41411\n",
            "10/10 - 1s - loss: 1.4793 - accuracy: 0.4740 - val_loss: 2.5588 - val_accuracy: 0.1984\n",
            "Epoch 15/100\n",
            "\n",
            "Epoch 00015: val_loss did not improve from 2.41411\n",
            "10/10 - 1s - loss: 1.4613 - accuracy: 0.4770 - val_loss: 2.5063 - val_accuracy: 0.2013\n",
            "Epoch 16/100\n",
            "\n",
            "Epoch 00016: val_loss did not improve from 2.41411\n",
            "10/10 - 1s - loss: 1.4802 - accuracy: 0.4600 - val_loss: 2.6314 - val_accuracy: 0.1953\n",
            "Epoch 17/100\n",
            "\n",
            "Epoch 00017: val_loss did not improve from 2.41411\n",
            "10/10 - 1s - loss: 1.4016 - accuracy: 0.4940 - val_loss: 2.4907 - val_accuracy: 0.2046\n",
            "Epoch 18/100\n",
            "\n",
            "Epoch 00018: val_loss did not improve from 2.41411\n",
            "10/10 - 1s - loss: 1.3841 - accuracy: 0.5010 - val_loss: 2.5622 - val_accuracy: 0.2173\n",
            "Epoch 19/100\n",
            "\n",
            "Epoch 00019: val_loss improved from 2.41411 to 2.31410, saving model to ./drive/My Drive/_training_tmp1/ResNet-for-CIFAR10-with-Keras-crossentropy.h5\n",
            "10/10 - 2s - loss: 1.3412 - accuracy: 0.5030 - val_loss: 2.3141 - val_accuracy: 0.2375\n",
            "Epoch 20/100\n",
            "\n",
            "Epoch 00020: val_loss improved from 2.31410 to 2.10819, saving model to ./drive/My Drive/_training_tmp1/ResNet-for-CIFAR10-with-Keras-crossentropy.h5\n",
            "10/10 - 1s - loss: 1.3436 - accuracy: 0.5200 - val_loss: 2.1082 - val_accuracy: 0.2609\n",
            "Epoch 21/100\n",
            "\n",
            "Epoch 00021: val_loss did not improve from 2.10819\n",
            "10/10 - 1s - loss: 1.3256 - accuracy: 0.5030 - val_loss: 2.3883 - val_accuracy: 0.2148\n",
            "Epoch 22/100\n",
            "\n",
            "Epoch 00022: val_loss did not improve from 2.10819\n",
            "10/10 - 1s - loss: 1.2808 - accuracy: 0.5230 - val_loss: 2.7590 - val_accuracy: 0.2101\n",
            "Epoch 23/100\n",
            "\n",
            "Epoch 00023: val_loss did not improve from 2.10819\n",
            "10/10 - 1s - loss: 1.3048 - accuracy: 0.5350 - val_loss: 2.7671 - val_accuracy: 0.2011\n",
            "Epoch 24/100\n",
            "\n",
            "Epoch 00024: val_loss did not improve from 2.10819\n",
            "10/10 - 1s - loss: 1.2604 - accuracy: 0.5240 - val_loss: 2.5587 - val_accuracy: 0.2499\n",
            "Epoch 25/100\n",
            "\n",
            "Epoch 00025: val_loss did not improve from 2.10819\n",
            "10/10 - 1s - loss: 1.2803 - accuracy: 0.5430 - val_loss: 2.8091 - val_accuracy: 0.2354\n",
            "Epoch 26/100\n",
            "\n",
            "Epoch 00026: val_loss did not improve from 2.10819\n",
            "10/10 - 1s - loss: 1.2464 - accuracy: 0.5360 - val_loss: 2.5606 - val_accuracy: 0.2367\n",
            "Epoch 27/100\n",
            "\n",
            "Epoch 00027: val_loss did not improve from 2.10819\n",
            "10/10 - 1s - loss: 1.2178 - accuracy: 0.5610 - val_loss: 2.6254 - val_accuracy: 0.2735\n",
            "Epoch 28/100\n",
            "\n",
            "Epoch 00028: val_loss did not improve from 2.10819\n",
            "10/10 - 1s - loss: 1.2094 - accuracy: 0.5600 - val_loss: 2.7829 - val_accuracy: 0.2581\n",
            "Epoch 29/100\n",
            "\n",
            "Epoch 00029: val_loss did not improve from 2.10819\n",
            "10/10 - 1s - loss: 1.1785 - accuracy: 0.5790 - val_loss: 2.3405 - val_accuracy: 0.2901\n",
            "Epoch 30/100\n",
            "\n",
            "Epoch 00030: val_loss did not improve from 2.10819\n",
            "10/10 - 1s - loss: 1.1806 - accuracy: 0.5750 - val_loss: 2.1742 - val_accuracy: 0.3327\n",
            "Epoch 31/100\n",
            "\n",
            "Epoch 00031: val_loss did not improve from 2.10819\n",
            "10/10 - 1s - loss: 1.1641 - accuracy: 0.5850 - val_loss: 3.0390 - val_accuracy: 0.2202\n",
            "Epoch 32/100\n",
            "\n",
            "Epoch 00032: val_loss did not improve from 2.10819\n",
            "10/10 - 1s - loss: 1.1582 - accuracy: 0.5830 - val_loss: 2.5189 - val_accuracy: 0.3356\n",
            "Epoch 33/100\n",
            "\n",
            "Epoch 00033: val_loss did not improve from 2.10819\n",
            "10/10 - 1s - loss: 1.1639 - accuracy: 0.5740 - val_loss: 3.1756 - val_accuracy: 0.2415\n",
            "Epoch 34/100\n",
            "\n",
            "Epoch 00034: val_loss did not improve from 2.10819\n",
            "10/10 - 1s - loss: 1.1089 - accuracy: 0.6160 - val_loss: 2.2994 - val_accuracy: 0.3419\n",
            "Epoch 35/100\n",
            "\n",
            "Epoch 00035: val_loss did not improve from 2.10819\n",
            "10/10 - 1s - loss: 1.0783 - accuracy: 0.6030 - val_loss: 2.2538 - val_accuracy: 0.3205\n",
            "Epoch 36/100\n",
            "\n",
            "Epoch 00036: val_loss did not improve from 2.10819\n",
            "10/10 - 1s - loss: 1.0108 - accuracy: 0.6380 - val_loss: 2.4654 - val_accuracy: 0.3540\n",
            "Epoch 37/100\n",
            "\n",
            "Epoch 00037: val_loss did not improve from 2.10819\n",
            "10/10 - 1s - loss: 1.0710 - accuracy: 0.6200 - val_loss: 2.1142 - val_accuracy: 0.3807\n",
            "Epoch 38/100\n",
            "\n",
            "Epoch 00038: val_loss did not improve from 2.10819\n",
            "10/10 - 1s - loss: 1.0312 - accuracy: 0.6330 - val_loss: 2.4538 - val_accuracy: 0.3565\n",
            "Epoch 39/100\n",
            "\n",
            "Epoch 00039: val_loss did not improve from 2.10819\n",
            "10/10 - 1s - loss: 0.9995 - accuracy: 0.6560 - val_loss: 2.1586 - val_accuracy: 0.3837\n",
            "Epoch 40/100\n",
            "\n",
            "Epoch 00040: val_loss did not improve from 2.10819\n",
            "10/10 - 1s - loss: 0.9640 - accuracy: 0.6630 - val_loss: 2.5926 - val_accuracy: 0.3270\n",
            "Epoch 41/100\n",
            "\n",
            "Epoch 00041: val_loss did not improve from 2.10819\n",
            "10/10 - 1s - loss: 0.9937 - accuracy: 0.6440 - val_loss: 2.1887 - val_accuracy: 0.3690\n",
            "Epoch 42/100\n",
            "\n",
            "Epoch 00042: val_loss did not improve from 2.10819\n",
            "10/10 - 1s - loss: 0.9630 - accuracy: 0.6650 - val_loss: 2.3900 - val_accuracy: 0.3496\n",
            "Epoch 43/100\n",
            "\n",
            "Epoch 00043: val_loss did not improve from 2.10819\n",
            "10/10 - 1s - loss: 0.9171 - accuracy: 0.6950 - val_loss: 2.1557 - val_accuracy: 0.3722\n",
            "Epoch 44/100\n",
            "\n",
            "Epoch 00044: val_loss improved from 2.10819 to 2.00388, saving model to ./drive/My Drive/_training_tmp1/ResNet-for-CIFAR10-with-Keras-crossentropy.h5\n",
            "10/10 - 2s - loss: 0.9385 - accuracy: 0.6740 - val_loss: 2.0039 - val_accuracy: 0.4059\n",
            "Epoch 45/100\n",
            "\n",
            "Epoch 00045: val_loss did not improve from 2.00388\n",
            "10/10 - 1s - loss: 0.9749 - accuracy: 0.6550 - val_loss: 2.3956 - val_accuracy: 0.3807\n",
            "Epoch 46/100\n",
            "\n",
            "Epoch 00046: val_loss did not improve from 2.00388\n",
            "10/10 - 1s - loss: 0.9690 - accuracy: 0.6550 - val_loss: 3.0758 - val_accuracy: 0.2948\n",
            "Epoch 47/100\n",
            "\n",
            "Epoch 00047: val_loss did not improve from 2.00388\n",
            "10/10 - 1s - loss: 0.9683 - accuracy: 0.6510 - val_loss: 2.6596 - val_accuracy: 0.3331\n",
            "Epoch 48/100\n",
            "\n",
            "Epoch 00048: val_loss did not improve from 2.00388\n",
            "10/10 - 1s - loss: 0.9479 - accuracy: 0.6610 - val_loss: 2.5517 - val_accuracy: 0.3398\n",
            "Epoch 49/100\n",
            "\n",
            "Epoch 00049: val_loss did not improve from 2.00388\n",
            "10/10 - 1s - loss: 0.8662 - accuracy: 0.6900 - val_loss: 3.2046 - val_accuracy: 0.3031\n",
            "Epoch 50/100\n",
            "\n",
            "Epoch 00050: val_loss did not improve from 2.00388\n",
            "10/10 - 1s - loss: 0.9048 - accuracy: 0.6880 - val_loss: 2.1184 - val_accuracy: 0.3846\n",
            "Epoch 51/100\n",
            "\n",
            "Epoch 00051: val_loss did not improve from 2.00388\n",
            "10/10 - 1s - loss: 0.8196 - accuracy: 0.7260 - val_loss: 3.2118 - val_accuracy: 0.3089\n",
            "Epoch 52/100\n",
            "\n",
            "Epoch 00052: val_loss did not improve from 2.00388\n",
            "10/10 - 1s - loss: 0.8346 - accuracy: 0.7010 - val_loss: 2.5342 - val_accuracy: 0.3396\n",
            "Epoch 53/100\n",
            "\n",
            "Epoch 00053: val_loss did not improve from 2.00388\n",
            "10/10 - 1s - loss: 0.8142 - accuracy: 0.7050 - val_loss: 2.7233 - val_accuracy: 0.3728\n",
            "Epoch 54/100\n",
            "\n",
            "Epoch 00054: val_loss did not improve from 2.00388\n",
            "10/10 - 1s - loss: 0.8093 - accuracy: 0.7050 - val_loss: 2.5445 - val_accuracy: 0.3625\n",
            "Epoch 55/100\n",
            "\n",
            "Epoch 00055: val_loss did not improve from 2.00388\n",
            "10/10 - 1s - loss: 0.7967 - accuracy: 0.7190 - val_loss: 2.4836 - val_accuracy: 0.3742\n",
            "Epoch 56/100\n",
            "\n",
            "Epoch 00056: val_loss did not improve from 2.00388\n",
            "10/10 - 1s - loss: 0.8168 - accuracy: 0.7300 - val_loss: 2.0841 - val_accuracy: 0.4173\n",
            "Epoch 57/100\n",
            "\n",
            "Epoch 00057: val_loss did not improve from 2.00388\n",
            "10/10 - 1s - loss: 0.7546 - accuracy: 0.7410 - val_loss: 2.2602 - val_accuracy: 0.4177\n",
            "Epoch 58/100\n",
            "\n",
            "Epoch 00058: val_loss did not improve from 2.00388\n",
            "10/10 - 1s - loss: 0.7647 - accuracy: 0.7520 - val_loss: 2.7577 - val_accuracy: 0.3668\n",
            "Epoch 59/100\n",
            "\n",
            "Epoch 00059: val_loss did not improve from 2.00388\n",
            "10/10 - 1s - loss: 0.7650 - accuracy: 0.7360 - val_loss: 3.0828 - val_accuracy: 0.3268\n",
            "Epoch 60/100\n",
            "\n",
            "Epoch 00060: val_loss did not improve from 2.00388\n",
            "10/10 - 1s - loss: 0.7509 - accuracy: 0.7500 - val_loss: 2.7441 - val_accuracy: 0.3849\n",
            "Epoch 61/100\n",
            "\n",
            "Epoch 00061: val_loss did not improve from 2.00388\n",
            "10/10 - 1s - loss: 0.6984 - accuracy: 0.7760 - val_loss: 3.2754 - val_accuracy: 0.3247\n",
            "Epoch 62/100\n",
            "\n",
            "Epoch 00062: val_loss did not improve from 2.00388\n",
            "10/10 - 1s - loss: 0.7168 - accuracy: 0.7460 - val_loss: 5.0826 - val_accuracy: 0.2778\n",
            "Epoch 63/100\n",
            "\n",
            "Epoch 00063: val_loss did not improve from 2.00388\n",
            "10/10 - 1s - loss: 0.8203 - accuracy: 0.7070 - val_loss: 2.8179 - val_accuracy: 0.3548\n",
            "Epoch 64/100\n",
            "\n",
            "Epoch 00064: val_loss did not improve from 2.00388\n",
            "10/10 - 1s - loss: 0.6908 - accuracy: 0.7580 - val_loss: 3.2446 - val_accuracy: 0.3503\n",
            "Epoch 65/100\n",
            "\n",
            "Epoch 00065: val_loss did not improve from 2.00388\n",
            "10/10 - 1s - loss: 0.7148 - accuracy: 0.7450 - val_loss: 3.1822 - val_accuracy: 0.3453\n",
            "Epoch 66/100\n",
            "\n",
            "Epoch 00066: val_loss did not improve from 2.00388\n",
            "10/10 - 1s - loss: 0.7088 - accuracy: 0.7450 - val_loss: 2.8765 - val_accuracy: 0.3608\n",
            "Epoch 67/100\n",
            "\n",
            "Epoch 00067: val_loss did not improve from 2.00388\n",
            "10/10 - 1s - loss: 0.7212 - accuracy: 0.7370 - val_loss: 2.4191 - val_accuracy: 0.4044\n",
            "Epoch 68/100\n",
            "\n",
            "Epoch 00068: val_loss did not improve from 2.00388\n",
            "10/10 - 1s - loss: 0.6932 - accuracy: 0.7740 - val_loss: 2.6344 - val_accuracy: 0.3855\n",
            "Epoch 69/100\n",
            "\n",
            "Epoch 00069: val_loss did not improve from 2.00388\n",
            "10/10 - 1s - loss: 0.6734 - accuracy: 0.7750 - val_loss: 2.7187 - val_accuracy: 0.3636\n",
            "Epoch 70/100\n",
            "\n",
            "Epoch 00070: val_loss did not improve from 2.00388\n",
            "10/10 - 1s - loss: 0.6495 - accuracy: 0.7760 - val_loss: 2.5896 - val_accuracy: 0.3649\n",
            "Epoch 71/100\n",
            "\n",
            "Epoch 00071: val_loss did not improve from 2.00388\n",
            "10/10 - 1s - loss: 0.6585 - accuracy: 0.7820 - val_loss: 2.7116 - val_accuracy: 0.3904\n",
            "Epoch 72/100\n",
            "\n",
            "Epoch 00072: val_loss did not improve from 2.00388\n",
            "10/10 - 1s - loss: 0.6153 - accuracy: 0.7920 - val_loss: 2.8049 - val_accuracy: 0.3701\n",
            "Epoch 73/100\n",
            "\n",
            "Epoch 00073: val_loss did not improve from 2.00388\n",
            "10/10 - 1s - loss: 0.6249 - accuracy: 0.7780 - val_loss: 3.1805 - val_accuracy: 0.3329\n",
            "Epoch 74/100\n",
            "\n",
            "Epoch 00074: val_loss did not improve from 2.00388\n",
            "10/10 - 1s - loss: 0.6539 - accuracy: 0.7610 - val_loss: 4.0880 - val_accuracy: 0.3186\n",
            "Epoch 75/100\n",
            "\n",
            "Epoch 00075: val_loss did not improve from 2.00388\n",
            "10/10 - 1s - loss: 0.6472 - accuracy: 0.7750 - val_loss: 3.1648 - val_accuracy: 0.3450\n",
            "Epoch 76/100\n",
            "\n",
            "Epoch 00076: val_loss did not improve from 2.00388\n",
            "10/10 - 1s - loss: 0.6404 - accuracy: 0.7800 - val_loss: 2.7450 - val_accuracy: 0.3611\n",
            "Epoch 77/100\n",
            "\n",
            "Epoch 00077: val_loss did not improve from 2.00388\n",
            "10/10 - 1s - loss: 0.5841 - accuracy: 0.7900 - val_loss: 3.6606 - val_accuracy: 0.3281\n",
            "Epoch 78/100\n",
            "\n",
            "Epoch 00078: val_loss did not improve from 2.00388\n",
            "10/10 - 1s - loss: 0.6476 - accuracy: 0.7830 - val_loss: 2.6355 - val_accuracy: 0.3832\n",
            "Epoch 79/100\n",
            "\n",
            "Epoch 00079: val_loss did not improve from 2.00388\n",
            "10/10 - 1s - loss: 0.6375 - accuracy: 0.7830 - val_loss: 3.6241 - val_accuracy: 0.3528\n",
            "Epoch 80/100\n",
            "\n",
            "Epoch 00080: val_loss did not improve from 2.00388\n",
            "10/10 - 1s - loss: 0.5784 - accuracy: 0.7830 - val_loss: 3.1786 - val_accuracy: 0.3688\n",
            "Epoch 81/100\n",
            "\n",
            "Epoch 00081: val_loss did not improve from 2.00388\n",
            "10/10 - 1s - loss: 0.6136 - accuracy: 0.7930 - val_loss: 2.9179 - val_accuracy: 0.3726\n",
            "Epoch 82/100\n",
            "\n",
            "Epoch 00082: val_loss did not improve from 2.00388\n",
            "10/10 - 1s - loss: 0.5575 - accuracy: 0.8210 - val_loss: 2.8327 - val_accuracy: 0.3664\n",
            "Epoch 83/100\n",
            "\n",
            "Epoch 00083: val_loss did not improve from 2.00388\n",
            "10/10 - 1s - loss: 0.5338 - accuracy: 0.8150 - val_loss: 3.6856 - val_accuracy: 0.3481\n",
            "Epoch 84/100\n",
            "\n",
            "Epoch 00084: val_loss did not improve from 2.00388\n",
            "10/10 - 1s - loss: 0.5529 - accuracy: 0.8120 - val_loss: 3.3505 - val_accuracy: 0.3528\n",
            "Epoch 85/100\n",
            "\n",
            "Epoch 00085: val_loss did not improve from 2.00388\n",
            "10/10 - 1s - loss: 0.5617 - accuracy: 0.8060 - val_loss: 3.0622 - val_accuracy: 0.3718\n",
            "Epoch 86/100\n",
            "\n",
            "Epoch 00086: val_loss did not improve from 2.00388\n",
            "10/10 - 1s - loss: 0.5198 - accuracy: 0.8150 - val_loss: 2.9954 - val_accuracy: 0.3560\n",
            "Epoch 87/100\n",
            "\n",
            "Epoch 00087: val_loss did not improve from 2.00388\n",
            "10/10 - 1s - loss: 0.5678 - accuracy: 0.8000 - val_loss: 3.0743 - val_accuracy: 0.3588\n",
            "Epoch 88/100\n",
            "\n",
            "Epoch 00088: val_loss did not improve from 2.00388\n",
            "10/10 - 1s - loss: 0.6263 - accuracy: 0.7770 - val_loss: 3.4688 - val_accuracy: 0.3424\n",
            "Epoch 89/100\n",
            "\n",
            "Epoch 00089: val_loss did not improve from 2.00388\n",
            "10/10 - 1s - loss: 0.5160 - accuracy: 0.8250 - val_loss: 2.7768 - val_accuracy: 0.3984\n",
            "Epoch 90/100\n",
            "\n",
            "Epoch 00090: val_loss did not improve from 2.00388\n",
            "10/10 - 1s - loss: 0.5358 - accuracy: 0.8100 - val_loss: 3.8073 - val_accuracy: 0.3063\n",
            "Epoch 91/100\n",
            "\n",
            "Epoch 00091: val_loss did not improve from 2.00388\n",
            "10/10 - 1s - loss: 0.5189 - accuracy: 0.8190 - val_loss: 2.8620 - val_accuracy: 0.3911\n",
            "Epoch 92/100\n",
            "\n",
            "Epoch 00092: val_loss did not improve from 2.00388\n",
            "10/10 - 1s - loss: 0.5272 - accuracy: 0.8140 - val_loss: 2.7054 - val_accuracy: 0.3833\n",
            "Epoch 93/100\n",
            "\n",
            "Epoch 00093: val_loss did not improve from 2.00388\n",
            "10/10 - 1s - loss: 0.5407 - accuracy: 0.8210 - val_loss: 2.9011 - val_accuracy: 0.3921\n",
            "Epoch 94/100\n",
            "\n",
            "Epoch 00094: val_loss did not improve from 2.00388\n",
            "10/10 - 1s - loss: 0.5038 - accuracy: 0.8330 - val_loss: 3.4062 - val_accuracy: 0.3614\n",
            "Epoch 95/100\n",
            "\n",
            "Epoch 00095: val_loss did not improve from 2.00388\n",
            "10/10 - 1s - loss: 0.5283 - accuracy: 0.8100 - val_loss: 2.9455 - val_accuracy: 0.3772\n",
            "Epoch 96/100\n",
            "\n",
            "Epoch 00096: val_loss did not improve from 2.00388\n",
            "10/10 - 1s - loss: 0.5427 - accuracy: 0.8130 - val_loss: 2.9112 - val_accuracy: 0.3536\n",
            "Epoch 97/100\n",
            "\n",
            "Epoch 00097: val_loss did not improve from 2.00388\n",
            "10/10 - 1s - loss: 0.5107 - accuracy: 0.8240 - val_loss: 2.8144 - val_accuracy: 0.3808\n",
            "Epoch 98/100\n",
            "\n",
            "Epoch 00098: val_loss did not improve from 2.00388\n",
            "10/10 - 1s - loss: 0.5180 - accuracy: 0.8220 - val_loss: 3.8205 - val_accuracy: 0.3148\n",
            "Epoch 99/100\n",
            "\n",
            "Epoch 00099: val_loss did not improve from 2.00388\n",
            "10/10 - 1s - loss: 0.4691 - accuracy: 0.8440 - val_loss: 3.2882 - val_accuracy: 0.3283\n",
            "Epoch 100/100\n",
            "\n",
            "Epoch 00100: val_loss did not improve from 2.00388\n",
            "10/10 - 1s - loss: 0.4723 - accuracy: 0.8280 - val_loss: 2.8600 - val_accuracy: 0.3839\n"
          ],
          "name": "stdout"
        }
      ]
    },
    {
      "cell_type": "markdown",
      "metadata": {
        "id": "ytVVvCz3sbFZ"
      },
      "source": [
        "Normally results are above 90% for accuracy with the full data set and SGD and Resnet 50. Since we used limited data, we have less accuracy.\n",
        "\n"
      ]
    },
    {
      "cell_type": "code",
      "metadata": {
        "id": "yPyt0DxrKCGW",
        "colab": {
          "base_uri": "https://localhost:8080/",
          "height": 265
        },
        "outputId": "8194c06d-2441-4fae-9890-49778265f7ec"
      },
      "source": [
        "def plot_loss(history,ylim_values=None):\n",
        "    plt.plot(history.history[\"loss\"], label = 'Train loss')\n",
        "    plt.plot(history.history[\"val_loss\"], linestyle = 'dashed', label = 'Validation loss')\n",
        "    if ylim_values is not None:\n",
        "        plt.ylim(ylim_values)\n",
        "    plt.grid()\n",
        "    plt.legend()\n",
        "    plt.show()\n",
        "\n",
        "plot_loss(history)"
      ],
      "execution_count": 25,
      "outputs": [
        {
          "output_type": "display_data",
          "data": {
            "image/png": "[encoded data removed]",
            "text/plain": [
              "<Figure size 432x288 with 1 Axes>"
            ]
          },
          "metadata": {
            "tags": [],
            "needs_background": "light"
          }
        }
      ]
    },
    {
      "cell_type": "code",
      "metadata": {
        "id": "KVdPkMknQUWc",
        "colab": {
          "base_uri": "https://localhost:8080/",
          "height": 265
        },
        "outputId": "8a2b33ca-97f2-4c3a-d2d8-e3ec3cae8160"
      },
      "source": [
        "\n",
        "def plot_accuracy(history):\n",
        "\n",
        "  plt.plot(history.history[\"accuracy\"], label = 'Train Accuracy')\n",
        "  plt.plot(history.history[\"val_accuracy\"], linestyle = 'dashed', label = 'Test Accuracy')\n",
        "  plt.grid()\n",
        "  plt.legend()\n",
        "  plt.show()\n",
        "plot_accuracy(history)"
      ],
      "execution_count": 26,
      "outputs": [
        {
          "output_type": "display_data",
          "data": {
            "image/png": "[encoded data removed]",
            "text/plain": [
              "<Figure size 432x288 with 1 Axes>"
            ]
          },
          "metadata": {
            "tags": [],
            "needs_background": "light"
          }
        }
      ]
    },
    {
      "cell_type": "markdown",
      "metadata": {
        "id": "uRB1_CvBxpNx"
      },
      "source": [
        "Saving Results"
      ]
    },
    {
      "cell_type": "code",
      "metadata": {
        "id": "UfmxCZxjDggb"
      },
      "source": [
        "path_softmax=data_tmp_dir+\"cifar10_\"+str(TRAIN_SAMPLE_LIMIT)+\"_softmax_\"+str(num_epoch)+\"_epoch_resnet20.pkl\"\n",
        "df_history=pd.DataFrame(history.history)\n",
        "df_history.to_csv(path_softmax)"
      ],
      "execution_count": 27,
      "outputs": []
    },
    {
      "cell_type": "code",
      "metadata": {
        "id": "cQf6pi0x9l-z"
      },
      "source": [
        ""
      ],
      "execution_count": null,
      "outputs": []
    },
    {
      "cell_type": "markdown",
      "metadata": {
        "id": "SshY-gV59nyl"
      },
      "source": [
        "### Cosine Loss\n",
        "\n",
        "Lets implement a cosine loss with tf.keras. This paper describes different loss functions: https://arxiv.org/pdf/1901.09054.pdf\n",
        "\n",
        "Hints: \n",
        "* You could use the one hot encoder here: https://www.tensorflow.org/api_docs/python/tf/one_hot\n",
        "* You could use the built in CosineSimilarity https://www.tensorflow.org/api_docs/python/tf/keras/losses/CosineSimilarity "
      ]
    },
    {
      "cell_type": "code",
      "metadata": {
        "id": "lPB0cVwfwx-V"
      },
      "source": [
        "#TASK: create the cosine loss function. \n",
        "def my_cosine_similarity():\n",
        "    def loss(y_true, y_pred):\n",
        "        target_one_hot = tf.one_hot(y_true, depth=N_CLASSES, on_value=1.0) ### PUT YOUR CODE HERE ### ,depth=### PUT YOUR CODE HERE ### ,on_value= ### PUT YOUR CODE HERE ### )\n",
        "        target_one_hot = target_one_hot[:,0,:]\n",
        "\n",
        "        cosine_loss = tf.keras.losses.CosineSimilarity(axis=1) ### PUT YOUR CODE HERE ### Dont forget axis!!!\n",
        "        return 1+cosine_loss(target_one_hot, y_pred)\n",
        "\n",
        "    return loss\n"
      ],
      "execution_count": 33,
      "outputs": []
    },
    {
      "cell_type": "code",
      "metadata": {
        "id": "y4YUI6_99jQG"
      },
      "source": [
        "# TASK: Create the model and compile it. Be careful with the last layer's activation function.\n",
        "# What should be the activation function for the last layer in case of cosine loss? \n",
        "model = resnet(last_layer = Dense(N_CLASSES, activation='linear'))\n",
        "\n",
        "# TASK: use the above defined function.\n",
        "model.compile(optimizer=optimizer, loss=my_cosine_similarity(), metrics=[\"accuracy\"])"
      ],
      "execution_count": 37,
      "outputs": []
    },
    {
      "cell_type": "code",
      "metadata": {
        "id": "AJ7fu7i7-Ac0",
        "colab": {
          "base_uri": "https://localhost:8080/"
        },
        "outputId": "1d4c4b98-c49d-43d8-8130-47a77410b352"
      },
      "source": [
        "\n",
        "history = model.fit(datagen.flow(train_x, train_y, batch_size=batch_size,seed=SEED), \n",
        "                    epochs=num_epoch, \n",
        "                    steps_per_epoch=number_train//batch_size, \n",
        "                    validation_data=datagen_for_test.flow(test_x, test_y, batch_size=batch_size,seed=SEED), \n",
        "                    validation_steps=number_test//batch_size,\n",
        "                    verbose=2)\n"
      ],
      "execution_count": 38,
      "outputs": [
        {
          "output_type": "stream",
          "text": [
            "Epoch 1/100\n",
            "10/10 - 2s - loss: 0.7884 - accuracy: 0.1470 - val_loss: 1.0859 - val_accuracy: 0.1000\n",
            "Epoch 2/100\n",
            "10/10 - 1s - loss: 0.6246 - accuracy: 0.2060 - val_loss: 0.8698 - val_accuracy: 0.1193\n",
            "Epoch 3/100\n",
            "10/10 - 1s - loss: 0.6042 - accuracy: 0.2430 - val_loss: 0.8200 - val_accuracy: 0.0988\n",
            "Epoch 4/100\n",
            "10/10 - 1s - loss: 0.5935 - accuracy: 0.2680 - val_loss: 0.8418 - val_accuracy: 0.0986\n",
            "Epoch 5/100\n",
            "10/10 - 1s - loss: 0.5826 - accuracy: 0.2720 - val_loss: 0.8204 - val_accuracy: 0.1065\n",
            "Epoch 6/100\n",
            "10/10 - 1s - loss: 0.5757 - accuracy: 0.2860 - val_loss: 0.7745 - val_accuracy: 0.1277\n",
            "Epoch 7/100\n",
            "10/10 - 1s - loss: 0.5629 - accuracy: 0.3080 - val_loss: 0.7833 - val_accuracy: 0.1969\n",
            "Epoch 8/100\n",
            "10/10 - 1s - loss: 0.5560 - accuracy: 0.3120 - val_loss: 0.7272 - val_accuracy: 0.2396\n",
            "Epoch 9/100\n",
            "10/10 - 1s - loss: 0.5421 - accuracy: 0.3340 - val_loss: 0.7570 - val_accuracy: 0.2107\n",
            "Epoch 10/100\n",
            "10/10 - 1s - loss: 0.5402 - accuracy: 0.3550 - val_loss: 0.8056 - val_accuracy: 0.1909\n",
            "Epoch 11/100\n",
            "10/10 - 1s - loss: 0.5291 - accuracy: 0.3610 - val_loss: 0.7229 - val_accuracy: 0.2347\n",
            "Epoch 12/100\n",
            "10/10 - 1s - loss: 0.5217 - accuracy: 0.3740 - val_loss: 0.6603 - val_accuracy: 0.2571\n",
            "Epoch 13/100\n",
            "10/10 - 1s - loss: 0.5121 - accuracy: 0.3850 - val_loss: 0.6542 - val_accuracy: 0.2555\n",
            "Epoch 14/100\n",
            "10/10 - 1s - loss: 0.5069 - accuracy: 0.3850 - val_loss: 0.6126 - val_accuracy: 0.2461\n",
            "Epoch 15/100\n",
            "10/10 - 1s - loss: 0.5035 - accuracy: 0.3950 - val_loss: 0.5938 - val_accuracy: 0.2688\n",
            "Epoch 16/100\n",
            "10/10 - 1s - loss: 0.4968 - accuracy: 0.4070 - val_loss: 0.5824 - val_accuracy: 0.2840\n",
            "Epoch 17/100\n",
            "10/10 - 1s - loss: 0.4872 - accuracy: 0.4140 - val_loss: 0.6568 - val_accuracy: 0.2037\n",
            "Epoch 18/100\n",
            "10/10 - 1s - loss: 0.4878 - accuracy: 0.4010 - val_loss: 0.5675 - val_accuracy: 0.2950\n",
            "Epoch 19/100\n",
            "10/10 - 1s - loss: 0.4768 - accuracy: 0.4140 - val_loss: 0.6519 - val_accuracy: 0.2154\n",
            "Epoch 20/100\n",
            "10/10 - 1s - loss: 0.4723 - accuracy: 0.4320 - val_loss: 0.6812 - val_accuracy: 0.2037\n",
            "Epoch 21/100\n",
            "10/10 - 1s - loss: 0.4621 - accuracy: 0.4580 - val_loss: 0.6606 - val_accuracy: 0.2481\n",
            "Epoch 22/100\n",
            "10/10 - 1s - loss: 0.4640 - accuracy: 0.4560 - val_loss: 0.5504 - val_accuracy: 0.3225\n",
            "Epoch 23/100\n",
            "10/10 - 1s - loss: 0.4593 - accuracy: 0.4580 - val_loss: 0.6124 - val_accuracy: 0.2645\n",
            "Epoch 24/100\n",
            "10/10 - 1s - loss: 0.4513 - accuracy: 0.4700 - val_loss: 0.5900 - val_accuracy: 0.2838\n",
            "Epoch 25/100\n",
            "10/10 - 1s - loss: 0.4457 - accuracy: 0.4710 - val_loss: 0.5772 - val_accuracy: 0.3069\n",
            "Epoch 26/100\n",
            "10/10 - 1s - loss: 0.4354 - accuracy: 0.4990 - val_loss: 0.5594 - val_accuracy: 0.3342\n",
            "Epoch 27/100\n",
            "10/10 - 1s - loss: 0.4429 - accuracy: 0.4740 - val_loss: 0.5894 - val_accuracy: 0.2889\n",
            "Epoch 28/100\n",
            "10/10 - 1s - loss: 0.4303 - accuracy: 0.4930 - val_loss: 0.5715 - val_accuracy: 0.3144\n",
            "Epoch 29/100\n",
            "10/10 - 1s - loss: 0.4253 - accuracy: 0.4960 - val_loss: 0.5238 - val_accuracy: 0.3780\n",
            "Epoch 30/100\n",
            "10/10 - 1s - loss: 0.4201 - accuracy: 0.5110 - val_loss: 0.5847 - val_accuracy: 0.3017\n",
            "Epoch 31/100\n",
            "10/10 - 1s - loss: 0.4118 - accuracy: 0.5180 - val_loss: 0.5548 - val_accuracy: 0.3335\n",
            "Epoch 32/100\n",
            "10/10 - 1s - loss: 0.4082 - accuracy: 0.5280 - val_loss: 0.5671 - val_accuracy: 0.3291\n",
            "Epoch 33/100\n",
            "10/10 - 1s - loss: 0.4101 - accuracy: 0.5190 - val_loss: 0.5280 - val_accuracy: 0.3605\n",
            "Epoch 34/100\n",
            "10/10 - 1s - loss: 0.3938 - accuracy: 0.5340 - val_loss: 0.5905 - val_accuracy: 0.2845\n",
            "Epoch 35/100\n",
            "10/10 - 1s - loss: 0.4015 - accuracy: 0.5300 - val_loss: 0.5562 - val_accuracy: 0.3422\n",
            "Epoch 36/100\n",
            "10/10 - 1s - loss: 0.3966 - accuracy: 0.5340 - val_loss: 0.5088 - val_accuracy: 0.3926\n",
            "Epoch 37/100\n",
            "10/10 - 1s - loss: 0.3908 - accuracy: 0.5540 - val_loss: 0.5462 - val_accuracy: 0.3703\n",
            "Epoch 38/100\n",
            "10/10 - 1s - loss: 0.3668 - accuracy: 0.5660 - val_loss: 0.5194 - val_accuracy: 0.3873\n",
            "Epoch 39/100\n",
            "10/10 - 1s - loss: 0.3749 - accuracy: 0.5630 - val_loss: 0.5068 - val_accuracy: 0.4024\n",
            "Epoch 40/100\n",
            "10/10 - 1s - loss: 0.3770 - accuracy: 0.5650 - val_loss: 0.5227 - val_accuracy: 0.3842\n",
            "Epoch 41/100\n",
            "10/10 - 1s - loss: 0.3726 - accuracy: 0.5790 - val_loss: 0.5360 - val_accuracy: 0.3800\n",
            "Epoch 42/100\n",
            "10/10 - 1s - loss: 0.3849 - accuracy: 0.5510 - val_loss: 0.4974 - val_accuracy: 0.4159\n",
            "Epoch 43/100\n",
            "10/10 - 1s - loss: 0.3659 - accuracy: 0.5880 - val_loss: 0.4850 - val_accuracy: 0.4268\n",
            "Epoch 44/100\n",
            "10/10 - 1s - loss: 0.3564 - accuracy: 0.5940 - val_loss: 0.4998 - val_accuracy: 0.4114\n",
            "Epoch 45/100\n",
            "10/10 - 1s - loss: 0.3590 - accuracy: 0.5890 - val_loss: 0.4850 - val_accuracy: 0.4270\n",
            "Epoch 46/100\n",
            "10/10 - 1s - loss: 0.3510 - accuracy: 0.5990 - val_loss: 0.6013 - val_accuracy: 0.3147\n",
            "Epoch 47/100\n",
            "10/10 - 1s - loss: 0.3632 - accuracy: 0.5690 - val_loss: 0.5016 - val_accuracy: 0.4093\n",
            "Epoch 48/100\n",
            "10/10 - 1s - loss: 0.3427 - accuracy: 0.6100 - val_loss: 0.5464 - val_accuracy: 0.3489\n",
            "Epoch 49/100\n",
            "10/10 - 1s - loss: 0.3399 - accuracy: 0.6170 - val_loss: 0.5048 - val_accuracy: 0.3992\n",
            "Epoch 50/100\n",
            "10/10 - 1s - loss: 0.3469 - accuracy: 0.6030 - val_loss: 0.5197 - val_accuracy: 0.3961\n",
            "Epoch 51/100\n",
            "10/10 - 1s - loss: 0.3223 - accuracy: 0.6460 - val_loss: 0.6144 - val_accuracy: 0.3020\n",
            "Epoch 52/100\n",
            "10/10 - 1s - loss: 0.3255 - accuracy: 0.6320 - val_loss: 0.5479 - val_accuracy: 0.3805\n",
            "Epoch 53/100\n",
            "10/10 - 1s - loss: 0.3241 - accuracy: 0.6260 - val_loss: 0.5609 - val_accuracy: 0.3487\n",
            "Epoch 54/100\n",
            "10/10 - 1s - loss: 0.3237 - accuracy: 0.6390 - val_loss: 0.4845 - val_accuracy: 0.4304\n",
            "Epoch 55/100\n",
            "10/10 - 1s - loss: 0.3269 - accuracy: 0.6190 - val_loss: 0.5101 - val_accuracy: 0.4073\n",
            "Epoch 56/100\n",
            "10/10 - 1s - loss: 0.3051 - accuracy: 0.6590 - val_loss: 0.5113 - val_accuracy: 0.4157\n",
            "Epoch 57/100\n",
            "10/10 - 1s - loss: 0.3074 - accuracy: 0.6600 - val_loss: 0.5078 - val_accuracy: 0.4229\n",
            "Epoch 58/100\n",
            "10/10 - 1s - loss: 0.3025 - accuracy: 0.6510 - val_loss: 0.4612 - val_accuracy: 0.4647\n",
            "Epoch 59/100\n",
            "10/10 - 1s - loss: 0.3090 - accuracy: 0.6530 - val_loss: 0.5335 - val_accuracy: 0.3937\n",
            "Epoch 60/100\n",
            "10/10 - 1s - loss: 0.3013 - accuracy: 0.6650 - val_loss: 0.4890 - val_accuracy: 0.4344\n",
            "Epoch 61/100\n",
            "10/10 - 1s - loss: 0.3032 - accuracy: 0.6540 - val_loss: 0.5003 - val_accuracy: 0.4115\n",
            "Epoch 62/100\n",
            "10/10 - 1s - loss: 0.2849 - accuracy: 0.6930 - val_loss: 0.5274 - val_accuracy: 0.3818\n",
            "Epoch 63/100\n",
            "10/10 - 1s - loss: 0.3010 - accuracy: 0.6640 - val_loss: 0.5512 - val_accuracy: 0.3888\n",
            "Epoch 64/100\n",
            "10/10 - 1s - loss: 0.2849 - accuracy: 0.6830 - val_loss: 0.5184 - val_accuracy: 0.4036\n",
            "Epoch 65/100\n",
            "10/10 - 1s - loss: 0.2836 - accuracy: 0.6950 - val_loss: 0.5020 - val_accuracy: 0.4372\n",
            "Epoch 66/100\n",
            "10/10 - 1s - loss: 0.2886 - accuracy: 0.6860 - val_loss: 0.5519 - val_accuracy: 0.3829\n",
            "Epoch 67/100\n",
            "10/10 - 1s - loss: 0.2901 - accuracy: 0.6700 - val_loss: 0.5141 - val_accuracy: 0.4113\n",
            "Epoch 68/100\n",
            "10/10 - 1s - loss: 0.2831 - accuracy: 0.6830 - val_loss: 0.5005 - val_accuracy: 0.4230\n",
            "Epoch 69/100\n",
            "10/10 - 1s - loss: 0.2798 - accuracy: 0.6920 - val_loss: 0.5642 - val_accuracy: 0.3830\n",
            "Epoch 70/100\n",
            "10/10 - 1s - loss: 0.2779 - accuracy: 0.7040 - val_loss: 0.4839 - val_accuracy: 0.4399\n",
            "Epoch 71/100\n",
            "10/10 - 1s - loss: 0.2703 - accuracy: 0.6950 - val_loss: 0.4902 - val_accuracy: 0.4361\n",
            "Epoch 72/100\n",
            "10/10 - 1s - loss: 0.2708 - accuracy: 0.6910 - val_loss: 0.5071 - val_accuracy: 0.4238\n",
            "Epoch 73/100\n",
            "10/10 - 1s - loss: 0.2534 - accuracy: 0.7170 - val_loss: 0.5291 - val_accuracy: 0.4027\n",
            "Epoch 74/100\n",
            "10/10 - 1s - loss: 0.2537 - accuracy: 0.7260 - val_loss: 0.4821 - val_accuracy: 0.4447\n",
            "Epoch 75/100\n",
            "10/10 - 1s - loss: 0.2593 - accuracy: 0.7100 - val_loss: 0.5912 - val_accuracy: 0.3429\n",
            "Epoch 76/100\n",
            "10/10 - 1s - loss: 0.2499 - accuracy: 0.7240 - val_loss: 0.5902 - val_accuracy: 0.3366\n",
            "Epoch 77/100\n",
            "10/10 - 1s - loss: 0.2593 - accuracy: 0.7150 - val_loss: 0.5841 - val_accuracy: 0.3459\n",
            "Epoch 78/100\n",
            "10/10 - 1s - loss: 0.2491 - accuracy: 0.7350 - val_loss: 0.5031 - val_accuracy: 0.4264\n",
            "Epoch 79/100\n",
            "10/10 - 1s - loss: 0.2593 - accuracy: 0.7150 - val_loss: 0.4927 - val_accuracy: 0.4417\n",
            "Epoch 80/100\n",
            "10/10 - 1s - loss: 0.2553 - accuracy: 0.7230 - val_loss: 0.5261 - val_accuracy: 0.4023\n",
            "Epoch 81/100\n",
            "10/10 - 1s - loss: 0.2484 - accuracy: 0.7230 - val_loss: 0.5303 - val_accuracy: 0.4081\n",
            "Epoch 82/100\n",
            "10/10 - 1s - loss: 0.2471 - accuracy: 0.7310 - val_loss: 0.5122 - val_accuracy: 0.4199\n",
            "Epoch 83/100\n",
            "10/10 - 1s - loss: 0.2406 - accuracy: 0.7370 - val_loss: 0.5193 - val_accuracy: 0.4116\n",
            "Epoch 84/100\n",
            "10/10 - 1s - loss: 0.2378 - accuracy: 0.7410 - val_loss: 0.5231 - val_accuracy: 0.4109\n",
            "Epoch 85/100\n",
            "10/10 - 1s - loss: 0.2335 - accuracy: 0.7500 - val_loss: 0.4838 - val_accuracy: 0.4457\n",
            "Epoch 86/100\n",
            "10/10 - 1s - loss: 0.2202 - accuracy: 0.7640 - val_loss: 0.4640 - val_accuracy: 0.4620\n",
            "Epoch 87/100\n",
            "10/10 - 1s - loss: 0.2353 - accuracy: 0.7420 - val_loss: 0.4946 - val_accuracy: 0.4365\n",
            "Epoch 88/100\n",
            "10/10 - 1s - loss: 0.2366 - accuracy: 0.7500 - val_loss: 0.5468 - val_accuracy: 0.3894\n",
            "Epoch 89/100\n",
            "10/10 - 1s - loss: 0.2130 - accuracy: 0.7730 - val_loss: 0.5414 - val_accuracy: 0.3865\n",
            "Epoch 90/100\n",
            "10/10 - 1s - loss: 0.2311 - accuracy: 0.7440 - val_loss: 0.4756 - val_accuracy: 0.4657\n",
            "Epoch 91/100\n",
            "10/10 - 1s - loss: 0.2040 - accuracy: 0.7810 - val_loss: 0.5202 - val_accuracy: 0.4223\n",
            "Epoch 92/100\n",
            "10/10 - 1s - loss: 0.2145 - accuracy: 0.7590 - val_loss: 0.4974 - val_accuracy: 0.4409\n",
            "Epoch 93/100\n",
            "10/10 - 1s - loss: 0.2244 - accuracy: 0.7570 - val_loss: 0.5368 - val_accuracy: 0.3994\n",
            "Epoch 94/100\n",
            "10/10 - 1s - loss: 0.2107 - accuracy: 0.7750 - val_loss: 0.4829 - val_accuracy: 0.4506\n",
            "Epoch 95/100\n",
            "10/10 - 1s - loss: 0.2257 - accuracy: 0.7640 - val_loss: 0.5289 - val_accuracy: 0.3987\n",
            "Epoch 96/100\n",
            "10/10 - 1s - loss: 0.2047 - accuracy: 0.7950 - val_loss: 0.4756 - val_accuracy: 0.4682\n",
            "Epoch 97/100\n",
            "10/10 - 1s - loss: 0.2139 - accuracy: 0.7660 - val_loss: 0.4990 - val_accuracy: 0.4391\n",
            "Epoch 98/100\n",
            "10/10 - 1s - loss: 0.2073 - accuracy: 0.7670 - val_loss: 0.5574 - val_accuracy: 0.3842\n",
            "Epoch 99/100\n",
            "10/10 - 1s - loss: 0.1978 - accuracy: 0.8040 - val_loss: 0.4902 - val_accuracy: 0.4521\n",
            "Epoch 100/100\n",
            "10/10 - 1s - loss: 0.2114 - accuracy: 0.7740 - val_loss: 0.4669 - val_accuracy: 0.4715\n"
          ],
          "name": "stdout"
        }
      ]
    },
    {
      "cell_type": "code",
      "metadata": {
        "id": "QyK5IUexQWkl"
      },
      "source": [
        "plot_loss(history)"
      ],
      "execution_count": null,
      "outputs": []
    },
    {
      "cell_type": "code",
      "metadata": {
        "id": "5UMO8C3pQ_AZ",
        "colab": {
          "base_uri": "https://localhost:8080/",
          "height": 265
        },
        "outputId": "e6363699-3fcc-4807-fe14-7cf16f652610"
      },
      "source": [
        "plot_accuracy(history)"
      ],
      "execution_count": 39,
      "outputs": [
        {
          "output_type": "display_data",
          "data": {
            "image/png": "[encoded data removed]",
            "text/plain": [
              "<Figure size 432x288 with 1 Axes>"
            ]
          },
          "metadata": {
            "tags": [],
            "needs_background": "light"
          }
        }
      ]
    },
    {
      "cell_type": "code",
      "metadata": {
        "id": "zEovPK4F-2ib"
      },
      "source": [
        "\n",
        "path_my_cosine_similarity=data_tmp_dir+\"cifar10_\"+str(TRAIN_SAMPLE_LIMIT)+\"_sample_my_cosine_similarity_\"+str(num_epoch)+\"_epoch_resnet20.pkl\"\n",
        "df_history=pd.DataFrame(history.history)\n",
        "df_history.to_csv(path_my_cosine_similarity)"
      ],
      "execution_count": 40,
      "outputs": []
    },
    {
      "cell_type": "code",
      "metadata": {
        "id": "9ShKgE3B_c19"
      },
      "source": [
        ""
      ],
      "execution_count": null,
      "outputs": []
    },
    {
      "cell_type": "markdown",
      "metadata": {
        "id": "bVWFH4igPl1L"
      },
      "source": [
        "### Cosine + Crossentropy loss\n",
        "According to this paper: https://arxiv.org/pdf/1901.09054.pdf\n",
        "\n",
        "You can reach even better performance if you use Cosine Loss and Crossentropy together.\n",
        "\n",
        "Hints: \n",
        "* You could use the one hot encoder here: https://www.tensorflow.org/api_docs/python/tf/one_hot\n",
        "* You could use the built in CosineSimilarity https://www.tensorflow.org/api_docs/python/tf/keras/losses/CosineSimilarity \n",
        "* You could use the Crossentropy function https://www.tensorflow.org/api_docs/python/tf/keras/losses/CategoricalCrossentropy\n"
      ]
    },
    {
      "cell_type": "code",
      "metadata": {
        "id": "Iv7hcQHTw5wg"
      },
      "source": [
        "#TASK implement the cosine_crossentropy loss function. \n",
        "def my_cosine_crossentropy():\n",
        "    def loss(y_true, y_pred):\n",
        "        #first one hot encoding for the labels\n",
        "        target_one_hot = tf.one_hot(y_true, depth=10, on_value=1.0) ### PUT YOUR CODE HERE ### ,depth=### PUT YOUR CODE HERE ### ,on_value=### PUT YOUR CODE HERE ### )\n",
        "        target_one_hot = target_one_hot[:,0,:]\n",
        "        \n",
        "        #use the CosineSimilarity class from above\n",
        "        cosine_loss = tf.keras.losses.CosineSimilarity(axis=1) ### PUT YOUR CODE HERE ### \n",
        "        cosine_loss_tensor=1+cosine_loss(target_one_hot, y_pred)\n",
        "        \n",
        "        #Watch out for the crossentropy, is it sparse or not sparse?\n",
        "        cce = tf.keras.losses.CategoricalCrossentropy() ### PUT YOUR CODE HERE ### \n",
        "        cce_loss=cce(target_one_hot, tf.nn.softmax(y_pred))\n",
        "        \n",
        "        #Take multiplication of them. (or you may try add them up)\n",
        "        cosine_loss_plus_cce_loss= cosine_loss_tensor*cce_loss ### PUT YOUR CODE HERE ### \n",
        "        return cosine_loss_plus_cce_loss\n",
        "\n",
        "    return loss"
      ],
      "execution_count": 51,
      "outputs": []
    },
    {
      "cell_type": "code",
      "metadata": {
        "id": "IKDF431j_cjT"
      },
      "source": [
        "# TASK: Create the model and compile it. Be careful with the last layer's activation function.\n",
        "# What should be the activation function for the last layer in case of cosine loss? \n",
        "model = resnet(last_layer=Dense(10, activation='linear'))\n",
        "# TASK: use the above defined function.\n",
        "model.compile(optimizer=optimizer, loss=my_cosine_crossentropy(), metrics=[\"accuracy\"])"
      ],
      "execution_count": 52,
      "outputs": []
    },
    {
      "cell_type": "code",
      "metadata": {
        "id": "cyMMWUSi_uOd",
        "colab": {
          "base_uri": "https://localhost:8080/"
        },
        "outputId": "bae6be4c-da1e-4611-fcfe-290a5fe35b09"
      },
      "source": [
        "\n",
        "history = model.fit(datagen.flow(train_x, train_y, batch_size=batch_size,seed=SEED), \n",
        "                    epochs=num_epoch, \n",
        "                    steps_per_epoch=number_train//batch_size, \n",
        "                    validation_data=datagen_for_test.flow(test_x, test_y, batch_size=batch_size,seed=SEED), \n",
        "                    validation_steps=number_test//batch_size,\n",
        "                    verbose=2)\n"
      ],
      "execution_count": 53,
      "outputs": [
        {
          "output_type": "stream",
          "text": [
            "Epoch 1/100\n",
            "10/10 - 2s - loss: 2.1480 - accuracy: 0.1750 - val_loss: 18.0199 - val_accuracy: 0.1000\n",
            "Epoch 2/100\n",
            "10/10 - 1s - loss: 1.2663 - accuracy: 0.2530 - val_loss: 83.2432 - val_accuracy: 0.1000\n",
            "Epoch 3/100\n",
            "10/10 - 1s - loss: 1.1705 - accuracy: 0.2530 - val_loss: 58.3403 - val_accuracy: 0.1000\n",
            "Epoch 4/100\n",
            "10/10 - 1s - loss: 1.0360 - accuracy: 0.3460 - val_loss: 28.0804 - val_accuracy: 0.1000\n",
            "Epoch 5/100\n",
            "10/10 - 1s - loss: 0.9894 - accuracy: 0.3650 - val_loss: 14.5011 - val_accuracy: 0.1000\n",
            "Epoch 6/100\n",
            "10/10 - 1s - loss: 0.9210 - accuracy: 0.3780 - val_loss: 4.4762 - val_accuracy: 0.1633\n",
            "Epoch 7/100\n",
            "10/10 - 1s - loss: 0.9151 - accuracy: 0.3610 - val_loss: 3.9874 - val_accuracy: 0.1465\n",
            "Epoch 8/100\n",
            "10/10 - 1s - loss: 0.8236 - accuracy: 0.4240 - val_loss: 3.3428 - val_accuracy: 0.1882\n",
            "Epoch 9/100\n",
            "10/10 - 1s - loss: 0.8342 - accuracy: 0.4430 - val_loss: 2.7028 - val_accuracy: 0.1940\n",
            "Epoch 10/100\n",
            "10/10 - 1s - loss: 0.8289 - accuracy: 0.4190 - val_loss: 2.7784 - val_accuracy: 0.1744\n",
            "Epoch 11/100\n",
            "10/10 - 1s - loss: 0.7749 - accuracy: 0.4410 - val_loss: 2.3560 - val_accuracy: 0.1810\n",
            "Epoch 12/100\n",
            "10/10 - 1s - loss: 0.7503 - accuracy: 0.4640 - val_loss: 2.6638 - val_accuracy: 0.1978\n",
            "Epoch 13/100\n",
            "10/10 - 1s - loss: 0.7015 - accuracy: 0.4750 - val_loss: 2.7547 - val_accuracy: 0.1876\n",
            "Epoch 14/100\n",
            "10/10 - 1s - loss: 0.6940 - accuracy: 0.5040 - val_loss: 2.5706 - val_accuracy: 0.1876\n",
            "Epoch 15/100\n",
            "10/10 - 1s - loss: 0.6914 - accuracy: 0.4790 - val_loss: 2.5650 - val_accuracy: 0.2003\n",
            "Epoch 16/100\n",
            "10/10 - 1s - loss: 0.6585 - accuracy: 0.4970 - val_loss: 2.2519 - val_accuracy: 0.2226\n",
            "Epoch 17/100\n",
            "10/10 - 1s - loss: 0.6636 - accuracy: 0.4780 - val_loss: 2.0901 - val_accuracy: 0.2241\n",
            "Epoch 18/100\n",
            "10/10 - 1s - loss: 0.6398 - accuracy: 0.5040 - val_loss: 2.3342 - val_accuracy: 0.1875\n",
            "Epoch 19/100\n",
            "10/10 - 1s - loss: 0.6169 - accuracy: 0.5010 - val_loss: 2.2141 - val_accuracy: 0.1988\n",
            "Epoch 20/100\n",
            "10/10 - 1s - loss: 0.6083 - accuracy: 0.5190 - val_loss: 3.0960 - val_accuracy: 0.1701\n",
            "Epoch 21/100\n",
            "10/10 - 1s - loss: 0.5632 - accuracy: 0.5380 - val_loss: 2.7839 - val_accuracy: 0.1758\n",
            "Epoch 22/100\n",
            "10/10 - 1s - loss: 0.5596 - accuracy: 0.5380 - val_loss: 2.4756 - val_accuracy: 0.1898\n",
            "Epoch 23/100\n",
            "10/10 - 1s - loss: 0.5346 - accuracy: 0.5630 - val_loss: 2.1023 - val_accuracy: 0.2165\n",
            "Epoch 24/100\n",
            "10/10 - 1s - loss: 0.5544 - accuracy: 0.5390 - val_loss: 2.1410 - val_accuracy: 0.2182\n",
            "Epoch 25/100\n",
            "10/10 - 1s - loss: 0.5107 - accuracy: 0.5470 - val_loss: 2.5940 - val_accuracy: 0.1868\n",
            "Epoch 26/100\n",
            "10/10 - 1s - loss: 0.5112 - accuracy: 0.5700 - val_loss: 2.1876 - val_accuracy: 0.2174\n",
            "Epoch 27/100\n",
            "10/10 - 1s - loss: 0.5026 - accuracy: 0.5680 - val_loss: 2.1056 - val_accuracy: 0.2166\n",
            "Epoch 28/100\n",
            "10/10 - 1s - loss: 0.5051 - accuracy: 0.5700 - val_loss: 1.7768 - val_accuracy: 0.2480\n",
            "Epoch 29/100\n",
            "10/10 - 1s - loss: 0.4666 - accuracy: 0.6090 - val_loss: 1.7265 - val_accuracy: 0.2499\n",
            "Epoch 30/100\n",
            "10/10 - 1s - loss: 0.4389 - accuracy: 0.6220 - val_loss: 2.1934 - val_accuracy: 0.2209\n",
            "Epoch 31/100\n",
            "10/10 - 1s - loss: 0.4232 - accuracy: 0.6210 - val_loss: 2.5485 - val_accuracy: 0.2074\n",
            "Epoch 32/100\n",
            "10/10 - 1s - loss: 0.4359 - accuracy: 0.6120 - val_loss: 1.7102 - val_accuracy: 0.2638\n",
            "Epoch 33/100\n",
            "10/10 - 1s - loss: 0.4455 - accuracy: 0.5910 - val_loss: 1.8065 - val_accuracy: 0.2773\n",
            "Epoch 34/100\n",
            "10/10 - 1s - loss: 0.3918 - accuracy: 0.6350 - val_loss: 1.8843 - val_accuracy: 0.2717\n",
            "Epoch 35/100\n",
            "10/10 - 1s - loss: 0.3975 - accuracy: 0.6160 - val_loss: 1.9304 - val_accuracy: 0.2473\n",
            "Epoch 36/100\n",
            "10/10 - 1s - loss: 0.3646 - accuracy: 0.6570 - val_loss: 1.6453 - val_accuracy: 0.2971\n",
            "Epoch 37/100\n",
            "10/10 - 1s - loss: 0.3927 - accuracy: 0.6310 - val_loss: 1.4070 - val_accuracy: 0.3364\n",
            "Epoch 38/100\n",
            "10/10 - 1s - loss: 0.3685 - accuracy: 0.6410 - val_loss: 1.6355 - val_accuracy: 0.3029\n",
            "Epoch 39/100\n",
            "10/10 - 1s - loss: 0.3830 - accuracy: 0.6360 - val_loss: 1.0985 - val_accuracy: 0.3803\n",
            "Epoch 40/100\n",
            "10/10 - 1s - loss: 0.3497 - accuracy: 0.6620 - val_loss: 1.4855 - val_accuracy: 0.3080\n",
            "Epoch 41/100\n",
            "10/10 - 1s - loss: 0.3451 - accuracy: 0.6560 - val_loss: 1.1115 - val_accuracy: 0.3929\n",
            "Epoch 42/100\n",
            "10/10 - 1s - loss: 0.3469 - accuracy: 0.6530 - val_loss: 1.3192 - val_accuracy: 0.3337\n",
            "Epoch 43/100\n",
            "10/10 - 1s - loss: 0.3204 - accuracy: 0.6670 - val_loss: 1.1550 - val_accuracy: 0.3800\n",
            "Epoch 44/100\n",
            "10/10 - 1s - loss: 0.3199 - accuracy: 0.6800 - val_loss: 1.3681 - val_accuracy: 0.3325\n",
            "Epoch 45/100\n",
            "10/10 - 1s - loss: 0.3336 - accuracy: 0.6550 - val_loss: 1.3428 - val_accuracy: 0.3509\n",
            "Epoch 46/100\n",
            "10/10 - 1s - loss: 0.3092 - accuracy: 0.6840 - val_loss: 1.2056 - val_accuracy: 0.3814\n",
            "Epoch 47/100\n",
            "10/10 - 1s - loss: 0.2837 - accuracy: 0.7120 - val_loss: 1.0633 - val_accuracy: 0.4239\n",
            "Epoch 48/100\n",
            "10/10 - 1s - loss: 0.3129 - accuracy: 0.6760 - val_loss: 1.1191 - val_accuracy: 0.4033\n",
            "Epoch 49/100\n",
            "10/10 - 1s - loss: 0.2775 - accuracy: 0.7030 - val_loss: 1.0667 - val_accuracy: 0.4120\n",
            "Epoch 50/100\n",
            "10/10 - 1s - loss: 0.2907 - accuracy: 0.6890 - val_loss: 1.1866 - val_accuracy: 0.3978\n",
            "Epoch 51/100\n",
            "10/10 - 1s - loss: 0.2653 - accuracy: 0.7120 - val_loss: 0.8777 - val_accuracy: 0.4647\n",
            "Epoch 52/100\n",
            "10/10 - 1s - loss: 0.2761 - accuracy: 0.7070 - val_loss: 1.2025 - val_accuracy: 0.3965\n",
            "Epoch 53/100\n",
            "10/10 - 1s - loss: 0.2588 - accuracy: 0.7130 - val_loss: 1.0870 - val_accuracy: 0.4376\n",
            "Epoch 54/100\n",
            "10/10 - 1s - loss: 0.2414 - accuracy: 0.7420 - val_loss: 1.1287 - val_accuracy: 0.4359\n",
            "Epoch 55/100\n",
            "10/10 - 1s - loss: 0.2181 - accuracy: 0.7510 - val_loss: 1.4838 - val_accuracy: 0.3609\n",
            "Epoch 56/100\n",
            "10/10 - 1s - loss: 0.2317 - accuracy: 0.7320 - val_loss: 0.9035 - val_accuracy: 0.4700\n",
            "Epoch 57/100\n",
            "10/10 - 1s - loss: 0.2124 - accuracy: 0.7560 - val_loss: 1.0142 - val_accuracy: 0.4552\n",
            "Epoch 58/100\n",
            "10/10 - 1s - loss: 0.2107 - accuracy: 0.7430 - val_loss: 1.0566 - val_accuracy: 0.4325\n",
            "Epoch 59/100\n",
            "10/10 - 1s - loss: 0.2246 - accuracy: 0.7440 - val_loss: 0.9110 - val_accuracy: 0.4827\n",
            "Epoch 60/100\n",
            "10/10 - 1s - loss: 0.2049 - accuracy: 0.7560 - val_loss: 1.0498 - val_accuracy: 0.4506\n",
            "Epoch 61/100\n",
            "10/10 - 1s - loss: 0.2014 - accuracy: 0.7570 - val_loss: 1.1883 - val_accuracy: 0.4446\n",
            "Epoch 62/100\n",
            "10/10 - 1s - loss: 0.2036 - accuracy: 0.7470 - val_loss: 1.0022 - val_accuracy: 0.4607\n",
            "Epoch 63/100\n",
            "10/10 - 1s - loss: 0.2028 - accuracy: 0.7540 - val_loss: 1.2550 - val_accuracy: 0.4144\n",
            "Epoch 64/100\n",
            "10/10 - 1s - loss: 0.2080 - accuracy: 0.7470 - val_loss: 0.9280 - val_accuracy: 0.4811\n",
            "Epoch 65/100\n",
            "10/10 - 1s - loss: 0.1956 - accuracy: 0.7500 - val_loss: 1.1983 - val_accuracy: 0.4144\n",
            "Epoch 66/100\n",
            "10/10 - 1s - loss: 0.2073 - accuracy: 0.7550 - val_loss: 1.2780 - val_accuracy: 0.4116\n",
            "Epoch 67/100\n",
            "10/10 - 1s - loss: 0.1812 - accuracy: 0.7840 - val_loss: 1.2510 - val_accuracy: 0.3991\n",
            "Epoch 68/100\n",
            "10/10 - 1s - loss: 0.1869 - accuracy: 0.7710 - val_loss: 1.3512 - val_accuracy: 0.4035\n",
            "Epoch 69/100\n",
            "10/10 - 1s - loss: 0.1779 - accuracy: 0.7930 - val_loss: 1.3353 - val_accuracy: 0.4098\n",
            "Epoch 70/100\n",
            "10/10 - 1s - loss: 0.1617 - accuracy: 0.7920 - val_loss: 1.0611 - val_accuracy: 0.4594\n",
            "Epoch 71/100\n",
            "10/10 - 1s - loss: 0.1668 - accuracy: 0.7910 - val_loss: 1.1197 - val_accuracy: 0.4441\n",
            "Epoch 72/100\n",
            "10/10 - 1s - loss: 0.1748 - accuracy: 0.7740 - val_loss: 1.7138 - val_accuracy: 0.3561\n",
            "Epoch 73/100\n",
            "10/10 - 1s - loss: 0.1877 - accuracy: 0.7690 - val_loss: 1.1877 - val_accuracy: 0.4560\n",
            "Epoch 74/100\n",
            "10/10 - 1s - loss: 0.1935 - accuracy: 0.7790 - val_loss: 0.9750 - val_accuracy: 0.4682\n",
            "Epoch 75/100\n",
            "10/10 - 1s - loss: 0.1600 - accuracy: 0.7780 - val_loss: 1.0736 - val_accuracy: 0.4677\n",
            "Epoch 76/100\n",
            "10/10 - 1s - loss: 0.1548 - accuracy: 0.7940 - val_loss: 1.5638 - val_accuracy: 0.3971\n",
            "Epoch 77/100\n",
            "10/10 - 1s - loss: 0.1602 - accuracy: 0.7840 - val_loss: 1.3286 - val_accuracy: 0.4164\n",
            "Epoch 78/100\n",
            "10/10 - 1s - loss: 0.1430 - accuracy: 0.8050 - val_loss: 1.4301 - val_accuracy: 0.4139\n",
            "Epoch 79/100\n",
            "10/10 - 1s - loss: 0.1456 - accuracy: 0.8070 - val_loss: 0.9867 - val_accuracy: 0.4771\n",
            "Epoch 80/100\n",
            "10/10 - 1s - loss: 0.1559 - accuracy: 0.7870 - val_loss: 1.1106 - val_accuracy: 0.4526\n",
            "Epoch 81/100\n",
            "10/10 - 1s - loss: 0.1475 - accuracy: 0.8080 - val_loss: 1.2661 - val_accuracy: 0.4274\n",
            "Epoch 82/100\n",
            "10/10 - 1s - loss: 0.1238 - accuracy: 0.8280 - val_loss: 0.8487 - val_accuracy: 0.5012\n",
            "Epoch 83/100\n",
            "10/10 - 1s - loss: 0.1230 - accuracy: 0.8260 - val_loss: 1.2855 - val_accuracy: 0.4255\n",
            "Epoch 84/100\n",
            "10/10 - 1s - loss: 0.1265 - accuracy: 0.8380 - val_loss: 1.4374 - val_accuracy: 0.4235\n",
            "Epoch 85/100\n",
            "10/10 - 1s - loss: 0.1180 - accuracy: 0.8250 - val_loss: 1.0341 - val_accuracy: 0.4706\n",
            "Epoch 86/100\n",
            "10/10 - 1s - loss: 0.1229 - accuracy: 0.8300 - val_loss: 1.1183 - val_accuracy: 0.4671\n",
            "Epoch 87/100\n",
            "10/10 - 1s - loss: 0.1285 - accuracy: 0.8100 - val_loss: 0.9828 - val_accuracy: 0.4926\n",
            "Epoch 88/100\n",
            "10/10 - 1s - loss: 0.1200 - accuracy: 0.8210 - val_loss: 1.1259 - val_accuracy: 0.4599\n",
            "Epoch 89/100\n",
            "10/10 - 1s - loss: 0.1138 - accuracy: 0.8250 - val_loss: 1.0413 - val_accuracy: 0.4637\n",
            "Epoch 90/100\n",
            "10/10 - 1s - loss: 0.1114 - accuracy: 0.8330 - val_loss: 0.9638 - val_accuracy: 0.4869\n",
            "Epoch 91/100\n",
            "10/10 - 1s - loss: 0.1149 - accuracy: 0.8250 - val_loss: 1.0722 - val_accuracy: 0.4734\n",
            "Epoch 92/100\n",
            "10/10 - 1s - loss: 0.1078 - accuracy: 0.8280 - val_loss: 1.4498 - val_accuracy: 0.4281\n",
            "Epoch 93/100\n",
            "10/10 - 1s - loss: 0.0950 - accuracy: 0.8380 - val_loss: 1.1367 - val_accuracy: 0.4676\n",
            "Epoch 94/100\n",
            "10/10 - 1s - loss: 0.0977 - accuracy: 0.8450 - val_loss: 1.2049 - val_accuracy: 0.4703\n",
            "Epoch 95/100\n",
            "10/10 - 1s - loss: 0.1000 - accuracy: 0.8420 - val_loss: 1.0770 - val_accuracy: 0.4685\n",
            "Epoch 96/100\n",
            "10/10 - 1s - loss: 0.1002 - accuracy: 0.8440 - val_loss: 1.0518 - val_accuracy: 0.4869\n",
            "Epoch 97/100\n",
            "10/10 - 1s - loss: 0.0941 - accuracy: 0.8640 - val_loss: 1.4740 - val_accuracy: 0.4362\n",
            "Epoch 98/100\n",
            "10/10 - 1s - loss: 0.1019 - accuracy: 0.8360 - val_loss: 1.1909 - val_accuracy: 0.4571\n",
            "Epoch 99/100\n",
            "10/10 - 1s - loss: 0.1102 - accuracy: 0.8330 - val_loss: 1.4274 - val_accuracy: 0.4358\n",
            "Epoch 100/100\n",
            "10/10 - 1s - loss: 0.0994 - accuracy: 0.8600 - val_loss: 1.1275 - val_accuracy: 0.4801\n"
          ],
          "name": "stdout"
        }
      ]
    },
    {
      "cell_type": "code",
      "metadata": {
        "id": "8xXNuVLDQYxe",
        "colab": {
          "base_uri": "https://localhost:8080/",
          "height": 269
        },
        "outputId": "d5ec4f37-0a8c-41db-8fc1-0e15f2fcf2e6"
      },
      "source": [
        "plot_loss(history,ylim_values=[0,10])"
      ],
      "execution_count": 54,
      "outputs": [
        {
          "output_type": "display_data",
          "data": {
            "image/png": "[encoded data removed]",
            "text/plain": [
              "<Figure size 432x288 with 1 Axes>"
            ]
          },
          "metadata": {
            "tags": [],
            "needs_background": "light"
          }
        }
      ]
    },
    {
      "cell_type": "code",
      "metadata": {
        "id": "HzEPuJumQfCs",
        "colab": {
          "base_uri": "https://localhost:8080/",
          "height": 269
        },
        "outputId": "f62b3db1-b9f1-4743-9903-3c31120d9a4f"
      },
      "source": [
        "plot_accuracy(history)"
      ],
      "execution_count": 55,
      "outputs": [
        {
          "output_type": "display_data",
          "data": {
            "image/png": "[encoded data removed]",
            "text/plain": [
              "<Figure size 432x288 with 1 Axes>"
            ]
          },
          "metadata": {
            "tags": [],
            "needs_background": "light"
          }
        }
      ]
    },
    {
      "cell_type": "code",
      "metadata": {
        "id": "pfGzXJi1Adqh"
      },
      "source": [
        "\n",
        "path_my_cosine_crossentropy=data_tmp_dir+\"cifar10_\"+str(TRAIN_SAMPLE_LIMIT)+\"_sample_my_cosine_crossentropy_\"+str(num_epoch)+\"_epoch_resnet20.pkl\"\n",
        "\n",
        "df_history=pd.DataFrame(history.history)\n",
        "df_history.to_csv(path_my_cosine_crossentropy)"
      ],
      "execution_count": 56,
      "outputs": []
    },
    {
      "cell_type": "markdown",
      "metadata": {
        "id": "iPJN87X9-B1z"
      },
      "source": [
        "### Compare all results"
      ]
    },
    {
      "cell_type": "code",
      "metadata": {
        "id": "7hE3Rf1SYLA5"
      },
      "source": [
        "\n",
        "softmax_df_history=pd.read_csv(path_softmax)\n",
        "my_cosine_crossentropy_df_history=pd.read_csv(path_my_cosine_crossentropy)\n",
        "my_cosine_similarity_df_history=pd.read_csv(path_my_cosine_similarity)"
      ],
      "execution_count": 57,
      "outputs": []
    },
    {
      "cell_type": "code",
      "metadata": {
        "id": "mcfCUWqW3avs",
        "colab": {
          "base_uri": "https://localhost:8080/",
          "height": 444
        },
        "outputId": "b08443bb-0dec-4026-bc01-dc9b4b060916"
      },
      "source": [
        "import matplotlib.pyplot as plt\n",
        "plt.figure(figsize=(10,7))\n",
        "plt.plot(softmax_df_history[\"accuracy\"], label = 'Crossentropy Train Accuracy',color=\"blue\")\n",
        "plt.plot(softmax_df_history[\"val_accuracy\"], linestyle = 'dashed',color=\"blue\", label = 'Crossentropy Test Accuracy')\n",
        "plt.plot(my_cosine_crossentropy_df_history[\"accuracy\"], label = 'Cosine + Crossentropy Train Accuracy',color=\"orange\")\n",
        "plt.plot(my_cosine_crossentropy_df_history[\"val_accuracy\"], linestyle = 'dashed', label = 'Cosine + Crossentropy Test Accuracy',color=\"orange\")\n",
        "plt.plot(my_cosine_similarity_df_history[\"accuracy\"],color=\"green\", label = 'Cosine Train Accuracy')\n",
        "plt.plot(my_cosine_similarity_df_history[\"val_accuracy\"],color=\"green\", linestyle = 'dashed', label = 'Cosine Test Accuracy')\n",
        "plt.grid()\n",
        "plt.title(\"Comparison of different loss functions\")\n",
        "plt.legend()\n",
        "plt.show()"
      ],
      "execution_count": 58,
      "outputs": [
        {
          "output_type": "display_data",
          "data": {
            "image/png": "[encoded data removed]",
            "text/plain": [
              "<Figure size 720x504 with 1 Axes>"
            ]
          },
          "metadata": {
            "tags": [],
            "needs_background": "light"
          }
        }
      ]
    },
    {
      "cell_type": "code",
      "metadata": {
        "id": "KSBuBgQ95eEy",
        "colab": {
          "base_uri": "https://localhost:8080/"
        },
        "outputId": "93b636d6-a6ea-4c20-b995-9b3095a54c66"
      },
      "source": [
        "diff_pct_cosine_softmax=(my_cosine_similarity_df_history[\"val_accuracy\"]-softmax_df_history[\"val_accuracy\"]).mean()*100\n",
        "print(\"On average cosine loss is better then crossentropy with {:.2f} %\".format(diff_pct_cosine_softmax))\n",
        "diff_pct_cosine_softmax=(my_cosine_crossentropy_df_history[\"val_accuracy\"]-softmax_df_history[\"val_accuracy\"]).mean()*100\n",
        "print(\"On average cosine loss is better then crossentropy with {:.2f} %\".format(diff_pct_cosine_softmax))"
      ],
      "execution_count": 59,
      "outputs": [
        {
          "output_type": "stream",
          "text": [
            "On average cosine loss is better then crossentropy with 4.39 %\n",
            "On average cosine loss is better then crossentropy with 3.67 %\n"
          ],
          "name": "stdout"
        }
      ]
    },
    {
      "cell_type": "code",
      "metadata": {
        "id": "qy2cfuxC8naS"
      },
      "source": [
        ""
      ],
      "execution_count": null,
      "outputs": []
    }
  ]
}