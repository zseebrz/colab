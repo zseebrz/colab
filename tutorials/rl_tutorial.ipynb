{
  "cells": [
    {
      "cell_type": "markdown",
      "metadata": {
        "id": "view-in-github",
        "colab_type": "text"
      },
      "source": [
        "<a href=\"https://colab.research.google.com/github/zseebrz/colab/blob/main/tutorials/rl_tutorial.ipynb\" target=\"_parent\"><img src=\"https://colab.research.google.com/assets/colab-badge.svg\" alt=\"Open In Colab\"/></a>"
      ]
    },
    {
      "cell_type": "code",
      "execution_count": 1,
      "metadata": {
        "id": "X94okOLfFO7t",
        "outputId": "0b3f2b07-d4d1-4ac5-bf7e-eed4926b968b",
        "colab": {
          "base_uri": "https://localhost:8080/",
          "height": 1000
        }
      },
      "outputs": [
        {
          "output_type": "stream",
          "name": "stdout",
          "text": [
            "Cloning into 'Sber_Process_Mining'...\n",
            "remote: Enumerating objects: 471, done.\u001b[K\n",
            "remote: Counting objects: 100% (471/471), done.\u001b[K\n",
            "remote: Compressing objects: 100% (315/315), done.\u001b[K\n",
            "remote: Total 471 (delta 256), reused 331 (delta 149), pack-reused 0\u001b[K\n",
            "Receiving objects: 100% (471/471), 4.12 MiB | 10.64 MiB/s, done.\n",
            "Resolving deltas: 100% (256/256), done.\n",
            "Processing ./Sber_Process_Mining\n",
            "\u001b[33m  DEPRECATION: A future pip version will change local packages to be built in-place without first copying to a temporary directory. We recommend you use --use-feature=in-tree-build to test your packages with this new behavior before it becomes the default.\n",
            "   pip 21.3 will remove support for this functionality. You can find discussion regarding this at https://github.com/pypa/pip/issues/7555.\u001b[0m\n",
            "Requirement already satisfied: numpy>=1.18.1 in /usr/local/lib/python3.7/dist-packages (from sberpm==1.3.1) (1.19.5)\n",
            "Requirement already satisfied: pandas>=1.1.0 in /usr/local/lib/python3.7/dist-packages (from sberpm==1.3.1) (1.1.5)\n",
            "Requirement already satisfied: scipy>=1.4.1 in /usr/local/lib/python3.7/dist-packages (from sberpm==1.3.1) (1.4.1)\n",
            "Requirement already satisfied: pydotplus>=2.0.2 in /usr/local/lib/python3.7/dist-packages (from sberpm==1.3.1) (2.0.2)\n",
            "Collecting graphviz==0.16\n",
            "  Downloading graphviz-0.16-py2.py3-none-any.whl (19 kB)\n",
            "Collecting plotly>=4.9.0\n",
            "  Downloading plotly-5.5.0-py2.py3-none-any.whl (26.5 MB)\n",
            "\u001b[K     |████████████████████████████████| 26.5 MB 73.1 MB/s \n",
            "\u001b[?25hCollecting IPython~=7.25.0\n",
            "  Downloading ipython-7.25.0-py3-none-any.whl (786 kB)\n",
            "\u001b[K     |████████████████████████████████| 786 kB 44.8 MB/s \n",
            "\u001b[?25hCollecting matplotlib~=3.4.2\n",
            "  Downloading matplotlib-3.4.3-cp37-cp37m-manylinux1_x86_64.whl (10.3 MB)\n",
            "\u001b[K     |████████████████████████████████| 10.3 MB 53.1 MB/s \n",
            "\u001b[?25hRequirement already satisfied: nbformat>=4.2.0 in /usr/local/lib/python3.7/dist-packages (from sberpm==1.3.1) (5.1.3)\n",
            "Requirement already satisfied: scikit-learn>=0.23.2 in /usr/local/lib/python3.7/dist-packages (from sberpm==1.3.1) (1.0.1)\n",
            "Requirement already satisfied: torch>=1.6.0 in /usr/local/lib/python3.7/dist-packages (from sberpm==1.3.1) (1.10.0+cu111)\n",
            "Collecting setuptools~=47.1.0\n",
            "  Downloading setuptools-47.1.1-py3-none-any.whl (583 kB)\n",
            "\u001b[K     |████████████████████████████████| 583 kB 51.3 MB/s \n",
            "\u001b[?25hCollecting pymorphy2\n",
            "  Downloading pymorphy2-0.9.1-py3-none-any.whl (55 kB)\n",
            "\u001b[K     |████████████████████████████████| 55 kB 3.5 MB/s \n",
            "\u001b[?25hRequirement already satisfied: nltk in /usr/local/lib/python3.7/dist-packages (from sberpm==1.3.1) (3.2.5)\n",
            "Requirement already satisfied: pexpect>4.3 in /usr/local/lib/python3.7/dist-packages (from IPython~=7.25.0->sberpm==1.3.1) (4.8.0)\n",
            "Requirement already satisfied: traitlets>=4.2 in /usr/local/lib/python3.7/dist-packages (from IPython~=7.25.0->sberpm==1.3.1) (5.1.1)\n",
            "Requirement already satisfied: matplotlib-inline in /usr/local/lib/python3.7/dist-packages (from IPython~=7.25.0->sberpm==1.3.1) (0.1.3)\n",
            "Requirement already satisfied: pickleshare in /usr/local/lib/python3.7/dist-packages (from IPython~=7.25.0->sberpm==1.3.1) (0.7.5)\n",
            "Requirement already satisfied: backcall in /usr/local/lib/python3.7/dist-packages (from IPython~=7.25.0->sberpm==1.3.1) (0.2.0)\n",
            "Requirement already satisfied: pygments in /usr/local/lib/python3.7/dist-packages (from IPython~=7.25.0->sberpm==1.3.1) (2.6.1)\n",
            "Requirement already satisfied: jedi>=0.16 in /usr/local/lib/python3.7/dist-packages (from IPython~=7.25.0->sberpm==1.3.1) (0.18.1)\n",
            "Collecting prompt-toolkit!=3.0.0,!=3.0.1,<3.1.0,>=2.0.0\n",
            "  Downloading prompt_toolkit-3.0.24-py3-none-any.whl (374 kB)\n",
            "\u001b[K     |████████████████████████████████| 374 kB 57.6 MB/s \n",
            "\u001b[?25hRequirement already satisfied: decorator in /usr/local/lib/python3.7/dist-packages (from IPython~=7.25.0->sberpm==1.3.1) (4.4.2)\n",
            "Requirement already satisfied: parso<0.9.0,>=0.8.0 in /usr/local/lib/python3.7/dist-packages (from jedi>=0.16->IPython~=7.25.0->sberpm==1.3.1) (0.8.3)\n",
            "Requirement already satisfied: cycler>=0.10 in /usr/local/lib/python3.7/dist-packages (from matplotlib~=3.4.2->sberpm==1.3.1) (0.11.0)\n",
            "Requirement already satisfied: pillow>=6.2.0 in /usr/local/lib/python3.7/dist-packages (from matplotlib~=3.4.2->sberpm==1.3.1) (7.1.2)\n",
            "Requirement already satisfied: python-dateutil>=2.7 in /usr/local/lib/python3.7/dist-packages (from matplotlib~=3.4.2->sberpm==1.3.1) (2.8.2)\n",
            "Requirement already satisfied: pyparsing>=2.2.1 in /usr/local/lib/python3.7/dist-packages (from matplotlib~=3.4.2->sberpm==1.3.1) (3.0.6)\n",
            "Requirement already satisfied: kiwisolver>=1.0.1 in /usr/local/lib/python3.7/dist-packages (from matplotlib~=3.4.2->sberpm==1.3.1) (1.3.2)\n",
            "Requirement already satisfied: ipython-genutils in /usr/local/lib/python3.7/dist-packages (from nbformat>=4.2.0->sberpm==1.3.1) (0.2.0)\n",
            "Requirement already satisfied: jsonschema!=2.5.0,>=2.4 in /usr/local/lib/python3.7/dist-packages (from nbformat>=4.2.0->sberpm==1.3.1) (2.6.0)\n",
            "Requirement already satisfied: jupyter-core in /usr/local/lib/python3.7/dist-packages (from nbformat>=4.2.0->sberpm==1.3.1) (4.9.1)\n",
            "Requirement already satisfied: pytz>=2017.2 in /usr/local/lib/python3.7/dist-packages (from pandas>=1.1.0->sberpm==1.3.1) (2018.9)\n",
            "Requirement already satisfied: ptyprocess>=0.5 in /usr/local/lib/python3.7/dist-packages (from pexpect>4.3->IPython~=7.25.0->sberpm==1.3.1) (0.7.0)\n",
            "Requirement already satisfied: six in /usr/local/lib/python3.7/dist-packages (from plotly>=4.9.0->sberpm==1.3.1) (1.15.0)\n",
            "Collecting tenacity>=6.2.0\n",
            "  Downloading tenacity-8.0.1-py3-none-any.whl (24 kB)\n",
            "Requirement already satisfied: wcwidth in /usr/local/lib/python3.7/dist-packages (from prompt-toolkit!=3.0.0,!=3.0.1,<3.1.0,>=2.0.0->IPython~=7.25.0->sberpm==1.3.1) (0.2.5)\n",
            "Requirement already satisfied: threadpoolctl>=2.0.0 in /usr/local/lib/python3.7/dist-packages (from scikit-learn>=0.23.2->sberpm==1.3.1) (3.0.0)\n",
            "Requirement already satisfied: joblib>=0.11 in /usr/local/lib/python3.7/dist-packages (from scikit-learn>=0.23.2->sberpm==1.3.1) (1.1.0)\n",
            "Requirement already satisfied: typing-extensions in /usr/local/lib/python3.7/dist-packages (from torch>=1.6.0->sberpm==1.3.1) (3.10.0.2)\n",
            "Collecting pymorphy2-dicts-ru<3.0,>=2.4\n",
            "  Downloading pymorphy2_dicts_ru-2.4.417127.4579844-py2.py3-none-any.whl (8.2 MB)\n",
            "\u001b[K     |████████████████████████████████| 8.2 MB 40.5 MB/s \n",
            "\u001b[?25hCollecting dawg-python>=0.7.1\n",
            "  Downloading DAWG_Python-0.7.2-py2.py3-none-any.whl (11 kB)\n",
            "Requirement already satisfied: docopt>=0.6 in /usr/local/lib/python3.7/dist-packages (from pymorphy2->sberpm==1.3.1) (0.6.2)\n",
            "Building wheels for collected packages: sberpm\n",
            "  Building wheel for sberpm (setup.py) ... \u001b[?25l\u001b[?25hdone\n",
            "  Created wheel for sberpm: filename=sberpm-1.3.1-py3-none-any.whl size=133684 sha256=2f3a0fe0090b17586f5bb9aadacb1e0aa470cf914672d403f3e6c08ffd466c08\n",
            "  Stored in directory: /tmp/pip-ephem-wheel-cache-1lvcilwy/wheels/42/18/f3/07789c12d31fa9d07a4317973a4f879ade43795eb3eab35275\n",
            "Successfully built sberpm\n",
            "Installing collected packages: tenacity, setuptools, pymorphy2-dicts-ru, prompt-toolkit, dawg-python, pymorphy2, plotly, matplotlib, IPython, graphviz, sberpm\n",
            "  Attempting uninstall: setuptools\n",
            "    Found existing installation: setuptools 57.4.0\n",
            "    Uninstalling setuptools-57.4.0:\n",
            "      Successfully uninstalled setuptools-57.4.0\n",
            "  Attempting uninstall: prompt-toolkit\n",
            "    Found existing installation: prompt-toolkit 1.0.18\n",
            "    Uninstalling prompt-toolkit-1.0.18:\n",
            "      Successfully uninstalled prompt-toolkit-1.0.18\n",
            "  Attempting uninstall: plotly\n",
            "    Found existing installation: plotly 4.4.1\n",
            "    Uninstalling plotly-4.4.1:\n",
            "      Successfully uninstalled plotly-4.4.1\n",
            "  Attempting uninstall: matplotlib\n",
            "    Found existing installation: matplotlib 3.2.2\n",
            "    Uninstalling matplotlib-3.2.2:\n",
            "      Successfully uninstalled matplotlib-3.2.2\n",
            "  Attempting uninstall: IPython\n",
            "    Found existing installation: ipython 5.5.0\n",
            "    Uninstalling ipython-5.5.0:\n",
            "      Successfully uninstalled ipython-5.5.0\n",
            "  Attempting uninstall: graphviz\n",
            "    Found existing installation: graphviz 0.10.1\n",
            "    Uninstalling graphviz-0.10.1:\n",
            "      Successfully uninstalled graphviz-0.10.1\n",
            "\u001b[31mERROR: pip's dependency resolver does not currently take into account all the packages that are installed. This behaviour is the source of the following dependency conflicts.\n",
            "jupyter-console 5.2.0 requires prompt-toolkit<2.0.0,>=1.0.0, but you have prompt-toolkit 3.0.24 which is incompatible.\n",
            "google-colab 1.0.0 requires ipython~=5.5.0, but you have ipython 7.25.0 which is incompatible.\n",
            "datascience 0.10.6 requires folium==0.2.1, but you have folium 0.8.3 which is incompatible.\n",
            "albumentations 0.1.12 requires imgaug<0.2.7,>=0.2.5, but you have imgaug 0.2.9 which is incompatible.\u001b[0m\n",
            "Successfully installed IPython-7.25.0 dawg-python-0.7.2 graphviz-0.16 matplotlib-3.4.3 plotly-5.5.0 prompt-toolkit-3.0.24 pymorphy2-0.9.1 pymorphy2-dicts-ru-2.4.417127.4579844 sberpm-1.3.1 setuptools-47.1.1 tenacity-8.0.1\n"
          ]
        },
        {
          "output_type": "display_data",
          "data": {
            "application/vnd.colab-display-data+json": {
              "pip_warning": {
                "packages": [
                  "IPython",
                  "matplotlib",
                  "mpl_toolkits",
                  "pkg_resources",
                  "prompt_toolkit"
                ]
              }
            }
          },
          "metadata": {}
        }
      ],
      "source": [
        "#first clone the github repo and then install from local\n",
        "!git clone https://github.com/SberProcessMining/Sber_Process_Mining.git\n",
        "\n",
        "!pip install Sber_Process_Mining/."
      ]
    },
    {
      "cell_type": "code",
      "source": [
        "from sberpm.ml.reinforcement_learning import RLOptimizer\n",
        "from sberpm import DataHolder\n",
        "\n",
        "import pandas as pd"
      ],
      "metadata": {
        "id": "UhGuqS21FYAE"
      },
      "execution_count": 1,
      "outputs": []
    },
    {
      "cell_type": "code",
      "execution_count": null,
      "metadata": {
        "id": "AgBQddBMFO7x"
      },
      "outputs": [],
      "source": [
        ""
      ]
    },
    {
      "cell_type": "markdown",
      "metadata": {
        "id": "6ZN5ie3HFO7z"
      },
      "source": [
        "**Reinforcement learning (RL)** is an approach in mashine learning where *actors* learn to choose *actions* in an *environment* in order to maximize *reward* they receive. In **sberpm** RL is used for process reconstruction."
      ]
    },
    {
      "cell_type": "markdown",
      "metadata": {
        "id": "JoJfelVHFO73"
      },
      "source": [
        "Overview of **reinforcement learning** approach.\n",
        "\n",
        "- There is an *environment* that has continuous or discrete *states*. There is also an *actor* that has continuous or discrete set of *actions* to choose from. \n",
        "\n",
        "\n",
        "- At the beginning *environment* is in some *initial state*. The *actor* takes some *action*. It changes the *state* of the *environment* and the *actor* gets some *reward* for this. This process continues until, for example, the actor reaches some *terminal state* or the number of steps exceed the set limit. The process described above is called a *session*. After the *session* ends the *cumulative reward* is calculsted. The task of the *actor* is to maximize the cumulative session reward. \n",
        "\n",
        "\n",
        "- During the training process *actor* participates in many sessions and after each step updates its 'knowledge base' based on the *action* it has done and *reward* it received. At the end the *actor* is expected to perform optimal *action* in each *state* so that it gets maximum cumulative *reward*."
      ]
    },
    {
      "cell_type": "markdown",
      "metadata": {
        "id": "4fEEPfcRFO75"
      },
      "source": [
        "In our case:\n",
        "- The *environment* has discreet *states* that represent the activities of the process found in the event log.\n",
        "- The *actor's actions* is a set of activities too. Each *action* (activity) leads to the corresponding *state* (activity) of the *environment*.\n",
        "- A trained *actor* is supposed to be able to find optimal sequence of activities corresponding to given *reward design*.\n"
      ]
    },
    {
      "cell_type": "code",
      "execution_count": null,
      "metadata": {
        "id": "WSjXQoiYFO77"
      },
      "outputs": [],
      "source": [
        ""
      ]
    },
    {
      "cell_type": "markdown",
      "metadata": {
        "id": "kCnQihzOFO78"
      },
      "source": [
        "Class `RLOptimizer` from __`sberpm.ml.reinforcement_learning`__ module allows to create an environment and an RL-agent, based on the data from `DataHolder`.\n",
        "\n",
        "There are two types of environment+agent pairs: \n",
        "- *exploration* – agent chooses the best action in accordance to the policy,\n",
        "- *exploitation* – agent chooses the best sequences that are present in the event log."
      ]
    },
    {
      "cell_type": "markdown",
      "metadata": {
        "id": "FL-vU-ELFO79"
      },
      "source": [
        "Methods:\n",
        "- __define_rewards__ – allows to define rewards\n",
        "- __fit__ – trains the agent\n",
        "- __get_optimal_paths__ – returns optimal sequences of states(=event traces) found by the agent in the environment.\n",
        "- __reset__ – resets agent's and environment's parameters"
      ]
    },
    {
      "cell_type": "code",
      "execution_count": 2,
      "metadata": {
        "id": "8kcPsfATFO7_",
        "outputId": "33bcf7ca-d068-47cb-986e-19f144326b72",
        "colab": {
          "base_uri": "https://localhost:8080/"
        }
      },
      "outputs": [
        {
          "output_type": "stream",
          "name": "stdout",
          "text": [
            "--2022-01-09 18:26:30--  http://icpmconference.org/2020/wp-content/uploads/sites/4/2020/03/DomesticDeclarations.xes_.gz\n",
            "Resolving icpmconference.org (icpmconference.org)... 37.128.148.44\n",
            "Connecting to icpmconference.org (icpmconference.org)|37.128.148.44|:80... connected.\n",
            "HTTP request sent, awaiting response... 301 Moved Permanently\n",
            "Location: https://icpmconference.org/2020/wp-content/uploads/sites/4/2020/03/DomesticDeclarations.xes_.gz [following]\n",
            "--2022-01-09 18:26:30--  https://icpmconference.org/2020/wp-content/uploads/sites/4/2020/03/DomesticDeclarations.xes_.gz\n",
            "Connecting to icpmconference.org (icpmconference.org)|37.128.148.44|:443... connected.\n",
            "HTTP request sent, awaiting response... 200 OK\n",
            "Length: 933930 (912K) [application/x-gzip]\n",
            "Saving to: ‘DomesticDeclarations.xes_.gz’\n",
            "\n",
            "DomesticDeclaration 100%[===================>] 912.04K  2.19MB/s    in 0.4s    \n",
            "\n",
            "2022-01-09 18:26:31 (2.19 MB/s) - ‘DomesticDeclarations.xes_.gz’ saved [933930/933930]\n",
            "\n"
          ]
        }
      ],
      "source": [
        "#downloading the datafile from BPMN challenge 2020\n",
        "!wget \"http://icpmconference.org/2020/wp-content/uploads/sites/4/2020/03/DomesticDeclarations.xes_.gz\""
      ]
    },
    {
      "cell_type": "code",
      "source": [
        "!gunzip DomesticDeclarations.xes_.gz"
      ],
      "metadata": {
        "id": "Zp9GhrN4F6PL"
      },
      "execution_count": 3,
      "outputs": []
    },
    {
      "cell_type": "code",
      "source": [
        "!pip install pm4py\n",
        "#install pm4py to convert xes into csv"
      ],
      "metadata": {
        "id": "Aih9T9HBF_mT",
        "outputId": "ff2e1928-8fbd-44ba-947e-f567a68d25b0",
        "colab": {
          "base_uri": "https://localhost:8080/"
        }
      },
      "execution_count": 5,
      "outputs": [
        {
          "output_type": "stream",
          "name": "stdout",
          "text": [
            "Collecting pm4py\n",
            "  Downloading pm4py-2.2.18-py3-none-any.whl (1.7 MB)\n",
            "\u001b[?25l\r\u001b[K     |▏                               | 10 kB 25.0 MB/s eta 0:00:01\r\u001b[K     |▍                               | 20 kB 30.7 MB/s eta 0:00:01\r\u001b[K     |▋                               | 30 kB 35.5 MB/s eta 0:00:01\r\u001b[K     |▊                               | 40 kB 35.7 MB/s eta 0:00:01\r\u001b[K     |█                               | 51 kB 31.0 MB/s eta 0:00:01\r\u001b[K     |█▏                              | 61 kB 26.9 MB/s eta 0:00:01\r\u001b[K     |█▎                              | 71 kB 24.5 MB/s eta 0:00:01\r\u001b[K     |█▌                              | 81 kB 26.0 MB/s eta 0:00:01\r\u001b[K     |█▊                              | 92 kB 27.9 MB/s eta 0:00:01\r\u001b[K     |█▉                              | 102 kB 25.8 MB/s eta 0:00:01\r\u001b[K     |██                              | 112 kB 25.8 MB/s eta 0:00:01\r\u001b[K     |██▎                             | 122 kB 25.8 MB/s eta 0:00:01\r\u001b[K     |██▍                             | 133 kB 25.8 MB/s eta 0:00:01\r\u001b[K     |██▋                             | 143 kB 25.8 MB/s eta 0:00:01\r\u001b[K     |██▉                             | 153 kB 25.8 MB/s eta 0:00:01\r\u001b[K     |███                             | 163 kB 25.8 MB/s eta 0:00:01\r\u001b[K     |███▏                            | 174 kB 25.8 MB/s eta 0:00:01\r\u001b[K     |███▍                            | 184 kB 25.8 MB/s eta 0:00:01\r\u001b[K     |███▋                            | 194 kB 25.8 MB/s eta 0:00:01\r\u001b[K     |███▊                            | 204 kB 25.8 MB/s eta 0:00:01\r\u001b[K     |████                            | 215 kB 25.8 MB/s eta 0:00:01\r\u001b[K     |████▏                           | 225 kB 25.8 MB/s eta 0:00:01\r\u001b[K     |████▎                           | 235 kB 25.8 MB/s eta 0:00:01\r\u001b[K     |████▌                           | 245 kB 25.8 MB/s eta 0:00:01\r\u001b[K     |████▊                           | 256 kB 25.8 MB/s eta 0:00:01\r\u001b[K     |████▉                           | 266 kB 25.8 MB/s eta 0:00:01\r\u001b[K     |█████                           | 276 kB 25.8 MB/s eta 0:00:01\r\u001b[K     |█████▎                          | 286 kB 25.8 MB/s eta 0:00:01\r\u001b[K     |█████▌                          | 296 kB 25.8 MB/s eta 0:00:01\r\u001b[K     |█████▋                          | 307 kB 25.8 MB/s eta 0:00:01\r\u001b[K     |█████▉                          | 317 kB 25.8 MB/s eta 0:00:01\r\u001b[K     |██████                          | 327 kB 25.8 MB/s eta 0:00:01\r\u001b[K     |██████▏                         | 337 kB 25.8 MB/s eta 0:00:01\r\u001b[K     |██████▍                         | 348 kB 25.8 MB/s eta 0:00:01\r\u001b[K     |██████▋                         | 358 kB 25.8 MB/s eta 0:00:01\r\u001b[K     |██████▊                         | 368 kB 25.8 MB/s eta 0:00:01\r\u001b[K     |███████                         | 378 kB 25.8 MB/s eta 0:00:01\r\u001b[K     |███████▏                        | 389 kB 25.8 MB/s eta 0:00:01\r\u001b[K     |███████▎                        | 399 kB 25.8 MB/s eta 0:00:01\r\u001b[K     |███████▌                        | 409 kB 25.8 MB/s eta 0:00:01\r\u001b[K     |███████▊                        | 419 kB 25.8 MB/s eta 0:00:01\r\u001b[K     |████████                        | 430 kB 25.8 MB/s eta 0:00:01\r\u001b[K     |████████                        | 440 kB 25.8 MB/s eta 0:00:01\r\u001b[K     |████████▎                       | 450 kB 25.8 MB/s eta 0:00:01\r\u001b[K     |████████▌                       | 460 kB 25.8 MB/s eta 0:00:01\r\u001b[K     |████████▋                       | 471 kB 25.8 MB/s eta 0:00:01\r\u001b[K     |████████▉                       | 481 kB 25.8 MB/s eta 0:00:01\r\u001b[K     |█████████                       | 491 kB 25.8 MB/s eta 0:00:01\r\u001b[K     |█████████▏                      | 501 kB 25.8 MB/s eta 0:00:01\r\u001b[K     |█████████▍                      | 512 kB 25.8 MB/s eta 0:00:01\r\u001b[K     |█████████▋                      | 522 kB 25.8 MB/s eta 0:00:01\r\u001b[K     |█████████▊                      | 532 kB 25.8 MB/s eta 0:00:01\r\u001b[K     |██████████                      | 542 kB 25.8 MB/s eta 0:00:01\r\u001b[K     |██████████▏                     | 552 kB 25.8 MB/s eta 0:00:01\r\u001b[K     |██████████▍                     | 563 kB 25.8 MB/s eta 0:00:01\r\u001b[K     |██████████▌                     | 573 kB 25.8 MB/s eta 0:00:01\r\u001b[K     |██████████▊                     | 583 kB 25.8 MB/s eta 0:00:01\r\u001b[K     |███████████                     | 593 kB 25.8 MB/s eta 0:00:01\r\u001b[K     |███████████                     | 604 kB 25.8 MB/s eta 0:00:01\r\u001b[K     |███████████▎                    | 614 kB 25.8 MB/s eta 0:00:01\r\u001b[K     |███████████▌                    | 624 kB 25.8 MB/s eta 0:00:01\r\u001b[K     |███████████▋                    | 634 kB 25.8 MB/s eta 0:00:01\r\u001b[K     |███████████▉                    | 645 kB 25.8 MB/s eta 0:00:01\r\u001b[K     |████████████                    | 655 kB 25.8 MB/s eta 0:00:01\r\u001b[K     |████████████▏                   | 665 kB 25.8 MB/s eta 0:00:01\r\u001b[K     |████████████▍                   | 675 kB 25.8 MB/s eta 0:00:01\r\u001b[K     |████████████▋                   | 686 kB 25.8 MB/s eta 0:00:01\r\u001b[K     |████████████▉                   | 696 kB 25.8 MB/s eta 0:00:01\r\u001b[K     |█████████████                   | 706 kB 25.8 MB/s eta 0:00:01\r\u001b[K     |█████████████▏                  | 716 kB 25.8 MB/s eta 0:00:01\r\u001b[K     |█████████████▍                  | 727 kB 25.8 MB/s eta 0:00:01\r\u001b[K     |█████████████▌                  | 737 kB 25.8 MB/s eta 0:00:01\r\u001b[K     |█████████████▊                  | 747 kB 25.8 MB/s eta 0:00:01\r\u001b[K     |██████████████                  | 757 kB 25.8 MB/s eta 0:00:01\r\u001b[K     |██████████████                  | 768 kB 25.8 MB/s eta 0:00:01\r\u001b[K     |██████████████▎                 | 778 kB 25.8 MB/s eta 0:00:01\r\u001b[K     |██████████████▌                 | 788 kB 25.8 MB/s eta 0:00:01\r\u001b[K     |██████████████▋                 | 798 kB 25.8 MB/s eta 0:00:01\r\u001b[K     |██████████████▉                 | 808 kB 25.8 MB/s eta 0:00:01\r\u001b[K     |███████████████                 | 819 kB 25.8 MB/s eta 0:00:01\r\u001b[K     |███████████████▎                | 829 kB 25.8 MB/s eta 0:00:01\r\u001b[K     |███████████████▍                | 839 kB 25.8 MB/s eta 0:00:01\r\u001b[K     |███████████████▋                | 849 kB 25.8 MB/s eta 0:00:01\r\u001b[K     |███████████████▉                | 860 kB 25.8 MB/s eta 0:00:01\r\u001b[K     |████████████████                | 870 kB 25.8 MB/s eta 0:00:01\r\u001b[K     |████████████████▏               | 880 kB 25.8 MB/s eta 0:00:01\r\u001b[K     |████████████████▍               | 890 kB 25.8 MB/s eta 0:00:01\r\u001b[K     |████████████████▌               | 901 kB 25.8 MB/s eta 0:00:01\r\u001b[K     |████████████████▊               | 911 kB 25.8 MB/s eta 0:00:01\r\u001b[K     |█████████████████               | 921 kB 25.8 MB/s eta 0:00:01\r\u001b[K     |█████████████████               | 931 kB 25.8 MB/s eta 0:00:01\r\u001b[K     |█████████████████▎              | 942 kB 25.8 MB/s eta 0:00:01\r\u001b[K     |█████████████████▌              | 952 kB 25.8 MB/s eta 0:00:01\r\u001b[K     |█████████████████▊              | 962 kB 25.8 MB/s eta 0:00:01\r\u001b[K     |█████████████████▉              | 972 kB 25.8 MB/s eta 0:00:01\r\u001b[K     |██████████████████              | 983 kB 25.8 MB/s eta 0:00:01\r\u001b[K     |██████████████████▎             | 993 kB 25.8 MB/s eta 0:00:01\r\u001b[K     |██████████████████▍             | 1.0 MB 25.8 MB/s eta 0:00:01\r\u001b[K     |██████████████████▋             | 1.0 MB 25.8 MB/s eta 0:00:01\r\u001b[K     |██████████████████▉             | 1.0 MB 25.8 MB/s eta 0:00:01\r\u001b[K     |███████████████████             | 1.0 MB 25.8 MB/s eta 0:00:01\r\u001b[K     |███████████████████▏            | 1.0 MB 25.8 MB/s eta 0:00:01\r\u001b[K     |███████████████████▍            | 1.1 MB 25.8 MB/s eta 0:00:01\r\u001b[K     |███████████████████▌            | 1.1 MB 25.8 MB/s eta 0:00:01\r\u001b[K     |███████████████████▊            | 1.1 MB 25.8 MB/s eta 0:00:01\r\u001b[K     |████████████████████            | 1.1 MB 25.8 MB/s eta 0:00:01\r\u001b[K     |████████████████████            | 1.1 MB 25.8 MB/s eta 0:00:01\r\u001b[K     |████████████████████▎           | 1.1 MB 25.8 MB/s eta 0:00:01\r\u001b[K     |████████████████████▌           | 1.1 MB 25.8 MB/s eta 0:00:01\r\u001b[K     |████████████████████▊           | 1.1 MB 25.8 MB/s eta 0:00:01\r\u001b[K     |████████████████████▉           | 1.1 MB 25.8 MB/s eta 0:00:01\r\u001b[K     |█████████████████████           | 1.1 MB 25.8 MB/s eta 0:00:01\r\u001b[K     |█████████████████████▎          | 1.2 MB 25.8 MB/s eta 0:00:01\r\u001b[K     |█████████████████████▍          | 1.2 MB 25.8 MB/s eta 0:00:01\r\u001b[K     |█████████████████████▋          | 1.2 MB 25.8 MB/s eta 0:00:01\r\u001b[K     |█████████████████████▉          | 1.2 MB 25.8 MB/s eta 0:00:01\r\u001b[K     |██████████████████████          | 1.2 MB 25.8 MB/s eta 0:00:01\r\u001b[K     |██████████████████████▏         | 1.2 MB 25.8 MB/s eta 0:00:01\r\u001b[K     |██████████████████████▍         | 1.2 MB 25.8 MB/s eta 0:00:01\r\u001b[K     |██████████████████████▌         | 1.2 MB 25.8 MB/s eta 0:00:01\r\u001b[K     |██████████████████████▊         | 1.2 MB 25.8 MB/s eta 0:00:01\r\u001b[K     |███████████████████████         | 1.2 MB 25.8 MB/s eta 0:00:01\r\u001b[K     |███████████████████████▏        | 1.3 MB 25.8 MB/s eta 0:00:01\r\u001b[K     |███████████████████████▎        | 1.3 MB 25.8 MB/s eta 0:00:01\r\u001b[K     |███████████████████████▌        | 1.3 MB 25.8 MB/s eta 0:00:01\r\u001b[K     |███████████████████████▊        | 1.3 MB 25.8 MB/s eta 0:00:01\r\u001b[K     |███████████████████████▉        | 1.3 MB 25.8 MB/s eta 0:00:01\r\u001b[K     |████████████████████████        | 1.3 MB 25.8 MB/s eta 0:00:01\r\u001b[K     |████████████████████████▎       | 1.3 MB 25.8 MB/s eta 0:00:01\r\u001b[K     |████████████████████████▍       | 1.3 MB 25.8 MB/s eta 0:00:01\r\u001b[K     |████████████████████████▋       | 1.3 MB 25.8 MB/s eta 0:00:01\r\u001b[K     |████████████████████████▉       | 1.4 MB 25.8 MB/s eta 0:00:01\r\u001b[K     |█████████████████████████       | 1.4 MB 25.8 MB/s eta 0:00:01\r\u001b[K     |█████████████████████████▏      | 1.4 MB 25.8 MB/s eta 0:00:01\r\u001b[K     |█████████████████████████▍      | 1.4 MB 25.8 MB/s eta 0:00:01\r\u001b[K     |█████████████████████████▋      | 1.4 MB 25.8 MB/s eta 0:00:01\r\u001b[K     |█████████████████████████▊      | 1.4 MB 25.8 MB/s eta 0:00:01\r\u001b[K     |██████████████████████████      | 1.4 MB 25.8 MB/s eta 0:00:01\r\u001b[K     |██████████████████████████▏     | 1.4 MB 25.8 MB/s eta 0:00:01\r\u001b[K     |██████████████████████████▎     | 1.4 MB 25.8 MB/s eta 0:00:01\r\u001b[K     |██████████████████████████▌     | 1.4 MB 25.8 MB/s eta 0:00:01\r\u001b[K     |██████████████████████████▊     | 1.5 MB 25.8 MB/s eta 0:00:01\r\u001b[K     |██████████████████████████▉     | 1.5 MB 25.8 MB/s eta 0:00:01\r\u001b[K     |███████████████████████████     | 1.5 MB 25.8 MB/s eta 0:00:01\r\u001b[K     |███████████████████████████▎    | 1.5 MB 25.8 MB/s eta 0:00:01\r\u001b[K     |███████████████████████████▍    | 1.5 MB 25.8 MB/s eta 0:00:01\r\u001b[K     |███████████████████████████▋    | 1.5 MB 25.8 MB/s eta 0:00:01\r\u001b[K     |███████████████████████████▉    | 1.5 MB 25.8 MB/s eta 0:00:01\r\u001b[K     |████████████████████████████    | 1.5 MB 25.8 MB/s eta 0:00:01\r\u001b[K     |████████████████████████████▏   | 1.5 MB 25.8 MB/s eta 0:00:01\r\u001b[K     |████████████████████████████▍   | 1.5 MB 25.8 MB/s eta 0:00:01\r\u001b[K     |████████████████████████████▋   | 1.6 MB 25.8 MB/s eta 0:00:01\r\u001b[K     |████████████████████████████▊   | 1.6 MB 25.8 MB/s eta 0:00:01\r\u001b[K     |█████████████████████████████   | 1.6 MB 25.8 MB/s eta 0:00:01\r\u001b[K     |█████████████████████████████▏  | 1.6 MB 25.8 MB/s eta 0:00:01\r\u001b[K     |█████████████████████████████▎  | 1.6 MB 25.8 MB/s eta 0:00:01\r\u001b[K     |█████████████████████████████▌  | 1.6 MB 25.8 MB/s eta 0:00:01\r\u001b[K     |█████████████████████████████▊  | 1.6 MB 25.8 MB/s eta 0:00:01\r\u001b[K     |█████████████████████████████▉  | 1.6 MB 25.8 MB/s eta 0:00:01\r\u001b[K     |██████████████████████████████  | 1.6 MB 25.8 MB/s eta 0:00:01\r\u001b[K     |██████████████████████████████▎ | 1.6 MB 25.8 MB/s eta 0:00:01\r\u001b[K     |██████████████████████████████▌ | 1.7 MB 25.8 MB/s eta 0:00:01\r\u001b[K     |██████████████████████████████▋ | 1.7 MB 25.8 MB/s eta 0:00:01\r\u001b[K     |██████████████████████████████▉ | 1.7 MB 25.8 MB/s eta 0:00:01\r\u001b[K     |███████████████████████████████ | 1.7 MB 25.8 MB/s eta 0:00:01\r\u001b[K     |███████████████████████████████▏| 1.7 MB 25.8 MB/s eta 0:00:01\r\u001b[K     |███████████████████████████████▍| 1.7 MB 25.8 MB/s eta 0:00:01\r\u001b[K     |███████████████████████████████▋| 1.7 MB 25.8 MB/s eta 0:00:01\r\u001b[K     |███████████████████████████████▊| 1.7 MB 25.8 MB/s eta 0:00:01\r\u001b[K     |████████████████████████████████| 1.7 MB 25.8 MB/s eta 0:00:01\r\u001b[K     |████████████████████████████████| 1.7 MB 25.8 MB/s \n",
            "\u001b[?25hRequirement already satisfied: scipy in /usr/local/lib/python3.7/dist-packages (from pm4py) (1.4.1)\n",
            "Collecting jsonpickle\n",
            "  Downloading jsonpickle-2.0.0-py2.py3-none-any.whl (37 kB)\n",
            "Collecting pyvis\n",
            "  Downloading pyvis-0.1.9-py3-none-any.whl (23 kB)\n",
            "Collecting stringdist\n",
            "  Downloading StringDist-1.0.9.tar.gz (7.4 kB)\n",
            "Requirement already satisfied: graphviz in /usr/local/lib/python3.7/dist-packages (from pm4py) (0.16)\n",
            "Requirement already satisfied: cvxopt in /usr/local/lib/python3.7/dist-packages (from pm4py) (1.2.7)\n",
            "Requirement already satisfied: networkx in /usr/local/lib/python3.7/dist-packages (from pm4py) (2.6.3)\n",
            "Requirement already satisfied: lxml in /usr/local/lib/python3.7/dist-packages (from pm4py) (4.2.6)\n",
            "Requirement already satisfied: scikit-learn in /usr/local/lib/python3.7/dist-packages (from pm4py) (1.0.1)\n",
            "Requirement already satisfied: pytz in /usr/local/lib/python3.7/dist-packages (from pm4py) (2018.9)\n",
            "Requirement already satisfied: pandas>=1.1.5 in /usr/local/lib/python3.7/dist-packages (from pm4py) (1.1.5)\n",
            "Requirement already satisfied: sympy in /usr/local/lib/python3.7/dist-packages (from pm4py) (1.7.1)\n",
            "Requirement already satisfied: intervaltree in /usr/local/lib/python3.7/dist-packages (from pm4py) (2.1.0)\n",
            "Requirement already satisfied: pydotplus in /usr/local/lib/python3.7/dist-packages (from pm4py) (2.0.2)\n",
            "Requirement already satisfied: matplotlib in /usr/local/lib/python3.7/dist-packages (from pm4py) (3.4.3)\n",
            "Requirement already satisfied: numpy>=1.19.5 in /usr/local/lib/python3.7/dist-packages (from pm4py) (1.19.5)\n",
            "Requirement already satisfied: tqdm in /usr/local/lib/python3.7/dist-packages (from pm4py) (4.62.3)\n",
            "Collecting workalendar\n",
            "  Downloading workalendar-16.2.0-py3-none-any.whl (205 kB)\n",
            "\u001b[K     |████████████████████████████████| 205 kB 58.3 MB/s \n",
            "\u001b[?25hCollecting deprecation\n",
            "  Downloading deprecation-2.1.0-py2.py3-none-any.whl (11 kB)\n",
            "Requirement already satisfied: python-dateutil>=2.7.3 in /usr/local/lib/python3.7/dist-packages (from pandas>=1.1.5->pm4py) (2.8.2)\n",
            "Requirement already satisfied: six>=1.5 in /usr/local/lib/python3.7/dist-packages (from python-dateutil>=2.7.3->pandas>=1.1.5->pm4py) (1.15.0)\n",
            "Requirement already satisfied: packaging in /usr/local/lib/python3.7/dist-packages (from deprecation->pm4py) (21.3)\n",
            "Requirement already satisfied: sortedcontainers in /usr/local/lib/python3.7/dist-packages (from intervaltree->pm4py) (2.4.0)\n",
            "Requirement already satisfied: importlib-metadata in /usr/local/lib/python3.7/dist-packages (from jsonpickle->pm4py) (4.8.2)\n",
            "Requirement already satisfied: typing-extensions>=3.6.4 in /usr/local/lib/python3.7/dist-packages (from importlib-metadata->jsonpickle->pm4py) (3.10.0.2)\n",
            "Requirement already satisfied: zipp>=0.5 in /usr/local/lib/python3.7/dist-packages (from importlib-metadata->jsonpickle->pm4py) (3.6.0)\n",
            "Requirement already satisfied: pillow>=6.2.0 in /usr/local/lib/python3.7/dist-packages (from matplotlib->pm4py) (7.1.2)\n",
            "Requirement already satisfied: pyparsing>=2.2.1 in /usr/local/lib/python3.7/dist-packages (from matplotlib->pm4py) (3.0.6)\n",
            "Requirement already satisfied: cycler>=0.10 in /usr/local/lib/python3.7/dist-packages (from matplotlib->pm4py) (0.11.0)\n",
            "Requirement already satisfied: kiwisolver>=1.0.1 in /usr/local/lib/python3.7/dist-packages (from matplotlib->pm4py) (1.3.2)\n",
            "Requirement already satisfied: ipython>=5.3.0 in /usr/local/lib/python3.7/dist-packages (from pyvis->pm4py) (7.25.0)\n",
            "Requirement already satisfied: jinja2>=2.9.6 in /usr/local/lib/python3.7/dist-packages (from pyvis->pm4py) (2.11.3)\n",
            "Requirement already satisfied: setuptools>=18.5 in /usr/local/lib/python3.7/dist-packages (from ipython>=5.3.0->pyvis->pm4py) (47.1.1)\n",
            "Requirement already satisfied: decorator in /usr/local/lib/python3.7/dist-packages (from ipython>=5.3.0->pyvis->pm4py) (4.4.2)\n",
            "Requirement already satisfied: pickleshare in /usr/local/lib/python3.7/dist-packages (from ipython>=5.3.0->pyvis->pm4py) (0.7.5)\n",
            "Requirement already satisfied: pexpect>4.3 in /usr/local/lib/python3.7/dist-packages (from ipython>=5.3.0->pyvis->pm4py) (4.8.0)\n",
            "Requirement already satisfied: prompt-toolkit!=3.0.0,!=3.0.1,<3.1.0,>=2.0.0 in /usr/local/lib/python3.7/dist-packages (from ipython>=5.3.0->pyvis->pm4py) (3.0.24)\n",
            "Requirement already satisfied: jedi>=0.16 in /usr/local/lib/python3.7/dist-packages (from ipython>=5.3.0->pyvis->pm4py) (0.18.1)\n",
            "Requirement already satisfied: pygments in /usr/local/lib/python3.7/dist-packages (from ipython>=5.3.0->pyvis->pm4py) (2.6.1)\n",
            "Requirement already satisfied: backcall in /usr/local/lib/python3.7/dist-packages (from ipython>=5.3.0->pyvis->pm4py) (0.2.0)\n",
            "Requirement already satisfied: traitlets>=4.2 in /usr/local/lib/python3.7/dist-packages (from ipython>=5.3.0->pyvis->pm4py) (5.1.1)\n",
            "Requirement already satisfied: matplotlib-inline in /usr/local/lib/python3.7/dist-packages (from ipython>=5.3.0->pyvis->pm4py) (0.1.3)\n",
            "Requirement already satisfied: parso<0.9.0,>=0.8.0 in /usr/local/lib/python3.7/dist-packages (from jedi>=0.16->ipython>=5.3.0->pyvis->pm4py) (0.8.3)\n",
            "Requirement already satisfied: MarkupSafe>=0.23 in /usr/local/lib/python3.7/dist-packages (from jinja2>=2.9.6->pyvis->pm4py) (2.0.1)\n",
            "Requirement already satisfied: ptyprocess>=0.5 in /usr/local/lib/python3.7/dist-packages (from pexpect>4.3->ipython>=5.3.0->pyvis->pm4py) (0.7.0)\n",
            "Requirement already satisfied: wcwidth in /usr/local/lib/python3.7/dist-packages (from prompt-toolkit!=3.0.0,!=3.0.1,<3.1.0,>=2.0.0->ipython>=5.3.0->pyvis->pm4py) (0.2.5)\n",
            "Requirement already satisfied: threadpoolctl>=2.0.0 in /usr/local/lib/python3.7/dist-packages (from scikit-learn->pm4py) (3.0.0)\n",
            "Requirement already satisfied: joblib>=0.11 in /usr/local/lib/python3.7/dist-packages (from scikit-learn->pm4py) (1.1.0)\n",
            "Requirement already satisfied: mpmath>=0.19 in /usr/local/lib/python3.7/dist-packages (from sympy->pm4py) (1.2.1)\n",
            "Requirement already satisfied: convertdate in /usr/local/lib/python3.7/dist-packages (from workalendar->pm4py) (2.3.2)\n",
            "Collecting lunardate\n",
            "  Downloading lunardate-0.2.0-py3-none-any.whl (5.6 kB)\n",
            "Collecting pyluach\n",
            "  Downloading pyluach-1.3.0-py3-none-any.whl (17 kB)\n",
            "Collecting backports.zoneinfo\n",
            "  Downloading backports.zoneinfo-0.2.1-cp37-cp37m-manylinux1_x86_64.whl (70 kB)\n",
            "\u001b[K     |████████████████████████████████| 70 kB 8.3 MB/s \n",
            "\u001b[?25hRequirement already satisfied: pymeeus<=1,>=0.3.13 in /usr/local/lib/python3.7/dist-packages (from convertdate->workalendar->pm4py) (0.5.11)\n",
            "Building wheels for collected packages: stringdist\n",
            "  Building wheel for stringdist (setup.py) ... \u001b[?25l\u001b[?25hdone\n",
            "  Created wheel for stringdist: filename=StringDist-1.0.9-cp37-cp37m-linux_x86_64.whl size=23596 sha256=b9c13d2366df530fe9ba1fdff19edd6f1c31bb7a80de86a61b8097230d11a846\n",
            "  Stored in directory: /root/.cache/pip/wheels/d7/9c/d4/63bc3d8931de0980b9e4a724dea290bb40b8b1b2bd6227c8da\n",
            "Successfully built stringdist\n",
            "Installing collected packages: pyluach, lunardate, jsonpickle, backports.zoneinfo, workalendar, stringdist, pyvis, deprecation, pm4py\n",
            "Successfully installed backports.zoneinfo-0.2.1 deprecation-2.1.0 jsonpickle-2.0.0 lunardate-0.2.0 pm4py-2.2.18 pyluach-1.3.0 pyvis-0.1.9 stringdist-1.0.9 workalendar-16.2.0\n"
          ]
        }
      ]
    },
    {
      "cell_type": "code",
      "source": [
        "!ls"
      ],
      "metadata": {
        "id": "_fBzKD8FGYxz",
        "outputId": "420871ce-01e6-4830-ece7-313eebff15c9",
        "colab": {
          "base_uri": "https://localhost:8080/"
        }
      },
      "execution_count": 7,
      "outputs": [
        {
          "output_type": "stream",
          "name": "stdout",
          "text": [
            "DomesticDeclarations.xes_  sample_data\tSber_Process_Mining\n"
          ]
        }
      ]
    },
    {
      "cell_type": "code",
      "source": [
        "from pm4py.objects.log.importer.xes import importer as xes_importer\n",
        "log = xes_importer.apply('DomesticDeclarations.xes_')"
      ],
      "metadata": {
        "id": "ZTyBrHiPGS0L",
        "outputId": "c6fe5c0f-79ed-4cee-a22b-09bb1716d8e3",
        "colab": {
          "base_uri": "https://localhost:8080/",
          "height": 49,
          "referenced_widgets": [
            "6b4cafca0c2a46efb8df773532f2b333",
            "5615af1c10a54c319020b900f4830712",
            "c037bf73c74343378a00219ee2015591",
            "919845dbf6824ecfb9c39532eeb09250",
            "5acfdb00939945d6bc40b324e848305f",
            "435ba815a2dd4a739827c1259706cc13",
            "c03403ed1ad34f3aac20fcedf709b53c",
            "3d8edf73bd4147edb8391b49cee92a5e",
            "044a936ebacb4e5487810571c06edd9c",
            "bdc32e4f4906427db0f33b644ae64d7c",
            "e099ed0366164bfea850db1fbeaf5096"
          ]
        }
      },
      "execution_count": 8,
      "outputs": [
        {
          "output_type": "display_data",
          "data": {
            "application/vnd.jupyter.widget-view+json": {
              "model_id": "6b4cafca0c2a46efb8df773532f2b333",
              "version_minor": 0,
              "version_major": 2
            },
            "text/plain": [
              "parsing log, completed traces ::   0%|          | 0/10500 [00:00<?, ?it/s]"
            ]
          },
          "metadata": {}
        }
      ]
    },
    {
      "cell_type": "code",
      "source": [
        "import pandas as pd\n",
        "from pm4py.objects.conversion.log import converter as log_converter\n",
        "dataframe = log_converter.apply(log, variant=log_converter.Variants.TO_DATA_FRAME)\n",
        "dataframe.to_csv('DomesticDeclarations.csv')"
      ],
      "metadata": {
        "id": "9YgCj7D4GjNl"
      },
      "execution_count": 9,
      "outputs": []
    },
    {
      "cell_type": "code",
      "execution_count": 10,
      "metadata": {
        "id": "1LzoOPIYFO8B"
      },
      "outputs": [],
      "source": [
        "#changed file path to reflect previous cells\n",
        "df = pd.read_csv('DomesticDeclarations.csv')  # Dataset \"Domestic Declarations\" from BPI Challenge 2020\n",
        "dh = DataHolder(df, 'case:id', 'concept:name', 'time:timestamp', time_format='%Y-%m-%d')"
      ]
    },
    {
      "cell_type": "code",
      "execution_count": null,
      "metadata": {
        "id": "h2p_VMK8FO8C"
      },
      "outputs": [],
      "source": [
        ""
      ]
    },
    {
      "cell_type": "markdown",
      "metadata": {
        "id": "99Zri8SbFO8D"
      },
      "source": [
        "## 1. Exploration strategy"
      ]
    },
    {
      "cell_type": "markdown",
      "metadata": {
        "id": "8gEOifu6FO8E"
      },
      "source": [
        "### Parameters of the environment"
      ]
    },
    {
      "cell_type": "markdown",
      "metadata": {
        "id": "IAcSyEC4FO8E"
      },
      "source": [
        "- **clear_start_outliers**: If True, starting activities (=initial states in sessions) with low probabilities (less than 5%) will be removed to reduce the movement of the agent in space."
      ]
    },
    {
      "cell_type": "code",
      "execution_count": 11,
      "metadata": {
        "id": "XlH8KzyxFO8F"
      },
      "outputs": [],
      "source": [
        "default_env_params = {\n",
        "    'clear_start_outliers': False\n",
        "}"
      ]
    },
    {
      "cell_type": "markdown",
      "metadata": {
        "id": "JCrhaMsVFO8H"
      },
      "source": [
        "### Parameters of the agent"
      ]
    },
    {
      "cell_type": "markdown",
      "metadata": {
        "id": "V5bOssq_FO8I"
      },
      "source": [
        "- **discount**: determines the agent's attention on immediate and distant rewards (if it equals 1, immediate and distant rewards are equal; if it is lower than 1, distant rewards are less desirable than the instant ones).\n",
        "- **alpha**: learning rate for updating the agent\n",
        "- **epsilon**: probability of performing a random action instead of the best action (epsilon-greedy strategy). By performing a random action the agent literally explores the environment and can to find a better path unknown before. \n",
        "- **eps_scaling**: multiplier for decreasing epsilon at each iteration of agent's training. Exploring the environment (=taking random actions) is especially important at the beginning of the training process. At the end when the agents has explored the environment and is quite smart, random actions are needed more rearly for fine tuning.\n",
        "- **with_prob**: if True, the agent's random action will be performed with the corresponding probabilities from the initial data. Uniform distribution will be used otherwise."
      ]
    },
    {
      "cell_type": "code",
      "execution_count": 12,
      "metadata": {
        "id": "sryXpIlLFO8J"
      },
      "outputs": [],
      "source": [
        "default_agent_params = {\n",
        "    'discount': 0.9,\n",
        "    'alpha': 0.09,\n",
        "    'epsilon': 0.5,\n",
        "    'eps_scaling': 0.9992,\n",
        "    'with_prob': False\n",
        "}"
      ]
    },
    {
      "cell_type": "markdown",
      "metadata": {
        "id": "5Hg2mAERFO8K"
      },
      "source": [
        "### Reward design"
      ]
    },
    {
      "cell_type": "markdown",
      "metadata": {
        "id": "NMhZSpUQFO8K"
      },
      "source": [
        "- **default_reward**: agent's reward for performing an action\n",
        "- **increased_reward**: agent's reward for performing an action leading to a state/activity that is a 'key activity'\n",
        "- **finish_reward**: agent's reward for performing an action leading to a terminal state/activity\n",
        "- **duration_reward**: agent reward for completing the trace in less than the average trace time in the original data\n",
        "- **cycle_penalty**: immediate penalty for coming to a state that has been already visited during the current session. (It is a penalty, so it is subtracted from the total reward.)\n",
        "- **final_cycle_reward**: agent's reward for completing a trace without loops.\n",
        "- **presence_reward**: agent's reward for building the trace contained in the initial data"
      ]
    },
    {
      "cell_type": "code",
      "execution_count": 13,
      "metadata": {
        "id": "2lOs8FLxFO8K"
      },
      "outputs": [],
      "source": [
        "default_reward_design = {\n",
        "    'default_reward': 15,\n",
        "    'increased_reward': 0,\n",
        "    'finish_reward': 100,\n",
        "    'duration_reward': 0.1,\n",
        "    'cycle_penalty': 20,\n",
        "    'final_cycle_reward': 150,\n",
        "    'presence_reward': 1500\n",
        "}"
      ]
    },
    {
      "cell_type": "code",
      "execution_count": null,
      "metadata": {
        "id": "xjALtXAeFO8L"
      },
      "outputs": [],
      "source": [
        ""
      ]
    },
    {
      "cell_type": "markdown",
      "metadata": {
        "id": "rA_0lVoiFO8M"
      },
      "source": [
        "### Basic Usage"
      ]
    },
    {
      "cell_type": "code",
      "execution_count": 14,
      "metadata": {
        "id": "D64gqdxrFO8M",
        "outputId": "4a94bc19-7a80-4483-e19d-58a9ea4fbb38",
        "colab": {
          "base_uri": "https://localhost:8080/",
          "height": 295
        }
      },
      "outputs": [
        {
          "output_type": "display_data",
          "data": {
            "image/png": "[encoded data removed]",
            "text/plain": [
              "<Figure size 432x288 with 1 Axes>"
            ]
          },
          "metadata": {
            "needs_background": "light"
          }
        }
      ],
      "source": [
        "rl = RLOptimizer(dh, strategy='exploration')  # default env_args and agent_args\n",
        "rl.define_rewards() # default reward_design\n",
        "result = rl.fit()"
      ]
    },
    {
      "cell_type": "code",
      "execution_count": 15,
      "metadata": {
        "id": "WvW-fX4WFO8N",
        "outputId": "0c4d9c24-06ae-40cc-fd7f-de51f42def7a",
        "colab": {
          "base_uri": "https://localhost:8080/",
          "height": 424
        }
      },
      "outputs": [
        {
          "output_type": "execute_result",
          "data": {
            "text/html": [
              "\n",
              "  <div id=\"df-c3c5f2e9-97df-465a-affa-ee09ba774615\">\n",
              "    <div class=\"colab-df-container\">\n",
              "      <div>\n",
              "<style scoped>\n",
              "    .dataframe tbody tr th:only-of-type {\n",
              "        vertical-align: middle;\n",
              "    }\n",
              "\n",
              "    .dataframe tbody tr th {\n",
              "        vertical-align: top;\n",
              "    }\n",
              "\n",
              "    .dataframe thead th {\n",
              "        text-align: right;\n",
              "    }\n",
              "</style>\n",
              "<table border=\"1\" class=\"dataframe\">\n",
              "  <thead>\n",
              "    <tr style=\"text-align: right;\">\n",
              "      <th></th>\n",
              "      <th>trace</th>\n",
              "      <th>duration</th>\n",
              "      <th>reward</th>\n",
              "      <th>num_of_cycles</th>\n",
              "      <th>presence_in_data</th>\n",
              "    </tr>\n",
              "  </thead>\n",
              "  <tbody>\n",
              "    <tr>\n",
              "      <th>0</th>\n",
              "      <td>(Declaration SAVED by EMPLOYEE, end)</td>\n",
              "      <td>0.000000</td>\n",
              "      <td>1786.427321</td>\n",
              "      <td>0</td>\n",
              "      <td>1</td>\n",
              "    </tr>\n",
              "    <tr>\n",
              "      <th>1</th>\n",
              "      <td>(Declaration SAVED by EMPLOYEE, end)</td>\n",
              "      <td>0.000000</td>\n",
              "      <td>1786.427321</td>\n",
              "      <td>0</td>\n",
              "      <td>1</td>\n",
              "    </tr>\n",
              "    <tr>\n",
              "      <th>2</th>\n",
              "      <td>(Declaration SUBMITTED by EMPLOYEE, Declaratio...</td>\n",
              "      <td>14209.531857</td>\n",
              "      <td>2085.088681</td>\n",
              "      <td>0</td>\n",
              "      <td>1</td>\n",
              "    </tr>\n",
              "    <tr>\n",
              "      <th>3</th>\n",
              "      <td>(Declaration SAVED by EMPLOYEE, end)</td>\n",
              "      <td>0.000000</td>\n",
              "      <td>1786.427321</td>\n",
              "      <td>0</td>\n",
              "      <td>1</td>\n",
              "    </tr>\n",
              "    <tr>\n",
              "      <th>4</th>\n",
              "      <td>(Declaration SAVED by EMPLOYEE, end)</td>\n",
              "      <td>0.000000</td>\n",
              "      <td>1786.427321</td>\n",
              "      <td>0</td>\n",
              "      <td>1</td>\n",
              "    </tr>\n",
              "    <tr>\n",
              "      <th>...</th>\n",
              "      <td>...</td>\n",
              "      <td>...</td>\n",
              "      <td>...</td>\n",
              "      <td>...</td>\n",
              "      <td>...</td>\n",
              "    </tr>\n",
              "    <tr>\n",
              "      <th>9995</th>\n",
              "      <td>(Declaration SAVED by EMPLOYEE, end)</td>\n",
              "      <td>0.000000</td>\n",
              "      <td>1786.427321</td>\n",
              "      <td>0</td>\n",
              "      <td>1</td>\n",
              "    </tr>\n",
              "    <tr>\n",
              "      <th>9996</th>\n",
              "      <td>(Declaration SUBMITTED by EMPLOYEE, Declaratio...</td>\n",
              "      <td>11096.887502</td>\n",
              "      <td>2366.353116</td>\n",
              "      <td>0</td>\n",
              "      <td>1</td>\n",
              "    </tr>\n",
              "    <tr>\n",
              "      <th>9997</th>\n",
              "      <td>(Declaration SAVED by EMPLOYEE, end)</td>\n",
              "      <td>0.000000</td>\n",
              "      <td>1786.427321</td>\n",
              "      <td>0</td>\n",
              "      <td>1</td>\n",
              "    </tr>\n",
              "    <tr>\n",
              "      <th>9998</th>\n",
              "      <td>(Declaration SAVED by EMPLOYEE, end)</td>\n",
              "      <td>0.000000</td>\n",
              "      <td>1786.427321</td>\n",
              "      <td>0</td>\n",
              "      <td>1</td>\n",
              "    </tr>\n",
              "    <tr>\n",
              "      <th>9999</th>\n",
              "      <td>(Declaration SUBMITTED by EMPLOYEE, Declaratio...</td>\n",
              "      <td>11096.887502</td>\n",
              "      <td>2366.353116</td>\n",
              "      <td>0</td>\n",
              "      <td>1</td>\n",
              "    </tr>\n",
              "  </tbody>\n",
              "</table>\n",
              "<p>10000 rows × 5 columns</p>\n",
              "</div>\n",
              "      <button class=\"colab-df-convert\" onclick=\"convertToInteractive('df-c3c5f2e9-97df-465a-affa-ee09ba774615')\"\n",
              "              title=\"Convert this dataframe to an interactive table.\"\n",
              "              style=\"display:none;\">\n",
              "        \n",
              "  <svg xmlns=\"http://www.w3.org/2000/svg\" height=\"24px\"viewBox=\"0 0 24 24\"\n",
              "       width=\"24px\">\n",
              "    <path d=\"M0 0h24v24H0V0z\" fill=\"none\"/>\n",
              "    <path d=\"M18.56 5.44l.94 2.06.94-2.06 2.06-.94-2.06-.94-.94-2.06-.94 2.06-2.06.94zm-11 1L8.5 8.5l.94-2.06 2.06-.94-2.06-.94L8.5 2.5l-.94 2.06-2.06.94zm10 10l.94 2.06.94-2.06 2.06-.94-2.06-.94-.94-2.06-.94 2.06-2.06.94z\"/><path d=\"M17.41 7.96l-1.37-1.37c-.4-.4-.92-.59-1.43-.59-.52 0-1.04.2-1.43.59L10.3 9.45l-7.72 7.72c-.78.78-.78 2.05 0 2.83L4 21.41c.39.39.9.59 1.41.59.51 0 1.02-.2 1.41-.59l7.78-7.78 2.81-2.81c.8-.78.8-2.07 0-2.86zM5.41 20L4 18.59l7.72-7.72 1.47 1.35L5.41 20z\"/>\n",
              "  </svg>\n",
              "      </button>\n",
              "      \n",
              "  <style>\n",
              "    .colab-df-container {\n",
              "      display:flex;\n",
              "      flex-wrap:wrap;\n",
              "      gap: 12px;\n",
              "    }\n",
              "\n",
              "    .colab-df-convert {\n",
              "      background-color: #E8F0FE;\n",
              "      border: none;\n",
              "      border-radius: 50%;\n",
              "      cursor: pointer;\n",
              "      display: none;\n",
              "      fill: #1967D2;\n",
              "      height: 32px;\n",
              "      padding: 0 0 0 0;\n",
              "      width: 32px;\n",
              "    }\n",
              "\n",
              "    .colab-df-convert:hover {\n",
              "      background-color: #E2EBFA;\n",
              "      box-shadow: 0px 1px 2px rgba(60, 64, 67, 0.3), 0px 1px 3px 1px rgba(60, 64, 67, 0.15);\n",
              "      fill: #174EA6;\n",
              "    }\n",
              "\n",
              "    [theme=dark] .colab-df-convert {\n",
              "      background-color: #3B4455;\n",
              "      fill: #D2E3FC;\n",
              "    }\n",
              "\n",
              "    [theme=dark] .colab-df-convert:hover {\n",
              "      background-color: #434B5C;\n",
              "      box-shadow: 0px 1px 3px 1px rgba(0, 0, 0, 0.15);\n",
              "      filter: drop-shadow(0px 1px 2px rgba(0, 0, 0, 0.3));\n",
              "      fill: #FFFFFF;\n",
              "    }\n",
              "  </style>\n",
              "\n",
              "      <script>\n",
              "        const buttonEl =\n",
              "          document.querySelector('#df-c3c5f2e9-97df-465a-affa-ee09ba774615 button.colab-df-convert');\n",
              "        buttonEl.style.display =\n",
              "          google.colab.kernel.accessAllowed ? 'block' : 'none';\n",
              "\n",
              "        async function convertToInteractive(key) {\n",
              "          const element = document.querySelector('#df-c3c5f2e9-97df-465a-affa-ee09ba774615');\n",
              "          const dataTable =\n",
              "            await google.colab.kernel.invokeFunction('convertToInteractive',\n",
              "                                                     [key], {});\n",
              "          if (!dataTable) return;\n",
              "\n",
              "          const docLinkHtml = 'Like what you see? Visit the ' +\n",
              "            '<a target=\"_blank\" href=https://colab.research.google.com/notebooks/data_table.ipynb>data table notebook</a>'\n",
              "            + ' to learn more about interactive tables.';\n",
              "          element.innerHTML = '';\n",
              "          dataTable['output_type'] = 'display_data';\n",
              "          await google.colab.output.renderOutput(dataTable, element);\n",
              "          const docLink = document.createElement('div');\n",
              "          docLink.innerHTML = docLinkHtml;\n",
              "          element.appendChild(docLink);\n",
              "        }\n",
              "      </script>\n",
              "    </div>\n",
              "  </div>\n",
              "  "
            ],
            "text/plain": [
              "                                                  trace  ...  presence_in_data\n",
              "0                  (Declaration SAVED by EMPLOYEE, end)  ...                 1\n",
              "1                  (Declaration SAVED by EMPLOYEE, end)  ...                 1\n",
              "2     (Declaration SUBMITTED by EMPLOYEE, Declaratio...  ...                 1\n",
              "3                  (Declaration SAVED by EMPLOYEE, end)  ...                 1\n",
              "4                  (Declaration SAVED by EMPLOYEE, end)  ...                 1\n",
              "...                                                 ...  ...               ...\n",
              "9995               (Declaration SAVED by EMPLOYEE, end)  ...                 1\n",
              "9996  (Declaration SUBMITTED by EMPLOYEE, Declaratio...  ...                 1\n",
              "9997               (Declaration SAVED by EMPLOYEE, end)  ...                 1\n",
              "9998               (Declaration SAVED by EMPLOYEE, end)  ...                 1\n",
              "9999  (Declaration SUBMITTED by EMPLOYEE, Declaratio...  ...                 1\n",
              "\n",
              "[10000 rows x 5 columns]"
            ]
          },
          "metadata": {},
          "execution_count": 15
        }
      ],
      "source": [
        "result"
      ]
    },
    {
      "cell_type": "code",
      "execution_count": 16,
      "metadata": {
        "id": "xIFG-KCfFO8O",
        "outputId": "36b05a89-b271-4704-eb5e-5ae40ddaf54c",
        "colab": {
          "base_uri": "https://localhost:8080/",
          "height": 112
        }
      },
      "outputs": [
        {
          "output_type": "execute_result",
          "data": {
            "text/html": [
              "\n",
              "  <div id=\"df-33c61d84-8dd0-42ff-931e-4e66cadb04d8\">\n",
              "    <div class=\"colab-df-container\">\n",
              "      <div>\n",
              "<style scoped>\n",
              "    .dataframe tbody tr th:only-of-type {\n",
              "        vertical-align: middle;\n",
              "    }\n",
              "\n",
              "    .dataframe tbody tr th {\n",
              "        vertical-align: top;\n",
              "    }\n",
              "\n",
              "    .dataframe thead th {\n",
              "        text-align: right;\n",
              "    }\n",
              "</style>\n",
              "<table border=\"1\" class=\"dataframe\">\n",
              "  <thead>\n",
              "    <tr style=\"text-align: right;\">\n",
              "      <th></th>\n",
              "      <th>trace</th>\n",
              "      <th>duration</th>\n",
              "      <th>reward</th>\n",
              "      <th>num_of_cycles</th>\n",
              "      <th>presence_in_data</th>\n",
              "    </tr>\n",
              "  </thead>\n",
              "  <tbody>\n",
              "    <tr>\n",
              "      <th>25</th>\n",
              "      <td>(Declaration SUBMITTED by EMPLOYEE, Declaratio...</td>\n",
              "      <td>11067.561102</td>\n",
              "      <td>2384.285756</td>\n",
              "      <td>0</td>\n",
              "      <td>1</td>\n",
              "    </tr>\n",
              "    <tr>\n",
              "      <th>0</th>\n",
              "      <td>(Declaration SAVED by EMPLOYEE, end)</td>\n",
              "      <td>0.000000</td>\n",
              "      <td>1786.427321</td>\n",
              "      <td>0</td>\n",
              "      <td>1</td>\n",
              "    </tr>\n",
              "  </tbody>\n",
              "</table>\n",
              "</div>\n",
              "      <button class=\"colab-df-convert\" onclick=\"convertToInteractive('df-33c61d84-8dd0-42ff-931e-4e66cadb04d8')\"\n",
              "              title=\"Convert this dataframe to an interactive table.\"\n",
              "              style=\"display:none;\">\n",
              "        \n",
              "  <svg xmlns=\"http://www.w3.org/2000/svg\" height=\"24px\"viewBox=\"0 0 24 24\"\n",
              "       width=\"24px\">\n",
              "    <path d=\"M0 0h24v24H0V0z\" fill=\"none\"/>\n",
              "    <path d=\"M18.56 5.44l.94 2.06.94-2.06 2.06-.94-2.06-.94-.94-2.06-.94 2.06-2.06.94zm-11 1L8.5 8.5l.94-2.06 2.06-.94-2.06-.94L8.5 2.5l-.94 2.06-2.06.94zm10 10l.94 2.06.94-2.06 2.06-.94-2.06-.94-.94-2.06-.94 2.06-2.06.94z\"/><path d=\"M17.41 7.96l-1.37-1.37c-.4-.4-.92-.59-1.43-.59-.52 0-1.04.2-1.43.59L10.3 9.45l-7.72 7.72c-.78.78-.78 2.05 0 2.83L4 21.41c.39.39.9.59 1.41.59.51 0 1.02-.2 1.41-.59l7.78-7.78 2.81-2.81c.8-.78.8-2.07 0-2.86zM5.41 20L4 18.59l7.72-7.72 1.47 1.35L5.41 20z\"/>\n",
              "  </svg>\n",
              "      </button>\n",
              "      \n",
              "  <style>\n",
              "    .colab-df-container {\n",
              "      display:flex;\n",
              "      flex-wrap:wrap;\n",
              "      gap: 12px;\n",
              "    }\n",
              "\n",
              "    .colab-df-convert {\n",
              "      background-color: #E8F0FE;\n",
              "      border: none;\n",
              "      border-radius: 50%;\n",
              "      cursor: pointer;\n",
              "      display: none;\n",
              "      fill: #1967D2;\n",
              "      height: 32px;\n",
              "      padding: 0 0 0 0;\n",
              "      width: 32px;\n",
              "    }\n",
              "\n",
              "    .colab-df-convert:hover {\n",
              "      background-color: #E2EBFA;\n",
              "      box-shadow: 0px 1px 2px rgba(60, 64, 67, 0.3), 0px 1px 3px 1px rgba(60, 64, 67, 0.15);\n",
              "      fill: #174EA6;\n",
              "    }\n",
              "\n",
              "    [theme=dark] .colab-df-convert {\n",
              "      background-color: #3B4455;\n",
              "      fill: #D2E3FC;\n",
              "    }\n",
              "\n",
              "    [theme=dark] .colab-df-convert:hover {\n",
              "      background-color: #434B5C;\n",
              "      box-shadow: 0px 1px 3px 1px rgba(0, 0, 0, 0.15);\n",
              "      filter: drop-shadow(0px 1px 2px rgba(0, 0, 0, 0.3));\n",
              "      fill: #FFFFFF;\n",
              "    }\n",
              "  </style>\n",
              "\n",
              "      <script>\n",
              "        const buttonEl =\n",
              "          document.querySelector('#df-33c61d84-8dd0-42ff-931e-4e66cadb04d8 button.colab-df-convert');\n",
              "        buttonEl.style.display =\n",
              "          google.colab.kernel.accessAllowed ? 'block' : 'none';\n",
              "\n",
              "        async function convertToInteractive(key) {\n",
              "          const element = document.querySelector('#df-33c61d84-8dd0-42ff-931e-4e66cadb04d8');\n",
              "          const dataTable =\n",
              "            await google.colab.kernel.invokeFunction('convertToInteractive',\n",
              "                                                     [key], {});\n",
              "          if (!dataTable) return;\n",
              "\n",
              "          const docLinkHtml = 'Like what you see? Visit the ' +\n",
              "            '<a target=\"_blank\" href=https://colab.research.google.com/notebooks/data_table.ipynb>data table notebook</a>'\n",
              "            + ' to learn more about interactive tables.';\n",
              "          element.innerHTML = '';\n",
              "          dataTable['output_type'] = 'display_data';\n",
              "          await google.colab.output.renderOutput(dataTable, element);\n",
              "          const docLink = document.createElement('div');\n",
              "          docLink.innerHTML = docLinkHtml;\n",
              "          element.appendChild(docLink);\n",
              "        }\n",
              "      </script>\n",
              "    </div>\n",
              "  </div>\n",
              "  "
            ],
            "text/plain": [
              "                                                trace  ...  presence_in_data\n",
              "25  (Declaration SUBMITTED by EMPLOYEE, Declaratio...  ...                 1\n",
              "0                (Declaration SAVED by EMPLOYEE, end)  ...                 1\n",
              "\n",
              "[2 rows x 5 columns]"
            ]
          },
          "metadata": {},
          "execution_count": 16
        }
      ],
      "source": [
        "rl.get_optimal_paths()"
      ]
    },
    {
      "cell_type": "code",
      "execution_count": 17,
      "metadata": {
        "id": "jR2Cqxv_FO8O",
        "outputId": "5915d484-54ca-4f4c-f000-d8bffb77a87c",
        "colab": {
          "base_uri": "https://localhost:8080/"
        }
      },
      "outputs": [
        {
          "output_type": "stream",
          "name": "stdout",
          "text": [
            "('Declaration SUBMITTED by EMPLOYEE', 'Declaration FINAL_APPROVED by SUPERVISOR', 'Request Payment', 'Payment Handled', 'end')\n",
            "('Declaration SAVED by EMPLOYEE', 'end')\n"
          ]
        }
      ],
      "source": [
        "_ = [print(el) for el in rl.get_optimal_paths()['trace'].values]"
      ]
    },
    {
      "cell_type": "code",
      "execution_count": null,
      "metadata": {
        "id": "HC7cC1vuFO8P"
      },
      "outputs": [],
      "source": [
        ""
      ]
    },
    {
      "cell_type": "markdown",
      "metadata": {
        "id": "priXhyvdFO8P"
      },
      "source": [
        "## 1. Exploitation strategy"
      ]
    },
    {
      "cell_type": "markdown",
      "metadata": {
        "id": "O3wbEXmlFO8Q"
      },
      "source": [
        "### Parameters of the environment"
      ]
    },
    {
      "cell_type": "markdown",
      "metadata": {
        "id": "kwZJ3PUYFO8Q"
      },
      "source": [
        "- **shuffle**: If True, the order of the traces will be changed randomly, otherwaise it is the same is in DataHolder"
      ]
    },
    {
      "cell_type": "code",
      "execution_count": null,
      "metadata": {
        "id": "0MW72Sp9FO8R"
      },
      "outputs": [],
      "source": [
        "default_env_params = {\n",
        "    'shuffle': True\n",
        "}"
      ]
    },
    {
      "cell_type": "markdown",
      "metadata": {
        "id": "sImwnJa0FO8R"
      },
      "source": [
        "### Parameters of the agent"
      ]
    },
    {
      "cell_type": "markdown",
      "metadata": {
        "id": "KscoNZ4-FO8R"
      },
      "source": [
        "- **discount**: determines the agent's attention on immediate and distant rewards (if it equals 1, immediate and distant rewards are equal; if it is lower than 1, distant rewards are less desirable than the instant ones).\n",
        "- **alpha**: learning rate for updating the agent"
      ]
    },
    {
      "cell_type": "code",
      "execution_count": null,
      "metadata": {
        "id": "0tEeIYi5FO8S"
      },
      "outputs": [],
      "source": [
        "default_agent_params = {\n",
        "    'discount': 0.9,\n",
        "    'alpha': 0.1\n",
        "}"
      ]
    },
    {
      "cell_type": "markdown",
      "metadata": {
        "id": "fujV4EmVFO8S"
      },
      "source": [
        "### Reward design"
      ]
    },
    {
      "cell_type": "markdown",
      "metadata": {
        "id": "i9ulxBT7FO8T"
      },
      "source": [
        "same as in 'exploration' strategy, but here there is no *presence_reward* parameter and *duration_reward* is different\n",
        "\n",
        "- **default_reward**: agent's reward for performing an action\n",
        "- **increased_reward**: agent's reward for performing an action leading to a state/activity that is a 'key activity'\n",
        "- **finish_reward**: agent's reward for performing an action leading to a terminal state/activity\n",
        "- **duration_reward\\***: agent's reward for coming to a state that is faster in duration than the average time of this state in the initial data\n",
        "- **cycle_penalty**: immediate penalty for coming to a state that has been already visited during the current session. (It is a penalty, so it is subtracted from the total reward.)\n",
        "- **final_cycle_reward**: agent's reward for completing a trace without loops."
      ]
    },
    {
      "cell_type": "code",
      "execution_count": null,
      "metadata": {
        "id": "mxpp9fQKFO8T"
      },
      "outputs": [],
      "source": [
        "default_reward_design = {\n",
        "    'default_reward': 2,\n",
        "    'increased_reward': 0,\n",
        "    'finish_reward': 20,\n",
        "    'duration_reward': 10,\n",
        "    'cycle_penalty': 30,\n",
        "    'final_cycle_reward': 0\n",
        "}"
      ]
    },
    {
      "cell_type": "markdown",
      "metadata": {
        "id": "x7ZB5BWbFO8U"
      },
      "source": [
        "### Basic Usage"
      ]
    },
    {
      "cell_type": "code",
      "execution_count": null,
      "metadata": {
        "id": "ajM_NSQdFO8V",
        "outputId": "9a96fb13-2548-4d97-cc51-8bfe7906e571"
      },
      "outputs": [
        {
          "data": {
            "image/png": "[encoded data removed]",
            "text/plain": [
              "<Figure size 432x288 with 1 Axes>"
            ]
          },
          "metadata": {
            "needs_background": "light"
          },
          "output_type": "display_data"
        }
      ],
      "source": [
        "rl = RLOptimizer(dh, strategy='exploitation')  # default env_args and agent_args\n",
        "rl.define_rewards() # default reward_design\n",
        "result = rl.fit()"
      ]
    },
    {
      "cell_type": "markdown",
      "metadata": {
        "id": "wCY4pnbVFO8V"
      },
      "source": [
        "Here the result contains the action-state Q-values"
      ]
    },
    {
      "cell_type": "code",
      "execution_count": null,
      "metadata": {
        "id": "umTH6sbhFO8W",
        "outputId": "905e6796-e0f8-4d1f-e1e9-714f61014819"
      },
      "outputs": [
        {
          "data": {
            "text/html": [
              "<div>\n",
              "<style scoped>\n",
              "    .dataframe tbody tr th:only-of-type {\n",
              "        vertical-align: middle;\n",
              "    }\n",
              "\n",
              "    .dataframe tbody tr th {\n",
              "        vertical-align: top;\n",
              "    }\n",
              "\n",
              "    .dataframe thead th {\n",
              "        text-align: right;\n",
              "    }\n",
              "</style>\n",
              "<table border=\"1\" class=\"dataframe\">\n",
              "  <thead>\n",
              "    <tr style=\"text-align: right;\">\n",
              "      <th></th>\n",
              "      <th>Declaration APPROVED by ADMINISTRATION</th>\n",
              "      <th>Declaration FINAL_APPROVED by SUPERVISOR</th>\n",
              "      <th>Declaration REJECTED by ADMINISTRATION</th>\n",
              "      <th>Declaration APPROVED by PRE_APPROVER</th>\n",
              "      <th>Declaration REJECTED by PRE_APPROVER</th>\n",
              "      <th>Declaration REJECTED by SUPERVISOR</th>\n",
              "      <th>Declaration REJECTED by EMPLOYEE</th>\n",
              "      <th>Declaration FOR_APPROVAL by PRE_APPROVER</th>\n",
              "      <th>Declaration FOR_APPROVAL by ADMINISTRATION</th>\n",
              "      <th>Declaration FOR_APPROVAL by SUPERVISOR</th>\n",
              "      <th>Declaration SUBMITTED by EMPLOYEE</th>\n",
              "      <th>Declaration SAVED by EMPLOYEE</th>\n",
              "      <th>Declaration APPROVED by BUDGET OWNER</th>\n",
              "      <th>Declaration REJECTED by BUDGET OWNER</th>\n",
              "      <th>Request Payment</th>\n",
              "      <th>Declaration REJECTED by MISSING</th>\n",
              "      <th>Payment Handled</th>\n",
              "      <th>END_EVENT</th>\n",
              "    </tr>\n",
              "  </thead>\n",
              "  <tbody>\n",
              "    <tr>\n",
              "      <th>Declaration SUBMITTED by EMPLOYEE</th>\n",
              "      <td>22.0</td>\n",
              "      <td>21.0</td>\n",
              "      <td>17.0</td>\n",
              "      <td>21.0</td>\n",
              "      <td>22.0</td>\n",
              "      <td>17.0</td>\n",
              "      <td>6.0</td>\n",
              "      <td>0.0</td>\n",
              "      <td>0.0</td>\n",
              "      <td>0.0</td>\n",
              "      <td>0.0</td>\n",
              "      <td>0.0</td>\n",
              "      <td>0.0</td>\n",
              "      <td>0.0</td>\n",
              "      <td>0.0</td>\n",
              "      <td>0.0</td>\n",
              "      <td>0.0</td>\n",
              "      <td>0.0</td>\n",
              "    </tr>\n",
              "    <tr>\n",
              "      <th>START_EVENT</th>\n",
              "      <td>0.0</td>\n",
              "      <td>0.0</td>\n",
              "      <td>0.0</td>\n",
              "      <td>0.0</td>\n",
              "      <td>0.0</td>\n",
              "      <td>0.0</td>\n",
              "      <td>0.0</td>\n",
              "      <td>0.0</td>\n",
              "      <td>0.0</td>\n",
              "      <td>0.0</td>\n",
              "      <td>21.0</td>\n",
              "      <td>21.0</td>\n",
              "      <td>0.0</td>\n",
              "      <td>0.0</td>\n",
              "      <td>0.0</td>\n",
              "      <td>0.0</td>\n",
              "      <td>0.0</td>\n",
              "      <td>0.0</td>\n",
              "    </tr>\n",
              "    <tr>\n",
              "      <th>Declaration APPROVED by ADMINISTRATION</th>\n",
              "      <td>0.0</td>\n",
              "      <td>21.0</td>\n",
              "      <td>0.0</td>\n",
              "      <td>0.0</td>\n",
              "      <td>0.0</td>\n",
              "      <td>20.0</td>\n",
              "      <td>0.0</td>\n",
              "      <td>0.0</td>\n",
              "      <td>0.0</td>\n",
              "      <td>0.0</td>\n",
              "      <td>0.0</td>\n",
              "      <td>0.0</td>\n",
              "      <td>21.0</td>\n",
              "      <td>17.0</td>\n",
              "      <td>0.0</td>\n",
              "      <td>0.0</td>\n",
              "      <td>0.0</td>\n",
              "      <td>0.0</td>\n",
              "    </tr>\n",
              "    <tr>\n",
              "      <th>Declaration FINAL_APPROVED by SUPERVISOR</th>\n",
              "      <td>0.0</td>\n",
              "      <td>0.0</td>\n",
              "      <td>0.0</td>\n",
              "      <td>0.0</td>\n",
              "      <td>0.0</td>\n",
              "      <td>0.0</td>\n",
              "      <td>0.0</td>\n",
              "      <td>0.0</td>\n",
              "      <td>0.0</td>\n",
              "      <td>0.0</td>\n",
              "      <td>0.0</td>\n",
              "      <td>0.0</td>\n",
              "      <td>0.0</td>\n",
              "      <td>0.0</td>\n",
              "      <td>21.0</td>\n",
              "      <td>20.0</td>\n",
              "      <td>11.0</td>\n",
              "      <td>0.0</td>\n",
              "    </tr>\n",
              "    <tr>\n",
              "      <th>Request Payment</th>\n",
              "      <td>0.0</td>\n",
              "      <td>0.0</td>\n",
              "      <td>0.0</td>\n",
              "      <td>0.0</td>\n",
              "      <td>0.0</td>\n",
              "      <td>0.0</td>\n",
              "      <td>0.0</td>\n",
              "      <td>0.0</td>\n",
              "      <td>0.0</td>\n",
              "      <td>0.0</td>\n",
              "      <td>0.0</td>\n",
              "      <td>0.0</td>\n",
              "      <td>0.0</td>\n",
              "      <td>0.0</td>\n",
              "      <td>0.0</td>\n",
              "      <td>4.0</td>\n",
              "      <td>21.0</td>\n",
              "      <td>0.0</td>\n",
              "    </tr>\n",
              "    <tr>\n",
              "      <th>Payment Handled</th>\n",
              "      <td>0.0</td>\n",
              "      <td>0.0</td>\n",
              "      <td>0.0</td>\n",
              "      <td>0.0</td>\n",
              "      <td>0.0</td>\n",
              "      <td>0.0</td>\n",
              "      <td>2.0</td>\n",
              "      <td>0.0</td>\n",
              "      <td>0.0</td>\n",
              "      <td>0.0</td>\n",
              "      <td>0.0</td>\n",
              "      <td>0.0</td>\n",
              "      <td>0.0</td>\n",
              "      <td>0.0</td>\n",
              "      <td>0.0</td>\n",
              "      <td>0.0</td>\n",
              "      <td>0.0</td>\n",
              "      <td>21.0</td>\n",
              "    </tr>\n",
              "    <tr>\n",
              "      <th>END_EVENT</th>\n",
              "      <td>0.0</td>\n",
              "      <td>0.0</td>\n",
              "      <td>0.0</td>\n",
              "      <td>0.0</td>\n",
              "      <td>0.0</td>\n",
              "      <td>0.0</td>\n",
              "      <td>0.0</td>\n",
              "      <td>0.0</td>\n",
              "      <td>0.0</td>\n",
              "      <td>0.0</td>\n",
              "      <td>0.0</td>\n",
              "      <td>0.0</td>\n",
              "      <td>0.0</td>\n",
              "      <td>0.0</td>\n",
              "      <td>0.0</td>\n",
              "      <td>0.0</td>\n",
              "      <td>0.0</td>\n",
              "      <td>0.0</td>\n",
              "    </tr>\n",
              "    <tr>\n",
              "      <th>Declaration APPROVED by BUDGET OWNER</th>\n",
              "      <td>0.0</td>\n",
              "      <td>23.0</td>\n",
              "      <td>0.0</td>\n",
              "      <td>0.0</td>\n",
              "      <td>0.0</td>\n",
              "      <td>21.0</td>\n",
              "      <td>0.0</td>\n",
              "      <td>0.0</td>\n",
              "      <td>0.0</td>\n",
              "      <td>0.0</td>\n",
              "      <td>0.0</td>\n",
              "      <td>0.0</td>\n",
              "      <td>0.0</td>\n",
              "      <td>0.0</td>\n",
              "      <td>0.0</td>\n",
              "      <td>0.0</td>\n",
              "      <td>0.0</td>\n",
              "      <td>0.0</td>\n",
              "    </tr>\n",
              "    <tr>\n",
              "      <th>Declaration REJECTED by ADMINISTRATION</th>\n",
              "      <td>0.0</td>\n",
              "      <td>0.0</td>\n",
              "      <td>0.0</td>\n",
              "      <td>0.0</td>\n",
              "      <td>0.0</td>\n",
              "      <td>0.0</td>\n",
              "      <td>19.0</td>\n",
              "      <td>0.0</td>\n",
              "      <td>0.0</td>\n",
              "      <td>0.0</td>\n",
              "      <td>-2.0</td>\n",
              "      <td>0.0</td>\n",
              "      <td>0.0</td>\n",
              "      <td>0.0</td>\n",
              "      <td>0.0</td>\n",
              "      <td>0.0</td>\n",
              "      <td>0.0</td>\n",
              "      <td>9.0</td>\n",
              "    </tr>\n",
              "    <tr>\n",
              "      <th>Declaration REJECTED by EMPLOYEE</th>\n",
              "      <td>0.0</td>\n",
              "      <td>0.0</td>\n",
              "      <td>0.0</td>\n",
              "      <td>0.0</td>\n",
              "      <td>0.0</td>\n",
              "      <td>0.0</td>\n",
              "      <td>0.0</td>\n",
              "      <td>0.0</td>\n",
              "      <td>0.0</td>\n",
              "      <td>0.0</td>\n",
              "      <td>2.0</td>\n",
              "      <td>0.0</td>\n",
              "      <td>0.0</td>\n",
              "      <td>0.0</td>\n",
              "      <td>0.0</td>\n",
              "      <td>0.0</td>\n",
              "      <td>0.0</td>\n",
              "      <td>21.0</td>\n",
              "    </tr>\n",
              "    <tr>\n",
              "      <th>Declaration REJECTED by SUPERVISOR</th>\n",
              "      <td>0.0</td>\n",
              "      <td>0.0</td>\n",
              "      <td>0.0</td>\n",
              "      <td>0.0</td>\n",
              "      <td>0.0</td>\n",
              "      <td>0.0</td>\n",
              "      <td>19.0</td>\n",
              "      <td>0.0</td>\n",
              "      <td>0.0</td>\n",
              "      <td>0.0</td>\n",
              "      <td>0.0</td>\n",
              "      <td>0.0</td>\n",
              "      <td>0.0</td>\n",
              "      <td>0.0</td>\n",
              "      <td>2.0</td>\n",
              "      <td>0.0</td>\n",
              "      <td>0.0</td>\n",
              "      <td>7.0</td>\n",
              "    </tr>\n",
              "    <tr>\n",
              "      <th>Declaration APPROVED by PRE_APPROVER</th>\n",
              "      <td>0.0</td>\n",
              "      <td>21.0</td>\n",
              "      <td>0.0</td>\n",
              "      <td>0.0</td>\n",
              "      <td>0.0</td>\n",
              "      <td>14.0</td>\n",
              "      <td>0.0</td>\n",
              "      <td>0.0</td>\n",
              "      <td>0.0</td>\n",
              "      <td>0.0</td>\n",
              "      <td>0.0</td>\n",
              "      <td>0.0</td>\n",
              "      <td>0.0</td>\n",
              "      <td>0.0</td>\n",
              "      <td>0.0</td>\n",
              "      <td>0.0</td>\n",
              "      <td>0.0</td>\n",
              "      <td>0.0</td>\n",
              "    </tr>\n",
              "    <tr>\n",
              "      <th>Declaration REJECTED by PRE_APPROVER</th>\n",
              "      <td>0.0</td>\n",
              "      <td>0.0</td>\n",
              "      <td>0.0</td>\n",
              "      <td>0.0</td>\n",
              "      <td>0.0</td>\n",
              "      <td>0.0</td>\n",
              "      <td>23.0</td>\n",
              "      <td>0.0</td>\n",
              "      <td>0.0</td>\n",
              "      <td>0.0</td>\n",
              "      <td>0.0</td>\n",
              "      <td>0.0</td>\n",
              "      <td>0.0</td>\n",
              "      <td>0.0</td>\n",
              "      <td>0.0</td>\n",
              "      <td>0.0</td>\n",
              "      <td>0.0</td>\n",
              "      <td>0.0</td>\n",
              "    </tr>\n",
              "    <tr>\n",
              "      <th>Declaration SAVED by EMPLOYEE</th>\n",
              "      <td>0.0</td>\n",
              "      <td>0.0</td>\n",
              "      <td>0.0</td>\n",
              "      <td>0.0</td>\n",
              "      <td>0.0</td>\n",
              "      <td>0.0</td>\n",
              "      <td>0.0</td>\n",
              "      <td>0.0</td>\n",
              "      <td>0.0</td>\n",
              "      <td>0.0</td>\n",
              "      <td>0.0</td>\n",
              "      <td>0.0</td>\n",
              "      <td>0.0</td>\n",
              "      <td>0.0</td>\n",
              "      <td>2.0</td>\n",
              "      <td>0.0</td>\n",
              "      <td>0.0</td>\n",
              "      <td>21.0</td>\n",
              "    </tr>\n",
              "    <tr>\n",
              "      <th>Declaration REJECTED by BUDGET OWNER</th>\n",
              "      <td>0.0</td>\n",
              "      <td>0.0</td>\n",
              "      <td>0.0</td>\n",
              "      <td>0.0</td>\n",
              "      <td>0.0</td>\n",
              "      <td>0.0</td>\n",
              "      <td>17.0</td>\n",
              "      <td>0.0</td>\n",
              "      <td>0.0</td>\n",
              "      <td>0.0</td>\n",
              "      <td>0.0</td>\n",
              "      <td>0.0</td>\n",
              "      <td>0.0</td>\n",
              "      <td>0.0</td>\n",
              "      <td>0.0</td>\n",
              "      <td>0.0</td>\n",
              "      <td>0.0</td>\n",
              "      <td>0.0</td>\n",
              "    </tr>\n",
              "    <tr>\n",
              "      <th>Declaration REJECTED by MISSING</th>\n",
              "      <td>0.0</td>\n",
              "      <td>0.0</td>\n",
              "      <td>0.0</td>\n",
              "      <td>0.0</td>\n",
              "      <td>0.0</td>\n",
              "      <td>0.0</td>\n",
              "      <td>0.0</td>\n",
              "      <td>0.0</td>\n",
              "      <td>0.0</td>\n",
              "      <td>0.0</td>\n",
              "      <td>1.0</td>\n",
              "      <td>0.0</td>\n",
              "      <td>0.0</td>\n",
              "      <td>0.0</td>\n",
              "      <td>0.0</td>\n",
              "      <td>0.0</td>\n",
              "      <td>0.0</td>\n",
              "      <td>21.0</td>\n",
              "    </tr>\n",
              "    <tr>\n",
              "      <th>Declaration FOR_APPROVAL by PRE_APPROVER</th>\n",
              "      <td>0.0</td>\n",
              "      <td>0.0</td>\n",
              "      <td>0.0</td>\n",
              "      <td>0.0</td>\n",
              "      <td>0.0</td>\n",
              "      <td>0.0</td>\n",
              "      <td>0.0</td>\n",
              "      <td>0.0</td>\n",
              "      <td>0.0</td>\n",
              "      <td>0.0</td>\n",
              "      <td>0.0</td>\n",
              "      <td>0.0</td>\n",
              "      <td>0.0</td>\n",
              "      <td>0.0</td>\n",
              "      <td>0.0</td>\n",
              "      <td>1.0</td>\n",
              "      <td>0.0</td>\n",
              "      <td>0.0</td>\n",
              "    </tr>\n",
              "    <tr>\n",
              "      <th>Declaration FOR_APPROVAL by ADMINISTRATION</th>\n",
              "      <td>0.0</td>\n",
              "      <td>0.0</td>\n",
              "      <td>0.0</td>\n",
              "      <td>0.0</td>\n",
              "      <td>0.0</td>\n",
              "      <td>0.0</td>\n",
              "      <td>0.0</td>\n",
              "      <td>0.0</td>\n",
              "      <td>0.0</td>\n",
              "      <td>0.0</td>\n",
              "      <td>0.0</td>\n",
              "      <td>0.0</td>\n",
              "      <td>0.0</td>\n",
              "      <td>0.0</td>\n",
              "      <td>0.0</td>\n",
              "      <td>0.0</td>\n",
              "      <td>0.0</td>\n",
              "      <td>0.0</td>\n",
              "    </tr>\n",
              "    <tr>\n",
              "      <th>Declaration FOR_APPROVAL by SUPERVISOR</th>\n",
              "      <td>0.0</td>\n",
              "      <td>0.0</td>\n",
              "      <td>0.0</td>\n",
              "      <td>0.0</td>\n",
              "      <td>0.0</td>\n",
              "      <td>0.0</td>\n",
              "      <td>0.0</td>\n",
              "      <td>0.0</td>\n",
              "      <td>0.0</td>\n",
              "      <td>0.0</td>\n",
              "      <td>0.0</td>\n",
              "      <td>0.0</td>\n",
              "      <td>0.0</td>\n",
              "      <td>0.0</td>\n",
              "      <td>0.0</td>\n",
              "      <td>2.0</td>\n",
              "      <td>0.0</td>\n",
              "      <td>0.0</td>\n",
              "    </tr>\n",
              "  </tbody>\n",
              "</table>\n",
              "</div>"
            ],
            "text/plain": [
              "                                            Declaration APPROVED by ADMINISTRATION  \\\n",
              "Declaration SUBMITTED by EMPLOYEE                                             22.0   \n",
              "START_EVENT                                                                    0.0   \n",
              "Declaration APPROVED by ADMINISTRATION                                         0.0   \n",
              "Declaration FINAL_APPROVED by SUPERVISOR                                       0.0   \n",
              "Request Payment                                                                0.0   \n",
              "Payment Handled                                                                0.0   \n",
              "END_EVENT                                                                      0.0   \n",
              "Declaration APPROVED by BUDGET OWNER                                           0.0   \n",
              "Declaration REJECTED by ADMINISTRATION                                         0.0   \n",
              "Declaration REJECTED by EMPLOYEE                                               0.0   \n",
              "Declaration REJECTED by SUPERVISOR                                             0.0   \n",
              "Declaration APPROVED by PRE_APPROVER                                           0.0   \n",
              "Declaration REJECTED by PRE_APPROVER                                           0.0   \n",
              "Declaration SAVED by EMPLOYEE                                                  0.0   \n",
              "Declaration REJECTED by BUDGET OWNER                                           0.0   \n",
              "Declaration REJECTED by MISSING                                                0.0   \n",
              "Declaration FOR_APPROVAL by PRE_APPROVER                                       0.0   \n",
              "Declaration FOR_APPROVAL by ADMINISTRATION                                     0.0   \n",
              "Declaration FOR_APPROVAL by SUPERVISOR                                         0.0   \n",
              "\n",
              "                                            Declaration FINAL_APPROVED by SUPERVISOR  \\\n",
              "Declaration SUBMITTED by EMPLOYEE                                               21.0   \n",
              "START_EVENT                                                                      0.0   \n",
              "Declaration APPROVED by ADMINISTRATION                                          21.0   \n",
              "Declaration FINAL_APPROVED by SUPERVISOR                                         0.0   \n",
              "Request Payment                                                                  0.0   \n",
              "Payment Handled                                                                  0.0   \n",
              "END_EVENT                                                                        0.0   \n",
              "Declaration APPROVED by BUDGET OWNER                                            23.0   \n",
              "Declaration REJECTED by ADMINISTRATION                                           0.0   \n",
              "Declaration REJECTED by EMPLOYEE                                                 0.0   \n",
              "Declaration REJECTED by SUPERVISOR                                               0.0   \n",
              "Declaration APPROVED by PRE_APPROVER                                            21.0   \n",
              "Declaration REJECTED by PRE_APPROVER                                             0.0   \n",
              "Declaration SAVED by EMPLOYEE                                                    0.0   \n",
              "Declaration REJECTED by BUDGET OWNER                                             0.0   \n",
              "Declaration REJECTED by MISSING                                                  0.0   \n",
              "Declaration FOR_APPROVAL by PRE_APPROVER                                         0.0   \n",
              "Declaration FOR_APPROVAL by ADMINISTRATION                                       0.0   \n",
              "Declaration FOR_APPROVAL by SUPERVISOR                                           0.0   \n",
              "\n",
              "                                            Declaration REJECTED by ADMINISTRATION  \\\n",
              "Declaration SUBMITTED by EMPLOYEE                                             17.0   \n",
              "START_EVENT                                                                    0.0   \n",
              "Declaration APPROVED by ADMINISTRATION                                         0.0   \n",
              "Declaration FINAL_APPROVED by SUPERVISOR                                       0.0   \n",
              "Request Payment                                                                0.0   \n",
              "Payment Handled                                                                0.0   \n",
              "END_EVENT                                                                      0.0   \n",
              "Declaration APPROVED by BUDGET OWNER                                           0.0   \n",
              "Declaration REJECTED by ADMINISTRATION                                         0.0   \n",
              "Declaration REJECTED by EMPLOYEE                                               0.0   \n",
              "Declaration REJECTED by SUPERVISOR                                             0.0   \n",
              "Declaration APPROVED by PRE_APPROVER                                           0.0   \n",
              "Declaration REJECTED by PRE_APPROVER                                           0.0   \n",
              "Declaration SAVED by EMPLOYEE                                                  0.0   \n",
              "Declaration REJECTED by BUDGET OWNER                                           0.0   \n",
              "Declaration REJECTED by MISSING                                                0.0   \n",
              "Declaration FOR_APPROVAL by PRE_APPROVER                                       0.0   \n",
              "Declaration FOR_APPROVAL by ADMINISTRATION                                     0.0   \n",
              "Declaration FOR_APPROVAL by SUPERVISOR                                         0.0   \n",
              "\n",
              "                                            Declaration APPROVED by PRE_APPROVER  \\\n",
              "Declaration SUBMITTED by EMPLOYEE                                           21.0   \n",
              "START_EVENT                                                                  0.0   \n",
              "Declaration APPROVED by ADMINISTRATION                                       0.0   \n",
              "Declaration FINAL_APPROVED by SUPERVISOR                                     0.0   \n",
              "Request Payment                                                              0.0   \n",
              "Payment Handled                                                              0.0   \n",
              "END_EVENT                                                                    0.0   \n",
              "Declaration APPROVED by BUDGET OWNER                                         0.0   \n",
              "Declaration REJECTED by ADMINISTRATION                                       0.0   \n",
              "Declaration REJECTED by EMPLOYEE                                             0.0   \n",
              "Declaration REJECTED by SUPERVISOR                                           0.0   \n",
              "Declaration APPROVED by PRE_APPROVER                                         0.0   \n",
              "Declaration REJECTED by PRE_APPROVER                                         0.0   \n",
              "Declaration SAVED by EMPLOYEE                                                0.0   \n",
              "Declaration REJECTED by BUDGET OWNER                                         0.0   \n",
              "Declaration REJECTED by MISSING                                              0.0   \n",
              "Declaration FOR_APPROVAL by PRE_APPROVER                                     0.0   \n",
              "Declaration FOR_APPROVAL by ADMINISTRATION                                   0.0   \n",
              "Declaration FOR_APPROVAL by SUPERVISOR                                       0.0   \n",
              "\n",
              "                                            Declaration REJECTED by PRE_APPROVER  \\\n",
              "Declaration SUBMITTED by EMPLOYEE                                           22.0   \n",
              "START_EVENT                                                                  0.0   \n",
              "Declaration APPROVED by ADMINISTRATION                                       0.0   \n",
              "Declaration FINAL_APPROVED by SUPERVISOR                                     0.0   \n",
              "Request Payment                                                              0.0   \n",
              "Payment Handled                                                              0.0   \n",
              "END_EVENT                                                                    0.0   \n",
              "Declaration APPROVED by BUDGET OWNER                                         0.0   \n",
              "Declaration REJECTED by ADMINISTRATION                                       0.0   \n",
              "Declaration REJECTED by EMPLOYEE                                             0.0   \n",
              "Declaration REJECTED by SUPERVISOR                                           0.0   \n",
              "Declaration APPROVED by PRE_APPROVER                                         0.0   \n",
              "Declaration REJECTED by PRE_APPROVER                                         0.0   \n",
              "Declaration SAVED by EMPLOYEE                                                0.0   \n",
              "Declaration REJECTED by BUDGET OWNER                                         0.0   \n",
              "Declaration REJECTED by MISSING                                              0.0   \n",
              "Declaration FOR_APPROVAL by PRE_APPROVER                                     0.0   \n",
              "Declaration FOR_APPROVAL by ADMINISTRATION                                   0.0   \n",
              "Declaration FOR_APPROVAL by SUPERVISOR                                       0.0   \n",
              "\n",
              "                                            Declaration REJECTED by SUPERVISOR  \\\n",
              "Declaration SUBMITTED by EMPLOYEE                                         17.0   \n",
              "START_EVENT                                                                0.0   \n",
              "Declaration APPROVED by ADMINISTRATION                                    20.0   \n",
              "Declaration FINAL_APPROVED by SUPERVISOR                                   0.0   \n",
              "Request Payment                                                            0.0   \n",
              "Payment Handled                                                            0.0   \n",
              "END_EVENT                                                                  0.0   \n",
              "Declaration APPROVED by BUDGET OWNER                                      21.0   \n",
              "Declaration REJECTED by ADMINISTRATION                                     0.0   \n",
              "Declaration REJECTED by EMPLOYEE                                           0.0   \n",
              "Declaration REJECTED by SUPERVISOR                                         0.0   \n",
              "Declaration APPROVED by PRE_APPROVER                                      14.0   \n",
              "Declaration REJECTED by PRE_APPROVER                                       0.0   \n",
              "Declaration SAVED by EMPLOYEE                                              0.0   \n",
              "Declaration REJECTED by BUDGET OWNER                                       0.0   \n",
              "Declaration REJECTED by MISSING                                            0.0   \n",
              "Declaration FOR_APPROVAL by PRE_APPROVER                                   0.0   \n",
              "Declaration FOR_APPROVAL by ADMINISTRATION                                 0.0   \n",
              "Declaration FOR_APPROVAL by SUPERVISOR                                     0.0   \n",
              "\n",
              "                                            Declaration REJECTED by EMPLOYEE  \\\n",
              "Declaration SUBMITTED by EMPLOYEE                                        6.0   \n",
              "START_EVENT                                                              0.0   \n",
              "Declaration APPROVED by ADMINISTRATION                                   0.0   \n",
              "Declaration FINAL_APPROVED by SUPERVISOR                                 0.0   \n",
              "Request Payment                                                          0.0   \n",
              "Payment Handled                                                          2.0   \n",
              "END_EVENT                                                                0.0   \n",
              "Declaration APPROVED by BUDGET OWNER                                     0.0   \n",
              "Declaration REJECTED by ADMINISTRATION                                  19.0   \n",
              "Declaration REJECTED by EMPLOYEE                                         0.0   \n",
              "Declaration REJECTED by SUPERVISOR                                      19.0   \n",
              "Declaration APPROVED by PRE_APPROVER                                     0.0   \n",
              "Declaration REJECTED by PRE_APPROVER                                    23.0   \n",
              "Declaration SAVED by EMPLOYEE                                            0.0   \n",
              "Declaration REJECTED by BUDGET OWNER                                    17.0   \n",
              "Declaration REJECTED by MISSING                                          0.0   \n",
              "Declaration FOR_APPROVAL by PRE_APPROVER                                 0.0   \n",
              "Declaration FOR_APPROVAL by ADMINISTRATION                               0.0   \n",
              "Declaration FOR_APPROVAL by SUPERVISOR                                   0.0   \n",
              "\n",
              "                                            Declaration FOR_APPROVAL by PRE_APPROVER  \\\n",
              "Declaration SUBMITTED by EMPLOYEE                                                0.0   \n",
              "START_EVENT                                                                      0.0   \n",
              "Declaration APPROVED by ADMINISTRATION                                           0.0   \n",
              "Declaration FINAL_APPROVED by SUPERVISOR                                         0.0   \n",
              "Request Payment                                                                  0.0   \n",
              "Payment Handled                                                                  0.0   \n",
              "END_EVENT                                                                        0.0   \n",
              "Declaration APPROVED by BUDGET OWNER                                             0.0   \n",
              "Declaration REJECTED by ADMINISTRATION                                           0.0   \n",
              "Declaration REJECTED by EMPLOYEE                                                 0.0   \n",
              "Declaration REJECTED by SUPERVISOR                                               0.0   \n",
              "Declaration APPROVED by PRE_APPROVER                                             0.0   \n",
              "Declaration REJECTED by PRE_APPROVER                                             0.0   \n",
              "Declaration SAVED by EMPLOYEE                                                    0.0   \n",
              "Declaration REJECTED by BUDGET OWNER                                             0.0   \n",
              "Declaration REJECTED by MISSING                                                  0.0   \n",
              "Declaration FOR_APPROVAL by PRE_APPROVER                                         0.0   \n",
              "Declaration FOR_APPROVAL by ADMINISTRATION                                       0.0   \n",
              "Declaration FOR_APPROVAL by SUPERVISOR                                           0.0   \n",
              "\n",
              "                                            Declaration FOR_APPROVAL by ADMINISTRATION  \\\n",
              "Declaration SUBMITTED by EMPLOYEE                                                  0.0   \n",
              "START_EVENT                                                                        0.0   \n",
              "Declaration APPROVED by ADMINISTRATION                                             0.0   \n",
              "Declaration FINAL_APPROVED by SUPERVISOR                                           0.0   \n",
              "Request Payment                                                                    0.0   \n",
              "Payment Handled                                                                    0.0   \n",
              "END_EVENT                                                                          0.0   \n",
              "Declaration APPROVED by BUDGET OWNER                                               0.0   \n",
              "Declaration REJECTED by ADMINISTRATION                                             0.0   \n",
              "Declaration REJECTED by EMPLOYEE                                                   0.0   \n",
              "Declaration REJECTED by SUPERVISOR                                                 0.0   \n",
              "Declaration APPROVED by PRE_APPROVER                                               0.0   \n",
              "Declaration REJECTED by PRE_APPROVER                                               0.0   \n",
              "Declaration SAVED by EMPLOYEE                                                      0.0   \n",
              "Declaration REJECTED by BUDGET OWNER                                               0.0   \n",
              "Declaration REJECTED by MISSING                                                    0.0   \n",
              "Declaration FOR_APPROVAL by PRE_APPROVER                                           0.0   \n",
              "Declaration FOR_APPROVAL by ADMINISTRATION                                         0.0   \n",
              "Declaration FOR_APPROVAL by SUPERVISOR                                             0.0   \n",
              "\n",
              "                                            Declaration FOR_APPROVAL by SUPERVISOR  \\\n",
              "Declaration SUBMITTED by EMPLOYEE                                              0.0   \n",
              "START_EVENT                                                                    0.0   \n",
              "Declaration APPROVED by ADMINISTRATION                                         0.0   \n",
              "Declaration FINAL_APPROVED by SUPERVISOR                                       0.0   \n",
              "Request Payment                                                                0.0   \n",
              "Payment Handled                                                                0.0   \n",
              "END_EVENT                                                                      0.0   \n",
              "Declaration APPROVED by BUDGET OWNER                                           0.0   \n",
              "Declaration REJECTED by ADMINISTRATION                                         0.0   \n",
              "Declaration REJECTED by EMPLOYEE                                               0.0   \n",
              "Declaration REJECTED by SUPERVISOR                                             0.0   \n",
              "Declaration APPROVED by PRE_APPROVER                                           0.0   \n",
              "Declaration REJECTED by PRE_APPROVER                                           0.0   \n",
              "Declaration SAVED by EMPLOYEE                                                  0.0   \n",
              "Declaration REJECTED by BUDGET OWNER                                           0.0   \n",
              "Declaration REJECTED by MISSING                                                0.0   \n",
              "Declaration FOR_APPROVAL by PRE_APPROVER                                       0.0   \n",
              "Declaration FOR_APPROVAL by ADMINISTRATION                                     0.0   \n",
              "Declaration FOR_APPROVAL by SUPERVISOR                                         0.0   \n",
              "\n",
              "                                            Declaration SUBMITTED by EMPLOYEE  \\\n",
              "Declaration SUBMITTED by EMPLOYEE                                         0.0   \n",
              "START_EVENT                                                              21.0   \n",
              "Declaration APPROVED by ADMINISTRATION                                    0.0   \n",
              "Declaration FINAL_APPROVED by SUPERVISOR                                  0.0   \n",
              "Request Payment                                                           0.0   \n",
              "Payment Handled                                                           0.0   \n",
              "END_EVENT                                                                 0.0   \n",
              "Declaration APPROVED by BUDGET OWNER                                      0.0   \n",
              "Declaration REJECTED by ADMINISTRATION                                   -2.0   \n",
              "Declaration REJECTED by EMPLOYEE                                          2.0   \n",
              "Declaration REJECTED by SUPERVISOR                                        0.0   \n",
              "Declaration APPROVED by PRE_APPROVER                                      0.0   \n",
              "Declaration REJECTED by PRE_APPROVER                                      0.0   \n",
              "Declaration SAVED by EMPLOYEE                                             0.0   \n",
              "Declaration REJECTED by BUDGET OWNER                                      0.0   \n",
              "Declaration REJECTED by MISSING                                           1.0   \n",
              "Declaration FOR_APPROVAL by PRE_APPROVER                                  0.0   \n",
              "Declaration FOR_APPROVAL by ADMINISTRATION                                0.0   \n",
              "Declaration FOR_APPROVAL by SUPERVISOR                                    0.0   \n",
              "\n",
              "                                            Declaration SAVED by EMPLOYEE  \\\n",
              "Declaration SUBMITTED by EMPLOYEE                                     0.0   \n",
              "START_EVENT                                                          21.0   \n",
              "Declaration APPROVED by ADMINISTRATION                                0.0   \n",
              "Declaration FINAL_APPROVED by SUPERVISOR                              0.0   \n",
              "Request Payment                                                       0.0   \n",
              "Payment Handled                                                       0.0   \n",
              "END_EVENT                                                             0.0   \n",
              "Declaration APPROVED by BUDGET OWNER                                  0.0   \n",
              "Declaration REJECTED by ADMINISTRATION                                0.0   \n",
              "Declaration REJECTED by EMPLOYEE                                      0.0   \n",
              "Declaration REJECTED by SUPERVISOR                                    0.0   \n",
              "Declaration APPROVED by PRE_APPROVER                                  0.0   \n",
              "Declaration REJECTED by PRE_APPROVER                                  0.0   \n",
              "Declaration SAVED by EMPLOYEE                                         0.0   \n",
              "Declaration REJECTED by BUDGET OWNER                                  0.0   \n",
              "Declaration REJECTED by MISSING                                       0.0   \n",
              "Declaration FOR_APPROVAL by PRE_APPROVER                              0.0   \n",
              "Declaration FOR_APPROVAL by ADMINISTRATION                            0.0   \n",
              "Declaration FOR_APPROVAL by SUPERVISOR                                0.0   \n",
              "\n",
              "                                            Declaration APPROVED by BUDGET OWNER  \\\n",
              "Declaration SUBMITTED by EMPLOYEE                                            0.0   \n",
              "START_EVENT                                                                  0.0   \n",
              "Declaration APPROVED by ADMINISTRATION                                      21.0   \n",
              "Declaration FINAL_APPROVED by SUPERVISOR                                     0.0   \n",
              "Request Payment                                                              0.0   \n",
              "Payment Handled                                                              0.0   \n",
              "END_EVENT                                                                    0.0   \n",
              "Declaration APPROVED by BUDGET OWNER                                         0.0   \n",
              "Declaration REJECTED by ADMINISTRATION                                       0.0   \n",
              "Declaration REJECTED by EMPLOYEE                                             0.0   \n",
              "Declaration REJECTED by SUPERVISOR                                           0.0   \n",
              "Declaration APPROVED by PRE_APPROVER                                         0.0   \n",
              "Declaration REJECTED by PRE_APPROVER                                         0.0   \n",
              "Declaration SAVED by EMPLOYEE                                                0.0   \n",
              "Declaration REJECTED by BUDGET OWNER                                         0.0   \n",
              "Declaration REJECTED by MISSING                                              0.0   \n",
              "Declaration FOR_APPROVAL by PRE_APPROVER                                     0.0   \n",
              "Declaration FOR_APPROVAL by ADMINISTRATION                                   0.0   \n",
              "Declaration FOR_APPROVAL by SUPERVISOR                                       0.0   \n",
              "\n",
              "                                            Declaration REJECTED by BUDGET OWNER  \\\n",
              "Declaration SUBMITTED by EMPLOYEE                                            0.0   \n",
              "START_EVENT                                                                  0.0   \n",
              "Declaration APPROVED by ADMINISTRATION                                      17.0   \n",
              "Declaration FINAL_APPROVED by SUPERVISOR                                     0.0   \n",
              "Request Payment                                                              0.0   \n",
              "Payment Handled                                                              0.0   \n",
              "END_EVENT                                                                    0.0   \n",
              "Declaration APPROVED by BUDGET OWNER                                         0.0   \n",
              "Declaration REJECTED by ADMINISTRATION                                       0.0   \n",
              "Declaration REJECTED by EMPLOYEE                                             0.0   \n",
              "Declaration REJECTED by SUPERVISOR                                           0.0   \n",
              "Declaration APPROVED by PRE_APPROVER                                         0.0   \n",
              "Declaration REJECTED by PRE_APPROVER                                         0.0   \n",
              "Declaration SAVED by EMPLOYEE                                                0.0   \n",
              "Declaration REJECTED by BUDGET OWNER                                         0.0   \n",
              "Declaration REJECTED by MISSING                                              0.0   \n",
              "Declaration FOR_APPROVAL by PRE_APPROVER                                     0.0   \n",
              "Declaration FOR_APPROVAL by ADMINISTRATION                                   0.0   \n",
              "Declaration FOR_APPROVAL by SUPERVISOR                                       0.0   \n",
              "\n",
              "                                            Request Payment  \\\n",
              "Declaration SUBMITTED by EMPLOYEE                       0.0   \n",
              "START_EVENT                                             0.0   \n",
              "Declaration APPROVED by ADMINISTRATION                  0.0   \n",
              "Declaration FINAL_APPROVED by SUPERVISOR               21.0   \n",
              "Request Payment                                         0.0   \n",
              "Payment Handled                                         0.0   \n",
              "END_EVENT                                               0.0   \n",
              "Declaration APPROVED by BUDGET OWNER                    0.0   \n",
              "Declaration REJECTED by ADMINISTRATION                  0.0   \n",
              "Declaration REJECTED by EMPLOYEE                        0.0   \n",
              "Declaration REJECTED by SUPERVISOR                      2.0   \n",
              "Declaration APPROVED by PRE_APPROVER                    0.0   \n",
              "Declaration REJECTED by PRE_APPROVER                    0.0   \n",
              "Declaration SAVED by EMPLOYEE                           2.0   \n",
              "Declaration REJECTED by BUDGET OWNER                    0.0   \n",
              "Declaration REJECTED by MISSING                         0.0   \n",
              "Declaration FOR_APPROVAL by PRE_APPROVER                0.0   \n",
              "Declaration FOR_APPROVAL by ADMINISTRATION              0.0   \n",
              "Declaration FOR_APPROVAL by SUPERVISOR                  0.0   \n",
              "\n",
              "                                            Declaration REJECTED by MISSING  \\\n",
              "Declaration SUBMITTED by EMPLOYEE                                       0.0   \n",
              "START_EVENT                                                             0.0   \n",
              "Declaration APPROVED by ADMINISTRATION                                  0.0   \n",
              "Declaration FINAL_APPROVED by SUPERVISOR                               20.0   \n",
              "Request Payment                                                         4.0   \n",
              "Payment Handled                                                         0.0   \n",
              "END_EVENT                                                               0.0   \n",
              "Declaration APPROVED by BUDGET OWNER                                    0.0   \n",
              "Declaration REJECTED by ADMINISTRATION                                  0.0   \n",
              "Declaration REJECTED by EMPLOYEE                                        0.0   \n",
              "Declaration REJECTED by SUPERVISOR                                      0.0   \n",
              "Declaration APPROVED by PRE_APPROVER                                    0.0   \n",
              "Declaration REJECTED by PRE_APPROVER                                    0.0   \n",
              "Declaration SAVED by EMPLOYEE                                           0.0   \n",
              "Declaration REJECTED by BUDGET OWNER                                    0.0   \n",
              "Declaration REJECTED by MISSING                                         0.0   \n",
              "Declaration FOR_APPROVAL by PRE_APPROVER                                1.0   \n",
              "Declaration FOR_APPROVAL by ADMINISTRATION                              0.0   \n",
              "Declaration FOR_APPROVAL by SUPERVISOR                                  2.0   \n",
              "\n",
              "                                            Payment Handled  END_EVENT  \n",
              "Declaration SUBMITTED by EMPLOYEE                       0.0        0.0  \n",
              "START_EVENT                                             0.0        0.0  \n",
              "Declaration APPROVED by ADMINISTRATION                  0.0        0.0  \n",
              "Declaration FINAL_APPROVED by SUPERVISOR               11.0        0.0  \n",
              "Request Payment                                        21.0        0.0  \n",
              "Payment Handled                                         0.0       21.0  \n",
              "END_EVENT                                               0.0        0.0  \n",
              "Declaration APPROVED by BUDGET OWNER                    0.0        0.0  \n",
              "Declaration REJECTED by ADMINISTRATION                  0.0        9.0  \n",
              "Declaration REJECTED by EMPLOYEE                        0.0       21.0  \n",
              "Declaration REJECTED by SUPERVISOR                      0.0        7.0  \n",
              "Declaration APPROVED by PRE_APPROVER                    0.0        0.0  \n",
              "Declaration REJECTED by PRE_APPROVER                    0.0        0.0  \n",
              "Declaration SAVED by EMPLOYEE                           0.0       21.0  \n",
              "Declaration REJECTED by BUDGET OWNER                    0.0        0.0  \n",
              "Declaration REJECTED by MISSING                         0.0       21.0  \n",
              "Declaration FOR_APPROVAL by PRE_APPROVER                0.0        0.0  \n",
              "Declaration FOR_APPROVAL by ADMINISTRATION              0.0        0.0  \n",
              "Declaration FOR_APPROVAL by SUPERVISOR                  0.0        0.0  "
            ]
          },
          "execution_count": 14,
          "metadata": {},
          "output_type": "execute_result"
        }
      ],
      "source": [
        "result"
      ]
    },
    {
      "cell_type": "code",
      "execution_count": null,
      "metadata": {
        "id": "B0TpVsRuFO8W",
        "outputId": "4e65f198-79d3-45ee-901d-aed9203c4774"
      },
      "outputs": [
        {
          "data": {
            "text/plain": [
              "['START_EVENT',\n",
              " 'Declaration SUBMITTED by EMPLOYEE',\n",
              " 'Declaration REJECTED by PRE_APPROVER',\n",
              " 'Declaration REJECTED by EMPLOYEE',\n",
              " 'END_EVENT']"
            ]
          },
          "execution_count": 15,
          "metadata": {},
          "output_type": "execute_result"
        }
      ],
      "source": [
        "rl.get_optimal_paths()"
      ]
    },
    {
      "cell_type": "code",
      "execution_count": null,
      "metadata": {
        "id": "lJLn6lkQFO8X"
      },
      "outputs": [],
      "source": [
        ""
      ]
    },
    {
      "cell_type": "code",
      "execution_count": null,
      "metadata": {
        "id": "Y1rslUSCFO8Y"
      },
      "outputs": [],
      "source": [
        ""
      ]
    },
    {
      "cell_type": "markdown",
      "metadata": {
        "id": "q7ONlJ24FO8Y"
      },
      "source": [
        "## Additional options"
      ]
    },
    {
      "cell_type": "markdown",
      "metadata": {
        "id": "WvhokMV9FO8Y"
      },
      "source": [
        "#### 1. Defining env_args, actor_args, reward_design manually + key_states"
      ]
    },
    {
      "cell_type": "markdown",
      "metadata": {
        "id": "C8Zyn_WFFO8Z"
      },
      "source": [
        "Let's define 'key states' and a reward for getting to them (*'increased_reward'* argument in reward_design) so that the actor visits them more often."
      ]
    },
    {
      "cell_type": "code",
      "execution_count": null,
      "metadata": {
        "id": "zlO4CtGaFO8Z",
        "outputId": "6c894d21-2203-49ec-fae0-1b964959cab9"
      },
      "outputs": [
        {
          "data": {
            "text/plain": [
              "['Declaration APPROVED by ADMINISTRATION',\n",
              " 'Declaration FINAL_APPROVED by SUPERVISOR',\n",
              " 'Declaration APPROVED by BUDGET OWNER',\n",
              " 'Declaration APPROVED by PRE_APPROVER']"
            ]
          },
          "execution_count": 16,
          "metadata": {},
          "output_type": "execute_result"
        }
      ],
      "source": [
        "key_states = [st for st in dh.data[dh.activity_column].unique() if 'APPROVED' in st]\n",
        "key_states"
      ]
    },
    {
      "cell_type": "code",
      "execution_count": null,
      "metadata": {
        "id": "et8-CTBCFO8Z"
      },
      "outputs": [],
      "source": [
        "env_args = {\n",
        "    'clear_start_outliers': False\n",
        "}\n",
        "\n",
        "agent_args = {\n",
        "    'discount': 0.9,\n",
        "    'alpha': 0.09,\n",
        "    'epsilon': 0.5,\n",
        "    'eps_scaling': 0.9992,\n",
        "    'with_prob': False\n",
        "}\n",
        "\n",
        "reward_design = {\n",
        "    'default_reward': 40,\n",
        "        'increased_reward': 50,\n",
        "    'finish_reward': 100,\n",
        "    'duration_reward': 0.1,\n",
        "    'cycle_penalty': 20,\n",
        "    'final_cycle_reward': 50,\n",
        "    'presence_reward': 300\n",
        "}"
      ]
    },
    {
      "cell_type": "code",
      "execution_count": null,
      "metadata": {
        "id": "XCcxhZCdFO8a",
        "outputId": "63b4bd6b-705a-4cb4-93fe-037c8413a4fe"
      },
      "outputs": [
        {
          "data": {
            "image/png": "[encoded data removed]",
            "text/plain": [
              "<Figure size 432x288 with 1 Axes>"
            ]
          },
          "metadata": {
            "needs_background": "light"
          },
          "output_type": "display_data"
        }
      ],
      "source": [
        "rl = RLOptimizer(dh, strategy='exploration', env_args=env_args, agent_args=agent_args)\n",
        "rl.define_rewards(reward_design=reward_design, key_states=key_states)\n",
        "result = rl.fit()"
      ]
    },
    {
      "cell_type": "code",
      "execution_count": null,
      "metadata": {
        "id": "uzz8SlBBFO8a"
      },
      "outputs": [],
      "source": [
        ""
      ]
    },
    {
      "cell_type": "markdown",
      "metadata": {
        "id": "iWO3anJqFO8b"
      },
      "source": [
        "#### 2. Define rewards automatically based on the event log (in 'exploitation' mode only)"
      ]
    },
    {
      "cell_type": "code",
      "execution_count": null,
      "metadata": {
        "id": "Npo9NQHuFO8b",
        "outputId": "829e6aa0-2032-4c1f-8721-4799bb15a563"
      },
      "outputs": [
        {
          "data": {
            "image/png": "[encoded data removed]",
            "text/plain": [
              "<Figure size 432x288 with 1 Axes>"
            ]
          },
          "metadata": {
            "needs_background": "light"
          },
          "output_type": "display_data"
        }
      ],
      "source": [
        "rl = RLOptimizer(dh, strategy='exploitation')\n",
        "rl.define_rewards(auto=True)\n",
        "result = rl.fit()"
      ]
    },
    {
      "cell_type": "code",
      "execution_count": null,
      "metadata": {
        "id": "TY1ryomNFO8c"
      },
      "outputs": [],
      "source": [
        ""
      ]
    }
  ],
  "metadata": {
    "kernelspec": {
      "display_name": "my_env",
      "language": "python",
      "name": "my_env"
    },
    "language_info": {
      "codemirror_mode": {
        "name": "ipython",
        "version": 3
      },
      "file_extension": ".py",
      "mimetype": "text/x-python",
      "name": "python",
      "nbconvert_exporter": "python",
      "pygments_lexer": "ipython3",
      "version": "3.7.4"
    },
    "colab": {
      "name": "rl_tutorial.ipynb",
      "provenance": [],
      "include_colab_link": true
    },
    "widgets": {
      "application/vnd.jupyter.widget-state+json": {
        "6b4cafca0c2a46efb8df773532f2b333": {
          "model_module": "@jupyter-widgets/controls",
          "model_name": "HBoxModel",
          "model_module_version": "1.5.0",
          "state": {
            "_view_name": "HBoxView",
            "_dom_classes": [],
            "_model_name": "HBoxModel",
            "_view_module": "@jupyter-widgets/controls",
            "_model_module_version": "1.5.0",
            "_view_count": null,
            "_view_module_version": "1.5.0",
            "box_style": "",
            "layout": "IPY_MODEL_5615af1c10a54c319020b900f4830712",
            "_model_module": "@jupyter-widgets/controls",
            "children": [
              "IPY_MODEL_c037bf73c74343378a00219ee2015591",
              "IPY_MODEL_919845dbf6824ecfb9c39532eeb09250",
              "IPY_MODEL_5acfdb00939945d6bc40b324e848305f"
            ]
          }
        },
        "5615af1c10a54c319020b900f4830712": {
          "model_module": "@jupyter-widgets/base",
          "model_name": "LayoutModel",
          "model_module_version": "1.2.0",
          "state": {
            "_view_name": "LayoutView",
            "grid_template_rows": null,
            "right": null,
            "justify_content": null,
            "_view_module": "@jupyter-widgets/base",
            "overflow": null,
            "_model_module_version": "1.2.0",
            "_view_count": null,
            "flex_flow": null,
            "width": null,
            "min_width": null,
            "border": null,
            "align_items": null,
            "bottom": null,
            "_model_module": "@jupyter-widgets/base",
            "top": null,
            "grid_column": null,
            "overflow_y": null,
            "overflow_x": null,
            "grid_auto_flow": null,
            "grid_area": null,
            "grid_template_columns": null,
            "flex": null,
            "_model_name": "LayoutModel",
            "justify_items": null,
            "grid_row": null,
            "max_height": null,
            "align_content": null,
            "visibility": null,
            "align_self": null,
            "height": null,
            "min_height": null,
            "padding": null,
            "grid_auto_rows": null,
            "grid_gap": null,
            "max_width": null,
            "order": null,
            "_view_module_version": "1.2.0",
            "grid_template_areas": null,
            "object_position": null,
            "object_fit": null,
            "grid_auto_columns": null,
            "margin": null,
            "display": null,
            "left": null
          }
        },
        "c037bf73c74343378a00219ee2015591": {
          "model_module": "@jupyter-widgets/controls",
          "model_name": "HTMLModel",
          "model_module_version": "1.5.0",
          "state": {
            "_view_name": "HTMLView",
            "style": "IPY_MODEL_435ba815a2dd4a739827c1259706cc13",
            "_dom_classes": [],
            "description": "",
            "_model_name": "HTMLModel",
            "placeholder": "​",
            "_view_module": "@jupyter-widgets/controls",
            "_model_module_version": "1.5.0",
            "value": "parsing log, completed traces :: 100%",
            "_view_count": null,
            "_view_module_version": "1.5.0",
            "description_tooltip": null,
            "_model_module": "@jupyter-widgets/controls",
            "layout": "IPY_MODEL_c03403ed1ad34f3aac20fcedf709b53c"
          }
        },
        "919845dbf6824ecfb9c39532eeb09250": {
          "model_module": "@jupyter-widgets/controls",
          "model_name": "FloatProgressModel",
          "model_module_version": "1.5.0",
          "state": {
            "_view_name": "ProgressView",
            "style": "IPY_MODEL_3d8edf73bd4147edb8391b49cee92a5e",
            "_dom_classes": [],
            "description": "",
            "_model_name": "FloatProgressModel",
            "bar_style": "success",
            "max": 10500,
            "_view_module": "@jupyter-widgets/controls",
            "_model_module_version": "1.5.0",
            "value": 10500,
            "_view_count": null,
            "_view_module_version": "1.5.0",
            "orientation": "horizontal",
            "min": 0,
            "description_tooltip": null,
            "_model_module": "@jupyter-widgets/controls",
            "layout": "IPY_MODEL_044a936ebacb4e5487810571c06edd9c"
          }
        },
        "5acfdb00939945d6bc40b324e848305f": {
          "model_module": "@jupyter-widgets/controls",
          "model_name": "HTMLModel",
          "model_module_version": "1.5.0",
          "state": {
            "_view_name": "HTMLView",
            "style": "IPY_MODEL_bdc32e4f4906427db0f33b644ae64d7c",
            "_dom_classes": [],
            "description": "",
            "_model_name": "HTMLModel",
            "placeholder": "​",
            "_view_module": "@jupyter-widgets/controls",
            "_model_module_version": "1.5.0",
            "value": " 10500/10500 [00:03&lt;00:00, 2597.45it/s]",
            "_view_count": null,
            "_view_module_version": "1.5.0",
            "description_tooltip": null,
            "_model_module": "@jupyter-widgets/controls",
            "layout": "IPY_MODEL_e099ed0366164bfea850db1fbeaf5096"
          }
        },
        "435ba815a2dd4a739827c1259706cc13": {
          "model_module": "@jupyter-widgets/controls",
          "model_name": "DescriptionStyleModel",
          "model_module_version": "1.5.0",
          "state": {
            "_view_name": "StyleView",
            "_model_name": "DescriptionStyleModel",
            "description_width": "",
            "_view_module": "@jupyter-widgets/base",
            "_model_module_version": "1.5.0",
            "_view_count": null,
            "_view_module_version": "1.2.0",
            "_model_module": "@jupyter-widgets/controls"
          }
        },
        "c03403ed1ad34f3aac20fcedf709b53c": {
          "model_module": "@jupyter-widgets/base",
          "model_name": "LayoutModel",
          "model_module_version": "1.2.0",
          "state": {
            "_view_name": "LayoutView",
            "grid_template_rows": null,
            "right": null,
            "justify_content": null,
            "_view_module": "@jupyter-widgets/base",
            "overflow": null,
            "_model_module_version": "1.2.0",
            "_view_count": null,
            "flex_flow": null,
            "width": null,
            "min_width": null,
            "border": null,
            "align_items": null,
            "bottom": null,
            "_model_module": "@jupyter-widgets/base",
            "top": null,
            "grid_column": null,
            "overflow_y": null,
            "overflow_x": null,
            "grid_auto_flow": null,
            "grid_area": null,
            "grid_template_columns": null,
            "flex": null,
            "_model_name": "LayoutModel",
            "justify_items": null,
            "grid_row": null,
            "max_height": null,
            "align_content": null,
            "visibility": null,
            "align_self": null,
            "height": null,
            "min_height": null,
            "padding": null,
            "grid_auto_rows": null,
            "grid_gap": null,
            "max_width": null,
            "order": null,
            "_view_module_version": "1.2.0",
            "grid_template_areas": null,
            "object_position": null,
            "object_fit": null,
            "grid_auto_columns": null,
            "margin": null,
            "display": null,
            "left": null
          }
        },
        "3d8edf73bd4147edb8391b49cee92a5e": {
          "model_module": "@jupyter-widgets/controls",
          "model_name": "ProgressStyleModel",
          "model_module_version": "1.5.0",
          "state": {
            "_view_name": "StyleView",
            "_model_name": "ProgressStyleModel",
            "description_width": "",
            "_view_module": "@jupyter-widgets/base",
            "_model_module_version": "1.5.0",
            "_view_count": null,
            "_view_module_version": "1.2.0",
            "bar_color": null,
            "_model_module": "@jupyter-widgets/controls"
          }
        },
        "044a936ebacb4e5487810571c06edd9c": {
          "model_module": "@jupyter-widgets/base",
          "model_name": "LayoutModel",
          "model_module_version": "1.2.0",
          "state": {
            "_view_name": "LayoutView",
            "grid_template_rows": null,
            "right": null,
            "justify_content": null,
            "_view_module": "@jupyter-widgets/base",
            "overflow": null,
            "_model_module_version": "1.2.0",
            "_view_count": null,
            "flex_flow": null,
            "width": null,
            "min_width": null,
            "border": null,
            "align_items": null,
            "bottom": null,
            "_model_module": "@jupyter-widgets/base",
            "top": null,
            "grid_column": null,
            "overflow_y": null,
            "overflow_x": null,
            "grid_auto_flow": null,
            "grid_area": null,
            "grid_template_columns": null,
            "flex": null,
            "_model_name": "LayoutModel",
            "justify_items": null,
            "grid_row": null,
            "max_height": null,
            "align_content": null,
            "visibility": null,
            "align_self": null,
            "height": null,
            "min_height": null,
            "padding": null,
            "grid_auto_rows": null,
            "grid_gap": null,
            "max_width": null,
            "order": null,
            "_view_module_version": "1.2.0",
            "grid_template_areas": null,
            "object_position": null,
            "object_fit": null,
            "grid_auto_columns": null,
            "margin": null,
            "display": null,
            "left": null
          }
        },
        "bdc32e4f4906427db0f33b644ae64d7c": {
          "model_module": "@jupyter-widgets/controls",
          "model_name": "DescriptionStyleModel",
          "model_module_version": "1.5.0",
          "state": {
            "_view_name": "StyleView",
            "_model_name": "DescriptionStyleModel",
            "description_width": "",
            "_view_module": "@jupyter-widgets/base",
            "_model_module_version": "1.5.0",
            "_view_count": null,
            "_view_module_version": "1.2.0",
            "_model_module": "@jupyter-widgets/controls"
          }
        },
        "e099ed0366164bfea850db1fbeaf5096": {
          "model_module": "@jupyter-widgets/base",
          "model_name": "LayoutModel",
          "model_module_version": "1.2.0",
          "state": {
            "_view_name": "LayoutView",
            "grid_template_rows": null,
            "right": null,
            "justify_content": null,
            "_view_module": "@jupyter-widgets/base",
            "overflow": null,
            "_model_module_version": "1.2.0",
            "_view_count": null,
            "flex_flow": null,
            "width": null,
            "min_width": null,
            "border": null,
            "align_items": null,
            "bottom": null,
            "_model_module": "@jupyter-widgets/base",
            "top": null,
            "grid_column": null,
            "overflow_y": null,
            "overflow_x": null,
            "grid_auto_flow": null,
            "grid_area": null,
            "grid_template_columns": null,
            "flex": null,
            "_model_name": "LayoutModel",
            "justify_items": null,
            "grid_row": null,
            "max_height": null,
            "align_content": null,
            "visibility": null,
            "align_self": null,
            "height": null,
            "min_height": null,
            "padding": null,
            "grid_auto_rows": null,
            "grid_gap": null,
            "max_width": null,
            "order": null,
            "_view_module_version": "1.2.0",
            "grid_template_areas": null,
            "object_position": null,
            "object_fit": null,
            "grid_auto_columns": null,
            "margin": null,
            "display": null,
            "left": null
          }
        }
      }
    }
  },
  "nbformat": 4,
  "nbformat_minor": 0
}